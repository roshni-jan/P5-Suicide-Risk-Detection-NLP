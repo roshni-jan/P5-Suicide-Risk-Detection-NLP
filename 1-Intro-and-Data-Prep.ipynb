{
 "cells": [
  {
   "cell_type": "markdown",
   "id": "6365feb9-15fe-4627-97f9-88cb2c4ac9c4",
   "metadata": {},
   "source": [
    "<b><center><font size = +3.5> Text Based Suicide Risk Detection Model for Mental Health Chatbots </font></center></b>"
   ]
  },
  {
   "cell_type": "markdown",
   "id": "4028e704-fc8a-40fe-a41d-15c639ae46de",
   "metadata": {},
   "source": [
    "Author: Roshni Janakiraman"
   ]
  },
  {
   "cell_type": "markdown",
   "id": "3fb1a484-7cd2-4e19-badb-1012a9be6553",
   "metadata": {},
   "source": [
    "---"
   ]
  },
  {
   "cell_type": "markdown",
   "id": "a525bf48-0c34-4e5f-a8b9-e6b5a3aa3770",
   "metadata": {
    "tags": []
   },
   "source": [
    "<u><center><h1> Notebook #1 : Introduction and Data Preparation </h1></center></u>"
   ]
  },
  {
   "cell_type": "markdown",
   "id": "8e0b724f-14b1-4919-b85d-a6793def0623",
   "metadata": {
    "tags": []
   },
   "source": [
    "# &nbsp;&nbsp;&nbsp;&nbsp; I. &nbsp;&nbsp; Business Case"
   ]
  },
  {
   "cell_type": "markdown",
   "id": "df7ca186-b146-4198-90e7-c94d1ee4f78d",
   "metadata": {},
   "source": [
    "## Business Objective & Stakeholders\n",
    "To provide a suicide risk detection model for mental health chatbot companies (e.g. [Pyx](https://www.pyxhealth.com/how-it-works/), [WoeBot](https://woebothealth.com/)"
   ]
  },
  {
   "cell_type": "markdown",
   "id": "7a4ce527-ec45-42ce-9775-d5fae7ed1dc2",
   "metadata": {
    "tags": []
   },
   "source": [
    "## Business Understanding\n"
   ]
  },
  {
   "cell_type": "markdown",
   "id": "982f2163-69e9-49fd-92f3-c556415ecfc1",
   "metadata": {},
   "source": [
    "* There is an increasing need for <u>accessible and affordable</u> mental health care services, given the rising rates of mental illness and the growing shortage of mental health professionals in the United States [over recent years](https://www.npr.org/2022/10/10/1127889101/the-mental-health-crisis-and-shortage-of-providers-is-creating-big-debt-for-amer).\n",
    "\n",
    "* The growing [Mental Health AI market](https://www.researchandmarkets.com/reports/5689466/ai-in-mental-health-global-market-outlook) has played a crucial role in filling this gap, by providing intelligent chatbots that can provide mental health support on-demand.\n",
    "* [Over 40% of Americans](https://psychnews.psychiatryonline.org/doi/10.1176/appi.pn.2022.05.4.50) exclusively use chatbot services over in-person therapy, and most report [satisfaction](https://dl.acm.org/doi/fullHtml/10.1145/3453175) with these services.\n",
    "    \n",
    "* However, mental health chatbots are limited in their abilities.\n",
    "* There are populations for whom mental health chatbots are not yet able to provide suitable care, such as **clients at risk for suicide.**\n",
    "* Unconstrained chatbots have been shown to ignore and even encourage [self-harm and suicide](https://towardsdatascience.com/unconstrained-chatbots-condone-self-harm-e962509be2fa)."
   ]
  },
  {
   "cell_type": "markdown",
   "id": "ce6862a3-ead6-41c5-a5fc-88e01f0677a7",
   "metadata": {},
   "source": [
    "## Problem\n",
    "* It is essential for mental health chatbots to be able to detect suicide risk and respond appropriately, given [5% of the US population reported experiencing suicidal thoughts](https://www.cdc.gov/mmwr/volumes/71/ss/ss7101a1.htm)\n",
    "    1. Serious [legal and ethical ramifications](https://www.ncbi.nlm.nih.gov/pmc/articles/PMC8521996/#B17) of failing to respond properly to suicide risk\n",
    "    2. This will allow mental health companies to better implement their [safeguards for high-risk clients](https://laist.com/news/health/therapy-by-chatbot-the-promise-and-challenges-in-using-ai-for-mental-health)\n",
    "    3. A model that can detect suicide risk will **increase the efficiency of care** of mental health chatbots "
   ]
  },
  {
   "cell_type": "markdown",
   "id": "15f1e93a-e843-456b-91bd-e99208ca1bb2",
   "metadata": {},
   "source": [
    "## Project Goals:"
   ]
  },
  {
   "cell_type": "markdown",
   "id": "b3fecc68-28c0-4e4c-b373-4bad9263109e",
   "metadata": {
    "tags": []
   },
   "source": [
    "To create a model to classify individuals as **at suicide risk** or **not at suicide risk** based on a text analysis of their messages, using the following features: *word relevance*, *sentiment analysis*, and *emotion detection*\n",
    "\n",
    "### 1. High Accuracy Rate\n",
    "* Model should accurately classify text as indicative of suicide risk vs. non risk\n",
    "\n",
    "### 2. High Recall Rate: Minimize *False Negatives*\n",
    "* False Negative are failing to detect suicide risk in clients who *actually are* at risk\n",
    "* False negative classifications are *dangerous*, since clients who need intervention would not get the support they need.\n",
    "\n",
    "### 3. Quick Run Time \n",
    "* Model should generate predictions from unseen text *efficiently*, so that it can be deployed to work *in real time* with the mental health chatbot"
   ]
  },
  {
   "cell_type": "markdown",
   "id": "4f351c21-98d0-4f48-8367-5f530b32bebf",
   "metadata": {},
   "source": [
    "---"
   ]
  },
  {
   "cell_type": "markdown",
   "id": "f232df84-b8ac-40bd-a5bf-66697c171b69",
   "metadata": {},
   "source": [
    "# &nbsp;&nbsp;&nbsp;&nbsp; II. &nbsp;&nbsp; Notebook Set-Up"
   ]
  },
  {
   "cell_type": "code",
   "execution_count": 1,
   "id": "5ce99b48",
   "metadata": {
    "ExecuteTime": {
     "start_time": "2023-02-02T23:43:02.621Z"
    },
    "tags": []
   },
   "outputs": [],
   "source": [
    "'''Python Standard Packages'''\n",
    "import json\n",
    "import pickle\n",
    "import re\n",
    "import time\n",
    "\n",
    "'''Anaconda standard packages'''\n",
    "import matplotlib.pyplot as plt\n",
    "from nltk.tokenize import TweetTokenizer\n",
    "from nltk.corpus import stopwords\n",
    "import numpy as np\n",
    "import pandas as pd\n",
    "import seaborn as sns\n",
    "\n",
    "'''Third Party Packages'''\n",
    "import contractions\n",
    "from lingua import Language, LanguageDetectorBuilder\n",
    "from ftlangdetect import detect\n",
    "from nrclex import NRCLex\n",
    "import regex\n",
    "from spellchecker import SpellChecker\n",
    "from textblob import TextBlob\n",
    "from textblob import Word\n",
    "from textacy import preprocessing as preproc\n",
    "from tqdm import tqdm\n",
    "from vaderSentiment.vaderSentiment import SentimentIntensityAnalyzer"
   ]
  },
  {
   "cell_type": "code",
   "execution_count": 2,
   "id": "3ded874a-2608-4651-9576-8e0757f20022",
   "metadata": {
    "tags": []
   },
   "outputs": [],
   "source": [
    "%precision %.3f\n",
    "pd.set_option('display.float_format', '{:.2f}'.format)\n",
    "\n",
    "tqdm.pandas()"
   ]
  },
  {
   "cell_type": "markdown",
   "id": "1b53b24e",
   "metadata": {
    "tags": []
   },
   "source": [
    "---"
   ]
  },
  {
   "cell_type": "markdown",
   "id": "f97e20bd-9ed7-49d6-9a7c-b6ade283720f",
   "metadata": {
    "tags": []
   },
   "source": [
    "# &nbsp;&nbsp; III. &nbsp;&nbsp; Data Understanding"
   ]
  },
  {
   "cell_type": "markdown",
   "id": "8828a43e-8e48-4bd5-9655-5a87db7346da",
   "metadata": {
    "tags": []
   },
   "source": [
    "## Data Source"
   ]
  },
  {
   "cell_type": "markdown",
   "id": "4cd21a0e-14c3-4223-b1f9-207cd495142c",
   "metadata": {
    "jp-MarkdownHeadingCollapsed": true,
    "tags": []
   },
   "source": [
    "*Suicide and Depression Dataset* from [Kaggle](https://www.kaggle.com/datasets/nikhileswarkomati/suicide-watch)\n",
    "\n",
    "* This dataset consists over **over 200,000** posts webscraped from Reddit between December 2008 - January 2021 using Pushshift API. Posts were collected from \"r/SuicideWatch\" and \"r/Teenagers\""
   ]
  },
  {
   "cell_type": "markdown",
   "id": "f3ebe419-f6e9-478b-98fe-17d303685198",
   "metadata": {
    "tags": []
   },
   "source": [
    "### Target: Suicide Risk Classification (\"Class\")"
   ]
  },
  {
   "cell_type": "markdown",
   "id": "8e89efa9-d057-4ad6-a02f-5aa71051164b",
   "metadata": {},
   "source": [
    "* **<u>Suicide Risk</u>**: text from \"r/SuicideWatch,\" a forum that provides \"peer support for anyone struggling with suicidal thoughts.\"\n",
    "    \n",
    "* **<u>No Suicide Risk</u>**: text from \"r/Teenagers,\" a forum for \"average teenager discussions\""
   ]
  },
  {
   "cell_type": "markdown",
   "id": "a9435964-e94d-498f-903d-fd807494d458",
   "metadata": {
    "tags": []
   },
   "source": [
    "## Dataset - Descriptives"
   ]
  },
  {
   "cell_type": "markdown",
   "id": "46b40427-8ca4-4811-b140-df0d213ff5cb",
   "metadata": {},
   "source": [
    "* Dataset consists of only two columns: *raw, unclean* text and suicide risk classification (suicide vs. non-suicide)\n",
    "* Original dataset is too large for GitHub -- can be downloaded [here](https://www.kaggle.com/datasets/nikhileswarkomati/suicide-watch)"
   ]
  },
  {
   "cell_type": "code",
   "execution_count": 3,
   "id": "7e5bf3c8-424d-4c49-b82e-2a9bb0be7919",
   "metadata": {
    "tags": []
   },
   "outputs": [
    {
     "name": "stdout",
     "output_type": "stream",
     "text": [
      "232074\n"
     ]
    },
    {
     "data": {
      "text/html": [
       "<div>\n",
       "<style scoped>\n",
       "    .dataframe tbody tr th:only-of-type {\n",
       "        vertical-align: middle;\n",
       "    }\n",
       "\n",
       "    .dataframe tbody tr th {\n",
       "        vertical-align: top;\n",
       "    }\n",
       "\n",
       "    .dataframe thead th {\n",
       "        text-align: right;\n",
       "    }\n",
       "</style>\n",
       "<table border=\"1\" class=\"dataframe\">\n",
       "  <thead>\n",
       "    <tr style=\"text-align: right;\">\n",
       "      <th></th>\n",
       "      <th>text</th>\n",
       "      <th>class</th>\n",
       "    </tr>\n",
       "  </thead>\n",
       "  <tbody>\n",
       "    <tr>\n",
       "      <th>0</th>\n",
       "      <td>Ex Wife Threatening SuicideRecently I left my ...</td>\n",
       "      <td>suicide</td>\n",
       "    </tr>\n",
       "    <tr>\n",
       "      <th>1</th>\n",
       "      <td>Am I weird I don't get affected by compliments...</td>\n",
       "      <td>non-suicide</td>\n",
       "    </tr>\n",
       "    <tr>\n",
       "      <th>2</th>\n",
       "      <td>Finally 2020 is almost over... So I can never ...</td>\n",
       "      <td>non-suicide</td>\n",
       "    </tr>\n",
       "    <tr>\n",
       "      <th>3</th>\n",
       "      <td>i need helpjust help me im crying so hard</td>\n",
       "      <td>suicide</td>\n",
       "    </tr>\n",
       "    <tr>\n",
       "      <th>4</th>\n",
       "      <td>I’m so lostHello, my name is Adam (16) and I’v...</td>\n",
       "      <td>suicide</td>\n",
       "    </tr>\n",
       "  </tbody>\n",
       "</table>\n",
       "</div>"
      ],
      "text/plain": [
       "                                                text        class\n",
       "0  Ex Wife Threatening SuicideRecently I left my ...      suicide\n",
       "1  Am I weird I don't get affected by compliments...  non-suicide\n",
       "2  Finally 2020 is almost over... So I can never ...  non-suicide\n",
       "3          i need helpjust help me im crying so hard      suicide\n",
       "4  I’m so lostHello, my name is Adam (16) and I’v...      suicide"
      ]
     },
     "execution_count": 3,
     "metadata": {},
     "output_type": "execute_result"
    }
   ],
   "source": [
    "#  Loading in dataset and dropping unnecessary index column\n",
    "df = pd.read_csv(\"../data/Suicide_Detection.csv\").drop('Unnamed: 0', axis=1)\n",
    "\n",
    "#  Viewing first 5 rows of df\n",
    "print(len(df))\n",
    "df.head()\n"
   ]
  },
  {
   "cell_type": "markdown",
   "id": "a1ffb2a4-2a06-4f5c-b495-442c0140673f",
   "metadata": {},
   "source": [
    "### Class Descriptives"
   ]
  },
  {
   "cell_type": "markdown",
   "id": "c18547d4-a46d-47af-8609-11503e4cd0d0",
   "metadata": {},
   "source": [
    "* 50/50 split between each class in dataset\n",
    "* This is notable because [class imbalances present in most suicide-related datasets](https://www.ncbi.nlm.nih.gov/pmc/articles/PMC8370663/)"
   ]
  },
  {
   "cell_type": "code",
   "execution_count": 4,
   "id": "03fe918f-c9bb-4e0d-a5a6-05540f74b154",
   "metadata": {
    "tags": []
   },
   "outputs": [
    {
     "data": {
      "text/plain": [
       "suicide        116037\n",
       "non-suicide    116037\n",
       "Name: class, dtype: int64"
      ]
     },
     "execution_count": 4,
     "metadata": {},
     "output_type": "execute_result"
    }
   ],
   "source": [
    "df['class'].value_counts()"
   ]
  },
  {
   "cell_type": "code",
   "execution_count": 5,
   "id": "0e1ced42-a969-4d80-8fda-b23917133e72",
   "metadata": {
    "tags": []
   },
   "outputs": [
    {
     "data": {
      "image/png": "[encoded data removed]",
      "text/plain": [
       "<Figure size 640x480 with 1 Axes>"
      ]
     },
     "metadata": {},
     "output_type": "display_data"
    }
   ],
   "source": [
    "sns.barplot(x=df['class'].value_counts().index, y=df['class'].value_counts().values).set_ylabel('Number in Dataset');\n",
    "\n",
    "# plt.savefig('./images/2-classdist.png', bbox_inches='tight', pad_inches=0.1, facecolor='white', transparent=False)"
   ]
  },
  {
   "cell_type": "markdown",
   "id": "3d7e0cf3-5c7e-4c3d-aae0-90e98dba84a1",
   "metadata": {
    "tags": []
   },
   "source": [
    "### Class Examples"
   ]
  },
  {
   "cell_type": "code",
   "execution_count": 6,
   "id": "bb1a16c6-c63f-444d-b2f2-9cb1001b2f95",
   "metadata": {
    "tags": []
   },
   "outputs": [
    {
     "name": "stdout",
     "output_type": "stream",
     "text": [
      "Example of a suicide-risk post: \n",
      "\n",
      " Ex Wife Threatening SuicideRecently I left my wife for good because she has cheated on me twice and lied to me so much that I have decided to refuse to go back to her. As of a few days ago, she began threatening suicide. I have tirelessly spent these paat few days talking her out of it and she keeps hesitating because she wants to believe I'll come back. I know a lot of people will threaten this in order to get their way, but what happens if she really does? What do I do and how am I supposed to handle her death on my hands? I still love my wife but I cannot deal with getting cheated on again and constantly feeling insecure. I'm worried today may be the day she does it and I hope so much it doesn't happen.\n",
      "\n",
      "\n",
      "Example of a non suicide-risk post: \n",
      "\n",
      " Am I weird I don't get affected by compliments if it's coming from someone I know irl but I feel really good when internet strangers do it\n"
     ]
    }
   ],
   "source": [
    "print(f\"Example of a suicide-risk post: \\n\\n {df['text'].loc[0]}\")\n",
    "print(\"\\n\")\n",
    "print(f\"Example of a non suicide-risk post: \\n\\n {df['text'].loc[1]}\")"
   ]
  },
  {
   "cell_type": "markdown",
   "id": "9fe0876f-50ef-4cbb-ac9c-906bc19c0a35",
   "metadata": {
    "tags": []
   },
   "source": [
    "## Dataset - Features of Interest "
   ]
  },
  {
   "cell_type": "markdown",
   "id": "a31f55d7-a73e-45d5-b9cb-614526b31fc6",
   "metadata": {},
   "source": [
    "Features of Interest that I will derive from text:\n",
    "1. **Relevant Keywords:** determined by Term Frequency-Inverse Document Frequency calculation\n",
    "2. **Sentiment Analysis:** rating the positivity, neutrality & negativity of sentences using *VADER Sentiment*\n",
    "3. **Emotion Detection:** determining emotions indicated in text by calculating frequency of words associated with [eight primary emotions](uvm.edu/~mjk/013%20Intro%20to%20Wildlife%20Tracking/Plutchik's%20Wheel%20of%20Emotions%20-%202017%20Update%20_%20Six%20Seconds.pdf) using *NRCLex*"
   ]
  },
  {
   "cell_type": "markdown",
   "id": "92d7e092-b3cf-4682-b0e4-ac137b1f2b07",
   "metadata": {
    "tags": []
   },
   "source": [
    "## Data Quality"
   ]
  },
  {
   "cell_type": "markdown",
   "id": "f89d86be-4abd-4692-8b14-1a2915822db8",
   "metadata": {},
   "source": [
    "### Notable strengths about current dataset:\n",
    "1. **Large Sample Size** - hard to find mental health data of this size, especially with confidentiality constraints\n",
    "2. **Equal Representation of Suicide Risk vs. Non-Risk class**"
   ]
  },
  {
   "cell_type": "markdown",
   "id": "b7aa7d1a-7bb1-4d5a-a8fd-39e528d8c9d1",
   "metadata": {},
   "source": [
    "### Notable weaknesses:\n",
    "1. Raw text needs *a lot* of cleaning -- lots of misspellings, unidentifiable characters, inconsistent spacing\n",
    "    * Even with intensive cleaning techniques, I could not completely clean the data.\n",
    "    * Trade-off between clean data and keeping authenticity of the data: for example, running a spellcheck altered the meaning of many sentences, so was ultimately not feasible.\n",
    "2. Control group being r/teenagers -- in future studies, would be better to use a group more indicative of mental health support seekers\n",
    "3. Spam Posts\n",
    "    * Many spam posts in the dataset are formatted well enough to avoid spam filters, making it difficult to detect & delete them"
   ]
  },
  {
   "cell_type": "markdown",
   "id": "5055220f-020c-43c9-b96a-a08347d3d5fa",
   "metadata": {},
   "source": [
    "---"
   ]
  },
  {
   "cell_type": "markdown",
   "id": "bc35ee1a",
   "metadata": {
    "tags": []
   },
   "source": [
    "# &nbsp;&nbsp; IV. &nbsp;&nbsp; Data Preparation"
   ]
  },
  {
   "cell_type": "markdown",
   "id": "5a2e2836-845e-44f6-b3a9-7b8861c404bb",
   "metadata": {
    "tags": []
   },
   "source": [
    "## A. &nbsp; Text Cleaning Steps"
   ]
  },
  {
   "cell_type": "markdown",
   "id": "d1acb980-9354-464a-9372-745bce2ebcb3",
   "metadata": {
    "tags": []
   },
   "source": [
    "### 1. Simple Spam Remover"
   ]
  },
  {
   "cell_type": "code",
   "execution_count": 7,
   "id": "a1b0e330-4c74-455c-a6fa-5ead19463f07",
   "metadata": {
    "tags": []
   },
   "outputs": [],
   "source": [
    "def char_counter(string):\n",
    "    charCount = {\"alnum\": 0, \"not_alnum\": 0}\n",
    "    accepted = \" '\"\n",
    "    for char in string:\n",
    "        if char.isalnum() or char in accepted:\n",
    "            charCount[\"alnum\"] += 1\n",
    "        else:\n",
    "            charCount[\"not_alnum\"] += 1\n",
    "    if charCount[\"not_alnum\"] > charCount[\"alnum\"]:\n",
    "        return 0\n",
    "    else:\n",
    "        return string"
   ]
  },
  {
   "cell_type": "code",
   "execution_count": 8,
   "id": "a51af81d-c736-4190-885b-86a518b33015",
   "metadata": {
    "tags": []
   },
   "outputs": [
    {
     "name": "stdout",
     "output_type": "stream",
     "text": [
      "CharCounter Removed 767 spam data points\n"
     ]
    }
   ],
   "source": [
    "before = len(df)\n",
    "\n",
    "df[\"text_trial\"] = df[\"text\"].apply(lambda x: char_counter(x))\n",
    "df = df[df[\"text_trial\"] != 0]\n",
    "df = df.drop([\"text_trial\"], axis=1)\n",
    "\n",
    "after = len(df)\n",
    "\n",
    "print(f\"CharCounter Removed {before - after} spam data points\")"
   ]
  },
  {
   "cell_type": "code",
   "execution_count": 9,
   "id": "a39a2731-f104-426b-b4e4-ed4382448362",
   "metadata": {
    "tags": []
   },
   "outputs": [
    {
     "data": {
      "text/plain": [
       "0         False\n",
       "1         False\n",
       "2         False\n",
       "3         False\n",
       "4         False\n",
       "          ...  \n",
       "232069    False\n",
       "232070    False\n",
       "232071    False\n",
       "232072    False\n",
       "232073    False\n",
       "Name: text, Length: 231307, dtype: bool"
      ]
     },
     "execution_count": 9,
     "metadata": {},
     "output_type": "execute_result"
    }
   ],
   "source": [
    "df['text'].isna()"
   ]
  },
  {
   "cell_type": "markdown",
   "id": "c710bd02-0989-4894-997f-2b9c724fe483",
   "metadata": {
    "tags": []
   },
   "source": [
    "### 2. Removing HTML tags, usernames (u/name), website urls, and numbers"
   ]
  },
  {
   "cell_type": "code",
   "execution_count": 10,
   "id": "2713154b-87e0-4378-b625-3a124b5e378a",
   "metadata": {
    "tags": []
   },
   "outputs": [],
   "source": [
    "\"\"\" TweetTokenizer will isolate HTML characters, easier to remove \"\"\"\n",
    "\n",
    "twtokenizer = TweetTokenizer()\n",
    "df['text'] = df['text'].apply(lambda x: \" \".join(twtokenizer.tokenize(x)))"
   ]
  },
  {
   "cell_type": "code",
   "execution_count": 11,
   "id": "9da3b254-9354-4298-97d1-10f0f0ce3073",
   "metadata": {
    "tags": []
   },
   "outputs": [],
   "source": [
    "def special_char_remover(row):\n",
    "    patterns = r'|'.join(map(r'(?:{})'.format,\n",
    "                             (r\"\\n&\\S+\", r\"\\n\", r\"&lt\", r\"&gt\",\n",
    "                              r\"u/\\S+\", r\"ww\\S+\", r\"htt\\S+\",\n",
    "                              r\"\\d\\S+\", r\"\\d+\")))\n",
    "    row = re.sub(patterns, '', row)\n",
    "    str_en = row.encode(\"ascii\", \"ignore\")\n",
    "    str_de = str_en.decode()\n",
    "    return str_de\n",
    "\n",
    "\n",
    "df[\"text\"] = df[\"text\"].apply(lambda x: special_char_remover(x))"
   ]
  },
  {
   "cell_type": "markdown",
   "id": "7853e451-7de6-41ea-9497-e008a8667949",
   "metadata": {
    "tags": []
   },
   "source": [
    "### 3. Expanding Contractions"
   ]
  },
  {
   "cell_type": "code",
   "execution_count": 12,
   "id": "238316a9-4098-44e4-8d2c-2f5065357404",
   "metadata": {
    "tags": []
   },
   "outputs": [],
   "source": [
    "df['text'] = df['text'].apply(lambda x: contractions.fix(x))"
   ]
  },
  {
   "cell_type": "markdown",
   "id": "51a60f6a-17ad-4a7b-a748-5591f98434f2",
   "metadata": {
    "tags": []
   },
   "source": [
    "### 4. Removing Non-English Posts"
   ]
  },
  {
   "cell_type": "code",
   "execution_count": 13,
   "id": "d2f5109d-1e6c-4e18-b791-86ccb54b69e1",
   "metadata": {
    "tags": []
   },
   "outputs": [],
   "source": [
    "detector = LanguageDetectorBuilder.from_all_languages().with_preloaded_language_models().build()"
   ]
  },
  {
   "cell_type": "code",
   "execution_count": 14,
   "id": "fa1d1577-0161-4bc7-990a-d59e631f12b5",
   "metadata": {
    "tags": []
   },
   "outputs": [],
   "source": [
    "def quick_detect(row):\n",
    "    word_dict = detect(text=row)\n",
    "    lang_tuple = (word_dict['lang'], word_dict['score'])\n",
    "    return lang_tuple"
   ]
  },
  {
   "cell_type": "code",
   "execution_count": 15,
   "id": "45345c0f-493b-4b08-81dc-f2df4d8e9736",
   "metadata": {
    "tags": []
   },
   "outputs": [
    {
     "name": "stderr",
     "output_type": "stream",
     "text": [
      "Warning : `load_model` does not return WordVectorModel or SupervisedModel any more, but a `FastText` object which is very similar.\n"
     ]
    },
    {
     "data": {
      "text/plain": [
       "('en', 1.000)"
      ]
     },
     "execution_count": 15,
     "metadata": {},
     "output_type": "execute_result"
    }
   ],
   "source": [
    "quick_detect(\"I became paranoid that the school of jellyfish was spying on me.\")"
   ]
  },
  {
   "cell_type": "code",
   "execution_count": 16,
   "id": "5c9364c6-1e8e-47d7-b750-b856d5fe7081",
   "metadata": {
    "tags": []
   },
   "outputs": [
    {
     "data": {
      "text/plain": [
       "('en', 0.989)"
      ]
     },
     "execution_count": 16,
     "metadata": {},
     "output_type": "execute_result"
    }
   ],
   "source": [
    "quick_detect(\"I feel so silly right now because I did not even think about them being busy because of the \\\n",
    "Super Bowl. I probably should not have gotten so mad at them.\")"
   ]
  },
  {
   "cell_type": "code",
   "execution_count": 17,
   "id": "4bb317e3-a2e7-432f-b8ef-dc291dd2bf75",
   "metadata": {
    "tags": []
   },
   "outputs": [
    {
     "name": "stderr",
     "output_type": "stream",
     "text": [
      "100%|██████████| 231307/231307 [00:05<00:00, 43213.56it/s]\n"
     ]
    }
   ],
   "source": [
    "df['lang_tuple'] = df['text'].progress_apply(lambda row: quick_detect(row))"
   ]
  },
  {
   "cell_type": "code",
   "execution_count": 18,
   "id": "fe193fc3-39d1-4e49-a9f8-effcfc0cbead",
   "metadata": {
    "tags": []
   },
   "outputs": [],
   "source": [
    "df['ft_lang'] = df['lang_tuple'].apply(lambda x: x[0])\n",
    "df['ft_conf'] = df['lang_tuple'].apply(lambda x: x[1])\n",
    "df.drop('lang_tuple', axis=1, inplace=True)"
   ]
  },
  {
   "cell_type": "code",
   "execution_count": 19,
   "id": "58f371ea-5f06-4a26-8c22-16d52d92feba",
   "metadata": {
    "tags": []
   },
   "outputs": [],
   "source": [
    "noten_df = df[df['ft_lang']!= 'en'].sort_values(by='ft_conf', ascending=False)"
   ]
  },
  {
   "cell_type": "code",
   "execution_count": 20,
   "id": "55b42700-c18a-401b-96a2-31a5fb48e703",
   "metadata": {
    "tags": []
   },
   "outputs": [],
   "source": [
    "not_en_index = list(noten_df[noten_df['ft_conf']>0.90].index)"
   ]
  },
  {
   "cell_type": "code",
   "execution_count": 21,
   "id": "34697084-f985-46e8-818e-479ce9424458",
   "metadata": {
    "tags": []
   },
   "outputs": [],
   "source": [
    "# Dropping all values from df and noten_df where != 'en' and ft_conf > 0.90\n",
    "\n",
    "noten_df.drop(not_en_index, inplace=True)\n",
    "df.drop(not_en_index, inplace=True)"
   ]
  },
  {
   "cell_type": "code",
   "execution_count": 22,
   "id": "f268b7e0-d0a8-4bb5-b179-2acf6fa35253",
   "metadata": {
    "tags": []
   },
   "outputs": [
    {
     "name": "stdout",
     "output_type": "stream",
     "text": [
      "So far, 104 non-english rows were dropped\n"
     ]
    }
   ],
   "source": [
    "print(f\"So far, {231307 - len(df)} non-english rows were dropped\")"
   ]
  },
  {
   "cell_type": "code",
   "execution_count": 23,
   "id": "e5a54a34-af24-40f4-8e19-8d68608cd9a8",
   "metadata": {},
   "outputs": [],
   "source": [
    "# Verifying rest with Lingua Detect:"
   ]
  },
  {
   "cell_type": "code",
   "execution_count": 24,
   "id": "5f22db4e-3456-4283-9184-3712136afb51",
   "metadata": {
    "tags": []
   },
   "outputs": [],
   "source": [
    "def lingua_detection(row):\n",
    "    if detector.detect_language_of(row) == Language.ENGLISH:\n",
    "        return 1\n",
    "    else:\n",
    "        return 0"
   ]
  },
  {
   "cell_type": "code",
   "execution_count": 25,
   "id": "4b63e4b1-1cec-4f9b-9886-a23e041878c3",
   "metadata": {
    "tags": []
   },
   "outputs": [
    {
     "name": "stderr",
     "output_type": "stream",
     "text": [
      "100%|██████████| 1494/1494 [07:34<00:00,  3.28it/s]\n"
     ]
    }
   ],
   "source": [
    "noten_df['lingua_is_en'] = noten_df['text'].progress_map(lambda x: lingua_detection(x))"
   ]
  },
  {
   "cell_type": "code",
   "execution_count": 26,
   "id": "3f514d1e-9442-48c4-b65d-fd56889efc13",
   "metadata": {
    "tags": []
   },
   "outputs": [],
   "source": [
    "not_en_index = list(noten_df[noten_df['lingua_is_en']==0].index)\n",
    "\n",
    "noten_df.drop(not_en_index, inplace=True)\n",
    "df.drop(not_en_index, inplace=True)"
   ]
  },
  {
   "cell_type": "code",
   "execution_count": 27,
   "id": "47d07ed6-0bb5-4385-9c38-347d73dbfac5",
   "metadata": {
    "tags": []
   },
   "outputs": [
    {
     "name": "stdout",
     "output_type": "stream",
     "text": [
      "So far, 641 non-english rows were dropped\n"
     ]
    }
   ],
   "source": [
    "print(f\"So far, {231307 - len(df)} non-english rows were dropped\")"
   ]
  },
  {
   "cell_type": "code",
   "execution_count": 28,
   "id": "3a56be69-b9f1-4307-8dbd-8fd253f384b8",
   "metadata": {
    "tags": []
   },
   "outputs": [],
   "source": [
    "low_conf_english_df = df[df['ft_conf']<0.5]"
   ]
  },
  {
   "cell_type": "code",
   "execution_count": 29,
   "id": "69560259-7d73-4aed-8dae-e5aa8c274082",
   "metadata": {
    "tags": []
   },
   "outputs": [],
   "source": [
    "lc_en_df=low_conf_english_df[low_conf_english_df['ft_lang']=='en'].copy()"
   ]
  },
  {
   "cell_type": "code",
   "execution_count": 30,
   "id": "7e71ddf6-50f1-4bff-86d0-34fbc8444c4a",
   "metadata": {
    "tags": []
   },
   "outputs": [
    {
     "name": "stderr",
     "output_type": "stream",
     "text": [
      "100%|██████████| 2886/2886 [14:09<00:00,  3.40it/s] \n"
     ]
    }
   ],
   "source": [
    "lc_en_df['lingua_is_en'] = lc_en_df['text'].progress_map(lambda x: lingua_detection(x))"
   ]
  },
  {
   "cell_type": "code",
   "execution_count": 31,
   "id": "8b0f6bb1-ee42-4c53-ac5c-b1e5456056a8",
   "metadata": {
    "tags": []
   },
   "outputs": [],
   "source": [
    "not_en_index = lc_en_df[lc_en_df['lingua_is_en']==0].index\n",
    "\n",
    "df.drop(not_en_index, inplace=True)\n",
    "lc_en_df.drop(not_en_index, inplace=True)"
   ]
  },
  {
   "cell_type": "code",
   "execution_count": 32,
   "id": "9b4f3e98-7a8c-4fb7-8f77-c6228b8f0458",
   "metadata": {
    "tags": []
   },
   "outputs": [
    {
     "name": "stdout",
     "output_type": "stream",
     "text": [
      "1235 non-english rows were dropped\n"
     ]
    }
   ],
   "source": [
    "print(f\"{231307 - len(df)} non-english rows were dropped\")"
   ]
  },
  {
   "cell_type": "markdown",
   "id": "d1b2b59e-40aa-4f22-9ce2-54459a9ca539",
   "metadata": {
    "tags": []
   },
   "source": [
    "### 5. Textacy Pre-Processing Pipline"
   ]
  },
  {
   "cell_type": "code",
   "execution_count": 33,
   "id": "787a930d-0e59-4771-bdaf-d6252e850cc6",
   "metadata": {
    "tags": []
   },
   "outputs": [
    {
     "name": "stdout",
     "output_type": "stream",
     "text": [
      "Time Taken: 44.7 seconds\n"
     ]
    }
   ],
   "source": [
    "# Timed Output: Takes 60 seconds to run\n",
    "\n",
    "start = time.time()\n",
    "\n",
    "pipe = preproc.make_pipeline(preproc.normalize.hyphenated_words,\n",
    "                             preproc.normalize.quotation_marks,\n",
    "                             preproc.normalize.unicode,\n",
    "                             preproc.remove.accents,\n",
    "                             preproc.remove.brackets,\n",
    "                             preproc.remove.html_tags,\n",
    "                             preproc.remove.punctuation,\n",
    "                             preproc.normalize.whitespace)\n",
    "\n",
    "df[\"text\"] = df[\"text\"].apply(lambda x: pipe(x))\n",
    "\n",
    "end = time.time()\n",
    "print(f'Time Taken: {end-start:.1f} seconds')"
   ]
  },
  {
   "cell_type": "markdown",
   "id": "622bdca8-8199-4608-a7f4-09ac63fffa03",
   "metadata": {
    "tags": []
   },
   "source": [
    "### 6. Caps Processing Tasks + Lowercase All"
   ]
  },
  {
   "cell_type": "code",
   "execution_count": 34,
   "id": "2b1f4702-87bb-41b3-8dae-432a11c64a7e",
   "metadata": {
    "collapsed": true,
    "jupyter": {
     "outputs_hidden": true
    },
    "tags": []
   },
   "outputs": [
    {
     "name": "stderr",
     "output_type": "stream",
     "text": [
      "/var/folders/vn/0fdnf_cd0bsfss0cmbntv5s40000gn/T/ipykernel_31921/897260948.py:6: SettingWithCopyWarning: \n",
      "A value is trying to be set on a copy of a slice from a DataFrame\n",
      "\n",
      "See the caveats in the documentation: https://pandas.pydata.org/pandas-docs/stable/user_guide/indexing.html#returning-a-view-versus-a-copy\n",
      "  df['text'][index] = re.sub(r'\\Wect\\W', r' electroconvulsive therapy ', df['text'][index], flags=re.A | re.I | re.S)\n"
     ]
    }
   ],
   "source": [
    "ect_ther = list((df[\"text\"].apply\n",
    "                 (lambda x: re.findall(r\" ECT \", x)).sort_values\n",
    "                 (ascending=False)[:72].index))\n",
    "ect_ther.extend([12935, 181494, 21986, 189017, 49323, 78657, 205774])\n",
    "for index in ect_ther:\n",
    "    df['text'][index] = re.sub(r'\\Wect\\W', r' electroconvulsive therapy ', df['text'][index], flags=re.A | re.I | re.S)"
   ]
  },
  {
   "cell_type": "code",
   "execution_count": 35,
   "id": "792dcc1b-7e66-49e9-8638-be231debcd46",
   "metadata": {
    "tags": []
   },
   "outputs": [],
   "source": [
    "def caps_process(row):\n",
    "    row = re.sub(r\"(?<![A-Z\\W])(?=[A-Z])\", \" \", row)\n",
    "    row = re.sub(r\" ect \", r\" etc \", row)\n",
    "    return row.lower()"
   ]
  },
  {
   "cell_type": "code",
   "execution_count": 36,
   "id": "831ae674-a436-4b74-8fd5-62bf4a2cb175",
   "metadata": {
    "tags": []
   },
   "outputs": [],
   "source": [
    "df['text'] = df['text'].apply(lambda x: caps_process(x))"
   ]
  },
  {
   "cell_type": "markdown",
   "id": "4b967944-0db7-49c3-9419-92a4c7e4a284",
   "metadata": {
    "tags": []
   },
   "source": [
    "### 7. Noise Correction"
   ]
  },
  {
   "cell_type": "code",
   "execution_count": 37,
   "id": "e9e5819e-de21-47d6-b036-a5ce01cae2dd",
   "metadata": {
    "tags": []
   },
   "outputs": [],
   "source": [
    "def noise_corr(row):\n",
    "\n",
    "    #  Prefix Fixing\n",
    "    row = re.sub(r\" (anti) (\\S+) \", r\" \\1\\2 \", row)\n",
    "    row = re.sub(r\" (mc) (\\S+) \", r\" \\1\\2 \", row)\n",
    "\n",
    "    #  Removing filler words\n",
    "    row = re.sub(r\"fill\\S+\", \"\", row)\n",
    "    row = re.sub(r\"zz\\S+\", \"\", row)\n",
    "\n",
    "    #  Remove duplicated words from row\n",
    "    row = regex.sub(r'(?<= |^)(\\S+)(?: \\1){2,}(?= |$)', r'\\1 \\1', row)\n",
    "\n",
    "    #  Remove all repeating characters > 2\n",
    "    row = re.sub(r'(.)\\1{2,}', r'\\1', row)\n",
    "\n",
    "    #  Correct cases of tldr being separated\n",
    "    row = re.sub(r\" tl dr \", r\" tldr \", row)\n",
    "\n",
    "    #  Make sure all chars are alnum\n",
    "    for word in row.split():\n",
    "        if word.isalnum():\n",
    "            continue\n",
    "        else:\n",
    "            for char in word:\n",
    "                if not char.isalnum():\n",
    "                    word = word.replace(char, '')\n",
    "\n",
    "    #  Return row with normalized whitespace\n",
    "    return preproc.normalize.whitespace(row)"
   ]
  },
  {
   "cell_type": "code",
   "execution_count": 38,
   "id": "1e068b19-8c67-413c-9702-c4532785994b",
   "metadata": {
    "tags": []
   },
   "outputs": [
    {
     "name": "stderr",
     "output_type": "stream",
     "text": [
      "100%|██████████| 230072/230072 [00:30<00:00, 7485.65it/s]\n"
     ]
    }
   ],
   "source": [
    "df['text'] = df['text'].progress_apply(lambda x: noise_corr(x))"
   ]
  },
  {
   "cell_type": "markdown",
   "id": "faedd008-7d46-484c-a2fd-5dfa77e641ab",
   "metadata": {
    "tags": []
   },
   "source": [
    "### 8. Spelling Correction"
   ]
  },
  {
   "cell_type": "markdown",
   "id": "a98b5fd6-eb70-4bd7-a457-0933ff346b77",
   "metadata": {},
   "source": [
    "* While I could not completely clean all misspelled words, I did change the most common errors\n",
    "    * Applying a spellchecker to the entire DF took a lot of computational power and led to significant meaning changes, which would be worse for the current analysis than spelling errors. \n",
    "    * This method ended up being the best compromise.\n",
    "* In the \"Testing SpellChecker\" section of scratch_notebook, you can see my full process for finding and changing spelling errors.\n",
    "\n",
    "* To simplify this notebook, I created imports with my changes & ran them with the functions below:"
   ]
  },
  {
   "cell_type": "code",
   "execution_count": 39,
   "id": "0d517293-a33c-45a6-a537-ba1547ba4af5",
   "metadata": {},
   "outputs": [],
   "source": [
    "spell = SpellChecker()\n",
    "with open('../cleaning_dictionaries/single_token_list.json', 'r') as f:\n",
    "    single_token_list = json.load(f)\n",
    "with open('../cleaning_dictionaries/correction_dictionary.json', 'r') as file:\n",
    "    correction_dictionary = json.load(file)"
   ]
  },
  {
   "cell_type": "code",
   "execution_count": 40,
   "id": "62525c70-e582-42a5-ad68-4d19015f9cf0",
   "metadata": {
    "collapsed": true,
    "jupyter": {
     "outputs_hidden": true
    },
    "tags": []
   },
   "outputs": [
    {
     "name": "stderr",
     "output_type": "stream",
     "text": [
      "/var/folders/vn/0fdnf_cd0bsfss0cmbntv5s40000gn/T/ipykernel_31921/3917712090.py:15: SettingWithCopyWarning: \n",
      "A value is trying to be set on a copy of a slice from a DataFrame\n",
      "\n",
      "See the caveats in the documentation: https://pandas.pydata.org/pandas-docs/stable/user_guide/indexing.html#returning-a-view-versus-a-copy\n",
      "  df['text'][index] = row\n",
      "/var/folders/vn/0fdnf_cd0bsfss0cmbntv5s40000gn/T/ipykernel_31921/3917712090.py:18: SettingWithCopyWarning: \n",
      "A value is trying to be set on a copy of a slice from a DataFrame\n",
      "\n",
      "See the caveats in the documentation: https://pandas.pydata.org/pandas-docs/stable/user_guide/indexing.html#returning-a-view-versus-a-copy\n",
      "  df['text'][index] = row\n"
     ]
    }
   ],
   "source": [
    "\"\"\" Code to fix typos where i is appended to words \"\"\"\n",
    "\n",
    "index_check_wordis = list(df['text'][df['text'].apply(\n",
    "    lambda row:len(re.findall(r\"\\b\\S+i\\b\", row))) != 0].index)\n",
    "\n",
    "for index in index_check_wordis:\n",
    "    row = df['text'][index]\n",
    "    for word in re.findall(r\"\\b\\S+i\\b\", row):\n",
    "        if spell.known([word]):\n",
    "            continue\n",
    "\n",
    "        tester = word[:-1]\n",
    "        if len(spell.known([tester])) == 1:\n",
    "            row = re.sub(word, tester + \" i\", row)\n",
    "            df['text'][index] = row\n",
    "        else:\n",
    "            row = re.sub(word, '', row)\n",
    "            df['text'][index] = row"
   ]
  },
  {
   "cell_type": "code",
   "execution_count": 41,
   "id": "941d0f4a-75a7-4f61-b82e-80aadfcd83f2",
   "metadata": {},
   "outputs": [],
   "source": [
    "def single_token_remover(row_list, token_list):\n",
    "    \"\"\"Remove Tokens that are single characters\"\"\"\n",
    "\n",
    "    for token in row_list:\n",
    "        if token in token_list:\n",
    "            row_list.remove(token)\n",
    "            single_token_remover(row_list, single_token_list)\n",
    "    return \" \".join(row_list)"
   ]
  },
  {
   "cell_type": "code",
   "execution_count": 42,
   "id": "976f723d-82e3-4e5c-9826-c8849459f071",
   "metadata": {
    "tags": []
   },
   "outputs": [
    {
     "name": "stderr",
     "output_type": "stream",
     "text": [
      "100%|██████████| 230072/230072 [01:25<00:00, 2683.95it/s]\n"
     ]
    }
   ],
   "source": [
    "df[\"text\"] = df[\"text\"].progress_map(\n",
    "    lambda x: single_token_remover(x.split(), single_token_list))"
   ]
  },
  {
   "cell_type": "code",
   "execution_count": 43,
   "id": "e245046f-877c-4a7d-8ea3-be3346360efc",
   "metadata": {},
   "outputs": [],
   "source": [
    "def replace_words(row, dictionary):\n",
    "    \"\"\" Replacement Dictionary \"\"\"\n",
    "\n",
    "    new_row = []\n",
    "    for word in row.split():\n",
    "        if word in dictionary.keys():\n",
    "            new_row.append(dictionary[word])\n",
    "        else:\n",
    "            new_row.append(word)\n",
    "    return (\" \".join(new_row))"
   ]
  },
  {
   "cell_type": "code",
   "execution_count": 44,
   "id": "f85c5b04-4cb6-4531-ba95-c10f6e95d13f",
   "metadata": {
    "tags": []
   },
   "outputs": [
    {
     "name": "stderr",
     "output_type": "stream",
     "text": [
      "100%|██████████| 230072/230072 [00:03<00:00, 71212.35it/s]\n"
     ]
    }
   ],
   "source": [
    "df[\"text\"] = df[\"text\"].progress_map(\n",
    "    lambda x: replace_words(x, correction_dictionary))"
   ]
  },
  {
   "cell_type": "markdown",
   "id": "97dd0d33-4ff3-4825-929c-cf0d8527a8d4",
   "metadata": {
    "tags": []
   },
   "source": [
    "### 9. Drop Unnecessary Columns"
   ]
  },
  {
   "cell_type": "code",
   "execution_count": 46,
   "id": "f00084d4-85d5-45c1-943a-ecd9b2405498",
   "metadata": {
    "tags": []
   },
   "outputs": [],
   "source": [
    "df.drop(['ft_lang', 'ft_conf'], axis=1, inplace=True)"
   ]
  },
  {
   "cell_type": "markdown",
   "id": "013f3122-56b5-4f7d-a612-47eadef74beb",
   "metadata": {},
   "source": [
    "---"
   ]
  },
  {
   "cell_type": "markdown",
   "id": "7317c8af-5f3c-4541-b7bf-34d38442a5df",
   "metadata": {
    "tags": []
   },
   "source": [
    "## B. &nbsp; Feature Engineering"
   ]
  },
  {
   "cell_type": "markdown",
   "id": "4c6381fd-a0f1-43b6-aa36-6d29e7f1f9bb",
   "metadata": {},
   "source": [
    "* As rule-based algorithms, VADER and NRCLex can be run on the full df before the train-test split. \n",
    "    * This will reduce computational effort during modeling & allows for pre-modeling data exploration"
   ]
  },
  {
   "cell_type": "markdown",
   "id": "aeb0507b-f13a-4744-87c2-8e945046a0b2",
   "metadata": {
    "tags": []
   },
   "source": [
    "### 1.&nbsp; Sentiment Analysis with [VADERSentiment](https://github.com/cjhutto/vaderSentiment)"
   ]
  },
  {
   "cell_type": "markdown",
   "id": "ecba8583-5dc2-49f8-9ea3-1413def1ba50",
   "metadata": {
    "tags": []
   },
   "source": [
    "* Rates positivity, negativity & neutrality of sentences -- scale of (0 - 1)\n",
    "* Compound score = sum of positive, negative & neutral scores, normalized across VADER's known lexicon\n",
    "    * Takes into account word placement in sentence and modifiers (see example below)\n",
    "        * Many other text analyzers (including NRCLex) do not account for this!"
   ]
  },
  {
   "cell_type": "markdown",
   "id": "ce4107ae-8d2b-4904-9593-6770dbbf0138",
   "metadata": {},
   "source": [
    "#### VADERSentiment Example"
   ]
  },
  {
   "cell_type": "code",
   "execution_count": 47,
   "id": "aa341d89-0487-42d0-8043-f674c138b757",
   "metadata": {
    "tags": []
   },
   "outputs": [
    {
     "name": "stdout",
     "output_type": "stream",
     "text": [
      "{'neg': 0.367, 'neu': 0.524, 'pos': 0.109, 'compound': -0.7845}\n"
     ]
    }
   ],
   "source": [
    "sent = SentimentIntensityAnalyzer()\n",
    "\n",
    "print(sent.polarity_scores(\"it was good to see them until they ruined \\\n",
    "everything by insulting me and making me feel horrible.\"))"
   ]
  },
  {
   "cell_type": "markdown",
   "id": "07c5bc6a-5db8-48a5-b705-fc26eae1d374",
   "metadata": {},
   "source": [
    "#### Getting Vader Sentiment Scores and Joining to DF"
   ]
  },
  {
   "cell_type": "code",
   "execution_count": 48,
   "id": "59a65624-673e-4457-9648-481d918bf653",
   "metadata": {
    "tags": []
   },
   "outputs": [],
   "source": [
    "def sentiment_analyzer(df):\n",
    "    \"\"\" Analyzes df for sentiment scores and concatenates results \"\"\"\n",
    "    dictlist = []\n",
    "    sia = SentimentIntensityAnalyzer()\n",
    "    for i in df.index:\n",
    "        polarity = sia.polarity_scores(df['text'][i])\n",
    "        dictlist.append({'negative': polarity['neg'],\n",
    "                         'neutral': polarity['neu'],\n",
    "                         'positive': polarity['pos'],\n",
    "                         'comp': polarity['compound']})\n",
    "\n",
    "    sentdf = pd.DataFrame(dictlist, index=df.index)\n",
    "    df = df.join(sentdf, rsuffix='sent')\n",
    "    return df"
   ]
  },
  {
   "cell_type": "code",
   "execution_count": 49,
   "id": "b57a0099-efd9-44c4-8508-393a4615bf9b",
   "metadata": {
    "tags": []
   },
   "outputs": [
    {
     "name": "stdout",
     "output_type": "stream",
     "text": [
      "Time to run: 5 min and 0 seconds\n"
     ]
    }
   ],
   "source": [
    "start = time.time()\n",
    "df = sentiment_analyzer(df)\n",
    "end = time.time()\n",
    "print(f'Time to run: {(end-start)//60:.0f} min and {(end-start)%60:.0f} seconds')"
   ]
  },
  {
   "cell_type": "code",
   "execution_count": 50,
   "id": "c47acfc6-cd51-432d-935c-57a651476b00",
   "metadata": {
    "tags": []
   },
   "outputs": [
    {
     "data": {
      "text/html": [
       "<div>\n",
       "<style scoped>\n",
       "    .dataframe tbody tr th:only-of-type {\n",
       "        vertical-align: middle;\n",
       "    }\n",
       "\n",
       "    .dataframe tbody tr th {\n",
       "        vertical-align: top;\n",
       "    }\n",
       "\n",
       "    .dataframe thead th {\n",
       "        text-align: right;\n",
       "    }\n",
       "</style>\n",
       "<table border=\"1\" class=\"dataframe\">\n",
       "  <thead>\n",
       "    <tr style=\"text-align: right;\">\n",
       "      <th></th>\n",
       "      <th>negative</th>\n",
       "      <th>neutral</th>\n",
       "      <th>positive</th>\n",
       "      <th>comp</th>\n",
       "    </tr>\n",
       "  </thead>\n",
       "  <tbody>\n",
       "    <tr>\n",
       "      <th>count</th>\n",
       "      <td>230072.00</td>\n",
       "      <td>230072.00</td>\n",
       "      <td>230072.00</td>\n",
       "      <td>230072.00</td>\n",
       "    </tr>\n",
       "    <tr>\n",
       "      <th>mean</th>\n",
       "      <td>0.13</td>\n",
       "      <td>0.74</td>\n",
       "      <td>0.12</td>\n",
       "      <td>-0.16</td>\n",
       "    </tr>\n",
       "    <tr>\n",
       "      <th>std</th>\n",
       "      <td>0.10</td>\n",
       "      <td>0.12</td>\n",
       "      <td>0.10</td>\n",
       "      <td>0.71</td>\n",
       "    </tr>\n",
       "    <tr>\n",
       "      <th>min</th>\n",
       "      <td>0.00</td>\n",
       "      <td>0.00</td>\n",
       "      <td>0.00</td>\n",
       "      <td>-1.00</td>\n",
       "    </tr>\n",
       "    <tr>\n",
       "      <th>25%</th>\n",
       "      <td>0.06</td>\n",
       "      <td>0.67</td>\n",
       "      <td>0.06</td>\n",
       "      <td>-0.89</td>\n",
       "    </tr>\n",
       "    <tr>\n",
       "      <th>50%</th>\n",
       "      <td>0.13</td>\n",
       "      <td>0.74</td>\n",
       "      <td>0.11</td>\n",
       "      <td>-0.26</td>\n",
       "    </tr>\n",
       "    <tr>\n",
       "      <th>75%</th>\n",
       "      <td>0.19</td>\n",
       "      <td>0.81</td>\n",
       "      <td>0.17</td>\n",
       "      <td>0.53</td>\n",
       "    </tr>\n",
       "    <tr>\n",
       "      <th>max</th>\n",
       "      <td>1.00</td>\n",
       "      <td>1.00</td>\n",
       "      <td>1.00</td>\n",
       "      <td>1.00</td>\n",
       "    </tr>\n",
       "  </tbody>\n",
       "</table>\n",
       "</div>"
      ],
      "text/plain": [
       "       negative   neutral  positive      comp\n",
       "count 230072.00 230072.00 230072.00 230072.00\n",
       "mean       0.13      0.74      0.12     -0.16\n",
       "std        0.10      0.12      0.10      0.71\n",
       "min        0.00      0.00      0.00     -1.00\n",
       "25%        0.06      0.67      0.06     -0.89\n",
       "50%        0.13      0.74      0.11     -0.26\n",
       "75%        0.19      0.81      0.17      0.53\n",
       "max        1.00      1.00      1.00      1.00"
      ]
     },
     "execution_count": 50,
     "metadata": {},
     "output_type": "execute_result"
    }
   ],
   "source": [
    "df.describe()"
   ]
  },
  {
   "cell_type": "code",
   "execution_count": 51,
   "id": "625150a4-f9b3-442d-9aac-77c0e86bf356",
   "metadata": {
    "tags": []
   },
   "outputs": [
    {
     "data": {
      "image/png": "[encoded data removed]",
      "text/plain": [
       "<Figure size 640x480 with 1 Axes>"
      ]
     },
     "metadata": {},
     "output_type": "display_data"
    }
   ],
   "source": [
    "#  Distribution of Neg, Neutral & Positive ratings (scale: 0-1)\n",
    "sns.kdeplot(df.iloc[:,2:5], fill=True);"
   ]
  },
  {
   "cell_type": "code",
   "execution_count": 52,
   "id": "28d65853-4673-4a1d-b35c-24463d1f999f",
   "metadata": {
    "tags": []
   },
   "outputs": [
    {
     "data": {
      "image/png": "[encoded data removed]",
      "text/plain": [
       "<Figure size 640x480 with 1 Axes>"
      ]
     },
     "metadata": {},
     "output_type": "display_data"
    }
   ],
   "source": [
    "sns.kdeplot(df.iloc[:,-1], fill=True);"
   ]
  },
  {
   "cell_type": "markdown",
   "id": "7b33cbc3-d3aa-4de1-a874-7324567563a6",
   "metadata": {
    "tags": []
   },
   "source": [
    "* Needs to be scaled. Data is very skewed. \n",
    "* Positive & Negative scores skewed right, but neutral scores skewed left.\n",
    "\n",
    "Not much difference between clean and dirty text in VADER scores, so distribution may not be due to texts being too \"sanitized.\" "
   ]
  },
  {
   "cell_type": "code",
   "execution_count": 54,
   "id": "ae69f098-85d3-4bd9-95e7-5d60477fb3af",
   "metadata": {
    "tags": []
   },
   "outputs": [
    {
     "data": {
      "image/png": "[encoded data removed]",
      "text/plain": [
       "<Figure size 500x400 with 1 Axes>"
      ]
     },
     "metadata": {},
     "output_type": "display_data"
    }
   ],
   "source": [
    "plotdf = df.drop(['text'], axis=1)\n",
    "plotdf = pd.DataFrame(plotdf.set_index(['class']).unstack())\n",
    "plotdf = plotdf.reset_index(level=[0,1])\n",
    "plotdf.columns=['senttype','class','val']\n",
    "\n",
    "plotdf\n",
    "fig, ax = plt.subplots(figsize=(5,4))\n",
    "sns.pointplot(plotdf, x='class', y='val', hue='senttype', ax=ax).set_title(\"Sentiment Means By Class\");\n",
    "# plt.savefig('./images/3-vader.png', bbox_inches='tight', pad_inches=0.1, facecolor='white', transparent=False)"
   ]
  },
  {
   "cell_type": "markdown",
   "id": "a5c14673-e841-4b5f-81db-c34f7b1643a1",
   "metadata": {},
   "source": [
    "* Graph indicates large difference in sentiment compound scores between suicide & nonsuicide; rest look insignificant"
   ]
  },
  {
   "cell_type": "markdown",
   "id": "49378b6e-739e-44cd-b167-19daf004e2f2",
   "metadata": {
    "tags": []
   },
   "source": [
    "### 2.&nbsp; Emotion Detection Analysis with [NRCLex](https://github.com/metalcorebear/NRCLex)"
   ]
  },
  {
   "cell_type": "markdown",
   "id": "db0a4614-a3e7-4f60-b6ed-f59dc7488443",
   "metadata": {
    "tags": []
   },
   "source": [
    "* Based on [Plutchik's Wheel of Emotions](https://journals.plos.org/plosone/article/figure?id=10.1371/journal.pone.0256503.g004): counts emotion words of 8 \"primary\" emotions\n",
    "* Word coded as emotion based on a large selection of [crowdsourced tweets](https://saifmohammad.com/WebPages/NRC-Emotion-Lexicon.htm)\n",
    "    * Word-based: not sensitive to context and sentence\n",
    "        * Built in **tokenizing & lemmatizing** with *TextBlob*\n",
    "* Returns count or frequency of emotion words used in a sentence\n",
    "* **I will remove \"positive, negative\" ratings from NRCLex because VADER is better for Sentiment ratings**\n",
    "    * Only use ratings of the 8 Emotion Words\": Anger, Sadness, Disgust, Fear, Joy, Trust, Anticipation, Surprise"
   ]
  },
  {
   "cell_type": "markdown",
   "id": "64963a32-18c3-49ea-8d41-81f2c62d11f4",
   "metadata": {},
   "source": [
    "### NRCLex Example"
   ]
  },
  {
   "cell_type": "code",
   "execution_count": 55,
   "id": "ab99375d-76d8-426b-b2f6-a088e62ed89a",
   "metadata": {
    "tags": []
   },
   "outputs": [
    {
     "name": "stdout",
     "output_type": "stream",
     "text": [
      "good: ['anticipation', 'joy', 'positive', 'surprise', 'trust']\n",
      "ruined: ['anger', 'disgust', 'fear', 'negative', 'sadness']\n",
      "insulting: ['anger', 'disgust', 'fear', 'negative', 'sadness']\n",
      "horrible: ['anger', 'disgust', 'fear', 'negative']\n",
      "\n",
      "\n"
     ]
    },
    {
     "data": {
      "text/html": [
       "<div>\n",
       "<style scoped>\n",
       "    .dataframe tbody tr th:only-of-type {\n",
       "        vertical-align: middle;\n",
       "    }\n",
       "\n",
       "    .dataframe tbody tr th {\n",
       "        vertical-align: top;\n",
       "    }\n",
       "\n",
       "    .dataframe thead th {\n",
       "        text-align: right;\n",
       "    }\n",
       "</style>\n",
       "<table border=\"1\" class=\"dataframe\">\n",
       "  <thead>\n",
       "    <tr style=\"text-align: right;\">\n",
       "      <th></th>\n",
       "      <th>fear</th>\n",
       "      <th>anger</th>\n",
       "      <th>anticip</th>\n",
       "      <th>trust</th>\n",
       "      <th>surprise</th>\n",
       "      <th>positive</th>\n",
       "      <th>negative</th>\n",
       "      <th>sadness</th>\n",
       "      <th>disgust</th>\n",
       "      <th>joy</th>\n",
       "      <th>anticipation</th>\n",
       "    </tr>\n",
       "  </thead>\n",
       "  <tbody>\n",
       "    <tr>\n",
       "      <th>affect_frequencies</th>\n",
       "      <td>0.16</td>\n",
       "      <td>0.16</td>\n",
       "      <td>0.00</td>\n",
       "      <td>0.05</td>\n",
       "      <td>0.05</td>\n",
       "      <td>0.05</td>\n",
       "      <td>0.16</td>\n",
       "      <td>0.11</td>\n",
       "      <td>0.16</td>\n",
       "      <td>0.05</td>\n",
       "      <td>0.05</td>\n",
       "    </tr>\n",
       "    <tr>\n",
       "      <th>raw_emotion_scores</th>\n",
       "      <td>3.00</td>\n",
       "      <td>3.00</td>\n",
       "      <td>NaN</td>\n",
       "      <td>1.00</td>\n",
       "      <td>1.00</td>\n",
       "      <td>1.00</td>\n",
       "      <td>3.00</td>\n",
       "      <td>2.00</td>\n",
       "      <td>3.00</td>\n",
       "      <td>1.00</td>\n",
       "      <td>1.00</td>\n",
       "    </tr>\n",
       "  </tbody>\n",
       "</table>\n",
       "</div>"
      ],
      "text/plain": [
       "                    fear  anger  anticip  trust  surprise  positive  negative  \\\n",
       "affect_frequencies  0.16   0.16     0.00   0.05      0.05      0.05      0.16   \n",
       "raw_emotion_scores  3.00   3.00      NaN   1.00      1.00      1.00      3.00   \n",
       "\n",
       "                    sadness  disgust  joy  anticipation  \n",
       "affect_frequencies     0.11     0.16 0.05          0.05  \n",
       "raw_emotion_scores     2.00     3.00 1.00          1.00  "
      ]
     },
     "execution_count": 55,
     "metadata": {},
     "output_type": "execute_result"
    }
   ],
   "source": [
    "sentence = NRCLex(\"it was good to see them until they ruined \\\n",
    "everything by insulting me and making me feel horrible.\")\n",
    "\n",
    "\n",
    "for key, val in sentence.affect_dict.items():\n",
    "    print(f'{key}: {val}')    \n",
    "print('\\n')\n",
    "\n",
    "pd.DataFrame([sentence.affect_frequencies, sentence.raw_emotion_scores], index=['affect_frequencies', 'raw_emotion_scores'])"
   ]
  },
  {
   "cell_type": "markdown",
   "id": "e034ce8d-7098-42ae-85b8-0d56403a20c9",
   "metadata": {},
   "source": [
    "### Getting Raw Emotion Scores and Joining to DF"
   ]
  },
  {
   "cell_type": "code",
   "execution_count": 56,
   "id": "1aba7c11-3a6e-4ffd-9a14-9fa87119f67e",
   "metadata": {
    "tags": []
   },
   "outputs": [
    {
     "name": "stderr",
     "output_type": "stream",
     "text": [
      "100%|██████████| 230072/230072 [01:11<00:00, 3222.02it/s]\n"
     ]
    }
   ],
   "source": [
    "emot_map = df['text'].progress_map(lambda x: NRCLex(x).raw_emotion_scores)"
   ]
  },
  {
   "cell_type": "code",
   "execution_count": 57,
   "id": "a3232d66-1d81-42a2-af60-1cd9164034ad",
   "metadata": {
    "tags": []
   },
   "outputs": [],
   "source": [
    "lex_raw = pd.DataFrame([emot for emot in emot_map.values], index=emot_map.index)\n",
    "lex_raw = lex_raw.drop(['positive', 'negative'], axis=1)\n",
    "df = df.join(lex_raw, rsuffix='lex')\n",
    "df = df.mask(df.isna(), 0)"
   ]
  },
  {
   "cell_type": "markdown",
   "id": "423d0586-4ab2-4566-bc2e-b6908d22b41a",
   "metadata": {
    "tags": []
   },
   "source": [
    "### Data Exploration of Emotion Raw Scores"
   ]
  },
  {
   "cell_type": "code",
   "execution_count": 58,
   "id": "6fe168d4-4581-4447-9092-d86f5bc801b0",
   "metadata": {
    "tags": []
   },
   "outputs": [
    {
     "data": {
      "text/html": [
       "<div>\n",
       "<style scoped>\n",
       "    .dataframe tbody tr th:only-of-type {\n",
       "        vertical-align: middle;\n",
       "    }\n",
       "\n",
       "    .dataframe tbody tr th {\n",
       "        vertical-align: top;\n",
       "    }\n",
       "\n",
       "    .dataframe thead th {\n",
       "        text-align: right;\n",
       "    }\n",
       "</style>\n",
       "<table border=\"1\" class=\"dataframe\">\n",
       "  <thead>\n",
       "    <tr style=\"text-align: right;\">\n",
       "      <th></th>\n",
       "      <th>anger</th>\n",
       "      <th>disgust</th>\n",
       "      <th>fear</th>\n",
       "      <th>sadness</th>\n",
       "      <th>anticipation</th>\n",
       "      <th>joy</th>\n",
       "      <th>surprise</th>\n",
       "      <th>trust</th>\n",
       "    </tr>\n",
       "  </thead>\n",
       "  <tbody>\n",
       "    <tr>\n",
       "      <th>count</th>\n",
       "      <td>230072.00</td>\n",
       "      <td>230072.00</td>\n",
       "      <td>230072.00</td>\n",
       "      <td>230072.00</td>\n",
       "      <td>230072.00</td>\n",
       "      <td>230072.00</td>\n",
       "      <td>230072.00</td>\n",
       "      <td>230072.00</td>\n",
       "    </tr>\n",
       "    <tr>\n",
       "      <th>mean</th>\n",
       "      <td>2.77</td>\n",
       "      <td>2.13</td>\n",
       "      <td>3.47</td>\n",
       "      <td>3.87</td>\n",
       "      <td>3.10</td>\n",
       "      <td>2.45</td>\n",
       "      <td>1.35</td>\n",
       "      <td>3.44</td>\n",
       "    </tr>\n",
       "    <tr>\n",
       "      <th>std</th>\n",
       "      <td>4.81</td>\n",
       "      <td>3.86</td>\n",
       "      <td>5.88</td>\n",
       "      <td>6.37</td>\n",
       "      <td>5.51</td>\n",
       "      <td>4.57</td>\n",
       "      <td>2.94</td>\n",
       "      <td>6.08</td>\n",
       "    </tr>\n",
       "    <tr>\n",
       "      <th>min</th>\n",
       "      <td>0.00</td>\n",
       "      <td>0.00</td>\n",
       "      <td>0.00</td>\n",
       "      <td>0.00</td>\n",
       "      <td>0.00</td>\n",
       "      <td>0.00</td>\n",
       "      <td>0.00</td>\n",
       "      <td>0.00</td>\n",
       "    </tr>\n",
       "    <tr>\n",
       "      <th>25%</th>\n",
       "      <td>0.00</td>\n",
       "      <td>0.00</td>\n",
       "      <td>0.00</td>\n",
       "      <td>0.00</td>\n",
       "      <td>0.00</td>\n",
       "      <td>0.00</td>\n",
       "      <td>0.00</td>\n",
       "      <td>0.00</td>\n",
       "    </tr>\n",
       "    <tr>\n",
       "      <th>50%</th>\n",
       "      <td>1.00</td>\n",
       "      <td>1.00</td>\n",
       "      <td>1.00</td>\n",
       "      <td>2.00</td>\n",
       "      <td>1.00</td>\n",
       "      <td>1.00</td>\n",
       "      <td>0.00</td>\n",
       "      <td>2.00</td>\n",
       "    </tr>\n",
       "    <tr>\n",
       "      <th>75%</th>\n",
       "      <td>4.00</td>\n",
       "      <td>3.00</td>\n",
       "      <td>4.00</td>\n",
       "      <td>5.00</td>\n",
       "      <td>4.00</td>\n",
       "      <td>3.00</td>\n",
       "      <td>2.00</td>\n",
       "      <td>4.00</td>\n",
       "    </tr>\n",
       "    <tr>\n",
       "      <th>max</th>\n",
       "      <td>350.00</td>\n",
       "      <td>350.00</td>\n",
       "      <td>349.00</td>\n",
       "      <td>349.00</td>\n",
       "      <td>421.00</td>\n",
       "      <td>367.00</td>\n",
       "      <td>342.00</td>\n",
       "      <td>343.00</td>\n",
       "    </tr>\n",
       "  </tbody>\n",
       "</table>\n",
       "</div>"
      ],
      "text/plain": [
       "          anger   disgust      fear   sadness  anticipation       joy  \\\n",
       "count 230072.00 230072.00 230072.00 230072.00     230072.00 230072.00   \n",
       "mean       2.77      2.13      3.47      3.87          3.10      2.45   \n",
       "std        4.81      3.86      5.88      6.37          5.51      4.57   \n",
       "min        0.00      0.00      0.00      0.00          0.00      0.00   \n",
       "25%        0.00      0.00      0.00      0.00          0.00      0.00   \n",
       "50%        1.00      1.00      1.00      2.00          1.00      1.00   \n",
       "75%        4.00      3.00      4.00      5.00          4.00      3.00   \n",
       "max      350.00    350.00    349.00    349.00        421.00    367.00   \n",
       "\n",
       "       surprise     trust  \n",
       "count 230072.00 230072.00  \n",
       "mean       1.35      3.44  \n",
       "std        2.94      6.08  \n",
       "min        0.00      0.00  \n",
       "25%        0.00      0.00  \n",
       "50%        0.00      2.00  \n",
       "75%        2.00      4.00  \n",
       "max      342.00    343.00  "
      ]
     },
     "execution_count": 58,
     "metadata": {},
     "output_type": "execute_result"
    }
   ],
   "source": [
    "df.iloc[:,6:].describe()"
   ]
  },
  {
   "cell_type": "code",
   "execution_count": 59,
   "id": "f5dfc638-6a43-4aec-be9b-0d1ddf5ff5b7",
   "metadata": {
    "tags": []
   },
   "outputs": [
    {
     "data": {
      "image/png": "[encoded data removed]",
      "text/plain": [
       "<Figure size 640x480 with 1 Axes>"
      ]
     },
     "metadata": {},
     "output_type": "display_data"
    }
   ],
   "source": [
    "#  Distribution of Emotions\n",
    "lex = df.iloc[:,6:]\n",
    "sns.boxenplot(lex);"
   ]
  },
  {
   "cell_type": "code",
   "execution_count": 60,
   "id": "a2259d96-db38-4208-8578-2952db0059c0",
   "metadata": {
    "tags": []
   },
   "outputs": [
    {
     "data": {
      "text/plain": [
       "anger          4.00\n",
       "disgust        3.00\n",
       "fear           6.00\n",
       "sadness        6.00\n",
       "anticipation   5.00\n",
       "joy            4.00\n",
       "surprise       2.00\n",
       "trust          5.00\n",
       "Name: 0.8, dtype: float64"
      ]
     },
     "execution_count": 60,
     "metadata": {},
     "output_type": "execute_result"
    }
   ],
   "source": [
    "lex.quantile(.80)"
   ]
  },
  {
   "cell_type": "markdown",
   "id": "86853cf3-8454-4582-8e87-29158634cb1e",
   "metadata": {
    "tags": []
   },
   "source": [
    "* Heavy outliers! Needs to be scaled, possibly need to remove outliers.\n",
    "* boxenplot when values capped largest percentile values: 95th (15), 5 (80) :"
   ]
  },
  {
   "cell_type": "code",
   "execution_count": 61,
   "id": "e124fc37-e3c1-443b-a3a1-0bf0e2f33ebb",
   "metadata": {
    "tags": []
   },
   "outputs": [
    {
     "data": {
      "image/png": "[encoded data removed]",
      "text/plain": [
       "<Figure size 1200x400 with 1 Axes>"
      ]
     },
     "metadata": {},
     "output_type": "display_data"
    }
   ],
   "source": [
    "fig, ax = plt.subplots(figsize=(12,4))\n",
    "\n",
    "sns.boxenplot(lex.mask(lex > 15, np.nan), ax=ax).set_xticklabels(['ang','dis','fear','sad','ant','joy','surp','tr']);"
   ]
  },
  {
   "cell_type": "code",
   "execution_count": 62,
   "id": "49d20b6a-5f20-46c6-bc43-b9c2645713f4",
   "metadata": {
    "tags": []
   },
   "outputs": [
    {
     "data": {
      "image/png": "[encoded data removed]",
      "text/plain": [
       "<Figure size 640x480 with 1 Axes>"
      ]
     },
     "metadata": {},
     "output_type": "display_data"
    }
   ],
   "source": [
    "# KDE plot when capped at 80th percentile (x < 5):\n",
    "sns.kdeplot(lex.mask(lex > 5, np.nan), fill=True);"
   ]
  },
  {
   "cell_type": "code",
   "execution_count": 63,
   "id": "c28eb99e-28ad-4f25-91e2-874ca1023f1d",
   "metadata": {
    "tags": []
   },
   "outputs": [
    {
     "data": {
      "text/html": [
       "<div>\n",
       "<style scoped>\n",
       "    .dataframe tbody tr th:only-of-type {\n",
       "        vertical-align: middle;\n",
       "    }\n",
       "\n",
       "    .dataframe tbody tr th {\n",
       "        vertical-align: top;\n",
       "    }\n",
       "\n",
       "    .dataframe thead th {\n",
       "        text-align: right;\n",
       "    }\n",
       "</style>\n",
       "<table border=\"1\" class=\"dataframe\">\n",
       "  <thead>\n",
       "    <tr style=\"text-align: right;\">\n",
       "      <th></th>\n",
       "      <th>anger</th>\n",
       "      <th>anticipation</th>\n",
       "      <th>disgust</th>\n",
       "      <th>fear</th>\n",
       "      <th>joy</th>\n",
       "      <th>sadness</th>\n",
       "      <th>surprise</th>\n",
       "      <th>trust</th>\n",
       "    </tr>\n",
       "    <tr>\n",
       "      <th>class</th>\n",
       "      <th></th>\n",
       "      <th></th>\n",
       "      <th></th>\n",
       "      <th></th>\n",
       "      <th></th>\n",
       "      <th></th>\n",
       "      <th></th>\n",
       "      <th></th>\n",
       "    </tr>\n",
       "  </thead>\n",
       "  <tbody>\n",
       "    <tr>\n",
       "      <th>non-suicide</th>\n",
       "      <td>0.96</td>\n",
       "      <td>1.33</td>\n",
       "      <td>0.82</td>\n",
       "      <td>1.03</td>\n",
       "      <td>1.23</td>\n",
       "      <td>1.05</td>\n",
       "      <td>0.65</td>\n",
       "      <td>1.72</td>\n",
       "    </tr>\n",
       "    <tr>\n",
       "      <th>suicide</th>\n",
       "      <td>4.57</td>\n",
       "      <td>4.84</td>\n",
       "      <td>3.42</td>\n",
       "      <td>5.88</td>\n",
       "      <td>3.65</td>\n",
       "      <td>6.65</td>\n",
       "      <td>2.05</td>\n",
       "      <td>5.14</td>\n",
       "    </tr>\n",
       "  </tbody>\n",
       "</table>\n",
       "</div>"
      ],
      "text/plain": [
       "             anger  anticipation  disgust  fear  joy  sadness  surprise  trust\n",
       "class                                                                         \n",
       "non-suicide   0.96          1.33     0.82  1.03 1.23     1.05      0.65   1.72\n",
       "suicide       4.57          4.84     3.42  5.88 3.65     6.65      2.05   5.14"
      ]
     },
     "execution_count": 63,
     "metadata": {},
     "output_type": "execute_result"
    }
   ],
   "source": [
    "df.pivot_table(values=['anger','disgust', 'fear', 'sadness', \n",
    "            'anticipation', 'joy', 'surprise', 'trust'], \n",
    "            index='class', aggfunc=np.mean)"
   ]
  },
  {
   "cell_type": "code",
   "execution_count": 64,
   "id": "440f6287-833c-4508-9734-b32d813f2db3",
   "metadata": {
    "tags": []
   },
   "outputs": [
    {
     "data": {
      "text/html": [
       "<div>\n",
       "<style scoped>\n",
       "    .dataframe tbody tr th:only-of-type {\n",
       "        vertical-align: middle;\n",
       "    }\n",
       "\n",
       "    .dataframe tbody tr th {\n",
       "        vertical-align: top;\n",
       "    }\n",
       "\n",
       "    .dataframe thead th {\n",
       "        text-align: right;\n",
       "    }\n",
       "</style>\n",
       "<table border=\"1\" class=\"dataframe\">\n",
       "  <thead>\n",
       "    <tr style=\"text-align: right;\">\n",
       "      <th></th>\n",
       "      <th>anger</th>\n",
       "      <th>anticipation</th>\n",
       "      <th>disgust</th>\n",
       "      <th>fear</th>\n",
       "      <th>joy</th>\n",
       "      <th>sadness</th>\n",
       "      <th>surprise</th>\n",
       "      <th>trust</th>\n",
       "    </tr>\n",
       "    <tr>\n",
       "      <th>class</th>\n",
       "      <th></th>\n",
       "      <th></th>\n",
       "      <th></th>\n",
       "      <th></th>\n",
       "      <th></th>\n",
       "      <th></th>\n",
       "      <th></th>\n",
       "      <th></th>\n",
       "    </tr>\n",
       "  </thead>\n",
       "  <tbody>\n",
       "    <tr>\n",
       "      <th>non-suicide</th>\n",
       "      <td>242.00</td>\n",
       "      <td>421.00</td>\n",
       "      <td>242.00</td>\n",
       "      <td>223.00</td>\n",
       "      <td>367.00</td>\n",
       "      <td>159.00</td>\n",
       "      <td>342.00</td>\n",
       "      <td>343.00</td>\n",
       "    </tr>\n",
       "    <tr>\n",
       "      <th>suicide</th>\n",
       "      <td>350.00</td>\n",
       "      <td>191.00</td>\n",
       "      <td>350.00</td>\n",
       "      <td>349.00</td>\n",
       "      <td>179.00</td>\n",
       "      <td>349.00</td>\n",
       "      <td>77.00</td>\n",
       "      <td>248.00</td>\n",
       "    </tr>\n",
       "  </tbody>\n",
       "</table>\n",
       "</div>"
      ],
      "text/plain": [
       "             anger  anticipation  disgust   fear    joy  sadness  surprise  \\\n",
       "class                                                                        \n",
       "non-suicide 242.00        421.00   242.00 223.00 367.00   159.00    342.00   \n",
       "suicide     350.00        191.00   350.00 349.00 179.00   349.00     77.00   \n",
       "\n",
       "             trust  \n",
       "class               \n",
       "non-suicide 343.00  \n",
       "suicide     248.00  "
      ]
     },
     "execution_count": 64,
     "metadata": {},
     "output_type": "execute_result"
    }
   ],
   "source": [
    "df.pivot_table(values=['anger','disgust', 'fear', 'sadness', \n",
    "            'anticipation', 'joy', 'surprise', 'trust'], \n",
    "            index='class', aggfunc=max)"
   ]
  },
  {
   "cell_type": "markdown",
   "id": "955278f7-d0b1-45b2-966e-5a5e6dcff593",
   "metadata": {},
   "source": [
    "* Mean and Median of *all* emotions greater for suicide risk posts than non-suicide posts\n",
    "* Max val of positive emotions higher for non-suicide group, but max val for negative emotions higher for suicide group"
   ]
  },
  {
   "cell_type": "code",
   "execution_count": 65,
   "id": "2a6f909b-1bed-4e04-ac3c-def032b20cb9",
   "metadata": {
    "tags": []
   },
   "outputs": [
    {
     "data": {
      "image/png": "[encoded data removed]",
      "text/plain": [
       "<Figure size 500x400 with 1 Axes>"
      ]
     },
     "metadata": {},
     "output_type": "display_data"
    }
   ],
   "source": [
    "eplotdf = df.drop(['text', 'negative', 'neutral', 'positive', 'comp'], axis=1)\n",
    "eplotdf = pd.DataFrame(eplotdf.set_index(['class']).unstack())\n",
    "eplotdf = eplotdf.reset_index(level=[0,1])\n",
    "eplotdf.columns=['emotion','class','val']\n",
    "\n",
    "fig, ax = plt.subplots(figsize=(5,4))\n",
    "sns.barplot(eplotdf, x='class', y='val', hue='emotion').set_title(\"Emotion Means By Class\");"
   ]
  },
  {
   "cell_type": "code",
   "execution_count": 66,
   "id": "3585fc71-2603-4b12-9cb8-0bf6c9c57ed1",
   "metadata": {
    "tags": []
   },
   "outputs": [
    {
     "data": {
      "image/png": "[encoded data removed]",
      "text/plain": [
       "<Figure size 640x480 with 1 Axes>"
      ]
     },
     "metadata": {},
     "output_type": "display_data"
    }
   ],
   "source": [
    "plotdf = df.pivot_table(values=['anger','disgust', 'fear', 'sadness', \n",
    "            'anticipation', 'joy', 'surprise', 'trust'], \n",
    "            index='class', aggfunc=np.mean)\n",
    "\n",
    "plotdf.T.plot(kind='barh').set_title(\"Max Emotion Values by Risk\");\n",
    "# plt.savefig('./images/2-classdist.png', bbox_inches='tight', pad_inches=0.1, facecolor='white', transparent=False)"
   ]
  },
  {
   "cell_type": "code",
   "execution_count": 67,
   "id": "19eb5d59-23c4-4675-8d45-b7479297514e",
   "metadata": {
    "tags": []
   },
   "outputs": [
    {
     "data": {
      "image/png": "[encoded data removed]",
      "text/plain": [
       "<Figure size 640x480 with 1 Axes>"
      ]
     },
     "metadata": {},
     "output_type": "display_data"
    }
   ],
   "source": [
    "plotdf = df.pivot_table(values=['anger','disgust', 'fear', 'sadness', \n",
    "            'anticipation', 'joy', 'surprise', 'trust'], \n",
    "            index='class', aggfunc=max)\n",
    "\n",
    "plotdf.T.plot(kind='barh').set_title(\"Max Emotion Values by Risk\");\n",
    "# plt.savefig('./images/2-classdist.png', bbox_inches='tight', pad_inches=0.1, facecolor='white', transparent=False)"
   ]
  },
  {
   "cell_type": "markdown",
   "id": "93aed351-b8b6-415c-8af1-d0b9ef8e2b2d",
   "metadata": {},
   "source": [
    "---"
   ]
  },
  {
   "cell_type": "markdown",
   "id": "956849af-026e-49c8-a0b5-96d58927f4ac",
   "metadata": {
    "tags": []
   },
   "source": [
    "### 3. &nbsp; Heat Map of Emotion & Sentiment Scores"
   ]
  },
  {
   "cell_type": "code",
   "execution_count": 68,
   "id": "17dc308d-d5a3-461c-a73b-f7891af0c71d",
   "metadata": {
    "tags": []
   },
   "outputs": [
    {
     "data": {
      "image/png": "[encoded data removed]",
      "text/plain": [
       "<Figure size 640x480 with 2 Axes>"
      ]
     },
     "metadata": {},
     "output_type": "display_data"
    }
   ],
   "source": [
    "sns.heatmap(abs(df.iloc[:,2:].corr()));"
   ]
  },
  {
   "cell_type": "markdown",
   "id": "53aa958d-2005-4b24-b26e-7376616657f2",
   "metadata": {},
   "source": [
    "* The emotion components seem to be heavily related to one another -- might not represent 8 separate components\n",
    "* Sentiment components are more distinct from one another, but still correlated\n",
    "* Low correlation between emotion & sentiment components\n",
    "\n",
    "Next steps:\n",
    "* Might be worth doing a PCA analysis with emotion components and reducing into fewer dimensions"
   ]
  },
  {
   "cell_type": "markdown",
   "id": "ceb6c042-47d2-4be5-88e8-7de72cc85988",
   "metadata": {},
   "source": [
    "---"
   ]
  },
  {
   "cell_type": "markdown",
   "id": "0f0c11e5-ceaa-4bcf-af66-2e505da06e10",
   "metadata": {
    "tags": []
   },
   "source": [
    "## C. &nbsp; Final Dataframe Preparation"
   ]
  },
  {
   "cell_type": "markdown",
   "id": "a80161db-d93a-461d-83ee-0d5a98929c15",
   "metadata": {
    "tags": []
   },
   "source": [
    "### 1. Lemmatize + Tokenize text with TextBlob"
   ]
  },
  {
   "cell_type": "markdown",
   "id": "c0369486-06f4-4d6f-9600-af6df6e43790",
   "metadata": {},
   "source": [
    "* Using same Lemmatizer as is in-built in NRCLex (TextBlob)\n",
    "* Tokenize + rejoin tokens with space since TFIDF has built-in space tokenizer\n",
    "* Store as df[lem], separate from df[text], in case need to re-run sentiment/emotion analysis "
   ]
  },
  {
   "cell_type": "code",
   "execution_count": 69,
   "id": "45af4d41-3c64-4882-96d1-81b58a29a287",
   "metadata": {
    "tags": []
   },
   "outputs": [
    {
     "name": "stderr",
     "output_type": "stream",
     "text": [
      "100%|██████████| 230072/230072 [11:07<00:00, 344.79it/s]\n"
     ]
    },
    {
     "name": "stdout",
     "output_type": "stream",
     "text": [
      "Time to run:667.2844219207764.\n"
     ]
    }
   ],
   "source": [
    "## Warning: Take ~12 min to run\n",
    "\n",
    "start = time.time()\n",
    "\n",
    "df['tags'] = df['text'].progress_map(lambda x: TextBlob(x).tags)\n",
    "\n",
    "end = time.time()\n",
    "\n",
    "print(f\"Time to run:{end-start}.\")"
   ]
  },
  {
   "cell_type": "code",
   "execution_count": 70,
   "id": "b1fd4318-6cc0-4060-9845-0cf549aa56ad",
   "metadata": {
    "tags": []
   },
   "outputs": [],
   "source": [
    "df['tag_tokens'] = df['tags'].apply(lambda taglist: [(tag[0], tag[1][0].lower()) for tag in taglist])"
   ]
  },
  {
   "cell_type": "code",
   "execution_count": 71,
   "id": "f9b252d5-8500-45aa-9ce3-0bc5944b3202",
   "metadata": {
    "tags": []
   },
   "outputs": [],
   "source": [
    "acceptedtags = ['a', 'n', 'v', 'r']"
   ]
  },
  {
   "cell_type": "code",
   "execution_count": 72,
   "id": "8f1f7a4c-3955-49a8-8ea7-69439d058ee3",
   "metadata": {
    "tags": []
   },
   "outputs": [],
   "source": [
    "def lemmatize_by_tag_tokens(row):\n",
    "\n",
    "    new_row = []\n",
    "\n",
    "    for tag in row:\n",
    "        if tag[1] in acceptedtags:\n",
    "            new_row.append(tag[0].lemmatize(tag[1]))\n",
    "        else:\n",
    "            if tag[1] == 'j':\n",
    "                new_row.append(tag[0].lemmatize('a'))\n",
    "            else:\n",
    "                new_row.append(tag[0])\n",
    "    return new_row"
   ]
  },
  {
   "cell_type": "code",
   "execution_count": 73,
   "id": "e547ef64-54e6-48db-8537-f59cd0115996",
   "metadata": {
    "tags": []
   },
   "outputs": [],
   "source": [
    "df['lem'] = df['tag_tokens'].apply(lambda x: lemmatize_by_tag_tokens(x))"
   ]
  },
  {
   "cell_type": "code",
   "execution_count": 74,
   "id": "6098dd4a-95da-43d8-8a36-588fa6be8515",
   "metadata": {
    "tags": []
   },
   "outputs": [],
   "source": [
    "df.drop(['tags', 'tag_tokens'], axis=1, inplace=True)"
   ]
  },
  {
   "cell_type": "markdown",
   "id": "03c9edf8-4758-4a95-a71d-2d2956dc714b",
   "metadata": {
    "tags": []
   },
   "source": [
    "### 2. Remove Stopwords"
   ]
  },
  {
   "cell_type": "markdown",
   "id": "0ed76dd0-38a4-47cd-ae45-e281bc3b1aba",
   "metadata": {},
   "source": [
    "For TF-IDF analysis, remove stopwords:"
   ]
  },
  {
   "cell_type": "code",
   "execution_count": 75,
   "id": "334f8e4b-1c70-43d1-a03e-5da3f7861f7b",
   "metadata": {
    "tags": []
   },
   "outputs": [],
   "source": [
    "stop = stopwords.words('english')\n",
    "\n",
    "df['lem_nostop'] = df['lem'].apply(lambda x: ' '.join([word for word in x if word not in (stop)]))"
   ]
  },
  {
   "cell_type": "code",
   "execution_count": 79,
   "id": "02501866-bfc7-4177-8308-4d4d88f814ee",
   "metadata": {
    "tags": []
   },
   "outputs": [],
   "source": [
    "df.drop(['text','lem'], axis=1, inplace=True)"
   ]
  },
  {
   "cell_type": "markdown",
   "id": "737714b5-148b-484f-9235-6bab32f8fcb1",
   "metadata": {
    "tags": []
   },
   "source": [
    "### 3. Convert Target to Binary & Format Columns"
   ]
  },
  {
   "cell_type": "code",
   "execution_count": 80,
   "id": "cdec6ad1-5c7b-4d92-9bfa-5d5289496c23",
   "metadata": {
    "tags": []
   },
   "outputs": [],
   "source": [
    "df['target'] = df['class'].replace({'suicide':1, 'non-suicide':0})\n",
    "df.drop('class',axis=1,inplace=True)"
   ]
  },
  {
   "cell_type": "markdown",
   "id": "5621f194-f85a-4bd3-986f-4a11503571d8",
   "metadata": {
    "tags": []
   },
   "source": [
    "### 4. Rename and Reorganize Columns"
   ]
  },
  {
   "cell_type": "code",
   "execution_count": 81,
   "id": "286ed1a0-8a9b-46a5-8004-81086ce29e5f",
   "metadata": {
    "tags": []
   },
   "outputs": [],
   "source": [
    "df2 = df.copy()"
   ]
  },
  {
   "cell_type": "code",
   "execution_count": 82,
   "id": "2380c26f-4a15-45b4-bcb3-e4f122210521",
   "metadata": {
    "tags": []
   },
   "outputs": [
    {
     "data": {
      "text/html": [
       "<div>\n",
       "<style scoped>\n",
       "    .dataframe tbody tr th:only-of-type {\n",
       "        vertical-align: middle;\n",
       "    }\n",
       "\n",
       "    .dataframe tbody tr th {\n",
       "        vertical-align: top;\n",
       "    }\n",
       "\n",
       "    .dataframe thead th {\n",
       "        text-align: right;\n",
       "    }\n",
       "</style>\n",
       "<table border=\"1\" class=\"dataframe\">\n",
       "  <thead>\n",
       "    <tr style=\"text-align: right;\">\n",
       "      <th></th>\n",
       "      <th>negative</th>\n",
       "      <th>neutral</th>\n",
       "      <th>positive</th>\n",
       "      <th>comp</th>\n",
       "      <th>anger</th>\n",
       "      <th>disgust</th>\n",
       "      <th>fear</th>\n",
       "      <th>sadness</th>\n",
       "      <th>anticipation</th>\n",
       "      <th>joy</th>\n",
       "      <th>surprise</th>\n",
       "      <th>trust</th>\n",
       "      <th>lem_nostop</th>\n",
       "      <th>target</th>\n",
       "    </tr>\n",
       "  </thead>\n",
       "  <tbody>\n",
       "    <tr>\n",
       "      <th>0</th>\n",
       "      <td>0.19</td>\n",
       "      <td>0.73</td>\n",
       "      <td>0.07</td>\n",
       "      <td>-0.95</td>\n",
       "      <td>8.00</td>\n",
       "      <td>4.00</td>\n",
       "      <td>8.00</td>\n",
       "      <td>6.00</td>\n",
       "      <td>7.00</td>\n",
       "      <td>5.00</td>\n",
       "      <td>5.00</td>\n",
       "      <td>5.00</td>\n",
       "      <td>ex wife threaten suicide recently leave wife g...</td>\n",
       "      <td>1</td>\n",
       "    </tr>\n",
       "    <tr>\n",
       "      <th>1</th>\n",
       "      <td>0.04</td>\n",
       "      <td>0.76</td>\n",
       "      <td>0.21</td>\n",
       "      <td>0.72</td>\n",
       "      <td>0.00</td>\n",
       "      <td>1.00</td>\n",
       "      <td>0.00</td>\n",
       "      <td>0.00</td>\n",
       "      <td>2.00</td>\n",
       "      <td>1.00</td>\n",
       "      <td>1.00</td>\n",
       "      <td>2.00</td>\n",
       "      <td>weird get affect compliment come someone know ...</td>\n",
       "      <td>0</td>\n",
       "    </tr>\n",
       "    <tr>\n",
       "      <th>2</th>\n",
       "      <td>0.26</td>\n",
       "      <td>0.67</td>\n",
       "      <td>0.08</td>\n",
       "      <td>-0.70</td>\n",
       "      <td>2.00</td>\n",
       "      <td>2.00</td>\n",
       "      <td>2.00</td>\n",
       "      <td>1.00</td>\n",
       "      <td>2.00</td>\n",
       "      <td>2.00</td>\n",
       "      <td>1.00</td>\n",
       "      <td>3.00</td>\n",
       "      <td>finally almost never hear bad year ever swear ...</td>\n",
       "      <td>0</td>\n",
       "    </tr>\n",
       "    <tr>\n",
       "      <th>3</th>\n",
       "      <td>0.29</td>\n",
       "      <td>0.40</td>\n",
       "      <td>0.31</td>\n",
       "      <td>0.11</td>\n",
       "      <td>0.00</td>\n",
       "      <td>0.00</td>\n",
       "      <td>0.00</td>\n",
       "      <td>1.00</td>\n",
       "      <td>0.00</td>\n",
       "      <td>0.00</td>\n",
       "      <td>0.00</td>\n",
       "      <td>0.00</td>\n",
       "      <td>need help help cry hard</td>\n",
       "      <td>1</td>\n",
       "    </tr>\n",
       "    <tr>\n",
       "      <th>4</th>\n",
       "      <td>0.19</td>\n",
       "      <td>0.73</td>\n",
       "      <td>0.08</td>\n",
       "      <td>-1.00</td>\n",
       "      <td>18.00</td>\n",
       "      <td>10.00</td>\n",
       "      <td>27.00</td>\n",
       "      <td>26.00</td>\n",
       "      <td>20.00</td>\n",
       "      <td>6.00</td>\n",
       "      <td>5.00</td>\n",
       "      <td>9.00</td>\n",
       "      <td>lose hello name adam struggle year afraid past...</td>\n",
       "      <td>1</td>\n",
       "    </tr>\n",
       "    <tr>\n",
       "      <th>...</th>\n",
       "      <td>...</td>\n",
       "      <td>...</td>\n",
       "      <td>...</td>\n",
       "      <td>...</td>\n",
       "      <td>...</td>\n",
       "      <td>...</td>\n",
       "      <td>...</td>\n",
       "      <td>...</td>\n",
       "      <td>...</td>\n",
       "      <td>...</td>\n",
       "      <td>...</td>\n",
       "      <td>...</td>\n",
       "      <td>...</td>\n",
       "      <td>...</td>\n",
       "    </tr>\n",
       "    <tr>\n",
       "      <th>232069</th>\n",
       "      <td>0.08</td>\n",
       "      <td>0.92</td>\n",
       "      <td>0.00</td>\n",
       "      <td>-0.14</td>\n",
       "      <td>0.00</td>\n",
       "      <td>0.00</td>\n",
       "      <td>0.00</td>\n",
       "      <td>0.00</td>\n",
       "      <td>0.00</td>\n",
       "      <td>0.00</td>\n",
       "      <td>0.00</td>\n",
       "      <td>0.00</td>\n",
       "      <td>like rock go get anything go</td>\n",
       "      <td>0</td>\n",
       "    </tr>\n",
       "    <tr>\n",
       "      <th>232070</th>\n",
       "      <td>0.09</td>\n",
       "      <td>0.77</td>\n",
       "      <td>0.15</td>\n",
       "      <td>0.34</td>\n",
       "      <td>1.00</td>\n",
       "      <td>1.00</td>\n",
       "      <td>1.00</td>\n",
       "      <td>1.00</td>\n",
       "      <td>0.00</td>\n",
       "      <td>0.00</td>\n",
       "      <td>0.00</td>\n",
       "      <td>1.00</td>\n",
       "      <td>tell many friend lonely everything deprive pre...</td>\n",
       "      <td>0</td>\n",
       "    </tr>\n",
       "    <tr>\n",
       "      <th>232071</th>\n",
       "      <td>0.00</td>\n",
       "      <td>0.84</td>\n",
       "      <td>0.16</td>\n",
       "      <td>0.36</td>\n",
       "      <td>0.00</td>\n",
       "      <td>0.00</td>\n",
       "      <td>0.00</td>\n",
       "      <td>0.00</td>\n",
       "      <td>0.00</td>\n",
       "      <td>0.00</td>\n",
       "      <td>0.00</td>\n",
       "      <td>0.00</td>\n",
       "      <td>pee probably taste like salty tea someone drin...</td>\n",
       "      <td>0</td>\n",
       "    </tr>\n",
       "    <tr>\n",
       "      <th>232072</th>\n",
       "      <td>0.18</td>\n",
       "      <td>0.72</td>\n",
       "      <td>0.10</td>\n",
       "      <td>-0.99</td>\n",
       "      <td>9.00</td>\n",
       "      <td>6.00</td>\n",
       "      <td>7.00</td>\n",
       "      <td>10.00</td>\n",
       "      <td>3.00</td>\n",
       "      <td>1.00</td>\n",
       "      <td>1.00</td>\n",
       "      <td>3.00</td>\n",
       "      <td>usual stuff find post sympathy pity know far b...</td>\n",
       "      <td>1</td>\n",
       "    </tr>\n",
       "    <tr>\n",
       "      <th>232073</th>\n",
       "      <td>0.26</td>\n",
       "      <td>0.69</td>\n",
       "      <td>0.05</td>\n",
       "      <td>-0.86</td>\n",
       "      <td>2.00</td>\n",
       "      <td>1.00</td>\n",
       "      <td>3.00</td>\n",
       "      <td>3.00</td>\n",
       "      <td>0.00</td>\n",
       "      <td>0.00</td>\n",
       "      <td>0.00</td>\n",
       "      <td>0.00</td>\n",
       "      <td>still beat first bos hollow knight fight time ...</td>\n",
       "      <td>0</td>\n",
       "    </tr>\n",
       "  </tbody>\n",
       "</table>\n",
       "<p>230072 rows × 14 columns</p>\n",
       "</div>"
      ],
      "text/plain": [
       "        negative  neutral  positive  comp  anger  disgust  fear  sadness  \\\n",
       "0           0.19     0.73      0.07 -0.95   8.00     4.00  8.00     6.00   \n",
       "1           0.04     0.76      0.21  0.72   0.00     1.00  0.00     0.00   \n",
       "2           0.26     0.67      0.08 -0.70   2.00     2.00  2.00     1.00   \n",
       "3           0.29     0.40      0.31  0.11   0.00     0.00  0.00     1.00   \n",
       "4           0.19     0.73      0.08 -1.00  18.00    10.00 27.00    26.00   \n",
       "...          ...      ...       ...   ...    ...      ...   ...      ...   \n",
       "232069      0.08     0.92      0.00 -0.14   0.00     0.00  0.00     0.00   \n",
       "232070      0.09     0.77      0.15  0.34   1.00     1.00  1.00     1.00   \n",
       "232071      0.00     0.84      0.16  0.36   0.00     0.00  0.00     0.00   \n",
       "232072      0.18     0.72      0.10 -0.99   9.00     6.00  7.00    10.00   \n",
       "232073      0.26     0.69      0.05 -0.86   2.00     1.00  3.00     3.00   \n",
       "\n",
       "        anticipation  joy  surprise  trust  \\\n",
       "0               7.00 5.00      5.00   5.00   \n",
       "1               2.00 1.00      1.00   2.00   \n",
       "2               2.00 2.00      1.00   3.00   \n",
       "3               0.00 0.00      0.00   0.00   \n",
       "4              20.00 6.00      5.00   9.00   \n",
       "...              ...  ...       ...    ...   \n",
       "232069          0.00 0.00      0.00   0.00   \n",
       "232070          0.00 0.00      0.00   1.00   \n",
       "232071          0.00 0.00      0.00   0.00   \n",
       "232072          3.00 1.00      1.00   3.00   \n",
       "232073          0.00 0.00      0.00   0.00   \n",
       "\n",
       "                                               lem_nostop  target  \n",
       "0       ex wife threaten suicide recently leave wife g...       1  \n",
       "1       weird get affect compliment come someone know ...       0  \n",
       "2       finally almost never hear bad year ever swear ...       0  \n",
       "3                                 need help help cry hard       1  \n",
       "4       lose hello name adam struggle year afraid past...       1  \n",
       "...                                                   ...     ...  \n",
       "232069                       like rock go get anything go       0  \n",
       "232070  tell many friend lonely everything deprive pre...       0  \n",
       "232071  pee probably taste like salty tea someone drin...       0  \n",
       "232072  usual stuff find post sympathy pity know far b...       1  \n",
       "232073  still beat first bos hollow knight fight time ...       0  \n",
       "\n",
       "[230072 rows x 14 columns]"
      ]
     },
     "execution_count": 82,
     "metadata": {},
     "output_type": "execute_result"
    }
   ],
   "source": [
    "df"
   ]
  },
  {
   "cell_type": "code",
   "execution_count": 85,
   "id": "85a4bd5a-bfc8-4458-8858-00effb7b1144",
   "metadata": {
    "tags": []
   },
   "outputs": [
    {
     "data": {
      "text/plain": [
       "Index(['negative', 'neutral', 'positive', 'comp', 'anger', 'disgust', 'fear',\n",
       "       'sadness', 'anticipation', 'joy', 'surprise', 'trust', 'lem_nostop',\n",
       "       'target'],\n",
       "      dtype='object')"
      ]
     },
     "execution_count": 85,
     "metadata": {},
     "output_type": "execute_result"
    }
   ],
   "source": [
    "df.columns"
   ]
  },
  {
   "cell_type": "code",
   "execution_count": 93,
   "id": "f549170f-2b19-4bc7-83d1-d3f51715c071",
   "metadata": {
    "tags": []
   },
   "outputs": [
    {
     "data": {
      "text/html": [
       "<div>\n",
       "<style scoped>\n",
       "    .dataframe tbody tr th:only-of-type {\n",
       "        vertical-align: middle;\n",
       "    }\n",
       "\n",
       "    .dataframe tbody tr th {\n",
       "        vertical-align: top;\n",
       "    }\n",
       "\n",
       "    .dataframe thead th {\n",
       "        text-align: right;\n",
       "    }\n",
       "</style>\n",
       "<table border=\"1\" class=\"dataframe\">\n",
       "  <thead>\n",
       "    <tr style=\"text-align: right;\">\n",
       "      <th></th>\n",
       "      <th>neg</th>\n",
       "      <th>neu</th>\n",
       "      <th>pos</th>\n",
       "      <th>compound</th>\n",
       "      <th>anger</th>\n",
       "      <th>disgust</th>\n",
       "      <th>fear</th>\n",
       "      <th>sadness</th>\n",
       "      <th>anticipation</th>\n",
       "      <th>joy</th>\n",
       "      <th>surprise</th>\n",
       "      <th>trust</th>\n",
       "      <th>text</th>\n",
       "      <th>target</th>\n",
       "    </tr>\n",
       "  </thead>\n",
       "  <tbody>\n",
       "    <tr>\n",
       "      <th>0</th>\n",
       "      <td>0.19</td>\n",
       "      <td>0.73</td>\n",
       "      <td>0.07</td>\n",
       "      <td>-0.95</td>\n",
       "      <td>8.00</td>\n",
       "      <td>4.00</td>\n",
       "      <td>8.00</td>\n",
       "      <td>6.00</td>\n",
       "      <td>7.00</td>\n",
       "      <td>5.00</td>\n",
       "      <td>5.00</td>\n",
       "      <td>5.00</td>\n",
       "      <td>ex wife threaten suicide recently leave wife g...</td>\n",
       "      <td>1</td>\n",
       "    </tr>\n",
       "    <tr>\n",
       "      <th>1</th>\n",
       "      <td>0.04</td>\n",
       "      <td>0.76</td>\n",
       "      <td>0.21</td>\n",
       "      <td>0.72</td>\n",
       "      <td>0.00</td>\n",
       "      <td>1.00</td>\n",
       "      <td>0.00</td>\n",
       "      <td>0.00</td>\n",
       "      <td>2.00</td>\n",
       "      <td>1.00</td>\n",
       "      <td>1.00</td>\n",
       "      <td>2.00</td>\n",
       "      <td>weird get affect compliment come someone know ...</td>\n",
       "      <td>0</td>\n",
       "    </tr>\n",
       "    <tr>\n",
       "      <th>2</th>\n",
       "      <td>0.26</td>\n",
       "      <td>0.67</td>\n",
       "      <td>0.08</td>\n",
       "      <td>-0.70</td>\n",
       "      <td>2.00</td>\n",
       "      <td>2.00</td>\n",
       "      <td>2.00</td>\n",
       "      <td>1.00</td>\n",
       "      <td>2.00</td>\n",
       "      <td>2.00</td>\n",
       "      <td>1.00</td>\n",
       "      <td>3.00</td>\n",
       "      <td>finally almost never hear bad year ever swear ...</td>\n",
       "      <td>0</td>\n",
       "    </tr>\n",
       "    <tr>\n",
       "      <th>3</th>\n",
       "      <td>0.29</td>\n",
       "      <td>0.40</td>\n",
       "      <td>0.31</td>\n",
       "      <td>0.11</td>\n",
       "      <td>0.00</td>\n",
       "      <td>0.00</td>\n",
       "      <td>0.00</td>\n",
       "      <td>1.00</td>\n",
       "      <td>0.00</td>\n",
       "      <td>0.00</td>\n",
       "      <td>0.00</td>\n",
       "      <td>0.00</td>\n",
       "      <td>need help help cry hard</td>\n",
       "      <td>1</td>\n",
       "    </tr>\n",
       "    <tr>\n",
       "      <th>4</th>\n",
       "      <td>0.19</td>\n",
       "      <td>0.73</td>\n",
       "      <td>0.08</td>\n",
       "      <td>-1.00</td>\n",
       "      <td>18.00</td>\n",
       "      <td>10.00</td>\n",
       "      <td>27.00</td>\n",
       "      <td>26.00</td>\n",
       "      <td>20.00</td>\n",
       "      <td>6.00</td>\n",
       "      <td>5.00</td>\n",
       "      <td>9.00</td>\n",
       "      <td>lose hello name adam struggle year afraid past...</td>\n",
       "      <td>1</td>\n",
       "    </tr>\n",
       "    <tr>\n",
       "      <th>...</th>\n",
       "      <td>...</td>\n",
       "      <td>...</td>\n",
       "      <td>...</td>\n",
       "      <td>...</td>\n",
       "      <td>...</td>\n",
       "      <td>...</td>\n",
       "      <td>...</td>\n",
       "      <td>...</td>\n",
       "      <td>...</td>\n",
       "      <td>...</td>\n",
       "      <td>...</td>\n",
       "      <td>...</td>\n",
       "      <td>...</td>\n",
       "      <td>...</td>\n",
       "    </tr>\n",
       "    <tr>\n",
       "      <th>232069</th>\n",
       "      <td>0.08</td>\n",
       "      <td>0.92</td>\n",
       "      <td>0.00</td>\n",
       "      <td>-0.14</td>\n",
       "      <td>0.00</td>\n",
       "      <td>0.00</td>\n",
       "      <td>0.00</td>\n",
       "      <td>0.00</td>\n",
       "      <td>0.00</td>\n",
       "      <td>0.00</td>\n",
       "      <td>0.00</td>\n",
       "      <td>0.00</td>\n",
       "      <td>like rock go get anything go</td>\n",
       "      <td>0</td>\n",
       "    </tr>\n",
       "    <tr>\n",
       "      <th>232070</th>\n",
       "      <td>0.09</td>\n",
       "      <td>0.77</td>\n",
       "      <td>0.15</td>\n",
       "      <td>0.34</td>\n",
       "      <td>1.00</td>\n",
       "      <td>1.00</td>\n",
       "      <td>1.00</td>\n",
       "      <td>1.00</td>\n",
       "      <td>0.00</td>\n",
       "      <td>0.00</td>\n",
       "      <td>0.00</td>\n",
       "      <td>1.00</td>\n",
       "      <td>tell many friend lonely everything deprive pre...</td>\n",
       "      <td>0</td>\n",
       "    </tr>\n",
       "    <tr>\n",
       "      <th>232071</th>\n",
       "      <td>0.00</td>\n",
       "      <td>0.84</td>\n",
       "      <td>0.16</td>\n",
       "      <td>0.36</td>\n",
       "      <td>0.00</td>\n",
       "      <td>0.00</td>\n",
       "      <td>0.00</td>\n",
       "      <td>0.00</td>\n",
       "      <td>0.00</td>\n",
       "      <td>0.00</td>\n",
       "      <td>0.00</td>\n",
       "      <td>0.00</td>\n",
       "      <td>pee probably taste like salty tea someone drin...</td>\n",
       "      <td>0</td>\n",
       "    </tr>\n",
       "    <tr>\n",
       "      <th>232072</th>\n",
       "      <td>0.18</td>\n",
       "      <td>0.72</td>\n",
       "      <td>0.10</td>\n",
       "      <td>-0.99</td>\n",
       "      <td>9.00</td>\n",
       "      <td>6.00</td>\n",
       "      <td>7.00</td>\n",
       "      <td>10.00</td>\n",
       "      <td>3.00</td>\n",
       "      <td>1.00</td>\n",
       "      <td>1.00</td>\n",
       "      <td>3.00</td>\n",
       "      <td>usual stuff find post sympathy pity know far b...</td>\n",
       "      <td>1</td>\n",
       "    </tr>\n",
       "    <tr>\n",
       "      <th>232073</th>\n",
       "      <td>0.26</td>\n",
       "      <td>0.69</td>\n",
       "      <td>0.05</td>\n",
       "      <td>-0.86</td>\n",
       "      <td>2.00</td>\n",
       "      <td>1.00</td>\n",
       "      <td>3.00</td>\n",
       "      <td>3.00</td>\n",
       "      <td>0.00</td>\n",
       "      <td>0.00</td>\n",
       "      <td>0.00</td>\n",
       "      <td>0.00</td>\n",
       "      <td>still beat first bos hollow knight fight time ...</td>\n",
       "      <td>0</td>\n",
       "    </tr>\n",
       "  </tbody>\n",
       "</table>\n",
       "<p>230072 rows × 14 columns</p>\n",
       "</div>"
      ],
      "text/plain": [
       "        neg  neu  pos  compound  anger  disgust  fear  sadness  anticipation  \\\n",
       "0      0.19 0.73 0.07     -0.95   8.00     4.00  8.00     6.00          7.00   \n",
       "1      0.04 0.76 0.21      0.72   0.00     1.00  0.00     0.00          2.00   \n",
       "2      0.26 0.67 0.08     -0.70   2.00     2.00  2.00     1.00          2.00   \n",
       "3      0.29 0.40 0.31      0.11   0.00     0.00  0.00     1.00          0.00   \n",
       "4      0.19 0.73 0.08     -1.00  18.00    10.00 27.00    26.00         20.00   \n",
       "...     ...  ...  ...       ...    ...      ...   ...      ...           ...   \n",
       "232069 0.08 0.92 0.00     -0.14   0.00     0.00  0.00     0.00          0.00   \n",
       "232070 0.09 0.77 0.15      0.34   1.00     1.00  1.00     1.00          0.00   \n",
       "232071 0.00 0.84 0.16      0.36   0.00     0.00  0.00     0.00          0.00   \n",
       "232072 0.18 0.72 0.10     -0.99   9.00     6.00  7.00    10.00          3.00   \n",
       "232073 0.26 0.69 0.05     -0.86   2.00     1.00  3.00     3.00          0.00   \n",
       "\n",
       "        joy  surprise  trust  \\\n",
       "0      5.00      5.00   5.00   \n",
       "1      1.00      1.00   2.00   \n",
       "2      2.00      1.00   3.00   \n",
       "3      0.00      0.00   0.00   \n",
       "4      6.00      5.00   9.00   \n",
       "...     ...       ...    ...   \n",
       "232069 0.00      0.00   0.00   \n",
       "232070 0.00      0.00   1.00   \n",
       "232071 0.00      0.00   0.00   \n",
       "232072 1.00      1.00   3.00   \n",
       "232073 0.00      0.00   0.00   \n",
       "\n",
       "                                                     text  target  \n",
       "0       ex wife threaten suicide recently leave wife g...       1  \n",
       "1       weird get affect compliment come someone know ...       0  \n",
       "2       finally almost never hear bad year ever swear ...       0  \n",
       "3                                 need help help cry hard       1  \n",
       "4       lose hello name adam struggle year afraid past...       1  \n",
       "...                                                   ...     ...  \n",
       "232069                       like rock go get anything go       0  \n",
       "232070  tell many friend lonely everything deprive pre...       0  \n",
       "232071  pee probably taste like salty tea someone drin...       0  \n",
       "232072  usual stuff find post sympathy pity know far b...       1  \n",
       "232073  still beat first bos hollow knight fight time ...       0  \n",
       "\n",
       "[230072 rows x 14 columns]"
      ]
     },
     "execution_count": 93,
     "metadata": {},
     "output_type": "execute_result"
    }
   ],
   "source": [
    "collist = ['neg', 'neu', 'pos', 'compound', 'anger', 'disgust', 'fear',\n",
    "           'sadness', 'anticipation', 'joy', 'surprise', 'trust',\n",
    "           'text', 'target']\n",
    "df.columns = collist\n",
    "df"
   ]
  },
  {
   "cell_type": "code",
   "execution_count": 94,
   "id": "616d1dae-ae04-4bd8-97de-e01e0f39948c",
   "metadata": {
    "tags": []
   },
   "outputs": [],
   "source": [
    "orderedcols = ['target', 'text', 'neg', 'neu', 'pos', 'compound',\n",
    "               'anger', 'disgust', 'fear', 'sadness',\n",
    "               'anticipation', 'joy', 'surprise', 'trust']"
   ]
  },
  {
   "cell_type": "code",
   "execution_count": 95,
   "id": "a802647b-8f16-47b5-b72a-f44f8982e6f3",
   "metadata": {
    "tags": []
   },
   "outputs": [
    {
     "data": {
      "text/plain": [
       "True"
      ]
     },
     "execution_count": 95,
     "metadata": {},
     "output_type": "execute_result"
    }
   ],
   "source": [
    "len(orderedcols) == len(df.columns)"
   ]
  },
  {
   "cell_type": "code",
   "execution_count": 96,
   "id": "90e142d9-5b0d-48bb-bf89-3ec274c055be",
   "metadata": {
    "tags": []
   },
   "outputs": [],
   "source": [
    "df = df[orderedcols]"
   ]
  },
  {
   "cell_type": "code",
   "execution_count": 97,
   "id": "d0706cb1-297b-44d9-ae31-014ca1df98a9",
   "metadata": {
    "tags": []
   },
   "outputs": [
    {
     "data": {
      "text/html": [
       "<div>\n",
       "<style scoped>\n",
       "    .dataframe tbody tr th:only-of-type {\n",
       "        vertical-align: middle;\n",
       "    }\n",
       "\n",
       "    .dataframe tbody tr th {\n",
       "        vertical-align: top;\n",
       "    }\n",
       "\n",
       "    .dataframe thead th {\n",
       "        text-align: right;\n",
       "    }\n",
       "</style>\n",
       "<table border=\"1\" class=\"dataframe\">\n",
       "  <thead>\n",
       "    <tr style=\"text-align: right;\">\n",
       "      <th></th>\n",
       "      <th>target</th>\n",
       "      <th>text</th>\n",
       "      <th>neg</th>\n",
       "      <th>neu</th>\n",
       "      <th>pos</th>\n",
       "      <th>compound</th>\n",
       "      <th>anger</th>\n",
       "      <th>disgust</th>\n",
       "      <th>fear</th>\n",
       "      <th>sadness</th>\n",
       "      <th>anticipation</th>\n",
       "      <th>joy</th>\n",
       "      <th>surprise</th>\n",
       "      <th>trust</th>\n",
       "    </tr>\n",
       "  </thead>\n",
       "  <tbody>\n",
       "    <tr>\n",
       "      <th>0</th>\n",
       "      <td>1</td>\n",
       "      <td>ex wife threaten suicide recently leave wife g...</td>\n",
       "      <td>0.19</td>\n",
       "      <td>0.73</td>\n",
       "      <td>0.07</td>\n",
       "      <td>-0.95</td>\n",
       "      <td>8.00</td>\n",
       "      <td>4.00</td>\n",
       "      <td>8.00</td>\n",
       "      <td>6.00</td>\n",
       "      <td>7.00</td>\n",
       "      <td>5.00</td>\n",
       "      <td>5.00</td>\n",
       "      <td>5.00</td>\n",
       "    </tr>\n",
       "    <tr>\n",
       "      <th>1</th>\n",
       "      <td>0</td>\n",
       "      <td>weird get affect compliment come someone know ...</td>\n",
       "      <td>0.04</td>\n",
       "      <td>0.76</td>\n",
       "      <td>0.21</td>\n",
       "      <td>0.72</td>\n",
       "      <td>0.00</td>\n",
       "      <td>1.00</td>\n",
       "      <td>0.00</td>\n",
       "      <td>0.00</td>\n",
       "      <td>2.00</td>\n",
       "      <td>1.00</td>\n",
       "      <td>1.00</td>\n",
       "      <td>2.00</td>\n",
       "    </tr>\n",
       "    <tr>\n",
       "      <th>2</th>\n",
       "      <td>0</td>\n",
       "      <td>finally almost never hear bad year ever swear ...</td>\n",
       "      <td>0.26</td>\n",
       "      <td>0.67</td>\n",
       "      <td>0.08</td>\n",
       "      <td>-0.70</td>\n",
       "      <td>2.00</td>\n",
       "      <td>2.00</td>\n",
       "      <td>2.00</td>\n",
       "      <td>1.00</td>\n",
       "      <td>2.00</td>\n",
       "      <td>2.00</td>\n",
       "      <td>1.00</td>\n",
       "      <td>3.00</td>\n",
       "    </tr>\n",
       "    <tr>\n",
       "      <th>3</th>\n",
       "      <td>1</td>\n",
       "      <td>need help help cry hard</td>\n",
       "      <td>0.29</td>\n",
       "      <td>0.40</td>\n",
       "      <td>0.31</td>\n",
       "      <td>0.11</td>\n",
       "      <td>0.00</td>\n",
       "      <td>0.00</td>\n",
       "      <td>0.00</td>\n",
       "      <td>1.00</td>\n",
       "      <td>0.00</td>\n",
       "      <td>0.00</td>\n",
       "      <td>0.00</td>\n",
       "      <td>0.00</td>\n",
       "    </tr>\n",
       "    <tr>\n",
       "      <th>4</th>\n",
       "      <td>1</td>\n",
       "      <td>lose hello name adam struggle year afraid past...</td>\n",
       "      <td>0.19</td>\n",
       "      <td>0.73</td>\n",
       "      <td>0.08</td>\n",
       "      <td>-1.00</td>\n",
       "      <td>18.00</td>\n",
       "      <td>10.00</td>\n",
       "      <td>27.00</td>\n",
       "      <td>26.00</td>\n",
       "      <td>20.00</td>\n",
       "      <td>6.00</td>\n",
       "      <td>5.00</td>\n",
       "      <td>9.00</td>\n",
       "    </tr>\n",
       "    <tr>\n",
       "      <th>...</th>\n",
       "      <td>...</td>\n",
       "      <td>...</td>\n",
       "      <td>...</td>\n",
       "      <td>...</td>\n",
       "      <td>...</td>\n",
       "      <td>...</td>\n",
       "      <td>...</td>\n",
       "      <td>...</td>\n",
       "      <td>...</td>\n",
       "      <td>...</td>\n",
       "      <td>...</td>\n",
       "      <td>...</td>\n",
       "      <td>...</td>\n",
       "      <td>...</td>\n",
       "    </tr>\n",
       "    <tr>\n",
       "      <th>232069</th>\n",
       "      <td>0</td>\n",
       "      <td>like rock go get anything go</td>\n",
       "      <td>0.08</td>\n",
       "      <td>0.92</td>\n",
       "      <td>0.00</td>\n",
       "      <td>-0.14</td>\n",
       "      <td>0.00</td>\n",
       "      <td>0.00</td>\n",
       "      <td>0.00</td>\n",
       "      <td>0.00</td>\n",
       "      <td>0.00</td>\n",
       "      <td>0.00</td>\n",
       "      <td>0.00</td>\n",
       "      <td>0.00</td>\n",
       "    </tr>\n",
       "    <tr>\n",
       "      <th>232070</th>\n",
       "      <td>0</td>\n",
       "      <td>tell many friend lonely everything deprive pre...</td>\n",
       "      <td>0.09</td>\n",
       "      <td>0.77</td>\n",
       "      <td>0.15</td>\n",
       "      <td>0.34</td>\n",
       "      <td>1.00</td>\n",
       "      <td>1.00</td>\n",
       "      <td>1.00</td>\n",
       "      <td>1.00</td>\n",
       "      <td>0.00</td>\n",
       "      <td>0.00</td>\n",
       "      <td>0.00</td>\n",
       "      <td>1.00</td>\n",
       "    </tr>\n",
       "    <tr>\n",
       "      <th>232071</th>\n",
       "      <td>0</td>\n",
       "      <td>pee probably taste like salty tea someone drin...</td>\n",
       "      <td>0.00</td>\n",
       "      <td>0.84</td>\n",
       "      <td>0.16</td>\n",
       "      <td>0.36</td>\n",
       "      <td>0.00</td>\n",
       "      <td>0.00</td>\n",
       "      <td>0.00</td>\n",
       "      <td>0.00</td>\n",
       "      <td>0.00</td>\n",
       "      <td>0.00</td>\n",
       "      <td>0.00</td>\n",
       "      <td>0.00</td>\n",
       "    </tr>\n",
       "    <tr>\n",
       "      <th>232072</th>\n",
       "      <td>1</td>\n",
       "      <td>usual stuff find post sympathy pity know far b...</td>\n",
       "      <td>0.18</td>\n",
       "      <td>0.72</td>\n",
       "      <td>0.10</td>\n",
       "      <td>-0.99</td>\n",
       "      <td>9.00</td>\n",
       "      <td>6.00</td>\n",
       "      <td>7.00</td>\n",
       "      <td>10.00</td>\n",
       "      <td>3.00</td>\n",
       "      <td>1.00</td>\n",
       "      <td>1.00</td>\n",
       "      <td>3.00</td>\n",
       "    </tr>\n",
       "    <tr>\n",
       "      <th>232073</th>\n",
       "      <td>0</td>\n",
       "      <td>still beat first bos hollow knight fight time ...</td>\n",
       "      <td>0.26</td>\n",
       "      <td>0.69</td>\n",
       "      <td>0.05</td>\n",
       "      <td>-0.86</td>\n",
       "      <td>2.00</td>\n",
       "      <td>1.00</td>\n",
       "      <td>3.00</td>\n",
       "      <td>3.00</td>\n",
       "      <td>0.00</td>\n",
       "      <td>0.00</td>\n",
       "      <td>0.00</td>\n",
       "      <td>0.00</td>\n",
       "    </tr>\n",
       "  </tbody>\n",
       "</table>\n",
       "<p>230072 rows × 14 columns</p>\n",
       "</div>"
      ],
      "text/plain": [
       "        target                                               text  neg  neu  \\\n",
       "0            1  ex wife threaten suicide recently leave wife g... 0.19 0.73   \n",
       "1            0  weird get affect compliment come someone know ... 0.04 0.76   \n",
       "2            0  finally almost never hear bad year ever swear ... 0.26 0.67   \n",
       "3            1                            need help help cry hard 0.29 0.40   \n",
       "4            1  lose hello name adam struggle year afraid past... 0.19 0.73   \n",
       "...        ...                                                ...  ...  ...   \n",
       "232069       0                       like rock go get anything go 0.08 0.92   \n",
       "232070       0  tell many friend lonely everything deprive pre... 0.09 0.77   \n",
       "232071       0  pee probably taste like salty tea someone drin... 0.00 0.84   \n",
       "232072       1  usual stuff find post sympathy pity know far b... 0.18 0.72   \n",
       "232073       0  still beat first bos hollow knight fight time ... 0.26 0.69   \n",
       "\n",
       "        pos  compound  anger  disgust  fear  sadness  anticipation  joy  \\\n",
       "0      0.07     -0.95   8.00     4.00  8.00     6.00          7.00 5.00   \n",
       "1      0.21      0.72   0.00     1.00  0.00     0.00          2.00 1.00   \n",
       "2      0.08     -0.70   2.00     2.00  2.00     1.00          2.00 2.00   \n",
       "3      0.31      0.11   0.00     0.00  0.00     1.00          0.00 0.00   \n",
       "4      0.08     -1.00  18.00    10.00 27.00    26.00         20.00 6.00   \n",
       "...     ...       ...    ...      ...   ...      ...           ...  ...   \n",
       "232069 0.00     -0.14   0.00     0.00  0.00     0.00          0.00 0.00   \n",
       "232070 0.15      0.34   1.00     1.00  1.00     1.00          0.00 0.00   \n",
       "232071 0.16      0.36   0.00     0.00  0.00     0.00          0.00 0.00   \n",
       "232072 0.10     -0.99   9.00     6.00  7.00    10.00          3.00 1.00   \n",
       "232073 0.05     -0.86   2.00     1.00  3.00     3.00          0.00 0.00   \n",
       "\n",
       "        surprise  trust  \n",
       "0           5.00   5.00  \n",
       "1           1.00   2.00  \n",
       "2           1.00   3.00  \n",
       "3           0.00   0.00  \n",
       "4           5.00   9.00  \n",
       "...          ...    ...  \n",
       "232069      0.00   0.00  \n",
       "232070      0.00   1.00  \n",
       "232071      0.00   0.00  \n",
       "232072      1.00   3.00  \n",
       "232073      0.00   0.00  \n",
       "\n",
       "[230072 rows x 14 columns]"
      ]
     },
     "execution_count": 97,
     "metadata": {},
     "output_type": "execute_result"
    }
   ],
   "source": [
    "df"
   ]
  },
  {
   "cell_type": "code",
   "execution_count": 99,
   "id": "ea8ba4d1-ca9a-4190-a4bd-30e6f357d6dd",
   "metadata": {
    "tags": []
   },
   "outputs": [],
   "source": [
    "del df2"
   ]
  },
  {
   "cell_type": "markdown",
   "id": "aee6a530-dd17-464b-ab56-59849cd2313d",
   "metadata": {},
   "source": [
    "---"
   ]
  },
  {
   "cell_type": "markdown",
   "id": "c54dfd29-ae95-4e7a-99fd-cc173a3ed465",
   "metadata": {
    "tags": []
   },
   "source": [
    "### 5. Convert to CSV/Pickle"
   ]
  },
  {
   "cell_type": "code",
   "execution_count": 100,
   "id": "ea8a0842-05e5-4289-877e-fc844b94c384",
   "metadata": {
    "tags": []
   },
   "outputs": [],
   "source": [
    "df.to_csv('../fulldataclean.csv')"
   ]
  },
  {
   "cell_type": "code",
   "execution_count": 101,
   "id": "225bc6ec-8286-4588-9ba6-64151db62693",
   "metadata": {
    "tags": []
   },
   "outputs": [],
   "source": [
    "df.to_pickle('../fulldataclean.pkl')"
   ]
  },
  {
   "cell_type": "code",
   "execution_count": 102,
   "id": "21bb1aec-9719-4f7d-9fc5-e9b84c6770e8",
   "metadata": {
    "tags": []
   },
   "outputs": [],
   "source": [
    "df.to_pickle('./data/fulldataclean.tar.gz', compression='infer')"
   ]
  },
  {
   "cell_type": "markdown",
   "id": "bb68e7ba-d6ac-41be-a134-5057629786c7",
   "metadata": {},
   "source": [
    "---"
   ]
  },
  {
   "cell_type": "markdown",
   "id": "5f8b6090-e005-401b-bf9a-9d16f96e1634",
   "metadata": {},
   "source": [
    "# Project Continued in Notebook #2"
   ]
  },
  {
   "cell_type": "markdown",
   "id": "42e801a9-29a2-4180-97e5-87bccf125051",
   "metadata": {
    "tags": []
   },
   "source": [
    "Notebook #2: [2-Modeling-and-Conclusions.ipynb](\"./2-Modeling-and-Conclusions.ipynb\")"
   ]
  },
  {
   "cell_type": "markdown",
   "id": "a2d0c94b-6b66-4187-a8f2-a73a69255ee6",
   "metadata": {},
   "source": [
    "---"
   ]
  }
 ],
 "metadata": {
  "kernelspec": {
   "display_name": "nlp-env",
   "language": "python",
   "name": "nlp-env"
  },
  "language_info": {
   "codemirror_mode": {
    "name": "ipython",
    "version": 3
   },
   "file_extension": ".py",
   "mimetype": "text/x-python",
   "name": "python",
   "nbconvert_exporter": "python",
   "pygments_lexer": "ipython3",
   "version": "3.11.0"
  },
  "widgets": {
   "application/vnd.jupyter.widget-state+json": {
    "state": {},
    "version_major": 2,
    "version_minor": 0
   }
  }
 },
 "nbformat": 4,
 "nbformat_minor": 5
}
