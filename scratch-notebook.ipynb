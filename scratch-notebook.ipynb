{
 "cells": [
  {
   "cell_type": "markdown",
   "id": "8aa33945",
   "metadata": {},
   "source": [
    "<font size = +2.5><center><u><b>Suicide Risk Detection Model for Mental Health Chatbots</b></u></center></font>"
   ]
  },
  {
   "cell_type": "markdown",
   "id": "ab20cb13",
   "metadata": {
    "tags": []
   },
   "source": [
    "<h2><i><center>Data Exploration (Suicide_Detection.csv)</center></i></h2>"
   ]
  },
  {
   "cell_type": "markdown",
   "id": "1b53b24e",
   "metadata": {},
   "source": [
    "---"
   ]
  },
  {
   "cell_type": "markdown",
   "id": "3897e37e",
   "metadata": {},
   "source": [
    "### Source:\n",
    "**Suicide and Depression Dataset** from Kaggle\n",
    "https://www.kaggle.com/datasets/nikhileswarkomati/suicide-watch\n",
    "\n",
    "\n",
    "### About:\n",
    "* The dataset is a collection of posts from \"SuicideWatch\" and \"depression\" subreddits of the Reddit platform. \n",
    "    * Posts were collected using Pushshift API. \n",
    "* \"SuicideWatch\" posts from Dec 16, 2008 (creation) till Jan 2, 2021\n",
    "* \"Depression\" posts were collected from Jan 1, 2009, to Jan 2, 2021."
   ]
  },
  {
   "cell_type": "markdown",
   "id": "bc35ee1a",
   "metadata": {
    "tags": []
   },
   "source": [
    "# I. Data Cleaning"
   ]
  },
  {
   "cell_type": "markdown",
   "id": "b351378c-d8da-4828-a931-0c19144f582b",
   "metadata": {},
   "source": [
    "### Data Cleaning Packages and Imports"
   ]
  },
  {
   "cell_type": "code",
   "execution_count": 1,
   "id": "5ce99b48",
   "metadata": {
    "ExecuteTime": {
     "start_time": "2023-02-02T23:43:02.621Z"
    }
   },
   "outputs": [],
   "source": [
    "'''Python Standard Packages'''\n",
    "import re\n",
    "import string\n",
    "import time\n",
    "\n",
    "'''Conda Standard Packages'''\n",
    "import numpy as np\n",
    "import pandas as pd\n",
    "import matplotlib.pyplot as plt\n",
    "\n",
    "'''learn-env standard packages'''\n",
    "import seaborn as sns\n",
    "import nltk\n",
    "from nltk import FreqDist\n",
    "#from nltk.corpus import stopwords, words\n",
    "\n",
    "'''Used in Data Cleaning'''\n",
    "import contractions\n",
    "from textacy import preprocessing as preproc\n",
    "\n",
    "from spellchecker import SpellChecker #PySpellChecker\n",
    "from symspellpy import SymSpell #SymSpell\n",
    "\n",
    "'''For Iterable Time Tracking'''\n",
    "from tqdm import tqdm\n",
    "tqdm.pandas()"
   ]
  },
  {
   "cell_type": "markdown",
   "id": "69d27f92",
   "metadata": {
    "jp-MarkdownHeadingCollapsed": true,
    "tags": []
   },
   "source": [
    "## Dataset - First Look"
   ]
  },
  {
   "cell_type": "code",
   "execution_count": null,
   "id": "15ecb6b8",
   "metadata": {
    "ExecuteTime": {
     "start_time": "2023-02-02T23:43:02.622Z"
    }
   },
   "outputs": [],
   "source": [
    "# Importing Dataset for the first time\n",
    "\n",
    "df = pd.read_csv(\"./data/Suicide_Detection.csv\")\n",
    "df.head()"
   ]
  },
  {
   "cell_type": "code",
   "execution_count": null,
   "id": "06258b7a",
   "metadata": {
    "ExecuteTime": {
     "start_time": "2023-02-02T23:43:02.623Z"
    }
   },
   "outputs": [],
   "source": [
    "# Dropping arbitrary \"ID\" column\n",
    "\n",
    "df.drop([\"Unnamed: 0\"], axis=1, inplace=True)"
   ]
  },
  {
   "cell_type": "code",
   "execution_count": null,
   "id": "249b8692",
   "metadata": {
    "ExecuteTime": {
     "start_time": "2023-02-02T23:43:02.623Z"
    }
   },
   "outputs": [],
   "source": [
    "df.head()"
   ]
  },
  {
   "cell_type": "code",
   "execution_count": null,
   "id": "7d43aaa4",
   "metadata": {
    "ExecuteTime": {
     "start_time": "2023-02-02T23:43:02.624Z"
    }
   },
   "outputs": [],
   "source": [
    "df.describe()"
   ]
  },
  {
   "cell_type": "code",
   "execution_count": null,
   "id": "69021323",
   "metadata": {
    "ExecuteTime": {
     "start_time": "2023-02-02T23:43:02.625Z"
    }
   },
   "outputs": [],
   "source": [
    "df[\"class\"].value_counts()"
   ]
  },
  {
   "cell_type": "code",
   "execution_count": null,
   "id": "9fa0d7c7",
   "metadata": {
    "ExecuteTime": {
     "start_time": "2023-02-02T23:43:02.625Z"
    }
   },
   "outputs": [],
   "source": [
    "# Example of suicide post:\n",
    "\n",
    "df.loc[0].text"
   ]
  },
  {
   "cell_type": "code",
   "execution_count": null,
   "id": "e1c3586c",
   "metadata": {
    "ExecuteTime": {
     "start_time": "2023-02-02T23:43:02.626Z"
    }
   },
   "outputs": [],
   "source": [
    "# Example of non-suicide post:\n",
    "\n",
    "df.loc[1].text"
   ]
  },
  {
   "cell_type": "markdown",
   "id": "f443c92c",
   "metadata": {},
   "source": [
    "## Describing Dataset"
   ]
  },
  {
   "cell_type": "markdown",
   "id": "c888e5a6",
   "metadata": {},
   "source": [
    "* n = 232,074\n",
    "* Binary Classification (Suicide vs. Non-Suicide), each n = 116037 (50/50 split)"
   ]
  },
  {
   "cell_type": "markdown",
   "id": "2bdb04a9",
   "metadata": {
    "tags": []
   },
   "source": [
    "## Text Pre-Processing"
   ]
  },
  {
   "cell_type": "markdown",
   "id": "d1acb980-9354-464a-9372-745bce2ebcb3",
   "metadata": {},
   "source": [
    "### 1.1 Quick Function to Find and Remove Spam:"
   ]
  },
  {
   "cell_type": "code",
   "execution_count": null,
   "id": "a1b0e330-4c74-455c-a6fa-5ead19463f07",
   "metadata": {},
   "outputs": [],
   "source": [
    "def char_counter(string):\n",
    "    charCount = {\"alnum\": 0, \"not_alnum\": 0}\n",
    "    accepted = \" '\"\n",
    "    for char in string:\n",
    "        if char.isalnum() or char in accepted:\n",
    "            charCount[\"alnum\"] += 1\n",
    "        else:\n",
    "            charCount[\"not_alnum\"] += 1\n",
    "    if charCount[\"not_alnum\"] > charCount[\"alnum\"]:\n",
    "        return 0\n",
    "    else:\n",
    "        return string"
   ]
  },
  {
   "cell_type": "code",
   "execution_count": null,
   "id": "a51af81d-c736-4190-885b-86a518b33015",
   "metadata": {},
   "outputs": [],
   "source": [
    "df[\"text_trial\"] = df[\"text\"].apply(lambda x: char_counter(x))\n",
    "\n",
    "df = df[df[\"text_trial\"] != 0]\n",
    "\n",
    "df = df.drop([\"text_trial\"], axis=1)"
   ]
  },
  {
   "cell_type": "code",
   "execution_count": null,
   "id": "f2f3781d-8d9d-4e35-98fb-70c97febed11",
   "metadata": {},
   "outputs": [],
   "source": [
    "print(f\"CharCounter Removed {232074 - 231307} spam data points\")"
   ]
  },
  {
   "cell_type": "markdown",
   "id": "c710bd02-0989-4894-997f-2b9c724fe483",
   "metadata": {
    "tags": []
   },
   "source": [
    "### 1.2 Removing Unrecognized \\n and & characters"
   ]
  },
  {
   "cell_type": "code",
   "execution_count": null,
   "id": "9da3b254-9354-4298-97d1-10f0f0ce3073",
   "metadata": {},
   "outputs": [],
   "source": [
    "df[\"textprep\"] = df[\"text\"].apply(lambda x: re.sub(r\"\\n&\\S+\", \"\", x))"
   ]
  },
  {
   "cell_type": "code",
   "execution_count": null,
   "id": "b59e62bd-9349-45d4-aea9-1ab1d8320fc1",
   "metadata": {},
   "outputs": [],
   "source": [
    "df[\"textprep\"] = df[\"textprep\"].apply(lambda x: re.sub(r\"\\n\", \"\", x))"
   ]
  },
  {
   "cell_type": "code",
   "execution_count": null,
   "id": "9e8f7610-d3bc-4b88-8673-91ac255b6053",
   "metadata": {},
   "outputs": [],
   "source": [
    "df[\"textprep\"] = df[\"textprep\"].apply(lambda x: re.sub(\"&lt\", \"\", x))"
   ]
  },
  {
   "cell_type": "code",
   "execution_count": null,
   "id": "4439efa9-bf30-409f-9476-c25e95df8f8c",
   "metadata": {},
   "outputs": [],
   "source": [
    "df[\"textprep\"] = df[\"textprep\"].apply(lambda x: re.sub(\"&gt\", \"\", x))"
   ]
  },
  {
   "cell_type": "code",
   "execution_count": null,
   "id": "0585308f-c700-42c4-833c-ce7d3c7bae03",
   "metadata": {},
   "outputs": [],
   "source": [
    "df[\"textprep\"]"
   ]
  },
  {
   "cell_type": "markdown",
   "id": "c59d04f8-fd8a-4c60-a495-3292b7548cde",
   "metadata": {},
   "source": [
    "### 1.3 Removing usernames (format: u/name)"
   ]
  },
  {
   "cell_type": "code",
   "execution_count": null,
   "id": "eaea34c6-d396-49ea-a788-1ea12b23ab3a",
   "metadata": {},
   "outputs": [],
   "source": [
    "df[\"textprep\"] = df[\"textprep\"].apply(lambda x: re.sub(r\"u/\\w+\", \"\", x))"
   ]
  },
  {
   "cell_type": "markdown",
   "id": "a6dbdc9d-986b-4fd6-9c5a-864557f97600",
   "metadata": {},
   "source": [
    "### 1.4 Removing numbers and strings starting with numbers"
   ]
  },
  {
   "cell_type": "code",
   "execution_count": null,
   "id": "51930292-3ba1-4bd5-a5f7-8f6855b09c7b",
   "metadata": {},
   "outputs": [],
   "source": [
    "# 4. Remove Numbers and nth\n",
    "df[\"textprep\"] = df[\"textprep\"].apply(lambda x: re.sub(r\"\\d\\S+\", \"\", x))\n",
    "df[\"textprep\"] = df[\"textprep\"].apply(lambda x: re.sub(r\"\\d+\", \"\", x))"
   ]
  },
  {
   "cell_type": "markdown",
   "id": "101f11b4-e07f-4b36-8c22-bc4da26c73a3",
   "metadata": {
    "tags": []
   },
   "source": [
    "### 1.5 Remove Website Links"
   ]
  },
  {
   "cell_type": "code",
   "execution_count": null,
   "id": "74cd411f-111f-4b58-9ff5-1a4f6c928af1",
   "metadata": {
    "tags": []
   },
   "outputs": [],
   "source": [
    "df[\"textprep\"] = df[\"textprep\"].apply(lambda x: re.sub(r\"htt\\S+\", \"\", x))\n",
    "df[\"textprep\"] = df[\"textprep\"].apply(lambda x: re.sub(r\"ww\\S+\", \"\", x))"
   ]
  },
  {
   "cell_type": "markdown",
   "id": "d1b2b59e-40aa-4f22-9ce2-54459a9ca539",
   "metadata": {},
   "source": [
    "### 1.6 Removing Accents, Brackets, Hmtl_Tags, and Unicode (Emojis)"
   ]
  },
  {
   "cell_type": "code",
   "execution_count": null,
   "id": "787a930d-0e59-4771-bdaf-d6252e850cc6",
   "metadata": {},
   "outputs": [],
   "source": [
    "# 40 seconds to run\n",
    "\n",
    "start = time.time()\n",
    "\n",
    "pipe = preproc.make_pipeline(\n",
    "    preproc.normalize.hyphenated_words,\n",
    "    preproc.normalize.quotation_marks,\n",
    "    preproc.remove.accents,\n",
    "    preproc.remove.brackets,\n",
    "    preproc.remove.html_tags,\n",
    ")\n",
    "\n",
    "df[\"textprep\"] = df[\"textprep\"].apply(lambda x: pipe(x))\n",
    "\n",
    "end = time.time()"
   ]
  },
  {
   "cell_type": "code",
   "execution_count": null,
   "id": "dbd3b82a-cf61-4343-8c61-09252b420893",
   "metadata": {},
   "outputs": [],
   "source": [
    "def remove_unicode(string):\n",
    "    str_en = string.encode(\"ascii\", \"ignore\")\n",
    "    str_de = str_en.decode()\n",
    "    return str_de\n",
    "\n",
    "\n",
    "df[\"text\"] = df[\"text\"].apply(lambda x: remove_unicode(str(x)))"
   ]
  },
  {
   "cell_type": "markdown",
   "id": "7004972d-1595-4384-a011-16ece96af499",
   "metadata": {},
   "source": [
    "### 1.7 Removing Punctuation"
   ]
  },
  {
   "cell_type": "code",
   "execution_count": null,
   "id": "b1827823-117b-409e-a0f7-8963ec8c2f25",
   "metadata": {},
   "outputs": [],
   "source": [
    "# No Punctuation\n",
    "df[\"textprep\"] = df[\"textprep\"].apply(\n",
    "    lambda x: x.translate(str.maketrans(\"\", \"\", string.punctuation))\n",
    ")"
   ]
  },
  {
   "cell_type": "markdown",
   "id": "622bdca8-8199-4608-a7f4-09ac63fffa03",
   "metadata": {},
   "source": [
    "### 1.8 Splitting wordsStrungTogetherLikeThis"
   ]
  },
  {
   "cell_type": "code",
   "execution_count": null,
   "id": "792dcc1b-7e66-49e9-8638-be231debcd46",
   "metadata": {},
   "outputs": [],
   "source": [
    "df[\"textprep\"] = df[\"textprep\"].apply(\n",
    "    lambda x: re.sub(r\"(?<![A-Z\\W])(?=[A-Z])\", \" \", x)\n",
    ")"
   ]
  },
  {
   "cell_type": "markdown",
   "id": "b4dd28a3-ba6b-4e0d-8473-a0aed3fc2265",
   "metadata": {},
   "source": [
    "### 1.9 Normalize Whitespace"
   ]
  },
  {
   "cell_type": "code",
   "execution_count": null,
   "id": "6b0e2c96-53e8-4090-b97e-0c075af47a81",
   "metadata": {},
   "outputs": [],
   "source": [
    "# Lowercase\n",
    "# df['textprep'] = df['textprep'].apply(lambda x: x.lower())\n",
    "\n",
    "# Normalize Whitespace\n",
    "df[\"textprep\"] = df[\"textprep\"].apply(lambda x: preproc.normalize.whitespace(x))"
   ]
  },
  {
   "cell_type": "code",
   "execution_count": null,
   "id": "2d3bbf65-a0ae-4efe-8bc8-f649e7a74da2",
   "metadata": {},
   "outputs": [],
   "source": [
    "df[\"textprep\"]"
   ]
  },
  {
   "cell_type": "markdown",
   "id": "8316c322-cf8b-479b-bbf9-3d7a0b6056d4",
   "metadata": {},
   "source": [
    "### 1.10 Lowercase All"
   ]
  },
  {
   "cell_type": "code",
   "execution_count": null,
   "id": "28b84e5a-1c50-4578-9bad-df5898281ca3",
   "metadata": {},
   "outputs": [],
   "source": [
    "df[\"textprep\"] = df[\"textprep\"].apply(lambda x: x.lower())"
   ]
  },
  {
   "cell_type": "markdown",
   "id": "827dfee5-5c88-46d3-a1be-cf5cf7dbfe4f",
   "metadata": {},
   "source": [
    "---"
   ]
  },
  {
   "cell_type": "markdown",
   "id": "aed117d4-9c64-486f-8191-7e94318ec1b8",
   "metadata": {
    "jp-MarkdownHeadingCollapsed": true,
    "tags": []
   },
   "source": [
    "## 2. Expand contractions, Append prefixes, and correct \"wordi\"s "
   ]
  },
  {
   "cell_type": "markdown",
   "id": "fd298c0f-2108-4148-919c-e2217a6244f1",
   "metadata": {},
   "source": [
    "### 2.1 Expand Contractions\n",
    "\n",
    "* Using Contractions Library (https://pypi.org/project/contractions)"
   ]
  },
  {
   "cell_type": "code",
   "execution_count": null,
   "id": "169c1e37-25a9-4fb0-8d2b-4e464bb17381",
   "metadata": {},
   "outputs": [],
   "source": [
    "df[\"textprep\"] = df[\"textprep\"].apply(lambda x: contractions.fix(x))"
   ]
  },
  {
   "cell_type": "code",
   "execution_count": null,
   "id": "8e46050a-b540-4808-bf93-3b8e7765261c",
   "metadata": {},
   "outputs": [],
   "source": [
    "df[\"textprep\"]"
   ]
  },
  {
   "cell_type": "markdown",
   "id": "684f511c-006b-40bc-b46f-a0302f50b482",
   "metadata": {},
   "source": [
    "### 2.2 Remove Quotation Marks and Apostrophes"
   ]
  },
  {
   "cell_type": "code",
   "execution_count": null,
   "id": "4b37d040-39ab-4f49-88f2-6dcdbb18736c",
   "metadata": {},
   "outputs": [],
   "source": [
    "df[\"textprep\"] = df[\"textprep\"].apply(lambda x: preproc.remove.punctuation(x))"
   ]
  },
  {
   "cell_type": "markdown",
   "id": "277bca07-1265-49fd-8e60-83e23f7003b8",
   "metadata": {},
   "source": [
    "### 2.3 Append prefix to previous word"
   ]
  },
  {
   "cell_type": "markdown",
   "id": "25fcb239-f9ce-4407-b983-33fa9f54cf75",
   "metadata": {},
   "source": [
    "* To tell spaCy \"anti\" is a prefixes, let's append with hyphen for now. We can correct later for models that cannot handle hyphens.\n",
    "\n",
    "* Join \"Mc\" and \"Pre\" with word"
   ]
  },
  {
   "cell_type": "code",
   "execution_count": null,
   "id": "80142404-cae3-4599-9e77-f110e6f98670",
   "metadata": {},
   "outputs": [],
   "source": [
    "# Anti\n",
    "df[\"textprep\"] = df[\"textprep\"].apply(lambda x: re.sub(r\" (anti) (\\S+)\", r\" \\1-\\2\", x))\n",
    "df[\"textprep\"] = df[\"textprep\"].apply(lambda x: re.sub(r\" (anti)(\\S+)\", r\" \\1-\\2\", x))\n",
    "\n",
    "# Pre\n",
    "# df['textprep']=df['textprep'].apply(lambda x: re.sub(r' (pre) (\\S+)', r' \\1\\2', x))\n",
    "\n",
    "# Mc\n",
    "df[\"textprep\"] = df[\"textprep\"].apply(lambda x: re.sub(r\" (mc) (\\S+)\", r\" \\1\\2\", x))"
   ]
  },
  {
   "cell_type": "code",
   "execution_count": null,
   "id": "fde7020e-98e1-4b36-ad00-ee6309f61abc",
   "metadata": {},
   "outputs": [],
   "source": [
    "df[\"textprep\"] = df[\"textprep\"].apply(lambda x: re.sub(r\" (anti)--(\\S+)\", r\" \\1-\\2\", x))"
   ]
  },
  {
   "cell_type": "markdown",
   "id": "7621a5bc-99ae-4d4b-bf3e-0251fea13e59",
   "metadata": {},
   "source": [
    "### 2.4 Wordi Correction"
   ]
  },
  {
   "cell_type": "markdown",
   "id": "f1890e59-83bc-4549-846e-7472663a241b",
   "metadata": {},
   "source": [
    "* Lots of typos where i is appended to word where it shouldn't be. \n",
    "* Created a function to fix this using spellchecker and re"
   ]
  },
  {
   "cell_type": "code",
   "execution_count": null,
   "id": "2045303b-454d-40bd-961c-fd9b2d278909",
   "metadata": {},
   "outputs": [],
   "source": [
    "spell = SpellChecker()"
   ]
  },
  {
   "cell_type": "code",
   "execution_count": null,
   "id": "c460c7ea-ff91-4d7b-b588-653bca282580",
   "metadata": {},
   "outputs": [],
   "source": [
    "def wordi_corrector(row):\n",
    "    spell = SpellChecker()\n",
    "    for word in re.findall(r\"\\b\\S+i\\b\", row):\n",
    "        if spell.known([word]):\n",
    "            continue\n",
    "        tester = word[:-1]\n",
    "        if len(spell.known([tester])) == 1:\n",
    "            row = re.sub(word, tester + \" i\", row)\n",
    "    return row"
   ]
  },
  {
   "cell_type": "code",
   "execution_count": null,
   "id": "73f46bf1-dafb-4190-8c24-d6c0e176a52b",
   "metadata": {},
   "outputs": [],
   "source": [
    "df[\"test\"] = df[\"textprep\"].progress_map(lambda x: wordi_corrector(x))"
   ]
  },
  {
   "cell_type": "markdown",
   "id": "1c97609f-c45f-45eb-b230-e8dba2bb5c2b",
   "metadata": {},
   "source": [
    "### 2.5 Create Tokens from TextPrep"
   ]
  },
  {
   "cell_type": "code",
   "execution_count": null,
   "id": "02d956a9-e569-4c00-929b-367fa219727b",
   "metadata": {},
   "outputs": [],
   "source": [
    "df[\"tokens\"] = df[\"textprep\"].apply(lambda x: x.split())"
   ]
  },
  {
   "cell_type": "markdown",
   "id": "faedd008-7d46-484c-a2fd-5dfa77e641ab",
   "metadata": {
    "tags": []
   },
   "source": [
    "## 3. Find Common Misspelled Words & Translate Slang"
   ]
  },
  {
   "cell_type": "markdown",
   "id": "686763b0-8ccb-4637-a24b-005715852d62",
   "metadata": {
    "jp-MarkdownHeadingCollapsed": true,
    "tags": []
   },
   "source": [
    "### Testing SpellChecker"
   ]
  },
  {
   "cell_type": "code",
   "execution_count": null,
   "id": "1cfedce0-6b12-48d6-aeff-70056410fe9e",
   "metadata": {},
   "outputs": [],
   "source": [
    "start = time.time()\n",
    "\n",
    "spell = SpellChecker()\n",
    "df[\"misspell\"] = df[\"tokens\"].apply(lambda x: spell.unknown(x))\n",
    "df[\"misspell\"] = df[\"misspell\"].apply(lambda x: list(x))\n",
    "\n",
    "end = time.time()\n",
    "\n",
    "print(f\"Time to run: {end - start:.2f} seconds\")"
   ]
  },
  {
   "cell_type": "code",
   "execution_count": null,
   "id": "94543f29-d8f3-4ba1-bd75-0c1eb97d5e64",
   "metadata": {},
   "outputs": [],
   "source": [
    "df[\"misspell_length\"] = df[\"misspell\"].apply(lambda x: len(x))\n",
    "\n",
    "percent_wrong = len(df[\"misspell\"][df[\"misspell_length\"] != 0]) / len(df) * 100\n",
    "\n",
    "print(f\"{percent_wrong:.1f}% of datapoints have misspellings\")"
   ]
  },
  {
   "cell_type": "code",
   "execution_count": null,
   "id": "d6861417-7eeb-4f9c-a4b7-0a44d8fe4aee",
   "metadata": {},
   "outputs": [],
   "source": [
    "sperror_master = []\n",
    "\n",
    "for row in df[\"misspell\"]:\n",
    "    for word in row:\n",
    "        sperror_master.append(word)"
   ]
  },
  {
   "cell_type": "code",
   "execution_count": null,
   "id": "8cac1bac-ce00-4dd8-a1d9-d69434b25efa",
   "metadata": {},
   "outputs": [],
   "source": [
    "fd1 = FreqDist(sperror_master)\n",
    "fd1.most_common(20)"
   ]
  },
  {
   "cell_type": "code",
   "execution_count": null,
   "id": "a7a19238-580e-432f-9433-a5611ce8e6b4",
   "metadata": {},
   "outputs": [],
   "source": [
    "df[\"text\"] = df[\"text\"].apply(lambda x: re.sub(\"selfharm\", \"self-harm\", x))"
   ]
  },
  {
   "cell_type": "code",
   "execution_count": null,
   "id": "45476764-3ecf-4d22-8213-65f682fbcadb",
   "metadata": {},
   "outputs": [],
   "source": [
    "df[\"text\"] = df[\"text\"].apply(lambda x: re.sub(\" bs \", \" bullshit \", x))"
   ]
  },
  {
   "cell_type": "markdown",
   "id": "c7205a8d-ffaa-4cab-b7d0-406558f2994b",
   "metadata": {},
   "source": [
    "---"
   ]
  },
  {
   "cell_type": "markdown",
   "id": "3aa3228b-4f88-4289-a304-2850103d58cc",
   "metadata": {
    "jp-MarkdownHeadingCollapsed": true,
    "tags": []
   },
   "source": [
    "### Steps\n",
    "\n",
    "1. Remove single letter tokens and remaining code fragments (ex: \\x...)\n",
    "2. Separate out words that should have spaces in them (word_i)\n",
    "3. Dictionary\n",
    "   * Convert slang words to commonly used equivalent\n",
    "   * For some slang-- like tldr, wtf, ngl, omg-- full equivalent doesn't really make sense. Have dictionary recognize these as words.\n",
    "   * Add words like \"covid\", \"antidepressant (+ antidepressant names)\" to dictionary\n"
   ]
  },
  {
   "cell_type": "markdown",
   "id": "9bfa2c86-e82c-47e3-8461-18ac6050b2e3",
   "metadata": {
    "tags": []
   },
   "source": [
    "### Round 1: Removing Single Tokens + Expanding Abbrevations of Common Words"
   ]
  },
  {
   "cell_type": "code",
   "execution_count": null,
   "id": "ca2dbf00-dc93-492b-806b-9bbf044014f0",
   "metadata": {},
   "outputs": [],
   "source": [
    "\"\"\" 1. Remove single letter tokens and remaining code fragments\"\"\"\n",
    "\n",
    "single_token_list = []\n",
    "for item in fd1:\n",
    "    if not bool(emoji.emoji_count(item[0])):\n",
    "        if len(item[0]) == 1 and item[0] not in single_token_list:\n",
    "            single_token_list.append(item[0])\n",
    "\n",
    "single_token_list.remove(\"a\")\n",
    "single_token_list.remove(\"i\")"
   ]
  },
  {
   "cell_type": "code",
   "execution_count": null,
   "id": "83f86400-2cf7-4bd8-bcb8-52a6f6f29525",
   "metadata": {
    "tags": []
   },
   "outputs": [],
   "source": [
    "single_token_list"
   ]
  },
  {
   "cell_type": "code",
   "execution_count": null,
   "id": "fc2f4c4a-522b-4a35-9e72-4d98aac563a9",
   "metadata": {},
   "outputs": [],
   "source": [
    "def single_token_remover(row, token_list):\n",
    "    for token in row:\n",
    "        if token in token_list:\n",
    "            row.remove(token)\n",
    "    return row"
   ]
  },
  {
   "cell_type": "code",
   "execution_count": null,
   "id": "378c6ecf-4237-4e76-9f1b-c75f1c4d442d",
   "metadata": {},
   "outputs": [],
   "source": [
    "df[\"tokens_r2\"] = df[\"tokens\"].progress_map(\n",
    "    lambda x: single_token_remover(x, single_token_list)\n",
    ")"
   ]
  },
  {
   "cell_type": "code",
   "execution_count": null,
   "id": "616873a9-ee6d-44aa-94d9-c77160b9a4cf",
   "metadata": {},
   "outputs": [],
   "source": [
    "# df['tokens_r2'] = df['tokens_r2'].apply(lambda x: (' '.join(x)).split())"
   ]
  },
  {
   "cell_type": "code",
   "execution_count": null,
   "id": "e9eeb1de-9241-428d-b20d-787b5d47ec75",
   "metadata": {},
   "outputs": [],
   "source": [
    "df[\"tokens_r2\"]"
   ]
  },
  {
   "cell_type": "code",
   "execution_count": null,
   "id": "1a498402-0760-4c66-8620-57755a4229dc",
   "metadata": {},
   "outputs": [],
   "source": [
    "df"
   ]
  },
  {
   "cell_type": "code",
   "execution_count": null,
   "id": "e9656bde-95eb-4406-b77d-4a409d407a48",
   "metadata": {},
   "outputs": [],
   "source": [
    "df[\"text_r2\"] = df[\"tokens_r2\"].progress_map(lambda x: \" \".join(x))"
   ]
  },
  {
   "cell_type": "markdown",
   "id": "eb50012a-ce7b-4f82-aa8b-4afa212fd742",
   "metadata": {},
   "source": [
    "---"
   ]
  },
  {
   "cell_type": "markdown",
   "id": "44d1a427-c788-4435-b660-326b14949259",
   "metadata": {
    "jp-MarkdownHeadingCollapsed": true,
    "tags": []
   },
   "source": [
    "### Round 2: Correction dictionary & correcting SpellChecker"
   ]
  },
  {
   "cell_type": "markdown",
   "id": "264d0c46-277b-4a29-b8da-0a74533e46fd",
   "metadata": {},
   "source": [
    "#### 3.2.1. Distinguishing between ECT (etc misspelled) and ECT (therapy)\n",
    "1. Got indices based on capitalization in original text\n",
    "2. went through lowercase ect examples and found 7 referring to therapy\n",
    "3. Replaced ect in ect_ther with electroconvulsive therapy, \n",
    "4. changing to correct spelling of etc elsewhere"
   ]
  },
  {
   "cell_type": "code",
   "execution_count": null,
   "id": "8d1438a5-1499-44ac-a3ae-17b07c98d23d",
   "metadata": {},
   "outputs": [],
   "source": [
    "ect_ther = (\n",
    "    df[\"text\"]\n",
    "    .apply(lambda x: re.findall(r\" ECT \", x))\n",
    "    .sort_values(ascending=False)[:72]\n",
    "    .index\n",
    ")"
   ]
  },
  {
   "cell_type": "code",
   "execution_count": null,
   "id": "53fffecd-87f3-4a33-8d39-b0fa5282b2c3",
   "metadata": {
    "tags": []
   },
   "outputs": [],
   "source": [
    "ect_ther.extend([12935, 181494, 21986, 189017, 49323, 78657, 205774])"
   ]
  },
  {
   "cell_type": "code",
   "execution_count": null,
   "id": "301a1163-d64e-4b9b-8e30-6e1a82678da5",
   "metadata": {},
   "outputs": [],
   "source": [
    "df[\"text_r2\"][ect_ther] = df[\"text_r2\"][ect_ther].apply(\n",
    "    lambda x: re.sub(r\" ect \", \" electroconvulsive therapy \", x)\n",
    ")"
   ]
  },
  {
   "cell_type": "code",
   "execution_count": null,
   "id": "b0b7afe9-4966-4b7c-8330-e78663c57dea",
   "metadata": {},
   "outputs": [],
   "source": [
    "df[\"text_r2\"] = df[\"text_r2\"].apply(lambda x: re.sub(r\" ect \", r\" etc \", x))"
   ]
  },
  {
   "cell_type": "code",
   "execution_count": null,
   "id": "3ae59259-bd32-47e9-966c-0150cacc947b",
   "metadata": {},
   "outputs": [],
   "source": [
    "# Changing Back because typing out electroconvulsive therapy much less likely than ect\n",
    "\n",
    "df[\"text_r2\"] = df[\"text_r2\"].apply(\n",
    "    lambda x: re.sub(r\"electroconvulsive therapy\", \"ect\", x)\n",
    ")"
   ]
  },
  {
   "cell_type": "markdown",
   "id": "c1a0d253-a9d7-4ebb-8dff-dea40ec8f42e",
   "metadata": {},
   "source": [
    "#### 3.2.2 Replacing 'tl dr' with 'tldr'"
   ]
  },
  {
   "cell_type": "code",
   "execution_count": null,
   "id": "17a91f38-a342-4bcd-980b-3d714bfc8dfa",
   "metadata": {},
   "outputs": [],
   "source": [
    "df[\"text_r2\"] = df[\"text_r2\"].apply(lambda x: re.sub(r\" tl dr \", r\" tldr \", x))"
   ]
  },
  {
   "cell_type": "code",
   "execution_count": null,
   "id": "c1ded907-c282-403c-bb2e-05385e3e5d05",
   "metadata": {},
   "outputs": [],
   "source": [
    "df[\"tokens_r2\"] = df[\"text_r2\"].apply(lambda x: x.split())"
   ]
  },
  {
   "cell_type": "markdown",
   "id": "024a965a-0a8e-474f-ba94-4470430fd200",
   "metadata": {},
   "source": [
    "#### 3.3.3 Replacement Dictionary and adding words to SpellCheck"
   ]
  },
  {
   "cell_type": "code",
   "execution_count": null,
   "id": "03631d9e-4633-48e1-b2ed-bd6f0e59856c",
   "metadata": {
    "tags": []
   },
   "outputs": [],
   "source": [
    "\"\"\"3. Create replacement dictionary\"\"\"\n",
    "\n",
    "slang_dictionary = {\n",
    "    \"dr\": \"doctor\",\n",
    "    \"gf\": \"girlfriend\",\n",
    "    \"dm\": \"message\",\n",
    "    \"pm\": \"message\",\n",
    "    \"tv\": \"television\",\n",
    "    \"plz\": \"please\",\n",
    "    \"pls\": \"please\",\n",
    "    \"bf\": \"boyfriend\",\n",
    "    \"pc\": \"computer\",\n",
    "    \"dms\": \"messages\",\n",
    "    \"wtf\": \"what the fuck\",\n",
    "    \"tf\": \"the fuck\",\n",
    "    \"irl\": \"in real life\",\n",
    "    \"lmao\": \"haha\",\n",
    "    \"lol\": \"haha\",\n",
    "    \"rofl\": \"haha\",\n",
    "    \"bruh\": \"bro\",\n",
    "    \"thru\": \"through\",\n",
    "    \"idek\": \"idk\",\n",
    "    \"idk\": \"i do not know\",\n",
    "    \"idc\": \"i do not care\",\n",
    "    \"smdh\": \"smh\",\n",
    "    \"coronavirus\": \"covid\",\n",
    "    \"yknow\": \"you know\",\n",
    "    \"kms\": \"kill myself\",\n",
    "    \"fr\": \"for real\",\n",
    "    \"lbs\": \"pounds\",\n",
    "    \"vs\": \"versus\",\n",
    "    \"mr\": \"mister\",\n",
    "    \"crysis\": \"crisis\",\n",
    "    \"everytime\": \"every time\",\n",
    "    \"alot\": \"a lot\",\n",
    "    \"noone\": \"nobody\",\n",
    "    \"andor\": \"and or\",\n",
    "    \"familys\": \"family\",\n",
    "    \"todays\": \"today\",\n",
    "    \"aswell\": \"as well\",\n",
    "    \"lastname\": \"last name\",\n",
    "    \"firstname\": \"first name\",\n",
    "    \"growup\": \"grow up\",\n",
    "    \"loosing\": \"losing\",\n",
    "    \"redditors\": \"redditor\",\n",
    "    \"subreddits\": \"subreddit\",\n",
    "    \"ng\": \"not good\",\n",
    "    \"nnn\": \"\",\n",
    "    \"romanti\": \"romantic\",\n",
    "    \"mg\": \"milligrams\",\n",
    "    \"hs\": \"high school\",\n",
    "    \"nsfw\": \"not safe for work\",\n",
    "    \"asf\": \"as fuck\",\n",
    "    \"hmu\": \"message me\",\n",
    "    \"ngl\": \"not going to lie\",\n",
    "    \"omg\": \"oh my god\",\n",
    "    \"welp\": \"well\",\n",
    "    \"lgbt\": \"lgbtq\",\n",
    "    \"quaranti\": \"quarantine\",\n",
    "    \"lowkey\": \"low key\",\n",
    "    \"pedos\": \"pedophiles\",\n",
    "    \"smth\": \"something\",\n",
    "    \"bestfriend\": \"best friend\",\n",
    "    \"commiting\": \"committing\",\n",
    "    \"ffs\": \"for fuck sake\",\n",
    "    \"selfharming\": \"self-harm\",\n",
    "    \"untill\": \"until\",\n",
    "    \"downvoted\": \"downvote\",\n",
    "    \"selfloathing\": \"self-loathing\",\n",
    "    \"ideations\": \"ideation\",\n",
    "    \"gp\": \"doctor\",\n",
    "    \"jk\": \"just kidding\",\n",
    "    \"tommorow\": \"tomorrow\",\n",
    "    \"meanti\": \"meant i\",\n",
    "    \"aight\": \"alright\",\n",
    "    \"exes\": \"ex\",\n",
    "    \"fml\": \"fuck my life\",\n",
    "    \"mf\": \"motherfucker\",\n",
    "    \"selfhatred\": \"self-hatred\",\n",
    "    \"selfesteem\": \"self-esteem\",\n",
    "    \"tw\": \"trigger warning\",\n",
    "    \"idek\": \"i do not know\",\n",
    "    \"fcking\": \"fuck\",\n",
    "    \"commited\": \"committed\",\n",
    "    \"oding\": \"overdose\",\n",
    "    \"od\": \"overdose\",\n",
    "    \"oded\": \"overdose\",\n",
    "    \"cringey\": \"cringe\",\n",
    "    \"yk\": \"you know\",\n",
    "    \"uhh\": \"uh\",\n",
    "    \"parttime\": \"part time\",\n",
    "    \"cmon\": \"come on\",\n",
    "    \"exgirlfriend\": \"ex\",\n",
    "    \"happend\": \"happened\",\n",
    "    \"fck\": \"fuck\",\n",
    "    \"hrs\": \"hours\",\n",
    "    \"becuase\": \"because\",\n",
    "    \"blm\": \"black lives matter\",\n",
    "    \"hr\": \"hour\",\n",
    "    \"gfs\": \"girlfriend\",\n",
    "    \"yalls\": \"you all\",\n",
    "    \"fb\": \"facebook\",\n",
    "    \"wierd\": \"weird\",\n",
    "    \"dosent\": \"does not\",\n",
    "    \"sht\": \"shit\",\n",
    "    \"selfdestructive\": \"self-destructive\",\n",
    "    \"payed\": \"paid\",\n",
    "    \"aa\": \"alcoholics anonymous\",\n",
    "    \"ssris\": \"ssri\",\n",
    "    \"snris\": \"snri\",\n",
    "    \"wich\": \"which\",\n",
    "    \"hw\": \"homework\",\n",
    "    \"lmfao\": \"haha\",\n",
    "    \"havnt\": \"have not\",\n",
    "    \"franti\": \"frantic\",\n",
    "    \"afterward\": \"afterwards\",\n",
    "    \"selfworth\": \"self-worth\",\n",
    "    \"freinds\": \"friends\",\n",
    "    \"pt\": \"patient\",\n",
    "    \"daynight\": \"day night\",\n",
    "    \"acc\": \"according\",\n",
    "    \"inbetween\": \"in between\",\n",
    "    \"sooooo\": \"so\",\n",
    "    \"thicc\": \"thick\",\n",
    "    \"meim\": \"me i am\",\n",
    "    \"lil\": \"little\",\n",
    "    \"uwu\": \"cute\",\n",
    "    \"gc\": \"group chat\",\n",
    "    \"helphey\": \"help hey\",\n",
    "    \"friendzoned\": \"friend zoned\",\n",
    "    \"uhhh\": \"uh\",\n",
    "    \"selfharmed\": \"self-harm\",\n",
    "    \"nyc\": \"new york city\",\n",
    "    \"deadend\": \"dead end\",\n",
    "    \"belive\": \"believe\",\n",
    "    \"gn\": \"good night\",\n",
    "    \"dissapointment\": \"disappointment\",\n",
    "    \"exboyfriend\": \"ex\",\n",
    "    \"ll\": \"i will\",\n",
    "    \"nhs\": \"national health service\",\n",
    "    \"spamming\": \"spam\",\n",
    "    \"existance\": \"existence\",\n",
    "    \"monke\": \"monkey\",\n",
    "    \"advil\": \"medication\",\n",
    "    \"downvotes\": \"downvote\",\n",
    "    \"countrys\": \"country\",\n",
    "    \"ldr\": \"long distance relationship\",\n",
    "    \"selfconfidence\": \"self-confidence\",\n",
    "    \"mebut\": \"me but\",\n",
    "    \"pokmon\": \"pokemon\",\n",
    "    \"socalled\": \"so called\",\n",
    "    \"itim\": \"it i am\",\n",
    "    \"realy\": \"really\",\n",
    "    \"neet\": \"neat\",\n",
    "    \"daytoday\": \"day today\",\n",
    "    \"psa\": \"public service announcement\",\n",
    "    \"dd\": \"dungeons and dragons\",\n",
    "    \"gcses\": \"high school\",\n",
    "    \"clich\": \"cliche\",\n",
    "    \"reddits\": \"reddit\",\n",
    "    \"sucide\": \"suicide\",\n",
    "    \"depressionanxiety\": \"depression anxiety\",\n",
    "    \"thier\": \"their\",\n",
    "    \"lmk\": \"let me know\",\n",
    "    \"itbut\": \"it but\",\n",
    "    \"incels\": \"incel\",\n",
    "    \"selfconscious\": \"self-conscious\",\n",
    "    \"urself\": \"yourself\",\n",
    "    \"litterally\": \"literally\",\n",
    "    \"shitposting\": \"spam\",\n",
    "    \"layed\": \"laid\",\n",
    "    \"heshe\": \"he she\",\n",
    "    \"septemberbeginning\": \"september beginning\",\n",
    "    \"corna\": \"covid\",\n",
    "    \"expiernce\": \"experience\",\n",
    "    \"arnt\": \"are not\",\n",
    "    \"apperently\": \"apparently\",\n",
    "    \"inperson\": \"in person\",\n",
    "    \"instaead\": \"instead\",\n",
    "    \"waht\": \"what\",\n",
    "    \"vc\": \"video chat\",\n",
    "    \"acciddently\": \"accidentally\",\n",
    "    \"sence\": \"sense\",\n",
    "    \"bfs\": \"boyfriend\",\n",
    "    \"helpjust\": \"help just\",\n",
    "    \"sertaline\": \"sertraline\",\n",
    "    \"lifebut\": \"life but\",\n",
    "    \"afraidanxious\": \"afraid anxious\",\n",
    "    \"urself\": \"yourself\",\n",
    "    \"litterally\": \"literally\",\n",
    "    \"paat\": \"past\",\n",
    "}"
   ]
  },
  {
   "cell_type": "code",
   "execution_count": null,
   "id": "9d12e3cf-7932-477b-a3b9-bd3189346f51",
   "metadata": {},
   "outputs": [],
   "source": [
    "spell.word_frequency.load_words(\n",
    "    [\n",
    "        \"sertraline\",\n",
    "        \"zoloft\",\n",
    "        \"fluoxetine\",\n",
    "        \"prozac\",\n",
    "        \"citalopram\",\n",
    "        \"celexa\",\n",
    "        \"escitalopram\",\n",
    "        \"lexapro\",\n",
    "        \"paroxetine\",\n",
    "        \"paxil\",\n",
    "        \"bupropion\",\n",
    "        \"wellbutrin\",\n",
    "        \"seroquel\",\n",
    "        \"ect\",\n",
    "        \"cbt\",\n",
    "        \"dbt\",\n",
    "        \"ptsd\",\n",
    "        \"adhd\",\n",
    "        \"selfharm\",\n",
    "        \"bpd\",\n",
    "        \"ssri\",\n",
    "        \"snri\",\n",
    "        \"snri\",\n",
    "        \"aspergers\",\n",
    "        \"dysphoria\",\n",
    "        \"anti-depressant\",\n",
    "        \"anti-depressants\",\n",
    "        \"dysmorphia\",\n",
    "        \"hrt\",\n",
    "        \"cps\",\n",
    "        \"mdd\",\n",
    "    ]\n",
    ")"
   ]
  },
  {
   "cell_type": "code",
   "execution_count": null,
   "id": "0aaec3a3-ea34-4b44-85b5-75ce2aa5c3ba",
   "metadata": {},
   "outputs": [],
   "source": [
    "spell.word_frequency.load_words(\n",
    "    [\n",
    "        \"subreddit\",\n",
    "        \"redditor\",\n",
    "        \"rteenagers\",\n",
    "        \"rdepression\",\n",
    "        \"rsuicidewatch\",\n",
    "        \"csgo\",\n",
    "        \"minecraft\",\n",
    "        \"gta\",\n",
    "        \"fortnite\",\n",
    "        \"roblox\",\n",
    "        \"mcworld\",\n",
    "        \"mcdonalds\",\n",
    "        \"walmart\" \"tldr\",\n",
    "        \"bs\",\n",
    "        \"omg\",\n",
    "        \"smh\",\n",
    "        \"ps\",\n",
    "        \"lgbtq\",\n",
    "        \"sw\",\n",
    "        \"afterwards\",\n",
    "        \"afterlife\",\n",
    "        \"transphobic\",\n",
    "        \"yourselves\",\n",
    "        \"afternoon\",\n",
    "        \"covid\",\n",
    "        \"tiktok\",\n",
    "        \"dysphoria\",\n",
    "        \"spotify\",\n",
    "        \"anti-depressant\",\n",
    "        \"yourselves\",\n",
    "        \"downvote\",\n",
    "        \"insta\",\n",
    "        \"incel\",\n",
    "        \"femboy\",\n",
    "        \"aftermath\",\n",
    "        \"hentai\",\n",
    "        \"repost\",\n",
    "        \"nonbinary\",\n",
    "        \"pms\",\n",
    "        \"lsd\",\n",
    "        \"hmm\",\n",
    "        \"microsoft\",\n",
    "        \"tumblr\",\n",
    "        \"snoo\",\n",
    "        \"femboys\",\n",
    "        \"weeb\",\n",
    "        \"screenshots\",\n",
    "        \"omegle\",\n",
    "        \"youtuber\",\n",
    "        \"unironically\",\n",
    "        \"tldr\",\n",
    "    ]\n",
    ")"
   ]
  },
  {
   "cell_type": "code",
   "execution_count": null,
   "id": "c449affe-55c9-4efd-b2c9-7a031b8d6fb4",
   "metadata": {},
   "outputs": [],
   "source": []
  },
  {
   "cell_type": "code",
   "execution_count": null,
   "id": "33ba85f9-7ede-4637-9251-dae7b956e45d",
   "metadata": {},
   "outputs": [],
   "source": [
    "def token_replacer(row, slang_dictionary):\n",
    "    new_row = []\n",
    "    for word in row:\n",
    "        if word in slang_dictionary.keys():\n",
    "            new_row.append(slang_dictionary[word])\n",
    "        else:\n",
    "            new_row.append(word)\n",
    "    return new_row"
   ]
  },
  {
   "cell_type": "code",
   "execution_count": null,
   "id": "f99a2b71-3654-4f9e-ba51-ff3c2da2ed5d",
   "metadata": {},
   "outputs": [],
   "source": [
    "df[\"tokens_r3\"] = df[\"tokens_r3\"].apply(lambda x: token_replacer(x, slang_dictionary))\n",
    "df[\"text_r3\"] = df[\"tokens_r3\"].apply(lambda x: (\" \".join(x)))\n",
    "df[\"tokens_r3\"] = df[\"text_r3\"].apply(lambda x: x.split())"
   ]
  },
  {
   "cell_type": "code",
   "execution_count": null,
   "id": "5df7a69c-1fb2-494a-bfc2-5dcc673516bd",
   "metadata": {},
   "outputs": [],
   "source": [
    "df"
   ]
  },
  {
   "cell_type": "code",
   "execution_count": null,
   "id": "847a887f-9469-4b5e-8d3a-bd2b13976434",
   "metadata": {},
   "outputs": [],
   "source": [
    "df.drop([\"tokens\", \"tokens_r2\", \"text_r2\"], axis=1, inplace=True)"
   ]
  },
  {
   "cell_type": "markdown",
   "id": "36c14081-5122-4c37-a905-235eba1cf740",
   "metadata": {},
   "source": [
    "---"
   ]
  },
  {
   "cell_type": "markdown",
   "id": "960bc648-5d05-4b62-8502-b23b11e85576",
   "metadata": {
    "jp-MarkdownHeadingCollapsed": true,
    "tags": []
   },
   "source": [
    "### Round 3: Rinse & Repeat til less than 250 spelling errors per word"
   ]
  },
  {
   "cell_type": "code",
   "execution_count": null,
   "id": "71d60b56-d6e4-48f7-9256-1ce45c861228",
   "metadata": {},
   "outputs": [],
   "source": [
    "# df['text_r3'] = df['tokens_r3'].apply(lambda x: (' '.join(x)))\n",
    "# df['tokens_r3'] = df['text_r3'].apply(lambda x: x.split())"
   ]
  },
  {
   "cell_type": "code",
   "execution_count": null,
   "id": "99bb1817-bc97-4e84-86b9-4f5f2b43acb4",
   "metadata": {},
   "outputs": [],
   "source": [
    "df[\"misspell\"] = df[\"tokens_r3\"].map(lambda x: spell.unknown(x))\n",
    "df[\"misspell\"] = df[\"misspell\"].map(lambda x: list(x))"
   ]
  },
  {
   "cell_type": "code",
   "execution_count": null,
   "id": "085b0e81-8bab-49e1-b440-cedea22f1480",
   "metadata": {},
   "outputs": [],
   "source": [
    "sperror_master = []\n",
    "\n",
    "for row in df[\"misspell\"]:\n",
    "    for word in row:\n",
    "        sperror_master.append(word)"
   ]
  },
  {
   "cell_type": "code",
   "execution_count": null,
   "id": "3ddb33ad-af5f-48ac-a44e-13fb2288fe1d",
   "metadata": {},
   "outputs": [],
   "source": [
    "fd = FreqDist(sperror_master)\n",
    "\n",
    "fd.most_common(20)"
   ]
  },
  {
   "cell_type": "code",
   "execution_count": null,
   "id": "dd5e871b-fa17-4450-a711-b85149aba61c",
   "metadata": {
    "tags": []
   },
   "outputs": [],
   "source": [
    "def token_remover(row_list, token_list):\n",
    "    for token in token_list:\n",
    "        if token in row_list:\n",
    "            row_list.remove(token)\n",
    "    return row_list"
   ]
  },
  {
   "cell_type": "code",
   "execution_count": null,
   "id": "353e8365-461c-439c-84eb-eb96122aba42",
   "metadata": {},
   "outputs": [],
   "source": [
    "tokens_to_remove = [\"pp\", \"cs\", \"ph\", \"th\", \"ds\", \"st\", \"yt\"]\n",
    "df[\"tokens_r3\"] = df[\"tokens_r3\"].apply(lambda x: token_remover(x, tokens_to_remove))"
   ]
  },
  {
   "cell_type": "code",
   "execution_count": null,
   "id": "5131281f-fd38-441a-b21b-9b4d4c758e63",
   "metadata": {},
   "outputs": [],
   "source": [
    "char = fd.most_common(20)[16][0]\n",
    "df['tokens_r3'] = df['tokens_r3'].apply(lambda x: token_remover(x, ['\\u200d'))\n",
    "df['tokens_r3'] = df['tokens_r3'].apply(lambda x: token_remover(x, char))"
   ]
  },
  {
   "cell_type": "code",
   "execution_count": null,
   "id": "19269806-5bc4-404d-afbf-149b7980634f",
   "metadata": {},
   "outputs": [],
   "source": [
    "dict2 = {\n",
    "    \"anymorei\": \"anymore i\",\n",
    "    \"exs\": \"exes\",\n",
    "    fd.most_common(20)[19][0]: \"\",\n",
    "    \"pedo\": \"pedophile\",\n",
    "}"
   ]
  },
  {
   "cell_type": "code",
   "execution_count": null,
   "id": "f5961aba-bc22-403f-b438-cc8892e3ed07",
   "metadata": {},
   "outputs": [],
   "source": [
    "df[\"tokens_r3\"] = df[\"tokens_r3\"].apply(lambda x: token_replacer(x, dict2))\n",
    "df[\"text_r3\"] = df[\"tokens_r3\"].apply(lambda x: (\" \".join(x)))\n",
    "df[\"tokens_r3\"] = df[\"text_r3\"].apply(lambda x: x.split())"
   ]
  },
  {
   "cell_type": "markdown",
   "id": "c8b59ac3-35f1-42b9-883b-dbd6fad3060f",
   "metadata": {},
   "source": [
    "---"
   ]
  },
  {
   "cell_type": "markdown",
   "id": "979d7e76-9037-4182-8940-e1d920415e8f",
   "metadata": {},
   "source": [
    "There are too many spelling errors to go through and completely clean. \n",
    "Especially since Text2Emotion has its own cleaning process-- we can come back to the cleaning process after running Text2Emotion\n",
    "(and getting rid of emojis will help/running the no unicode code will help)"
   ]
  },
  {
   "cell_type": "code",
   "execution_count": null,
   "id": "158e1c8b-45b1-4e96-8372-67d28524cf5a",
   "metadata": {},
   "outputs": [],
   "source": [
    "# df.drop(['text', 'textprep', 'misspell'], axis=1, inplace=True)\n",
    "# df = df.rename({'tokens_r3':'tokens', 'text_r3':'text'}, axis=1)\n",
    "df.to_csv(\"./data/data_cleaned.csv\")"
   ]
  },
  {
   "cell_type": "markdown",
   "id": "786d830c-09db-41bf-b994-70d0493a5a9c",
   "metadata": {},
   "source": [
    "---"
   ]
  },
  {
   "cell_type": "markdown",
   "id": "a5fcd6a0-5618-4910-8e0a-fbc8e0d205bd",
   "metadata": {
    "tags": []
   },
   "source": [
    "### Round 4: Autocorrect words, Remove \"Filler\" text, and get rid of hyphens"
   ]
  },
  {
   "cell_type": "code",
   "execution_count": 14,
   "id": "3f1fbb9e-ad58-429f-95b5-1313d5034cbd",
   "metadata": {},
   "outputs": [],
   "source": [
    "\"\"\" Autocorrect - doesn't do much \"\"\"\n",
    "\n",
    "# spell = Speller(fast=True)\n",
    "# df['text'] = df['text'].progress_map(lambda x: spell(str(x)))'''"
   ]
  },
  {
   "cell_type": "code",
   "execution_count": 66,
   "id": "5fdf0288-12d1-4390-aadc-8f4e3df88c0d",
   "metadata": {},
   "outputs": [],
   "source": [
    "# Remove filler words/letters/phrases\n",
    "\n",
    "df[\"text\"] = df[\"text\"].apply(\n",
    "    lambda x: re.sub(r\"filler\", \"\", x), lambda x: re.sub(r\"zz\\S+\", \"\", x)\n",
    ")"
   ]
  },
  {
   "cell_type": "code",
   "execution_count": 67,
   "id": "ea085b4f-3cbd-4d15-873d-de7740fe0f61",
   "metadata": {},
   "outputs": [],
   "source": [
    "# No more spaCy = no more hyphens\n",
    "\n",
    "df[\"text\"] = df[\"text\"].apply(\n",
    "    lambda x: re.sub(r\" (anti)-(\\S+)\", \" \\1\\2\", x), lambda x: re.sub(r\"-\", \"\", x)\n",
    ")"
   ]
  },
  {
   "cell_type": "markdown",
   "id": "e3b14fcf-d406-4a64-80e5-55ed458443ed",
   "metadata": {
    "jp-MarkdownHeadingCollapsed": true,
    "tags": []
   },
   "source": [
    "#### Round 5: Trying SymSpell (Not used: No DF edits)"
   ]
  },
  {
   "cell_type": "code",
   "execution_count": 9,
   "id": "f56e6a95-108d-43fa-9faf-8e95c499addc",
   "metadata": {},
   "outputs": [
    {
     "name": "stdout",
     "output_type": "stream",
     "text": [
      "[('the', 23135851162), ('of', 13151942776), ('and', 12997637966), ('to', 12136980858), ('a', 9081174698)]\n"
     ]
    }
   ],
   "source": [
    "from itertools import islice\n",
    "\n",
    "import pkg_resources\n",
    "\n",
    "sym_spell = SymSpell()\n",
    "dictionary_path = pkg_resources.resource_filename(\n",
    "    \"symspellpy\", \"frequency_dictionary_en_82_765.txt\"\n",
    ")\n",
    "sym_spell.load_dictionary(dictionary_path, 0, 1)\n",
    "\n",
    "print(list(islice(sym_spell.words.items(), 5)))"
   ]
  },
  {
   "cell_type": "code",
   "execution_count": 10,
   "id": "10634593-bb69-4414-b49a-fb19df32d936",
   "metadata": {},
   "outputs": [
    {
     "name": "stdout",
     "output_type": "stream",
     "text": [
      "[('abcs of', 10956800), ('aaron and', 10721728), ('abbott and', 7861376), ('abbreviations and', 13518272), ('aberdeen and', 7347776)]\n"
     ]
    }
   ],
   "source": [
    "dictionary_path = pkg_resources.resource_filename(\n",
    "    \"symspellpy\", \"frequency_bigramdictionary_en_243_342.txt\"\n",
    ")\n",
    "sym_spell.load_bigram_dictionary(dictionary_path, 0, 2)\n",
    "\n",
    "# Print out first 5 elements to demonstrate that dictionary is\n",
    "# successfully loaded\n",
    "print(list(islice(sym_spell.bigrams.items(), 5)))"
   ]
  },
  {
   "cell_type": "code",
   "execution_count": 31,
   "id": "17901d25-eeab-49f6-bcdc-b7fd7e4632aa",
   "metadata": {},
   "outputs": [],
   "source": [
    "\"\"\" Need to add my dictionary terms before this is useful\n",
    "\n",
    "def sym_spell_check(input_term):\n",
    "    \n",
    "    suggestions = sym_spell.lookup_compound(input_term, max_edit_distance=2)\n",
    "    for suggestion in suggestions:\n",
    "        return suggestion.term\n",
    "        \n",
    "\"\"\""
   ]
  },
  {
   "cell_type": "markdown",
   "id": "41902feb-b3ec-49f8-9f6e-c59ab757c928",
   "metadata": {},
   "source": [
    "---"
   ]
  },
  {
   "cell_type": "markdown",
   "id": "a8cfff52-c355-413c-a0c5-58980576d060",
   "metadata": {
    "tags": []
   },
   "source": [
    "# ~ Save Processed DF to CSV ~"
   ]
  },
  {
   "cell_type": "code",
   "execution_count": 3,
   "id": "37c80fc7-a331-44c9-95dc-97820f8fa3cf",
   "metadata": {},
   "outputs": [
    {
     "ename": "NameError",
     "evalue": "name 'df' is not defined",
     "output_type": "error",
     "traceback": [
      "\u001b[0;31m---------------------------------------------------------------------------\u001b[0m",
      "\u001b[0;31mNameError\u001b[0m                                 Traceback (most recent call last)",
      "Cell \u001b[0;32mIn[3], line 2\u001b[0m\n\u001b[1;32m      1\u001b[0m \u001b[38;5;66;03m## Saved Data has all of the above preprocessing corrections run up until now.\u001b[39;00m\n\u001b[0;32m----> 2\u001b[0m \u001b[43mdf\u001b[49m\u001b[38;5;241m.\u001b[39mto_csv(\u001b[38;5;124m'\u001b[39m\u001b[38;5;124m./data/data_cleaned.csv\u001b[39m\u001b[38;5;124m'\u001b[39m)\n",
      "\u001b[0;31mNameError\u001b[0m: name 'df' is not defined"
     ]
    }
   ],
   "source": [
    "df.to_csv(\"./data/data_cleaned.csv\")"
   ]
  },
  {
   "cell_type": "markdown",
   "id": "c689dc97-5f56-45c5-92e5-7bcf2b9dfded",
   "metadata": {
    "tags": []
   },
   "source": [
    "# Data Modeling"
   ]
  },
  {
   "cell_type": "markdown",
   "id": "33841e83-df45-462d-b67d-50f044c052d2",
   "metadata": {
    "tags": []
   },
   "source": [
    "## Import Packages"
   ]
  },
  {
   "cell_type": "code",
   "execution_count": 11,
   "id": "15af42ce-a098-4d78-b3da-c34a25853063",
   "metadata": {},
   "outputs": [],
   "source": [
    "import matplotlib.pyplot as plt\n",
    "import matplotlib.ticker as mtick\n",
    "import numpy as np\n",
    "import pandas as pd\n",
    "import seaborn as sns\n",
    "from nltk.corpus import stopwords\n",
    "from nltk.stem import WordNetLemmatizer as Lem\n",
    "from nltk.tokenize import word_tokenize\n",
    "from sklearn.compose import ColumnTransformer\n",
    "from sklearn.compose import make_column_selector as selector\n",
    "from sklearn.feature_extraction.text import TfidfVectorizer\n",
    "from sklearn.metrics import (\n",
    "    ConfusionMatrixDisplay,\n",
    "    accuracy_score,\n",
    "    classification_report,\n",
    "    confusion_matrix,\n",
    "    f1_score,\n",
    "    precision_score,\n",
    "    recall_score,\n",
    ")\n",
    "from sklearn.model_selection import (\n",
    "    GridSearchCV,\n",
    "    cross_val_score,\n",
    "    cross_validate,\n",
    "    train_test_split,\n",
    ")\n",
    "from sklearn.naive_bayes import MultinomialNB\n",
    "from sklearn.pipeline import Pipeline\n",
    "from sklearn.preprocessing import FunctionTransformer, OneHotEncoder, StandardScaler\n",
    "from src.confusion import plot_confusion_matrix"
   ]
  },
  {
   "cell_type": "markdown",
   "id": "d25b7f8e-b364-418f-a8ec-c452b247f803",
   "metadata": {
    "tags": []
   },
   "source": [
    "## Model Plan"
   ]
  },
  {
   "cell_type": "markdown",
   "id": "9322ff38-476b-407c-a76c-c27352c102e0",
   "metadata": {
    "tags": []
   },
   "source": [
    "\n",
    "\n",
    "**Frequency Vectorization** - *TF-IDF*\n",
    "\n",
    "**Emotion Analysis & Scoring** - *NRCLex*\n",
    "   * Two publicly accessible options: NRCLex and Text2Emotion \n",
    "   * [Recent study](https://www.mdpi.com/2076-3417/13/4/2061) found NRCLex to be more accurate and have more classes (Fargues, Kadry, Lawal, Yassine & Rauf, 2023).\n",
    "   * Also, NRCLex is [faster](https://medium.com/@aeshnagupta/5-methods-to-do-emotion-analysis-on-text-data-98cf662efc12)\n",
    "---\n",
    "\n",
    "### Model Iterations\n",
    " 1. Naive Bayes\n",
    "- [x] TF-IDF only - **FSM**\n",
    "- [ ] NRCLex only\n",
    "- [ ] Both TF-IDF and NRCLex\n",
    "\n",
    " 2. Random Forest Classifier\n",
    "- [ ] Both TF-IDF and NRCLex\n",
    "- [ ] Top Features\n",
    "\n",
    " 3. SVM\n",
    "- [ ] Both TF-IDF and NRCLex\n",
    "\n",
    "4. Tuned Final Model\n",
    "- [ ] Best"
   ]
  },
  {
   "cell_type": "markdown",
   "id": "8e42c28b-f968-4238-8017-57f893b5b5d0",
   "metadata": {
    "tags": []
   },
   "source": [
    "## 1. Pre-Processing in Post"
   ]
  },
  {
   "cell_type": "markdown",
   "id": "6747e58a-1186-47f4-82a0-7bf02735a534",
   "metadata": {
    "tags": []
   },
   "source": [
    "### 1.1 Load saved processed data from csv"
   ]
  },
  {
   "cell_type": "code",
   "execution_count": 3,
   "id": "76bb3674-da26-451f-868c-61a0825d629f",
   "metadata": {
    "tags": []
   },
   "outputs": [],
   "source": [
    "## Saved Data has all of the above preprocessing corrections run up until now.\n",
    "\n",
    "df = pd.read_csv(\"./data/data_cleaned.csv\")\n",
    "df[\"text\"] = df[\"text\"].map(lambda x: str(x))"
   ]
  },
  {
   "cell_type": "code",
   "execution_count": 4,
   "id": "4a149cb6-e8c6-46bf-af63-97c86d7a64be",
   "metadata": {},
   "outputs": [
    {
     "data": {
      "text/html": [
       "<div>\n",
       "<style scoped>\n",
       "    .dataframe tbody tr th:only-of-type {\n",
       "        vertical-align: middle;\n",
       "    }\n",
       "\n",
       "    .dataframe tbody tr th {\n",
       "        vertical-align: top;\n",
       "    }\n",
       "\n",
       "    .dataframe thead th {\n",
       "        text-align: right;\n",
       "    }\n",
       "</style>\n",
       "<table border=\"1\" class=\"dataframe\">\n",
       "  <thead>\n",
       "    <tr style=\"text-align: right;\">\n",
       "      <th></th>\n",
       "      <th>Unnamed: 0</th>\n",
       "      <th>index</th>\n",
       "      <th>class</th>\n",
       "      <th>text</th>\n",
       "    </tr>\n",
       "  </thead>\n",
       "  <tbody>\n",
       "    <tr>\n",
       "      <th>0</th>\n",
       "      <td>0</td>\n",
       "      <td>0</td>\n",
       "      <td>suicide</td>\n",
       "      <td>ex wife threatening suicide recently i left my...</td>\n",
       "    </tr>\n",
       "    <tr>\n",
       "      <th>1</th>\n",
       "      <td>1</td>\n",
       "      <td>1</td>\n",
       "      <td>non-suicide</td>\n",
       "      <td>am i weird i do not get affected by compliment...</td>\n",
       "    </tr>\n",
       "    <tr>\n",
       "      <th>2</th>\n",
       "      <td>2</td>\n",
       "      <td>2</td>\n",
       "      <td>non-suicide</td>\n",
       "      <td>finally is almost over so i can never hear has...</td>\n",
       "    </tr>\n",
       "    <tr>\n",
       "      <th>3</th>\n",
       "      <td>3</td>\n",
       "      <td>3</td>\n",
       "      <td>suicide</td>\n",
       "      <td>i need help just help me i am crying so hard</td>\n",
       "    </tr>\n",
       "    <tr>\n",
       "      <th>4</th>\n",
       "      <td>4</td>\n",
       "      <td>4</td>\n",
       "      <td>suicide</td>\n",
       "      <td>i am so lost hello my name is adam and i have ...</td>\n",
       "    </tr>\n",
       "    <tr>\n",
       "      <th>...</th>\n",
       "      <td>...</td>\n",
       "      <td>...</td>\n",
       "      <td>...</td>\n",
       "      <td>...</td>\n",
       "    </tr>\n",
       "    <tr>\n",
       "      <th>231302</th>\n",
       "      <td>231302</td>\n",
       "      <td>232069</td>\n",
       "      <td>non-suicide</td>\n",
       "      <td>if you do not like rock then your not going to...</td>\n",
       "    </tr>\n",
       "    <tr>\n",
       "      <th>231303</th>\n",
       "      <td>231303</td>\n",
       "      <td>232070</td>\n",
       "      <td>non-suicide</td>\n",
       "      <td>you how you can tell i have so many friends an...</td>\n",
       "    </tr>\n",
       "    <tr>\n",
       "      <th>231304</th>\n",
       "      <td>231304</td>\n",
       "      <td>232071</td>\n",
       "      <td>non-suicide</td>\n",
       "      <td>pee probably tastes like salty tea can someone...</td>\n",
       "    </tr>\n",
       "    <tr>\n",
       "      <th>231305</th>\n",
       "      <td>231305</td>\n",
       "      <td>232072</td>\n",
       "      <td>suicide</td>\n",
       "      <td>the usual stuff you find here i am not posting...</td>\n",
       "    </tr>\n",
       "    <tr>\n",
       "      <th>231306</th>\n",
       "      <td>231306</td>\n",
       "      <td>232073</td>\n",
       "      <td>non-suicide</td>\n",
       "      <td>i still have not beaten the first boss in holl...</td>\n",
       "    </tr>\n",
       "  </tbody>\n",
       "</table>\n",
       "<p>231307 rows × 4 columns</p>\n",
       "</div>"
      ],
      "text/plain": [
       "        Unnamed: 0   index        class  \\\n",
       "0                0       0      suicide   \n",
       "1                1       1  non-suicide   \n",
       "2                2       2  non-suicide   \n",
       "3                3       3      suicide   \n",
       "4                4       4      suicide   \n",
       "...            ...     ...          ...   \n",
       "231302      231302  232069  non-suicide   \n",
       "231303      231303  232070  non-suicide   \n",
       "231304      231304  232071  non-suicide   \n",
       "231305      231305  232072      suicide   \n",
       "231306      231306  232073  non-suicide   \n",
       "\n",
       "                                                     text  \n",
       "0       ex wife threatening suicide recently i left my...  \n",
       "1       am i weird i do not get affected by compliment...  \n",
       "2       finally is almost over so i can never hear has...  \n",
       "3            i need help just help me i am crying so hard  \n",
       "4       i am so lost hello my name is adam and i have ...  \n",
       "...                                                   ...  \n",
       "231302  if you do not like rock then your not going to...  \n",
       "231303  you how you can tell i have so many friends an...  \n",
       "231304  pee probably tastes like salty tea can someone...  \n",
       "231305  the usual stuff you find here i am not posting...  \n",
       "231306  i still have not beaten the first boss in holl...  \n",
       "\n",
       "[231307 rows x 4 columns]"
      ]
     },
     "execution_count": 4,
     "metadata": {},
     "output_type": "execute_result"
    }
   ],
   "source": [
    "df"
   ]
  },
  {
   "cell_type": "code",
   "execution_count": 5,
   "id": "45e0f2ce-f907-42b5-84c9-9819a790c9e3",
   "metadata": {
    "tags": []
   },
   "outputs": [
    {
     "name": "stderr",
     "output_type": "stream",
     "text": [
      "100%|██████████| 231307/231307 [00:00<00:00, 2085740.74it/s]\n"
     ]
    },
    {
     "data": {
      "text/html": [
       "<div>\n",
       "<style scoped>\n",
       "    .dataframe tbody tr th:only-of-type {\n",
       "        vertical-align: middle;\n",
       "    }\n",
       "\n",
       "    .dataframe tbody tr th {\n",
       "        vertical-align: top;\n",
       "    }\n",
       "\n",
       "    .dataframe thead th {\n",
       "        text-align: right;\n",
       "    }\n",
       "</style>\n",
       "<table border=\"1\" class=\"dataframe\">\n",
       "  <thead>\n",
       "    <tr style=\"text-align: right;\">\n",
       "      <th></th>\n",
       "      <th>class</th>\n",
       "      <th>text</th>\n",
       "    </tr>\n",
       "  </thead>\n",
       "  <tbody>\n",
       "    <tr>\n",
       "      <th>0</th>\n",
       "      <td>suicide</td>\n",
       "      <td>ex wife threatening suicide recently i left my...</td>\n",
       "    </tr>\n",
       "    <tr>\n",
       "      <th>1</th>\n",
       "      <td>non-suicide</td>\n",
       "      <td>am i weird i do not get affected by compliment...</td>\n",
       "    </tr>\n",
       "    <tr>\n",
       "      <th>2</th>\n",
       "      <td>non-suicide</td>\n",
       "      <td>finally is almost over so i can never hear has...</td>\n",
       "    </tr>\n",
       "    <tr>\n",
       "      <th>3</th>\n",
       "      <td>suicide</td>\n",
       "      <td>i need help just help me i am crying so hard</td>\n",
       "    </tr>\n",
       "    <tr>\n",
       "      <th>4</th>\n",
       "      <td>suicide</td>\n",
       "      <td>i am so lost hello my name is adam and i have ...</td>\n",
       "    </tr>\n",
       "    <tr>\n",
       "      <th>...</th>\n",
       "      <td>...</td>\n",
       "      <td>...</td>\n",
       "    </tr>\n",
       "    <tr>\n",
       "      <th>231302</th>\n",
       "      <td>non-suicide</td>\n",
       "      <td>if you do not like rock then your not going to...</td>\n",
       "    </tr>\n",
       "    <tr>\n",
       "      <th>231303</th>\n",
       "      <td>non-suicide</td>\n",
       "      <td>you how you can tell i have so many friends an...</td>\n",
       "    </tr>\n",
       "    <tr>\n",
       "      <th>231304</th>\n",
       "      <td>non-suicide</td>\n",
       "      <td>pee probably tastes like salty tea can someone...</td>\n",
       "    </tr>\n",
       "    <tr>\n",
       "      <th>231305</th>\n",
       "      <td>suicide</td>\n",
       "      <td>the usual stuff you find here i am not posting...</td>\n",
       "    </tr>\n",
       "    <tr>\n",
       "      <th>231306</th>\n",
       "      <td>non-suicide</td>\n",
       "      <td>i still have not beaten the first boss in holl...</td>\n",
       "    </tr>\n",
       "  </tbody>\n",
       "</table>\n",
       "<p>231307 rows × 2 columns</p>\n",
       "</div>"
      ],
      "text/plain": [
       "              class                                               text\n",
       "0           suicide  ex wife threatening suicide recently i left my...\n",
       "1       non-suicide  am i weird i do not get affected by compliment...\n",
       "2       non-suicide  finally is almost over so i can never hear has...\n",
       "3           suicide       i need help just help me i am crying so hard\n",
       "4           suicide  i am so lost hello my name is adam and i have ...\n",
       "...             ...                                                ...\n",
       "231302  non-suicide  if you do not like rock then your not going to...\n",
       "231303  non-suicide  you how you can tell i have so many friends an...\n",
       "231304  non-suicide  pee probably tastes like salty tea can someone...\n",
       "231305      suicide  the usual stuff you find here i am not posting...\n",
       "231306  non-suicide  i still have not beaten the first boss in holl...\n",
       "\n",
       "[231307 rows x 2 columns]"
      ]
     },
     "execution_count": 5,
     "metadata": {},
     "output_type": "execute_result"
    }
   ],
   "source": [
    "df.drop([\"Unnamed: 0\", \"index\"], axis=1, inplace=True)\n",
    "df[\"text\"].progress_apply(lambda x: str(x))\n",
    "df"
   ]
  },
  {
   "cell_type": "markdown",
   "id": "3cae2aa3-86c7-4f33-88ac-134302fc6510",
   "metadata": {
    "tags": []
   },
   "source": [
    "### 1.2. Convert Target to Binary Variable"
   ]
  },
  {
   "cell_type": "code",
   "execution_count": 6,
   "id": "e79ffcc5-64d9-4177-bbbd-e43534c3564b",
   "metadata": {
    "tags": []
   },
   "outputs": [],
   "source": [
    "df[\"target\"] = df[\"class\"].replace({\"non-suicide\": 0, \"suicide\": 1})"
   ]
  },
  {
   "cell_type": "code",
   "execution_count": 7,
   "id": "4d2bbacc-12be-4e51-a6dd-3346bfa71b0a",
   "metadata": {},
   "outputs": [],
   "source": [
    "# df = df.reset_index()\n",
    "df.drop([\"class\"], axis=1, inplace=True)"
   ]
  },
  {
   "cell_type": "code",
   "execution_count": 8,
   "id": "77a8ca21-abb5-4e5c-92f0-3fd1f7e9fac6",
   "metadata": {},
   "outputs": [
    {
     "data": {
      "text/html": [
       "<div>\n",
       "<style scoped>\n",
       "    .dataframe tbody tr th:only-of-type {\n",
       "        vertical-align: middle;\n",
       "    }\n",
       "\n",
       "    .dataframe tbody tr th {\n",
       "        vertical-align: top;\n",
       "    }\n",
       "\n",
       "    .dataframe thead th {\n",
       "        text-align: right;\n",
       "    }\n",
       "</style>\n",
       "<table border=\"1\" class=\"dataframe\">\n",
       "  <thead>\n",
       "    <tr style=\"text-align: right;\">\n",
       "      <th></th>\n",
       "      <th>text</th>\n",
       "      <th>target</th>\n",
       "    </tr>\n",
       "  </thead>\n",
       "  <tbody>\n",
       "    <tr>\n",
       "      <th>0</th>\n",
       "      <td>ex wife threatening suicide recently i left my...</td>\n",
       "      <td>1</td>\n",
       "    </tr>\n",
       "    <tr>\n",
       "      <th>1</th>\n",
       "      <td>am i weird i do not get affected by compliment...</td>\n",
       "      <td>0</td>\n",
       "    </tr>\n",
       "    <tr>\n",
       "      <th>2</th>\n",
       "      <td>finally is almost over so i can never hear has...</td>\n",
       "      <td>0</td>\n",
       "    </tr>\n",
       "    <tr>\n",
       "      <th>3</th>\n",
       "      <td>i need help just help me i am crying so hard</td>\n",
       "      <td>1</td>\n",
       "    </tr>\n",
       "    <tr>\n",
       "      <th>4</th>\n",
       "      <td>i am so lost hello my name is adam and i have ...</td>\n",
       "      <td>1</td>\n",
       "    </tr>\n",
       "    <tr>\n",
       "      <th>...</th>\n",
       "      <td>...</td>\n",
       "      <td>...</td>\n",
       "    </tr>\n",
       "    <tr>\n",
       "      <th>231302</th>\n",
       "      <td>if you do not like rock then your not going to...</td>\n",
       "      <td>0</td>\n",
       "    </tr>\n",
       "    <tr>\n",
       "      <th>231303</th>\n",
       "      <td>you how you can tell i have so many friends an...</td>\n",
       "      <td>0</td>\n",
       "    </tr>\n",
       "    <tr>\n",
       "      <th>231304</th>\n",
       "      <td>pee probably tastes like salty tea can someone...</td>\n",
       "      <td>0</td>\n",
       "    </tr>\n",
       "    <tr>\n",
       "      <th>231305</th>\n",
       "      <td>the usual stuff you find here i am not posting...</td>\n",
       "      <td>1</td>\n",
       "    </tr>\n",
       "    <tr>\n",
       "      <th>231306</th>\n",
       "      <td>i still have not beaten the first boss in holl...</td>\n",
       "      <td>0</td>\n",
       "    </tr>\n",
       "  </tbody>\n",
       "</table>\n",
       "<p>231307 rows × 2 columns</p>\n",
       "</div>"
      ],
      "text/plain": [
       "                                                     text  target\n",
       "0       ex wife threatening suicide recently i left my...       1\n",
       "1       am i weird i do not get affected by compliment...       0\n",
       "2       finally is almost over so i can never hear has...       0\n",
       "3            i need help just help me i am crying so hard       1\n",
       "4       i am so lost hello my name is adam and i have ...       1\n",
       "...                                                   ...     ...\n",
       "231302  if you do not like rock then your not going to...       0\n",
       "231303  you how you can tell i have so many friends an...       0\n",
       "231304  pee probably tastes like salty tea can someone...       0\n",
       "231305  the usual stuff you find here i am not posting...       1\n",
       "231306  i still have not beaten the first boss in holl...       0\n",
       "\n",
       "[231307 rows x 2 columns]"
      ]
     },
     "execution_count": 8,
     "metadata": {},
     "output_type": "execute_result"
    }
   ],
   "source": [
    "df"
   ]
  },
  {
   "cell_type": "markdown",
   "id": "fd0c8079-93fb-4340-bdcc-cb1defe5851f",
   "metadata": {
    "tags": []
   },
   "source": [
    "### 1.3 Tokenize, Lemmatize, and re-join"
   ]
  },
  {
   "cell_type": "code",
   "execution_count": 12,
   "id": "d4c54540-05f6-431f-b14a-fdf2ded77be7",
   "metadata": {
    "tags": []
   },
   "outputs": [],
   "source": [
    "df[\"tokens\"] = df[\"text\"].apply(lambda s: word_tokenize(s))"
   ]
  },
  {
   "cell_type": "code",
   "execution_count": 13,
   "id": "890c7116-2b78-4c7d-8484-1c649423dcc7",
   "metadata": {},
   "outputs": [],
   "source": [
    "lem = Lem()"
   ]
  },
  {
   "cell_type": "code",
   "execution_count": 14,
   "id": "a9072723-4a92-442c-8e4f-b8a00524f01b",
   "metadata": {},
   "outputs": [],
   "source": [
    "df[\"tokens\"] = df[\"tokens\"].apply(lambda x: [lem.lemmatize(token) for token in x])"
   ]
  },
  {
   "cell_type": "code",
   "execution_count": 15,
   "id": "95be7038-21a8-4deb-ad06-13de2f45bafa",
   "metadata": {},
   "outputs": [],
   "source": [
    "df[\"text\"] = df[\"tokens\"].apply(lambda x: str(\" \".join(x)))"
   ]
  },
  {
   "cell_type": "code",
   "execution_count": 16,
   "id": "83830788-7ca2-4fbb-84a7-279e3a628858",
   "metadata": {
    "tags": []
   },
   "outputs": [],
   "source": [
    "df.drop([\"tokens\"], axis=1, inplace=True)"
   ]
  },
  {
   "cell_type": "markdown",
   "id": "fa278b83-ff44-4ff1-a904-d878fc095cf2",
   "metadata": {
    "tags": []
   },
   "source": [
    "### 1.4 Remove StopWords with spaCy (try with + without)"
   ]
  },
  {
   "cell_type": "code",
   "execution_count": 17,
   "id": "2c67c091-b5f2-4fd6-bb95-d17c6c74f1a1",
   "metadata": {},
   "outputs": [],
   "source": [
    "\"\"\" Load SpaCy\"\"\"\n",
    "\n",
    "# Using 'en_core_web_sm' Dictionary\n",
    "import time\n",
    "\n",
    "import spacy\n",
    "\n",
    "nlp = spacy.load(\"en_core_web_sm\")\n",
    "import en_core_web_sm\n",
    "\n",
    "nlp = en_core_web_sm.load()\n",
    "\n",
    "from spacytextblob.spacytextblob import SpacyTextBlob"
   ]
  },
  {
   "cell_type": "markdown",
   "id": "518ebadb-2c66-47a3-b720-01e19afb75b3",
   "metadata": {},
   "source": [
    "* Setting up a separate dataframe to compare with spaCy stopword removal vs. without"
   ]
  },
  {
   "cell_type": "code",
   "execution_count": 18,
   "id": "44715722-36f8-4870-a2a1-5574b873cbfb",
   "metadata": {},
   "outputs": [],
   "source": [
    "\"\"\" Remove stopwords from nostop_df \"\"\"\n",
    "\n",
    "nostop_df = df.copy()\n",
    "stopwords = nlp.Defaults.stop_words\n",
    "nostop_df[\"text\"] = nostop_df[\"text\"].apply(\n",
    "    lambda x: \" \".join([word for word in str(x).split() if word not in (stopwords)])\n",
    ")"
   ]
  },
  {
   "cell_type": "markdown",
   "id": "59b080b9-c26c-46fa-9352-b33c55028c9d",
   "metadata": {},
   "source": [
    "## 2a. Setting up Emotion Detection Dataset - StopWords Included"
   ]
  },
  {
   "cell_type": "code",
   "execution_count": 99,
   "id": "e2d61724-a990-4d38-baf2-a55597805a7e",
   "metadata": {},
   "outputs": [],
   "source": [
    "# pip install NRCLex\n",
    "\n",
    "from nrclex import NRCLex"
   ]
  },
  {
   "cell_type": "code",
   "execution_count": 23,
   "id": "7aff5a90-d4b7-4d1d-8cc9-3d9ada9551af",
   "metadata": {
    "tags": []
   },
   "outputs": [
    {
     "name": "stdout",
     "output_type": "stream",
     "text": [
      "['sadness', 'negative', 'sadness']\n",
      "\n",
      " {'older': ['sadness'], 'depression': ['negative', 'sadness']}\n",
      "\n",
      " {'sadness': 2, 'negative': 1}\n",
      "\n",
      " [('sadness', 0.6666666666666666)]\n",
      "\n",
      " {'fear': 0.0, 'anger': 0.0, 'anticip': 0.0, 'trust': 0.0, 'surprise': 0.0, 'positive': 0.0, 'negative': 0.3333333333333333, 'sadness': 0.6666666666666666, 'disgust': 0.0, 'joy': 0.0}\n"
     ]
    }
   ],
   "source": [
    "# Testing how NRCLex Works\n",
    "\n",
    "emotion = NRCLex(\n",
    "    \"I have this thing where I get older but just never wiser, midnights become my afternoons. \\\n",
    "When my depression works the graveyard shift, all of the people I've ghosted stand in the room.\"\n",
    ")\n",
    "\n",
    "print(emotion.affect_list)\n",
    "\n",
    "print(\"\\n\", emotion.affect_dict)\n",
    "\n",
    "print(\"\\n\", emotion.raw_emotion_scores)\n",
    "\n",
    "print(\"\\n\", emotion.top_emotions)\n",
    "\n",
    "print(\"\\n\", emotion.affect_frequencies)\n",
    "\n",
    "tester = pd.DataFrame([emotion.affect_frequencies])\n",
    "\n",
    "\n",
    "# emotion = NRCLex(\"'am i weird i do not get affected by compliments if its coming from someone i know in real life but i feel really good when internet strangers do it\")\n",
    "# emotion.raw_emotion_scores"
   ]
  },
  {
   "cell_type": "code",
   "execution_count": 34,
   "id": "e11ba60e-151a-4a2e-b430-88b100a5c937",
   "metadata": {},
   "outputs": [
    {
     "name": "stderr",
     "output_type": "stream",
     "text": [
      "100%|██████████| 231307/231307 [05:00<00:00, 769.87it/s]\n"
     ]
    },
    {
     "data": {
      "text/html": [
       "<div>\n",
       "<style scoped>\n",
       "    .dataframe tbody tr th:only-of-type {\n",
       "        vertical-align: middle;\n",
       "    }\n",
       "\n",
       "    .dataframe tbody tr th {\n",
       "        vertical-align: top;\n",
       "    }\n",
       "\n",
       "    .dataframe thead th {\n",
       "        text-align: right;\n",
       "    }\n",
       "</style>\n",
       "<table border=\"1\" class=\"dataframe\">\n",
       "  <thead>\n",
       "    <tr style=\"text-align: right;\">\n",
       "      <th></th>\n",
       "      <th>anger</th>\n",
       "      <th>disgust</th>\n",
       "      <th>fear</th>\n",
       "      <th>negative</th>\n",
       "      <th>sadness</th>\n",
       "      <th>anticipation</th>\n",
       "      <th>joy</th>\n",
       "      <th>positive</th>\n",
       "      <th>surprise</th>\n",
       "      <th>trust</th>\n",
       "    </tr>\n",
       "  </thead>\n",
       "  <tbody>\n",
       "    <tr>\n",
       "      <th>0</th>\n",
       "      <td>9.0</td>\n",
       "      <td>5.0</td>\n",
       "      <td>9.0</td>\n",
       "      <td>12.0</td>\n",
       "      <td>7.0</td>\n",
       "      <td>7.0</td>\n",
       "      <td>5.0</td>\n",
       "      <td>5.0</td>\n",
       "      <td>5.0</td>\n",
       "      <td>5.0</td>\n",
       "    </tr>\n",
       "    <tr>\n",
       "      <th>1</th>\n",
       "      <td>NaN</td>\n",
       "      <td>1.0</td>\n",
       "      <td>1.0</td>\n",
       "      <td>2.0</td>\n",
       "      <td>NaN</td>\n",
       "      <td>3.0</td>\n",
       "      <td>2.0</td>\n",
       "      <td>3.0</td>\n",
       "      <td>2.0</td>\n",
       "      <td>3.0</td>\n",
       "    </tr>\n",
       "    <tr>\n",
       "      <th>2</th>\n",
       "      <td>2.0</td>\n",
       "      <td>2.0</td>\n",
       "      <td>2.0</td>\n",
       "      <td>2.0</td>\n",
       "      <td>1.0</td>\n",
       "      <td>2.0</td>\n",
       "      <td>2.0</td>\n",
       "      <td>3.0</td>\n",
       "      <td>1.0</td>\n",
       "      <td>3.0</td>\n",
       "    </tr>\n",
       "    <tr>\n",
       "      <th>3</th>\n",
       "      <td>NaN</td>\n",
       "      <td>NaN</td>\n",
       "      <td>NaN</td>\n",
       "      <td>1.0</td>\n",
       "      <td>1.0</td>\n",
       "      <td>NaN</td>\n",
       "      <td>NaN</td>\n",
       "      <td>NaN</td>\n",
       "      <td>NaN</td>\n",
       "      <td>NaN</td>\n",
       "    </tr>\n",
       "    <tr>\n",
       "      <th>4</th>\n",
       "      <td>21.0</td>\n",
       "      <td>13.0</td>\n",
       "      <td>30.0</td>\n",
       "      <td>40.0</td>\n",
       "      <td>29.0</td>\n",
       "      <td>26.0</td>\n",
       "      <td>9.0</td>\n",
       "      <td>15.0</td>\n",
       "      <td>8.0</td>\n",
       "      <td>13.0</td>\n",
       "    </tr>\n",
       "    <tr>\n",
       "      <th>...</th>\n",
       "      <td>...</td>\n",
       "      <td>...</td>\n",
       "      <td>...</td>\n",
       "      <td>...</td>\n",
       "      <td>...</td>\n",
       "      <td>...</td>\n",
       "      <td>...</td>\n",
       "      <td>...</td>\n",
       "      <td>...</td>\n",
       "      <td>...</td>\n",
       "    </tr>\n",
       "    <tr>\n",
       "      <th>231302</th>\n",
       "      <td>NaN</td>\n",
       "      <td>NaN</td>\n",
       "      <td>NaN</td>\n",
       "      <td>NaN</td>\n",
       "      <td>NaN</td>\n",
       "      <td>NaN</td>\n",
       "      <td>NaN</td>\n",
       "      <td>1.0</td>\n",
       "      <td>NaN</td>\n",
       "      <td>NaN</td>\n",
       "    </tr>\n",
       "    <tr>\n",
       "      <th>231303</th>\n",
       "      <td>1.0</td>\n",
       "      <td>1.0</td>\n",
       "      <td>2.0</td>\n",
       "      <td>2.0</td>\n",
       "      <td>1.0</td>\n",
       "      <td>NaN</td>\n",
       "      <td>1.0</td>\n",
       "      <td>2.0</td>\n",
       "      <td>NaN</td>\n",
       "      <td>2.0</td>\n",
       "    </tr>\n",
       "    <tr>\n",
       "      <th>231304</th>\n",
       "      <td>NaN</td>\n",
       "      <td>NaN</td>\n",
       "      <td>NaN</td>\n",
       "      <td>NaN</td>\n",
       "      <td>NaN</td>\n",
       "      <td>NaN</td>\n",
       "      <td>NaN</td>\n",
       "      <td>NaN</td>\n",
       "      <td>NaN</td>\n",
       "      <td>NaN</td>\n",
       "    </tr>\n",
       "    <tr>\n",
       "      <th>231305</th>\n",
       "      <td>9.0</td>\n",
       "      <td>6.0</td>\n",
       "      <td>7.0</td>\n",
       "      <td>14.0</td>\n",
       "      <td>10.0</td>\n",
       "      <td>3.0</td>\n",
       "      <td>2.0</td>\n",
       "      <td>7.0</td>\n",
       "      <td>1.0</td>\n",
       "      <td>4.0</td>\n",
       "    </tr>\n",
       "    <tr>\n",
       "      <th>231306</th>\n",
       "      <td>2.0</td>\n",
       "      <td>1.0</td>\n",
       "      <td>3.0</td>\n",
       "      <td>4.0</td>\n",
       "      <td>3.0</td>\n",
       "      <td>1.0</td>\n",
       "      <td>NaN</td>\n",
       "      <td>1.0</td>\n",
       "      <td>NaN</td>\n",
       "      <td>NaN</td>\n",
       "    </tr>\n",
       "  </tbody>\n",
       "</table>\n",
       "<p>231307 rows × 10 columns</p>\n",
       "</div>"
      ],
      "text/plain": [
       "        anger  disgust  fear  negative  sadness  anticipation  joy  positive  \\\n",
       "0         9.0      5.0   9.0      12.0      7.0           7.0  5.0       5.0   \n",
       "1         NaN      1.0   1.0       2.0      NaN           3.0  2.0       3.0   \n",
       "2         2.0      2.0   2.0       2.0      1.0           2.0  2.0       3.0   \n",
       "3         NaN      NaN   NaN       1.0      1.0           NaN  NaN       NaN   \n",
       "4        21.0     13.0  30.0      40.0     29.0          26.0  9.0      15.0   \n",
       "...       ...      ...   ...       ...      ...           ...  ...       ...   \n",
       "231302    NaN      NaN   NaN       NaN      NaN           NaN  NaN       1.0   \n",
       "231303    1.0      1.0   2.0       2.0      1.0           NaN  1.0       2.0   \n",
       "231304    NaN      NaN   NaN       NaN      NaN           NaN  NaN       NaN   \n",
       "231305    9.0      6.0   7.0      14.0     10.0           3.0  2.0       7.0   \n",
       "231306    2.0      1.0   3.0       4.0      3.0           1.0  NaN       1.0   \n",
       "\n",
       "        surprise  trust  \n",
       "0            5.0    5.0  \n",
       "1            2.0    3.0  \n",
       "2            1.0    3.0  \n",
       "3            NaN    NaN  \n",
       "4            8.0   13.0  \n",
       "...          ...    ...  \n",
       "231302       NaN    NaN  \n",
       "231303       NaN    2.0  \n",
       "231304       NaN    NaN  \n",
       "231305       1.0    4.0  \n",
       "231306       NaN    NaN  \n",
       "\n",
       "[231307 rows x 10 columns]"
      ]
     },
     "execution_count": 34,
     "metadata": {},
     "output_type": "execute_result"
    }
   ],
   "source": [
    "\"\"\" Make an affect_df to concat with df\"\"\"\n",
    "\n",
    "total_text = [text for text in df[\"text\"]]\n",
    "\n",
    "emot_df = pd.DataFrame()\n",
    "\n",
    "for text in tqdm(total_text):\n",
    "    emot_map = NRCLex(text).raw_emotion_scores\n",
    "    row_pt2 = pd.DataFrame([emot_map])\n",
    "    emot_df = pd.concat([emot_df, row_pt2], ignore_index=True)\n",
    "\n",
    "emot_df"
   ]
  },
  {
   "cell_type": "code",
   "execution_count": 20,
   "id": "fc649ec5-5c4c-4acb-9684-a4dd7f130551",
   "metadata": {
    "collapsed": true,
    "jupyter": {
     "outputs_hidden": true,
     "source_hidden": true
    },
    "tags": []
   },
   "outputs": [
    {
     "data": {
      "text/html": [
       "<div>\n",
       "<style scoped>\n",
       "    .dataframe tbody tr th:only-of-type {\n",
       "        vertical-align: middle;\n",
       "    }\n",
       "\n",
       "    .dataframe tbody tr th {\n",
       "        vertical-align: top;\n",
       "    }\n",
       "\n",
       "    .dataframe thead th {\n",
       "        text-align: right;\n",
       "    }\n",
       "</style>\n",
       "<table border=\"1\" class=\"dataframe\">\n",
       "  <thead>\n",
       "    <tr style=\"text-align: right;\">\n",
       "      <th></th>\n",
       "      <th>text</th>\n",
       "      <th>target</th>\n",
       "    </tr>\n",
       "  </thead>\n",
       "  <tbody>\n",
       "    <tr>\n",
       "      <th>0</th>\n",
       "      <td>ex wife threatening suicide recently i left my...</td>\n",
       "      <td>1</td>\n",
       "    </tr>\n",
       "    <tr>\n",
       "      <th>1</th>\n",
       "      <td>am i weird i do not get affected by compliment...</td>\n",
       "      <td>0</td>\n",
       "    </tr>\n",
       "    <tr>\n",
       "      <th>2</th>\n",
       "      <td>finally is almost over so i can never hear ha ...</td>\n",
       "      <td>0</td>\n",
       "    </tr>\n",
       "    <tr>\n",
       "      <th>3</th>\n",
       "      <td>i need help just help me i am cry so hard</td>\n",
       "      <td>1</td>\n",
       "    </tr>\n",
       "    <tr>\n",
       "      <th>4</th>\n",
       "      <td>i am so lost hello my name is adam and i have ...</td>\n",
       "      <td>1</td>\n",
       "    </tr>\n",
       "    <tr>\n",
       "      <th>...</th>\n",
       "      <td>...</td>\n",
       "      <td>...</td>\n",
       "    </tr>\n",
       "    <tr>\n",
       "      <th>231302</th>\n",
       "      <td>if you do not like rock then your not going to...</td>\n",
       "      <td>0</td>\n",
       "    </tr>\n",
       "    <tr>\n",
       "      <th>231303</th>\n",
       "      <td>you how you can tell i have so many friend and...</td>\n",
       "      <td>0</td>\n",
       "    </tr>\n",
       "    <tr>\n",
       "      <th>231304</th>\n",
       "      <td>pee probably taste like salty tea can someone ...</td>\n",
       "      <td>0</td>\n",
       "    </tr>\n",
       "    <tr>\n",
       "      <th>231305</th>\n",
       "      <td>the usual stuff you find here i am not posting...</td>\n",
       "      <td>1</td>\n",
       "    </tr>\n",
       "    <tr>\n",
       "      <th>231306</th>\n",
       "      <td>i still have not beaten the first bos in hollo...</td>\n",
       "      <td>0</td>\n",
       "    </tr>\n",
       "  </tbody>\n",
       "</table>\n",
       "<p>231307 rows × 2 columns</p>\n",
       "</div>"
      ],
      "text/plain": [
       "                                                     text  target\n",
       "0       ex wife threatening suicide recently i left my...       1\n",
       "1       am i weird i do not get affected by compliment...       0\n",
       "2       finally is almost over so i can never hear ha ...       0\n",
       "3               i need help just help me i am cry so hard       1\n",
       "4       i am so lost hello my name is adam and i have ...       1\n",
       "...                                                   ...     ...\n",
       "231302  if you do not like rock then your not going to...       0\n",
       "231303  you how you can tell i have so many friend and...       0\n",
       "231304  pee probably taste like salty tea can someone ...       0\n",
       "231305  the usual stuff you find here i am not posting...       1\n",
       "231306  i still have not beaten the first bos in hollo...       0\n",
       "\n",
       "[231307 rows x 2 columns]"
      ]
     },
     "execution_count": 20,
     "metadata": {},
     "output_type": "execute_result"
    }
   ],
   "source": [
    "df\n",
    "\n",
    "# Emot_df has same Indices and No. Rows as df! Good!"
   ]
  },
  {
   "cell_type": "code",
   "execution_count": 35,
   "id": "75f60abc-ce88-4a6a-a91a-546c46bcfb9a",
   "metadata": {},
   "outputs": [],
   "source": [
    "# NaN values should be 0.0 but they were skipped over- replace with 0.0\n",
    "\n",
    "emot_df = emot_df.mask(emot_df.isna(), 0)"
   ]
  },
  {
   "cell_type": "code",
   "execution_count": 36,
   "id": "8282591a-af6b-4516-8d99-588422dac040",
   "metadata": {},
   "outputs": [
    {
     "data": {
      "text/plain": [
       "anger           0\n",
       "disgust         0\n",
       "fear            0\n",
       "negative        0\n",
       "sadness         0\n",
       "anticipation    0\n",
       "joy             0\n",
       "positive        0\n",
       "surprise        0\n",
       "trust           0\n",
       "dtype: int64"
      ]
     },
     "execution_count": 36,
     "metadata": {},
     "output_type": "execute_result"
    }
   ],
   "source": [
    "emot_df.isna().sum()"
   ]
  },
  {
   "cell_type": "markdown",
   "id": "f54e2dbf-4a1a-44cf-b5eb-6b56dc1679d5",
   "metadata": {},
   "source": [
    "**EMOTION SCORES**\n",
    "\n",
    "  * NRCLex has two quantitative components: raw emotion scores and affective frequencies\n",
    "     * Raw emotion scores: count vectorizor of emotion-coded words vs. affective frequencies = percentage of each category in each text.\n",
    "  * Affective frequencies were off mathematically and lexically. Affect Dictionary replaced Trust with two counts of anticipation. Many more terms left unscored/unanalyzed.\n",
    "\n",
    "  1. Generate Raw Emotion Score (ranges from 0 - 1100!!)\n",
    "      * Given range, might need to standardize and regularize"
   ]
  },
  {
   "cell_type": "code",
   "execution_count": 57,
   "id": "ad0edc0e-85c8-430d-8b27-d956ed38e167",
   "metadata": {},
   "outputs": [],
   "source": [
    "# Creating a new df for manipulation and saving emot_df because of crashing Kernels\n",
    "\n",
    "# emot_df.to_csv('./data/emotion_vector.csv')\n",
    "\n",
    "# emot_df = df_for_math\n",
    "df_for_math = emot_df"
   ]
  },
  {
   "cell_type": "code",
   "execution_count": null,
   "id": "738fad95-b462-4a91-adea-75c9fd21f157",
   "metadata": {},
   "outputs": [],
   "source": []
  },
  {
   "cell_type": "code",
   "execution_count": 106,
   "id": "f4a01092-3538-47fb-9b45-b1c2aef0846b",
   "metadata": {},
   "outputs": [
    {
     "data": {
      "text/plain": [
       "anger           350.0\n",
       "disgust         350.0\n",
       "fear            354.0\n",
       "negative        598.0\n",
       "sadness         354.0\n",
       "anticipation    421.0\n",
       "joy             367.0\n",
       "positive        459.0\n",
       "surprise        599.0\n",
       "trust           343.0\n",
       "dtype: float64"
      ]
     },
     "execution_count": 106,
     "metadata": {},
     "output_type": "execute_result"
    }
   ],
   "source": [
    "''' NORMALIZING EMOTION SCORES \n",
    "\n",
    "Equation for normalizing scores: \n",
    "((1 + Total Emotional Words in text) / (1 + Frequency(Count) of Specific Valence in text))\n",
    "\n",
    "#emot_df = emot_df.astype(int)\n",
    "\n",
    "# Append Sum Row to emot_df\n",
    "#emot_df['denom'] = (emot_df.sum(axis=1)+1)\n",
    "\n",
    "\n",
    "# /(1+sum(D))\n",
    "\n",
    "\n",
    "#edf = np.log(emot_df)\n",
    "\n",
    "#emot_df = edf.transform(lambda x: x+1)"
   ]
  },
  {
   "cell_type": "code",
   "execution_count": 100,
   "id": "bcc8c004-23d2-48df-9faf-533455ddb754",
   "metadata": {},
   "outputs": [],
   "source": [
    "test = NRCLex(\n",
    "    \"byebye bye bye bye bye bye bye bye bye bye bye bye bye bye bye bye bye bye bye bye bye bye bye bye bye bye bye bye bye bye bye bye bye bye bye bye bye bye bye bye bye bye bye bye bye bye bye bye bye bye bye bye bye bye bye bye bye bye bye bye bye bye bye bye bye bye bye bye bye bye bye bye bye bye bye bye bye bye bye bye bye bye bye bye bye bye bye bye bye bye bye bye bye bye bye bye bye bye bye bye bye bye bye bye bye bye bye bye bye bye bye bye bye bye bye bye bye bye bye bye bye bye bye bye bye bye bye bye bye bye bye bye bye bye bye bye bye bye bye bye bye bye bye bye bye bye bye bye bye bye bye bye bye bye bye bye bye bye bye bye bye bye bye bye bye bye bye bye bye bye bye bye bye bye bye bye bye bye bye bye bye bye bye bye bye bye bye bye bye bye bye bye bye bye bye bye bye bye bye bye bye bye bye bye bye bye bye bye bye bye bye bye bye bye bye bye bye bye bye bye bye bye bye bye bye bye bye bye bye bye bye bye bye bye bye bye bye bye bye bye bye bye bye bye bye bye bye bye bye bye bye bye bye bye bye bye bye bye bye bye bye bye bye bye bye bye bye bye bye bye bye bye bye bye bye bye bye bye bye bye bye bye bye bye bye bye bye bye bye bye bye bye bye bye bye bye bye bye bye bye bye bye bye bye bye bye bye bye bye bye bye bye bye bye bye bye bye bye bye bye bye bye bye bye bye bye bye bye bye bye bye bye bye bye bye bye bye bye bye bye bye bye bye bye bye bye bye bye bye bye bye bye bye bye bye bye bye bye bye bye bye bye bye bye bye bye bye bye bye bye bye bye bye bye bye bye bye bye bye bye bye bye bye bye bye bye bye bye bye bye bye bye bye bye bye bye bye bye bye bye bye bye bye bye bye bye bye bye bye bye bye bye bye bye bye bye bye bye bye bye bye bye bye bye bye bye bye bye bye bye bye bye bye bye bye bye bye bye bye bye bye bye bye bye bye bye bye bye bye bye bye bye bye bye bye bye bye bye bye bye bye bye bye bye bye bye bye bye bye bye bye bye bye bye bye bye bye bye bye bye bye bye bye bye bye bye bye bye bye bye bye bye bye bye bye bye bye bye bye bye bye bye bye bye bye bye bye bye bye bye bye bye bye bye bye bye bye bye bye bye bye bye bye bye bye bye bye bye bye bye bye bye bye bye bye bye bye bye bye bye bye bye bye bye bye bye bye bye bye bye bye bye bye bye bye bye bye bye bye bye bye bye bye bye bye bye bye bye bye bye bye bye bye bye bye bye bye bye bye bye bye bye bye bye bye bye bye bye bye bye bye bye bye bye bye bye bye bye bye bye bye bye bye bye bye bye bye bye bye bye bye bye bye bye bye bye bye bye bye bye bye bye bye bye bye bye bye bye bye bye bye bye bye bye bye bye bye bye bye bye bye bye bye bye bye bye bye bye bye bye bye bye bye bye bye bye bye bye bye bye bye bye bye bye bye bye bye bye bye bye bye bye bye bye bye bye bye bye bye bye bye bye bye bye bye bye bye bye bye bye bye bye bye bye bye bye bye bye bye bye bye bye bye bye bye bye bye bye bye bye bye bye bye bye bye bye bye bye bye bye bye bye bye bye bye bye bye bye bye bye bye bye bye bye bye bye bye bye bye bye bye bye bye bye bye bye bye bye bye bye bye bye bye bye bye bye bye bye bye bye bye bye bye bye bye bye bye bye bye bye bye bye bye bye bye bye bye bye bye bye bye bye bye bye bye bye bye bye bye bye bye bye bye bye bye bye bye bye bye bye bye bye bye bye bye bye bye bye bye bye bye bye bye bye bye bye bye bye bye bye bye bye bye bye bye bye bye bye bye bye bye bye bye bye bye bye bye bye bye bye bye bye bye bye bye bye bye bye bye bye bye bye bye bye bye bye bye bye bye bye bye bye bye bye bye bye bye bye bye bye bye bye bye bye bye bye bye bye bye bye bye bye bye bye bye bye bye bye bye bye bye bye bye bye bye bye bye bye bye bye bye bye bye bye bye bye bye bye bye bye bye bye bye bye bye bye bye bye bye bye bye bye bye bye bye bye bye bye bye bye bye bye bye bye bye bye bye bye bye bye bye bye bye bye bye bye bye bye bye bye bye bye bye bye bye bye bye bye bye bye bye bye bye bye bye bye bye bye bye bye bye bye bye bye bye bye bye bye bye bye bye bye bye bye bye bye bye bye bye bye bye bye bye bye bye bye bye bye bye bye bye bye bye bye bye bye bye bye bye bye bye bye bye bye bye bye bye bye bye bye bye bye bye bye bye bye bye bye bye bye bye bye bye bye bye bye bye bye bye bye bye bye bye bye bye bye bye bye bye bye bye bye bye bye bye bye bye bye bye bye bye bye bye bye bye bye bye bye bye bye bye bye bye bye bye bye bye bye bye bye bye bye bye bye bye bye bye bye bye bye bye bye bye bye bye bye bye bye bye bye bye bye bye bye\"\n",
    ")"
   ]
  },
  {
   "cell_type": "code",
   "execution_count": 102,
   "id": "777449fd-372a-4ca1-8526-9b6048b86b26",
   "metadata": {},
   "outputs": [
    {
     "data": {
      "text/plain": [
       "{'bye': ['anticipation']}"
      ]
     },
     "execution_count": 102,
     "metadata": {},
     "output_type": "execute_result"
    }
   ],
   "source": [
    "test.affect_dict"
   ]
  },
  {
   "cell_type": "code",
   "execution_count": 60,
   "id": "178c19e3-b119-441a-bd03-887e8a34ea9e",
   "metadata": {},
   "outputs": [
    {
     "data": {
      "text/html": [
       "<div>\n",
       "<style scoped>\n",
       "    .dataframe tbody tr th:only-of-type {\n",
       "        vertical-align: middle;\n",
       "    }\n",
       "\n",
       "    .dataframe tbody tr th {\n",
       "        vertical-align: top;\n",
       "    }\n",
       "\n",
       "    .dataframe thead th {\n",
       "        text-align: right;\n",
       "    }\n",
       "</style>\n",
       "<table border=\"1\" class=\"dataframe\">\n",
       "  <thead>\n",
       "    <tr style=\"text-align: right;\">\n",
       "      <th></th>\n",
       "      <th>anger</th>\n",
       "      <th>disgust</th>\n",
       "      <th>fear</th>\n",
       "      <th>negative</th>\n",
       "      <th>sadness</th>\n",
       "      <th>anticipation</th>\n",
       "      <th>joy</th>\n",
       "      <th>positive</th>\n",
       "      <th>surprise</th>\n",
       "      <th>trust</th>\n",
       "    </tr>\n",
       "  </thead>\n",
       "  <tbody>\n",
       "    <tr>\n",
       "      <th>82408</th>\n",
       "      <td>0.0</td>\n",
       "      <td>0.0</td>\n",
       "      <td>0.0</td>\n",
       "      <td>0.0</td>\n",
       "      <td>0.0</td>\n",
       "      <td>1103.0</td>\n",
       "      <td>0.0</td>\n",
       "      <td>0.0</td>\n",
       "      <td>0.0</td>\n",
       "      <td>0.0</td>\n",
       "    </tr>\n",
       "    <tr>\n",
       "      <th>126160</th>\n",
       "      <td>0.0</td>\n",
       "      <td>0.0</td>\n",
       "      <td>0.0</td>\n",
       "      <td>1.0</td>\n",
       "      <td>1.0</td>\n",
       "      <td>421.0</td>\n",
       "      <td>1.0</td>\n",
       "      <td>1.0</td>\n",
       "      <td>0.0</td>\n",
       "      <td>1.0</td>\n",
       "    </tr>\n",
       "    <tr>\n",
       "      <th>139372</th>\n",
       "      <td>0.0</td>\n",
       "      <td>0.0</td>\n",
       "      <td>0.0</td>\n",
       "      <td>0.0</td>\n",
       "      <td>0.0</td>\n",
       "      <td>343.0</td>\n",
       "      <td>343.0</td>\n",
       "      <td>343.0</td>\n",
       "      <td>0.0</td>\n",
       "      <td>343.0</td>\n",
       "    </tr>\n",
       "    <tr>\n",
       "      <th>145085</th>\n",
       "      <td>0.0</td>\n",
       "      <td>0.0</td>\n",
       "      <td>0.0</td>\n",
       "      <td>0.0</td>\n",
       "      <td>0.0</td>\n",
       "      <td>240.0</td>\n",
       "      <td>240.0</td>\n",
       "      <td>240.0</td>\n",
       "      <td>0.0</td>\n",
       "      <td>240.0</td>\n",
       "    </tr>\n",
       "    <tr>\n",
       "      <th>145276</th>\n",
       "      <td>98.0</td>\n",
       "      <td>174.0</td>\n",
       "      <td>190.0</td>\n",
       "      <td>323.0</td>\n",
       "      <td>129.0</td>\n",
       "      <td>223.0</td>\n",
       "      <td>233.0</td>\n",
       "      <td>458.0</td>\n",
       "      <td>118.0</td>\n",
       "      <td>222.0</td>\n",
       "    </tr>\n",
       "    <tr>\n",
       "      <th>...</th>\n",
       "      <td>...</td>\n",
       "      <td>...</td>\n",
       "      <td>...</td>\n",
       "      <td>...</td>\n",
       "      <td>...</td>\n",
       "      <td>...</td>\n",
       "      <td>...</td>\n",
       "      <td>...</td>\n",
       "      <td>...</td>\n",
       "      <td>...</td>\n",
       "    </tr>\n",
       "    <tr>\n",
       "      <th>157663</th>\n",
       "      <td>0.0</td>\n",
       "      <td>0.0</td>\n",
       "      <td>0.0</td>\n",
       "      <td>0.0</td>\n",
       "      <td>0.0</td>\n",
       "      <td>0.0</td>\n",
       "      <td>0.0</td>\n",
       "      <td>0.0</td>\n",
       "      <td>0.0</td>\n",
       "      <td>0.0</td>\n",
       "    </tr>\n",
       "    <tr>\n",
       "      <th>57904</th>\n",
       "      <td>1.0</td>\n",
       "      <td>1.0</td>\n",
       "      <td>1.0</td>\n",
       "      <td>1.0</td>\n",
       "      <td>0.0</td>\n",
       "      <td>0.0</td>\n",
       "      <td>1.0</td>\n",
       "      <td>1.0</td>\n",
       "      <td>0.0</td>\n",
       "      <td>1.0</td>\n",
       "    </tr>\n",
       "    <tr>\n",
       "      <th>57905</th>\n",
       "      <td>0.0</td>\n",
       "      <td>1.0</td>\n",
       "      <td>0.0</td>\n",
       "      <td>2.0</td>\n",
       "      <td>0.0</td>\n",
       "      <td>0.0</td>\n",
       "      <td>0.0</td>\n",
       "      <td>0.0</td>\n",
       "      <td>0.0</td>\n",
       "      <td>0.0</td>\n",
       "    </tr>\n",
       "    <tr>\n",
       "      <th>57907</th>\n",
       "      <td>0.0</td>\n",
       "      <td>0.0</td>\n",
       "      <td>0.0</td>\n",
       "      <td>0.0</td>\n",
       "      <td>0.0</td>\n",
       "      <td>0.0</td>\n",
       "      <td>0.0</td>\n",
       "      <td>0.0</td>\n",
       "      <td>0.0</td>\n",
       "      <td>0.0</td>\n",
       "    </tr>\n",
       "    <tr>\n",
       "      <th>166675</th>\n",
       "      <td>0.0</td>\n",
       "      <td>0.0</td>\n",
       "      <td>0.0</td>\n",
       "      <td>0.0</td>\n",
       "      <td>0.0</td>\n",
       "      <td>0.0</td>\n",
       "      <td>0.0</td>\n",
       "      <td>0.0</td>\n",
       "      <td>0.0</td>\n",
       "      <td>0.0</td>\n",
       "    </tr>\n",
       "  </tbody>\n",
       "</table>\n",
       "<p>231307 rows × 10 columns</p>\n",
       "</div>"
      ],
      "text/plain": [
       "        anger  disgust   fear  negative  sadness  anticipation    joy  \\\n",
       "82408     0.0      0.0    0.0       0.0      0.0        1103.0    0.0   \n",
       "126160    0.0      0.0    0.0       1.0      1.0         421.0    1.0   \n",
       "139372    0.0      0.0    0.0       0.0      0.0         343.0  343.0   \n",
       "145085    0.0      0.0    0.0       0.0      0.0         240.0  240.0   \n",
       "145276   98.0    174.0  190.0     323.0    129.0         223.0  233.0   \n",
       "...       ...      ...    ...       ...      ...           ...    ...   \n",
       "157663    0.0      0.0    0.0       0.0      0.0           0.0    0.0   \n",
       "57904     1.0      1.0    1.0       1.0      0.0           0.0    1.0   \n",
       "57905     0.0      1.0    0.0       2.0      0.0           0.0    0.0   \n",
       "57907     0.0      0.0    0.0       0.0      0.0           0.0    0.0   \n",
       "166675    0.0      0.0    0.0       0.0      0.0           0.0    0.0   \n",
       "\n",
       "        positive  surprise  trust  \n",
       "82408        0.0       0.0    0.0  \n",
       "126160       1.0       0.0    1.0  \n",
       "139372     343.0       0.0  343.0  \n",
       "145085     240.0       0.0  240.0  \n",
       "145276     458.0     118.0  222.0  \n",
       "...          ...       ...    ...  \n",
       "157663       0.0       0.0    0.0  \n",
       "57904        1.0       0.0    1.0  \n",
       "57905        0.0       0.0    0.0  \n",
       "57907        0.0       0.0    0.0  \n",
       "166675       0.0       0.0    0.0  \n",
       "\n",
       "[231307 rows x 10 columns]"
      ]
     },
     "execution_count": 60,
     "metadata": {},
     "output_type": "execute_result"
    }
   ],
   "source": [
    "emot_df.sort_values(by=\"anticipation\", ascending=False)"
   ]
  },
  {
   "cell_type": "code",
   "execution_count": 128,
   "id": "1d63c071-641f-4c6d-a0bd-c636f908ab7c",
   "metadata": {},
   "outputs": [
    {
     "data": {
      "image/png": "[encoded data removed]",
      "text/plain": [
       "<Figure size 640x480 with 1 Axes>"
      ]
     },
     "metadata": {},
     "output_type": "display_data"
    }
   ],
   "source": [
    "g = sns.histplot(emot_df[:2000], bins=20, common_norm=True, legend=False)\n",
    "g.set(xlim=(0, 50));"
   ]
  },
  {
   "cell_type": "code",
   "execution_count": 49,
   "id": "a2c710b1-837f-449b-87b0-cf02c0c01d52",
   "metadata": {},
   "outputs": [
    {
     "data": {
      "text/html": [
       "<div>\n",
       "<style scoped>\n",
       "    .dataframe tbody tr th:only-of-type {\n",
       "        vertical-align: middle;\n",
       "    }\n",
       "\n",
       "    .dataframe tbody tr th {\n",
       "        vertical-align: top;\n",
       "    }\n",
       "\n",
       "    .dataframe thead th {\n",
       "        text-align: right;\n",
       "    }\n",
       "</style>\n",
       "<table border=\"1\" class=\"dataframe\">\n",
       "  <thead>\n",
       "    <tr style=\"text-align: right;\">\n",
       "      <th></th>\n",
       "      <th>anger</th>\n",
       "      <th>disgust</th>\n",
       "      <th>fear</th>\n",
       "      <th>negative</th>\n",
       "      <th>sadness</th>\n",
       "      <th>anticipation</th>\n",
       "      <th>joy</th>\n",
       "      <th>positive</th>\n",
       "      <th>surprise</th>\n",
       "      <th>trust</th>\n",
       "    </tr>\n",
       "  </thead>\n",
       "  <tbody>\n",
       "    <tr>\n",
       "      <th>0</th>\n",
       "      <td>9.0</td>\n",
       "      <td>5.0</td>\n",
       "      <td>9.0</td>\n",
       "      <td>12.0</td>\n",
       "      <td>7.0</td>\n",
       "      <td>7.0</td>\n",
       "      <td>5.0</td>\n",
       "      <td>5.0</td>\n",
       "      <td>5.0</td>\n",
       "      <td>5.0</td>\n",
       "    </tr>\n",
       "    <tr>\n",
       "      <th>1</th>\n",
       "      <td>0.0</td>\n",
       "      <td>1.0</td>\n",
       "      <td>1.0</td>\n",
       "      <td>2.0</td>\n",
       "      <td>0.0</td>\n",
       "      <td>3.0</td>\n",
       "      <td>2.0</td>\n",
       "      <td>3.0</td>\n",
       "      <td>2.0</td>\n",
       "      <td>3.0</td>\n",
       "    </tr>\n",
       "    <tr>\n",
       "      <th>2</th>\n",
       "      <td>2.0</td>\n",
       "      <td>2.0</td>\n",
       "      <td>2.0</td>\n",
       "      <td>2.0</td>\n",
       "      <td>1.0</td>\n",
       "      <td>2.0</td>\n",
       "      <td>2.0</td>\n",
       "      <td>3.0</td>\n",
       "      <td>1.0</td>\n",
       "      <td>3.0</td>\n",
       "    </tr>\n",
       "    <tr>\n",
       "      <th>3</th>\n",
       "      <td>0.0</td>\n",
       "      <td>0.0</td>\n",
       "      <td>0.0</td>\n",
       "      <td>1.0</td>\n",
       "      <td>1.0</td>\n",
       "      <td>0.0</td>\n",
       "      <td>0.0</td>\n",
       "      <td>0.0</td>\n",
       "      <td>0.0</td>\n",
       "      <td>0.0</td>\n",
       "    </tr>\n",
       "    <tr>\n",
       "      <th>4</th>\n",
       "      <td>21.0</td>\n",
       "      <td>13.0</td>\n",
       "      <td>30.0</td>\n",
       "      <td>40.0</td>\n",
       "      <td>29.0</td>\n",
       "      <td>26.0</td>\n",
       "      <td>9.0</td>\n",
       "      <td>15.0</td>\n",
       "      <td>8.0</td>\n",
       "      <td>13.0</td>\n",
       "    </tr>\n",
       "    <tr>\n",
       "      <th>...</th>\n",
       "      <td>...</td>\n",
       "      <td>...</td>\n",
       "      <td>...</td>\n",
       "      <td>...</td>\n",
       "      <td>...</td>\n",
       "      <td>...</td>\n",
       "      <td>...</td>\n",
       "      <td>...</td>\n",
       "      <td>...</td>\n",
       "      <td>...</td>\n",
       "    </tr>\n",
       "    <tr>\n",
       "      <th>231302</th>\n",
       "      <td>0.0</td>\n",
       "      <td>0.0</td>\n",
       "      <td>0.0</td>\n",
       "      <td>0.0</td>\n",
       "      <td>0.0</td>\n",
       "      <td>0.0</td>\n",
       "      <td>0.0</td>\n",
       "      <td>1.0</td>\n",
       "      <td>0.0</td>\n",
       "      <td>0.0</td>\n",
       "    </tr>\n",
       "    <tr>\n",
       "      <th>231303</th>\n",
       "      <td>1.0</td>\n",
       "      <td>1.0</td>\n",
       "      <td>2.0</td>\n",
       "      <td>2.0</td>\n",
       "      <td>1.0</td>\n",
       "      <td>0.0</td>\n",
       "      <td>1.0</td>\n",
       "      <td>2.0</td>\n",
       "      <td>0.0</td>\n",
       "      <td>2.0</td>\n",
       "    </tr>\n",
       "    <tr>\n",
       "      <th>231304</th>\n",
       "      <td>0.0</td>\n",
       "      <td>0.0</td>\n",
       "      <td>0.0</td>\n",
       "      <td>0.0</td>\n",
       "      <td>0.0</td>\n",
       "      <td>0.0</td>\n",
       "      <td>0.0</td>\n",
       "      <td>0.0</td>\n",
       "      <td>0.0</td>\n",
       "      <td>0.0</td>\n",
       "    </tr>\n",
       "    <tr>\n",
       "      <th>231305</th>\n",
       "      <td>9.0</td>\n",
       "      <td>6.0</td>\n",
       "      <td>7.0</td>\n",
       "      <td>14.0</td>\n",
       "      <td>10.0</td>\n",
       "      <td>3.0</td>\n",
       "      <td>2.0</td>\n",
       "      <td>7.0</td>\n",
       "      <td>1.0</td>\n",
       "      <td>4.0</td>\n",
       "    </tr>\n",
       "    <tr>\n",
       "      <th>231306</th>\n",
       "      <td>2.0</td>\n",
       "      <td>1.0</td>\n",
       "      <td>3.0</td>\n",
       "      <td>4.0</td>\n",
       "      <td>3.0</td>\n",
       "      <td>1.0</td>\n",
       "      <td>0.0</td>\n",
       "      <td>1.0</td>\n",
       "      <td>0.0</td>\n",
       "      <td>0.0</td>\n",
       "    </tr>\n",
       "  </tbody>\n",
       "</table>\n",
       "<p>231307 rows × 10 columns</p>\n",
       "</div>"
      ],
      "text/plain": [
       "        anger  disgust  fear  negative  sadness  anticipation  joy  positive  \\\n",
       "0         9.0      5.0   9.0      12.0      7.0           7.0  5.0       5.0   \n",
       "1         0.0      1.0   1.0       2.0      0.0           3.0  2.0       3.0   \n",
       "2         2.0      2.0   2.0       2.0      1.0           2.0  2.0       3.0   \n",
       "3         0.0      0.0   0.0       1.0      1.0           0.0  0.0       0.0   \n",
       "4        21.0     13.0  30.0      40.0     29.0          26.0  9.0      15.0   \n",
       "...       ...      ...   ...       ...      ...           ...  ...       ...   \n",
       "231302    0.0      0.0   0.0       0.0      0.0           0.0  0.0       1.0   \n",
       "231303    1.0      1.0   2.0       2.0      1.0           0.0  1.0       2.0   \n",
       "231304    0.0      0.0   0.0       0.0      0.0           0.0  0.0       0.0   \n",
       "231305    9.0      6.0   7.0      14.0     10.0           3.0  2.0       7.0   \n",
       "231306    2.0      1.0   3.0       4.0      3.0           1.0  0.0       1.0   \n",
       "\n",
       "        surprise  trust  \n",
       "0            5.0    5.0  \n",
       "1            2.0    3.0  \n",
       "2            1.0    3.0  \n",
       "3            0.0    0.0  \n",
       "4            8.0   13.0  \n",
       "...          ...    ...  \n",
       "231302       0.0    0.0  \n",
       "231303       0.0    2.0  \n",
       "231304       0.0    0.0  \n",
       "231305       1.0    4.0  \n",
       "231306       0.0    0.0  \n",
       "\n",
       "[231307 rows x 10 columns]"
      ]
     },
     "execution_count": 49,
     "metadata": {},
     "output_type": "execute_result"
    }
   ],
   "source": [
    "emot_df"
   ]
  },
  {
   "cell_type": "code",
   "execution_count": 47,
   "id": "679e8f69-31fe-499a-b501-d408bc9e5692",
   "metadata": {},
   "outputs": [
    {
     "data": {
      "text/plain": [
       "80"
      ]
     },
     "execution_count": 47,
     "metadata": {},
     "output_type": "execute_result"
    }
   ],
   "source": [
    "1 + (10 + 6 + 10 + 13 + 8 + 8 + 6 + 6 + 6 + 6)"
   ]
  },
  {
   "cell_type": "markdown",
   "id": "b40f2331-6d1e-473e-b806-bda8d79e82ee",
   "metadata": {
    "tags": []
   },
   "source": [
    "# SKIP AND COME BACK POST-EMOTION CLASSIFICATION"
   ]
  },
  {
   "cell_type": "markdown",
   "id": "b8c18518-c1e1-4d24-895e-343f13398e5f",
   "metadata": {
    "tags": []
   },
   "source": [
    "### 1.6 - Train-Test Split\n",
    "\n",
    "* Split Ratio - 80% Train : 10% Val: 10% Test"
   ]
  },
  {
   "cell_type": "code",
   "execution_count": null,
   "id": "edaacfab-a940-456e-b7e8-d4f38fa0a164",
   "metadata": {},
   "outputs": [],
   "source": [
    "df"
   ]
  },
  {
   "cell_type": "code",
   "execution_count": null,
   "id": "8d23065f-f3e0-4900-9ef1-3bace46bfe30",
   "metadata": {},
   "outputs": [],
   "source": [
    "X = df[\"text\"]\n",
    "y = df[\"target\"]"
   ]
  },
  {
   "cell_type": "code",
   "execution_count": null,
   "id": "4e2d1bfa-a2b9-4bb6-9c43-7742ad0c5500",
   "metadata": {},
   "outputs": [],
   "source": [
    "X_train, X_temp, y_train, y_temp = train_test_split(\n",
    "    X, y, test_size=0.20, random_state=42\n",
    ")\n",
    "X_val, X_test, y_val, y_test = train_test_split(\n",
    "    X_temp, y_temp, test_size=0.50, random_state=42\n",
    ")"
   ]
  },
  {
   "cell_type": "code",
   "execution_count": null,
   "id": "72f73add-c8c8-4cc7-8a7e-2844560ee254",
   "metadata": {},
   "outputs": [],
   "source": [
    "print(f\"Size - Train: {len(X_train)}, Val: {len(X_val)}, Test:{len(X_test)}\")\n",
    "print(\n",
    "    f\"Percent - Train: {len(X_train)/len(X)*100:.1f}%, Val: {len(X_val)/len(df)*100:.1f}%, Test:{len(X_test)/len(df)*100:.1f}%\"\n",
    ")"
   ]
  },
  {
   "cell_type": "code",
   "execution_count": null,
   "id": "68b3e7da-85e0-491f-83d8-e32bb4190fd8",
   "metadata": {},
   "outputs": [],
   "source": [
    "print(f\"Size - Train: {len(y_train)}, Val: {len(y_val)}, Test:{len(y_test)}\")\n",
    "print(\n",
    "    f\"Percent - Train: {len(y_train)/len(y)*100:.1f}%, Val: {len(y_val)/len(df)*100:.1f}%, Test:{len(y_test)/len(df)*100:.1f}%\"\n",
    ")"
   ]
  },
  {
   "cell_type": "markdown",
   "id": "3a14f9e2-0402-40cc-8d7c-fd47f8b3c2b1",
   "metadata": {},
   "source": [
    "---"
   ]
  },
  {
   "cell_type": "markdown",
   "id": "3187891e-5961-4d4c-bf3d-c1987632a059",
   "metadata": {
    "tags": []
   },
   "source": [
    "# First Simple Model: Multinomial NB with TF-IDF Vectorizer"
   ]
  },
  {
   "cell_type": "markdown",
   "id": "b8ed23cf-7939-4d7e-b663-930bee42b73a",
   "metadata": {
    "tags": []
   },
   "source": [
    "### 4. TF-IDF"
   ]
  },
  {
   "cell_type": "code",
   "execution_count": null,
   "id": "a0af999e-3ee2-4581-af9f-10a340335a8c",
   "metadata": {
    "tags": []
   },
   "outputs": [],
   "source": [
    "vectorizer = TfidfVectorizer(stop_words=\"english\", min_df=0.10, max_df=0.90)\n",
    "X_train_vt = vectorizer.fit_transform(X_train)"
   ]
  },
  {
   "cell_type": "code",
   "execution_count": null,
   "id": "23527be1-0d7b-47d6-a1a6-42c8be8d8128",
   "metadata": {},
   "outputs": [],
   "source": [
    "X_val_vt = vectorizer.transform(X_val)"
   ]
  },
  {
   "cell_type": "code",
   "execution_count": null,
   "id": "5c56e43c-bda1-4078-b877-96474f87dd2e",
   "metadata": {},
   "outputs": [],
   "source": [
    "tfidf_tokens = vectorizer.get_feature_names_out()\n",
    "df_vt = pd.DataFrame(\n",
    "    data=X_train_vt.toarray(), index=y_train.index, columns=tfidf_tokens\n",
    ")"
   ]
  },
  {
   "cell_type": "code",
   "execution_count": null,
   "id": "97469c92-df09-4318-9118-2432b330d489",
   "metadata": {},
   "outputs": [],
   "source": [
    "df_vt"
   ]
  },
  {
   "cell_type": "code",
   "execution_count": null,
   "id": "e04045ed-9faf-4de0-8209-9d76f6cfa9ab",
   "metadata": {},
   "outputs": [],
   "source": [
    "base_nb = MultinomialNB()\n",
    "model = base_nb.fit(X_train_vt, y_train)"
   ]
  },
  {
   "cell_type": "code",
   "execution_count": null,
   "id": "6213764c-88c7-4d22-ae02-f0570927b220",
   "metadata": {},
   "outputs": [],
   "source": [
    "prior_0 = y_train.value_counts()[0] / len(y_train)\n",
    "prior_1 = y_train.value_counts()[1] / len(y_train)\n",
    "prior_0, prior_1"
   ]
  },
  {
   "cell_type": "code",
   "execution_count": null,
   "id": "59f55f84-9279-4111-a86f-69af6bb80873",
   "metadata": {},
   "outputs": [],
   "source": [
    "base_nb.class_log_prior_"
   ]
  },
  {
   "cell_type": "code",
   "execution_count": null,
   "id": "d1bab7e7-24be-40c5-865e-4e7e761db2d3",
   "metadata": {},
   "outputs": [],
   "source": [
    "y_pred = base_nb.predict(X_train_vt)\n",
    "accuracy_score(y_train, y_pred)"
   ]
  },
  {
   "cell_type": "code",
   "execution_count": null,
   "id": "6f3b54f6-c2a3-42e1-a53d-da59708328a7",
   "metadata": {},
   "outputs": [],
   "source": [
    "y_hat = base_nb.predict(X_val_vt)\n",
    "print(accuracy_score(y_val, y_hat))\n",
    "print(precision_score(y_val, y_hat))\n",
    "print(recall_score(y_val, y_hat))"
   ]
  },
  {
   "cell_type": "code",
   "execution_count": null,
   "id": "a5b14ad2-214a-448f-b117-175f3320cb52",
   "metadata": {},
   "outputs": [],
   "source": [
    "cm = confusion_matrix(y_val, y_hat)\n",
    "plot_confusion_matrix(cm, classes=[\"non-risk\", \"suicide risk\"], normalize=True)"
   ]
  },
  {
   "cell_type": "code",
   "execution_count": null,
   "id": "0dbc426a-cb1c-4325-8244-4316bc6f6e37",
   "metadata": {},
   "outputs": [],
   "source": [
    "print(classification_report(y_val, y_hat, labels=[0, 1]))"
   ]
  },
  {
   "cell_type": "markdown",
   "id": "dd97177f-c061-43e7-a208-8c3e4cf662a8",
   "metadata": {},
   "source": [
    "## Summary of First Simple Model"
   ]
  },
  {
   "cell_type": "markdown",
   "id": "7a9110ab-59aa-4013-94c5-ecfde83a3f97",
   "metadata": {},
   "source": [
    "* Seems to be well-fitting model-- not particularly over or under fit (73.6% Train vs. 73.2% Val)\n",
    "* Accuracy on Validation Data is **73.2%**\n",
    "* Higher Recall (0.78) than Precision (0.71). The model overestimates suicide risk and minimizes false negatives.\n",
    "    * This is good: much better to err on the side of caution"
   ]
  },
  {
   "cell_type": "markdown",
   "id": "5119a1b0-18d4-4c03-9451-2cf0b41f614e",
   "metadata": {},
   "source": [
    "---"
   ]
  },
  {
   "cell_type": "markdown",
   "id": "d1919c2d-cd55-405e-9c45-561ad14ac371",
   "metadata": {},
   "source": [
    "---"
   ]
  },
  {
   "cell_type": "markdown",
   "id": "a18548cb-29ab-46dd-9ecc-ba8a0a29f155",
   "metadata": {},
   "source": [
    "---"
   ]
  },
  {
   "cell_type": "markdown",
   "id": "dbedaec6-e390-4445-8897-42916ef1d8e1",
   "metadata": {},
   "source": [
    "### Combine Emotion_DF and X_train"
   ]
  },
  {
   "cell_type": "code",
   "execution_count": null,
   "id": "82224ac0-8d1c-4c44-b47e-8cf3cd1989ea",
   "metadata": {},
   "outputs": [],
   "source": [
    "pd.concat(X_train, emo_df, axis=1, inner,"
   ]
  },
  {
   "cell_type": "code",
   "execution_count": null,
   "id": "1c5b7ba3-b23a-4d03-8dc7-c9724251cfa9",
   "metadata": {},
   "outputs": [],
   "source": [
    "emo_X_train = emo_df.merge(X_train, how=\"right\", on=\"text\")"
   ]
  },
  {
   "cell_type": "code",
   "execution_count": null,
   "id": "670499fc-eb7f-485e-9fb2-bc261c45f66b",
   "metadata": {},
   "outputs": [],
   "source": [
    "emo_X_train"
   ]
  },
  {
   "cell_type": "code",
   "execution_count": null,
   "id": "b3aebef1-6c87-4baa-bfbb-ec28b26031ee",
   "metadata": {},
   "outputs": [],
   "source": [
    "row1 = NRCLex(\n",
    "    \"i am done say it all i am unemotional thought i lost someone i am sucked i can not do this anymore i will never deserve you clothesline basement after chair here we go thanks everyone\"\n",
    ")"
   ]
  },
  {
   "cell_type": "code",
   "execution_count": null,
   "id": "f1296a60-5846-48be-8065-84c6658ebcd3",
   "metadata": {},
   "outputs": [],
   "source": [
    "row1_replace = row1.affect_frequencies"
   ]
  },
  {
   "cell_type": "code",
   "execution_count": null,
   "id": "c7e91ebc-13f0-4c98-bf6a-dee01c0f2e0e",
   "metadata": {},
   "outputs": [],
   "source": [
    "row1_replace = dict(row1_replace)"
   ]
  },
  {
   "cell_type": "code",
   "execution_count": null,
   "id": "c8fa0d56-40cf-4df4-97aa-5c6e214f3927",
   "metadata": {},
   "outputs": [],
   "source": [
    "row1_replace"
   ]
  },
  {
   "cell_type": "code",
   "execution_count": null,
   "id": "d8232f33-072e-4b81-9492-c02dbd3dc6f6",
   "metadata": {},
   "outputs": [],
   "source": [
    "row1_replace.values()"
   ]
  },
  {
   "cell_type": "code",
   "execution_count": null,
   "id": "06a7d472-986f-4a35-9746-a1c161902629",
   "metadata": {},
   "outputs": [],
   "source": [
    "for key, val in row1_replace.items():\n",
    "    emo_X_train.at[0, key] = val"
   ]
  },
  {
   "cell_type": "code",
   "execution_count": null,
   "id": "290b1495-8768-4286-ad6e-7b21a63312a7",
   "metadata": {},
   "outputs": [],
   "source": [
    "### Come back to df_vt"
   ]
  },
  {
   "cell_type": "markdown",
   "id": "e1de6843-649a-443d-ad69-d1ccd821bb75",
   "metadata": {},
   "source": [
    "---"
   ]
  },
  {
   "cell_type": "markdown",
   "id": "a61c6242-de58-4bee-879b-8fa6649f5790",
   "metadata": {},
   "source": [
    "## Sentiment Model #1: Naive Bayes + Affect Frequencies"
   ]
  },
  {
   "cell_type": "code",
   "execution_count": null,
   "id": "e055c776-d035-489b-b03c-c2c73c420182",
   "metadata": {},
   "outputs": [],
   "source": [
    "emo_X_train.index"
   ]
  },
  {
   "cell_type": "code",
   "execution_count": null,
   "id": "ac40b696-3a2a-4c63-af9b-52aed193f4db",
   "metadata": {},
   "outputs": [],
   "source": [
    "base_nb = MultinomialNB()\n",
    "model = base_nb.fit(X_train_vt, y_train)"
   ]
  },
  {
   "cell_type": "code",
   "execution_count": null,
   "id": "bd248eb0-2c2d-401e-9024-1f393a252c20",
   "metadata": {},
   "outputs": [],
   "source": []
  },
  {
   "cell_type": "code",
   "execution_count": null,
   "id": "b50ada36-451d-4777-ab6a-7aa3f6acfbaf",
   "metadata": {},
   "outputs": [],
   "source": []
  },
  {
   "cell_type": "markdown",
   "id": "34a24691-18ca-46b8-9e6a-5eae10977509",
   "metadata": {
    "jp-MarkdownHeadingCollapsed": true,
    "tags": []
   },
   "source": [
    "##### Create Corpus and Tokens with Spacy"
   ]
  },
  {
   "cell_type": "code",
   "execution_count": null,
   "id": "b9102386-4359-4795-a170-c6f471499e07",
   "metadata": {},
   "outputs": [],
   "source": [
    "# Small X-train, y_train\n",
    "\n",
    "X_train[:37009].to_csv(\"./data/small_X_train.csv\")\n",
    "y_train[:37009].to_csv(\"./data/small_y_train.csv\")"
   ]
  },
  {
   "cell_type": "code",
   "execution_count": null,
   "id": "e551598b-af7d-4a04-8ee8-198abd9c2f1e",
   "metadata": {},
   "outputs": [],
   "source": [
    "X_train[\"text\"] = X_train[\"text\"].apply(lambda x: str(x))"
   ]
  },
  {
   "cell_type": "code",
   "execution_count": null,
   "id": "dce14358-4c3f-4756-9a67-857405b3b33e",
   "metadata": {},
   "outputs": [],
   "source": [
    "nlp.pipe_names"
   ]
  },
  {
   "cell_type": "code",
   "execution_count": null,
   "id": "3a0b1b69-ca62-4c3f-837a-4ac5fdf99a19",
   "metadata": {},
   "outputs": [],
   "source": [
    "nlp.add_pipe(\"spacytextblob\")"
   ]
  },
  {
   "cell_type": "code",
   "execution_count": null,
   "id": "e16506b5-67f6-4379-9158-ab3b34cd3e52",
   "metadata": {},
   "outputs": [],
   "source": [
    "off_list = [\"parser\", \"ner\"]\n",
    "\n",
    "for funct in off_list:\n",
    "    nlp.disable_pipe(funct)"
   ]
  },
  {
   "cell_type": "code",
   "execution_count": null,
   "id": "2fb1d426-9e85-4b56-9602-b6330d4107e3",
   "metadata": {},
   "outputs": [],
   "source": [
    "# ~33 min to run\n",
    "start = time.time()\n",
    "\n",
    "texts_tr = X_train[\"text\"][:37009]\n",
    "docs_tr = list(nlp.pipe(texts_tr, batch_size=1000))\n",
    "\n",
    "end = time.time()\n",
    "\n",
    "print(f\"Time taken: {(end-start)/60} minutes\")"
   ]
  }
 ],
 "metadata": {
  "kernelspec": {
   "display_name": "nlpenv",
   "language": "python",
   "name": "nlpenv"
  },
  "language_info": {
   "codemirror_mode": {
    "name": "ipython",
    "version": 3
   },
   "file_extension": ".py",
   "mimetype": "text/x-python",
   "name": "python",
   "nbconvert_exporter": "python",
   "pygments_lexer": "ipython3",
   "version": "3.11.0"
  },
  "widgets": {
   "application/vnd.jupyter.widget-state+json": {
    "state": {},
    "version_major": 2,
    "version_minor": 0
   }
  }
 },
 "nbformat": 4,
 "nbformat_minor": 5
}
