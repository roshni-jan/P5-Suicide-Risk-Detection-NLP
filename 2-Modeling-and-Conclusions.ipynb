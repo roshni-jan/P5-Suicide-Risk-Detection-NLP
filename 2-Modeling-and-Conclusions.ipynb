{
 "cells": [
  {
   "cell_type": "markdown",
   "id": "1a667b18-e679-4da9-b396-780c537411f4",
   "metadata": {},
   "source": [
    "<font size = +3><b><u><center> Data Modeling </center></u></b></font>"
   ]
  },
  {
   "cell_type": "code",
   "execution_count": 2,
   "id": "2b2fcd4d-b84d-4273-99fa-b48302d26a6b",
   "metadata": {
    "tags": []
   },
   "outputs": [],
   "source": [
    "#  Python Standard Packages\n",
    "import itertools\n",
    "import joblib\n",
    "import re\n",
    "import string\n",
    "import time\n",
    "\n",
    "#  Conda Standard Packages\n",
    "import matplotlib.pyplot as plt\n",
    "import numpy as np\n",
    "import pandas as pd\n",
    "import seaborn as sns\n",
    "from sklearn.compose import ColumnTransformer, make_column_selector as selector\n",
    "from sklearn.dummy import DummyClassifier\n",
    "from sklearn.ensemble import RandomForestClassifier\n",
    "from sklearn.feature_extraction.text import TfidfVectorizer\n",
    "from sklearn.linear_model import LogisticRegression\n",
    "from sklearn.metrics import accuracy_score, classification_report, confusion_matrix, precision_score, recall_score, roc_auc_score, \\\n",
    "                            precision_recall_curve, PrecisionRecallDisplay, make_scorer, RocCurveDisplay\n",
    "from sklearn.model_selection import cross_val_score, cross_validate, \\\n",
    "                                    GridSearchCV, train_test_split, RandomizedSearchCV\n",
    "from sklearn.naive_bayes import MultinomialNB\n",
    "from sklearn.pipeline import Pipeline\n",
    "from sklearn.preprocessing import FunctionTransformer, MinMaxScaler, \\\n",
    "                                  Normalizer, StandardScaler, RobustScaler\n",
    "from sklearn.svm import LinearSVC\n",
    "\n",
    "#  Third-Party Packages\n",
    "import dill as pickle\n",
    "import eli5\n",
    "from tqdm import tqdm"
   ]
  },
  {
   "cell_type": "code",
   "execution_count": 33,
   "id": "68386061-d54e-4434-a466-3c4089b7aa90",
   "metadata": {
    "tags": []
   },
   "outputs": [],
   "source": [
    "#  Set Up Options\n",
    "%precision %.3f\n",
    "pd.set_option('display.float_format', '{:.2f}'.format)\n",
    "\n",
    "'''Set Up Time Tracking Functions for Pandas'''\n",
    "tqdm.pandas()"
   ]
  },
  {
   "cell_type": "code",
   "execution_count": 4,
   "id": "e373c98a-5ff1-4b44-a8a7-0b570f2c8f0c",
   "metadata": {
    "tags": []
   },
   "outputs": [
    {
     "data": {
      "text/html": [
       "<style>\n",
       "table {float:left}\n",
       "</style>\n"
      ],
      "text/plain": [
       "<IPython.core.display.HTML object>"
      ]
     },
     "metadata": {},
     "output_type": "display_data"
    }
   ],
   "source": [
    "%%html \n",
    "<style>\n",
    "table {float:left}\n",
    "</style>"
   ]
  },
  {
   "cell_type": "markdown",
   "id": "136c25dc-24e2-44d1-aa58-94f99f205c12",
   "metadata": {},
   "source": [
    "---"
   ]
  },
  {
   "cell_type": "markdown",
   "id": "be4a29e6-ce79-4e48-8599-e4b93b6bff67",
   "metadata": {
    "tags": []
   },
   "source": [
    "# &nbsp;&nbsp; I. &nbsp; Pre-Model Set-Up"
   ]
  },
  {
   "cell_type": "markdown",
   "id": "e9808a62-fe5e-43b0-8ba2-7520f2164bff",
   "metadata": {
    "tags": []
   },
   "source": [
    "## Load Data From Pickle:"
   ]
  },
  {
   "cell_type": "code",
   "execution_count": 6,
   "id": "664448b2-2850-45a4-8ebe-5477d55899cf",
   "metadata": {
    "tags": []
   },
   "outputs": [],
   "source": [
    "df = pd.read_pickle('./data/fulldataclean.tar.gz', compression='infer')"
   ]
  },
  {
   "cell_type": "code",
   "execution_count": 7,
   "id": "cdb174e3-35c7-4c72-a2be-73840c94d4c8",
   "metadata": {
    "tags": []
   },
   "outputs": [
    {
     "data": {
      "text/html": [
       "<div>\n",
       "<style scoped>\n",
       "    .dataframe tbody tr th:only-of-type {\n",
       "        vertical-align: middle;\n",
       "    }\n",
       "\n",
       "    .dataframe tbody tr th {\n",
       "        vertical-align: top;\n",
       "    }\n",
       "\n",
       "    .dataframe thead th {\n",
       "        text-align: right;\n",
       "    }\n",
       "</style>\n",
       "<table border=\"1\" class=\"dataframe\">\n",
       "  <thead>\n",
       "    <tr style=\"text-align: right;\">\n",
       "      <th></th>\n",
       "      <th>target</th>\n",
       "      <th>text</th>\n",
       "      <th>neg</th>\n",
       "      <th>neu</th>\n",
       "      <th>pos</th>\n",
       "      <th>compound</th>\n",
       "      <th>anger</th>\n",
       "      <th>disgust</th>\n",
       "      <th>fear</th>\n",
       "      <th>sadness</th>\n",
       "      <th>anticipation</th>\n",
       "      <th>joy</th>\n",
       "      <th>surprise</th>\n",
       "      <th>trust</th>\n",
       "    </tr>\n",
       "  </thead>\n",
       "  <tbody>\n",
       "    <tr>\n",
       "      <th>0</th>\n",
       "      <td>1</td>\n",
       "      <td>ex wife threaten suicide recently leave wife g...</td>\n",
       "      <td>0.192</td>\n",
       "      <td>0.733</td>\n",
       "      <td>0.075</td>\n",
       "      <td>-0.949</td>\n",
       "      <td>8.000</td>\n",
       "      <td>4.000</td>\n",
       "      <td>8.000</td>\n",
       "      <td>6.000</td>\n",
       "      <td>7.000</td>\n",
       "      <td>5.000</td>\n",
       "      <td>5.000</td>\n",
       "      <td>5.000</td>\n",
       "    </tr>\n",
       "    <tr>\n",
       "      <th>1</th>\n",
       "      <td>0</td>\n",
       "      <td>weird get affect compliment come someone know ...</td>\n",
       "      <td>0.038</td>\n",
       "      <td>0.756</td>\n",
       "      <td>0.206</td>\n",
       "      <td>0.719</td>\n",
       "      <td>0.000</td>\n",
       "      <td>1.000</td>\n",
       "      <td>0.000</td>\n",
       "      <td>0.000</td>\n",
       "      <td>2.000</td>\n",
       "      <td>1.000</td>\n",
       "      <td>1.000</td>\n",
       "      <td>2.000</td>\n",
       "    </tr>\n",
       "    <tr>\n",
       "      <th>2</th>\n",
       "      <td>0</td>\n",
       "      <td>finally almost never hear bad year ever swear ...</td>\n",
       "      <td>0.259</td>\n",
       "      <td>0.665</td>\n",
       "      <td>0.076</td>\n",
       "      <td>-0.700</td>\n",
       "      <td>2.000</td>\n",
       "      <td>2.000</td>\n",
       "      <td>2.000</td>\n",
       "      <td>1.000</td>\n",
       "      <td>2.000</td>\n",
       "      <td>2.000</td>\n",
       "      <td>1.000</td>\n",
       "      <td>3.000</td>\n",
       "    </tr>\n",
       "    <tr>\n",
       "      <th>3</th>\n",
       "      <td>1</td>\n",
       "      <td>need help help cry hard</td>\n",
       "      <td>0.286</td>\n",
       "      <td>0.403</td>\n",
       "      <td>0.311</td>\n",
       "      <td>0.111</td>\n",
       "      <td>0.000</td>\n",
       "      <td>0.000</td>\n",
       "      <td>0.000</td>\n",
       "      <td>1.000</td>\n",
       "      <td>0.000</td>\n",
       "      <td>0.000</td>\n",
       "      <td>0.000</td>\n",
       "      <td>0.000</td>\n",
       "    </tr>\n",
       "    <tr>\n",
       "      <th>4</th>\n",
       "      <td>1</td>\n",
       "      <td>lose hello name adam struggle year afraid past...</td>\n",
       "      <td>0.193</td>\n",
       "      <td>0.731</td>\n",
       "      <td>0.076</td>\n",
       "      <td>-0.995</td>\n",
       "      <td>18.000</td>\n",
       "      <td>10.000</td>\n",
       "      <td>27.000</td>\n",
       "      <td>26.000</td>\n",
       "      <td>20.000</td>\n",
       "      <td>6.000</td>\n",
       "      <td>5.000</td>\n",
       "      <td>9.000</td>\n",
       "    </tr>\n",
       "    <tr>\n",
       "      <th>...</th>\n",
       "      <td>...</td>\n",
       "      <td>...</td>\n",
       "      <td>...</td>\n",
       "      <td>...</td>\n",
       "      <td>...</td>\n",
       "      <td>...</td>\n",
       "      <td>...</td>\n",
       "      <td>...</td>\n",
       "      <td>...</td>\n",
       "      <td>...</td>\n",
       "      <td>...</td>\n",
       "      <td>...</td>\n",
       "      <td>...</td>\n",
       "      <td>...</td>\n",
       "    </tr>\n",
       "    <tr>\n",
       "      <th>232069</th>\n",
       "      <td>0</td>\n",
       "      <td>like rock go get anything go</td>\n",
       "      <td>0.080</td>\n",
       "      <td>0.920</td>\n",
       "      <td>0.000</td>\n",
       "      <td>-0.142</td>\n",
       "      <td>0.000</td>\n",
       "      <td>0.000</td>\n",
       "      <td>0.000</td>\n",
       "      <td>0.000</td>\n",
       "      <td>0.000</td>\n",
       "      <td>0.000</td>\n",
       "      <td>0.000</td>\n",
       "      <td>0.000</td>\n",
       "    </tr>\n",
       "    <tr>\n",
       "      <th>232070</th>\n",
       "      <td>0</td>\n",
       "      <td>tell many friend lonely everything deprive pre...</td>\n",
       "      <td>0.085</td>\n",
       "      <td>0.765</td>\n",
       "      <td>0.150</td>\n",
       "      <td>0.337</td>\n",
       "      <td>1.000</td>\n",
       "      <td>1.000</td>\n",
       "      <td>1.000</td>\n",
       "      <td>1.000</td>\n",
       "      <td>0.000</td>\n",
       "      <td>0.000</td>\n",
       "      <td>0.000</td>\n",
       "      <td>1.000</td>\n",
       "    </tr>\n",
       "    <tr>\n",
       "      <th>232071</th>\n",
       "      <td>0</td>\n",
       "      <td>pee probably taste like salty tea someone drin...</td>\n",
       "      <td>0.000</td>\n",
       "      <td>0.839</td>\n",
       "      <td>0.161</td>\n",
       "      <td>0.361</td>\n",
       "      <td>0.000</td>\n",
       "      <td>0.000</td>\n",
       "      <td>0.000</td>\n",
       "      <td>0.000</td>\n",
       "      <td>0.000</td>\n",
       "      <td>0.000</td>\n",
       "      <td>0.000</td>\n",
       "      <td>0.000</td>\n",
       "    </tr>\n",
       "    <tr>\n",
       "      <th>232072</th>\n",
       "      <td>1</td>\n",
       "      <td>usual stuff find post sympathy pity know far b...</td>\n",
       "      <td>0.176</td>\n",
       "      <td>0.718</td>\n",
       "      <td>0.105</td>\n",
       "      <td>-0.989</td>\n",
       "      <td>9.000</td>\n",
       "      <td>6.000</td>\n",
       "      <td>7.000</td>\n",
       "      <td>10.000</td>\n",
       "      <td>3.000</td>\n",
       "      <td>1.000</td>\n",
       "      <td>1.000</td>\n",
       "      <td>3.000</td>\n",
       "    </tr>\n",
       "    <tr>\n",
       "      <th>232073</th>\n",
       "      <td>0</td>\n",
       "      <td>still beat first bos hollow knight fight time ...</td>\n",
       "      <td>0.263</td>\n",
       "      <td>0.685</td>\n",
       "      <td>0.052</td>\n",
       "      <td>-0.861</td>\n",
       "      <td>2.000</td>\n",
       "      <td>1.000</td>\n",
       "      <td>3.000</td>\n",
       "      <td>3.000</td>\n",
       "      <td>0.000</td>\n",
       "      <td>0.000</td>\n",
       "      <td>0.000</td>\n",
       "      <td>0.000</td>\n",
       "    </tr>\n",
       "  </tbody>\n",
       "</table>\n",
       "<p>230072 rows × 14 columns</p>\n",
       "</div>"
      ],
      "text/plain": [
       "        target                                               text   neg   neu  \\\n",
       "0            1  ex wife threaten suicide recently leave wife g... 0.192 0.733   \n",
       "1            0  weird get affect compliment come someone know ... 0.038 0.756   \n",
       "2            0  finally almost never hear bad year ever swear ... 0.259 0.665   \n",
       "3            1                            need help help cry hard 0.286 0.403   \n",
       "4            1  lose hello name adam struggle year afraid past... 0.193 0.731   \n",
       "...        ...                                                ...   ...   ...   \n",
       "232069       0                       like rock go get anything go 0.080 0.920   \n",
       "232070       0  tell many friend lonely everything deprive pre... 0.085 0.765   \n",
       "232071       0  pee probably taste like salty tea someone drin... 0.000 0.839   \n",
       "232072       1  usual stuff find post sympathy pity know far b... 0.176 0.718   \n",
       "232073       0  still beat first bos hollow knight fight time ... 0.263 0.685   \n",
       "\n",
       "         pos  compound  anger  disgust   fear  sadness  anticipation   joy  \\\n",
       "0      0.075    -0.949  8.000    4.000  8.000    6.000         7.000 5.000   \n",
       "1      0.206     0.719  0.000    1.000  0.000    0.000         2.000 1.000   \n",
       "2      0.076    -0.700  2.000    2.000  2.000    1.000         2.000 2.000   \n",
       "3      0.311     0.111  0.000    0.000  0.000    1.000         0.000 0.000   \n",
       "4      0.076    -0.995 18.000   10.000 27.000   26.000        20.000 6.000   \n",
       "...      ...       ...    ...      ...    ...      ...           ...   ...   \n",
       "232069 0.000    -0.142  0.000    0.000  0.000    0.000         0.000 0.000   \n",
       "232070 0.150     0.337  1.000    1.000  1.000    1.000         0.000 0.000   \n",
       "232071 0.161     0.361  0.000    0.000  0.000    0.000         0.000 0.000   \n",
       "232072 0.105    -0.989  9.000    6.000  7.000   10.000         3.000 1.000   \n",
       "232073 0.052    -0.861  2.000    1.000  3.000    3.000         0.000 0.000   \n",
       "\n",
       "        surprise  trust  \n",
       "0          5.000  5.000  \n",
       "1          1.000  2.000  \n",
       "2          1.000  3.000  \n",
       "3          0.000  0.000  \n",
       "4          5.000  9.000  \n",
       "...          ...    ...  \n",
       "232069     0.000  0.000  \n",
       "232070     0.000  1.000  \n",
       "232071     0.000  0.000  \n",
       "232072     1.000  3.000  \n",
       "232073     0.000  0.000  \n",
       "\n",
       "[230072 rows x 14 columns]"
      ]
     },
     "execution_count": 7,
     "metadata": {},
     "output_type": "execute_result"
    }
   ],
   "source": [
    "df"
   ]
  },
  {
   "cell_type": "code",
   "execution_count": 8,
   "id": "c23ca4e7-42e1-4318-a6d5-3709f434b6ad",
   "metadata": {
    "tags": []
   },
   "outputs": [
    {
     "data": {
      "text/plain": [
       "target          0\n",
       "text            0\n",
       "neg             0\n",
       "neu             0\n",
       "pos             0\n",
       "compound        0\n",
       "anger           0\n",
       "disgust         0\n",
       "fear            0\n",
       "sadness         0\n",
       "anticipation    0\n",
       "joy             0\n",
       "surprise        0\n",
       "trust           0\n",
       "dtype: int64"
      ]
     },
     "execution_count": 8,
     "metadata": {},
     "output_type": "execute_result"
    }
   ],
   "source": [
    "# Make sure no missing data\n",
    "\n",
    "df.isna().sum()"
   ]
  },
  {
   "cell_type": "code",
   "execution_count": 9,
   "id": "0a77b712-55d5-4074-8bd6-22f1a03429f2",
   "metadata": {
    "tags": []
   },
   "outputs": [
    {
     "data": {
      "text/plain": [
       "target            int64\n",
       "text             object\n",
       "neg             float64\n",
       "neu             float64\n",
       "pos             float64\n",
       "compound        float64\n",
       "anger           float64\n",
       "disgust         float64\n",
       "fear            float64\n",
       "sadness         float64\n",
       "anticipation    float64\n",
       "joy             float64\n",
       "surprise        float64\n",
       "trust           float64\n",
       "dtype: object"
      ]
     },
     "execution_count": 9,
     "metadata": {},
     "output_type": "execute_result"
    }
   ],
   "source": [
    "# All data is correct datatype:\n",
    "\n",
    "df.dtypes"
   ]
  },
  {
   "cell_type": "code",
   "execution_count": 11,
   "id": "be3984f1-7c62-4640-a9c5-20bccfd92f19",
   "metadata": {
    "tags": []
   },
   "outputs": [
    {
     "name": "stdout",
     "output_type": "stream",
     "text": [
      "[]\n"
     ]
    }
   ],
   "source": [
    "def nonstring_data(series):\n",
    "\n",
    "    problem_list = []\n",
    "    for ind in series.index:\n",
    "        if not isinstance(series.loc[ind], str):\n",
    "            problem_list.append(ind)\n",
    "    return problem_list\n",
    "\n",
    "\n",
    "problems1 = nonstring_data(df['text'])\n",
    "print(problems1)"
   ]
  },
  {
   "cell_type": "markdown",
   "id": "997c7b8f-f16b-48a0-ab9a-9601ec870c39",
   "metadata": {},
   "source": [
    "---"
   ]
  },
  {
   "cell_type": "markdown",
   "id": "dee86323-4292-4567-a5b4-bc2a57746445",
   "metadata": {
    "tags": []
   },
   "source": [
    "## Define X & Y"
   ]
  },
  {
   "cell_type": "code",
   "execution_count": 13,
   "id": "f2172afe-5adc-47a0-b8a4-27bc9e293b0c",
   "metadata": {
    "tags": []
   },
   "outputs": [],
   "source": [
    "X = df.drop(['target'], axis=1)\n",
    "y = df['target']"
   ]
  },
  {
   "cell_type": "code",
   "execution_count": 14,
   "id": "233afbbe-0d22-490b-b353-890178e92f47",
   "metadata": {
    "tags": []
   },
   "outputs": [
    {
     "data": {
      "text/html": [
       "<div>\n",
       "<style scoped>\n",
       "    .dataframe tbody tr th:only-of-type {\n",
       "        vertical-align: middle;\n",
       "    }\n",
       "\n",
       "    .dataframe tbody tr th {\n",
       "        vertical-align: top;\n",
       "    }\n",
       "\n",
       "    .dataframe thead th {\n",
       "        text-align: right;\n",
       "    }\n",
       "</style>\n",
       "<table border=\"1\" class=\"dataframe\">\n",
       "  <thead>\n",
       "    <tr style=\"text-align: right;\">\n",
       "      <th></th>\n",
       "      <th>text</th>\n",
       "      <th>neg</th>\n",
       "      <th>neu</th>\n",
       "      <th>pos</th>\n",
       "      <th>compound</th>\n",
       "      <th>anger</th>\n",
       "      <th>disgust</th>\n",
       "      <th>fear</th>\n",
       "      <th>sadness</th>\n",
       "      <th>anticipation</th>\n",
       "      <th>joy</th>\n",
       "      <th>surprise</th>\n",
       "      <th>trust</th>\n",
       "    </tr>\n",
       "  </thead>\n",
       "  <tbody>\n",
       "    <tr>\n",
       "      <th>0</th>\n",
       "      <td>ex wife threaten suicide recently leave wife g...</td>\n",
       "      <td>0.192</td>\n",
       "      <td>0.733</td>\n",
       "      <td>0.075</td>\n",
       "      <td>-0.949</td>\n",
       "      <td>8.000</td>\n",
       "      <td>4.000</td>\n",
       "      <td>8.000</td>\n",
       "      <td>6.000</td>\n",
       "      <td>7.000</td>\n",
       "      <td>5.000</td>\n",
       "      <td>5.000</td>\n",
       "      <td>5.000</td>\n",
       "    </tr>\n",
       "    <tr>\n",
       "      <th>1</th>\n",
       "      <td>weird get affect compliment come someone know ...</td>\n",
       "      <td>0.038</td>\n",
       "      <td>0.756</td>\n",
       "      <td>0.206</td>\n",
       "      <td>0.719</td>\n",
       "      <td>0.000</td>\n",
       "      <td>1.000</td>\n",
       "      <td>0.000</td>\n",
       "      <td>0.000</td>\n",
       "      <td>2.000</td>\n",
       "      <td>1.000</td>\n",
       "      <td>1.000</td>\n",
       "      <td>2.000</td>\n",
       "    </tr>\n",
       "    <tr>\n",
       "      <th>2</th>\n",
       "      <td>finally almost never hear bad year ever swear ...</td>\n",
       "      <td>0.259</td>\n",
       "      <td>0.665</td>\n",
       "      <td>0.076</td>\n",
       "      <td>-0.700</td>\n",
       "      <td>2.000</td>\n",
       "      <td>2.000</td>\n",
       "      <td>2.000</td>\n",
       "      <td>1.000</td>\n",
       "      <td>2.000</td>\n",
       "      <td>2.000</td>\n",
       "      <td>1.000</td>\n",
       "      <td>3.000</td>\n",
       "    </tr>\n",
       "    <tr>\n",
       "      <th>3</th>\n",
       "      <td>need help help cry hard</td>\n",
       "      <td>0.286</td>\n",
       "      <td>0.403</td>\n",
       "      <td>0.311</td>\n",
       "      <td>0.111</td>\n",
       "      <td>0.000</td>\n",
       "      <td>0.000</td>\n",
       "      <td>0.000</td>\n",
       "      <td>1.000</td>\n",
       "      <td>0.000</td>\n",
       "      <td>0.000</td>\n",
       "      <td>0.000</td>\n",
       "      <td>0.000</td>\n",
       "    </tr>\n",
       "    <tr>\n",
       "      <th>4</th>\n",
       "      <td>lose hello name adam struggle year afraid past...</td>\n",
       "      <td>0.193</td>\n",
       "      <td>0.731</td>\n",
       "      <td>0.076</td>\n",
       "      <td>-0.995</td>\n",
       "      <td>18.000</td>\n",
       "      <td>10.000</td>\n",
       "      <td>27.000</td>\n",
       "      <td>26.000</td>\n",
       "      <td>20.000</td>\n",
       "      <td>6.000</td>\n",
       "      <td>5.000</td>\n",
       "      <td>9.000</td>\n",
       "    </tr>\n",
       "  </tbody>\n",
       "</table>\n",
       "</div>"
      ],
      "text/plain": [
       "                                                text   neg   neu   pos  \\\n",
       "0  ex wife threaten suicide recently leave wife g... 0.192 0.733 0.075   \n",
       "1  weird get affect compliment come someone know ... 0.038 0.756 0.206   \n",
       "2  finally almost never hear bad year ever swear ... 0.259 0.665 0.076   \n",
       "3                            need help help cry hard 0.286 0.403 0.311   \n",
       "4  lose hello name adam struggle year afraid past... 0.193 0.731 0.076   \n",
       "\n",
       "   compound  anger  disgust   fear  sadness  anticipation   joy  surprise  \\\n",
       "0    -0.949  8.000    4.000  8.000    6.000         7.000 5.000     5.000   \n",
       "1     0.719  0.000    1.000  0.000    0.000         2.000 1.000     1.000   \n",
       "2    -0.700  2.000    2.000  2.000    1.000         2.000 2.000     1.000   \n",
       "3     0.111  0.000    0.000  0.000    1.000         0.000 0.000     0.000   \n",
       "4    -0.995 18.000   10.000 27.000   26.000        20.000 6.000     5.000   \n",
       "\n",
       "   trust  \n",
       "0  5.000  \n",
       "1  2.000  \n",
       "2  3.000  \n",
       "3  0.000  \n",
       "4  9.000  "
      ]
     },
     "execution_count": 14,
     "metadata": {},
     "output_type": "execute_result"
    }
   ],
   "source": [
    "X.head()"
   ]
  },
  {
   "cell_type": "code",
   "execution_count": 15,
   "id": "108026ac-49d2-4f95-81fc-ed8edcc958db",
   "metadata": {
    "tags": []
   },
   "outputs": [
    {
     "data": {
      "text/plain": [
       "0    1\n",
       "1    0\n",
       "2    0\n",
       "3    1\n",
       "4    1\n",
       "Name: target, dtype: int64"
      ]
     },
     "execution_count": 15,
     "metadata": {},
     "output_type": "execute_result"
    }
   ],
   "source": [
    "y.head()"
   ]
  },
  {
   "cell_type": "markdown",
   "id": "f0234b04-e090-42b7-939b-551d29706bd6",
   "metadata": {
    "tags": []
   },
   "source": [
    "## Train-Test Split"
   ]
  },
  {
   "cell_type": "markdown",
   "id": "ffa8093d-d9d7-4e9a-86cc-8c2ecc30818e",
   "metadata": {},
   "source": [
    "* Split Ratio: 70% train, 15% val, 15% test"
   ]
  },
  {
   "cell_type": "code",
   "execution_count": 16,
   "id": "030acb4f-362e-4050-9725-9c097c9e812a",
   "metadata": {
    "tags": []
   },
   "outputs": [
    {
     "data": {
      "text/plain": [
       "230072"
      ]
     },
     "execution_count": 16,
     "metadata": {},
     "output_type": "execute_result"
    }
   ],
   "source": [
    "len(X)"
   ]
  },
  {
   "cell_type": "code",
   "execution_count": 17,
   "id": "b475ccbf-74b1-473b-b9ac-2b5e70c5c191",
   "metadata": {
    "tags": []
   },
   "outputs": [
    {
     "name": "stdout",
     "output_type": "stream",
     "text": [
      "161050:34511:34511\n",
      "\t\n",
      "Sum: 230072\n"
     ]
    }
   ],
   "source": [
    "print(f'{len(df)*.7:.0f}:{len(df)*.15:.0f}:{len(df)*.15:.0f}')\n",
    "print('\\t')\n",
    "print(f'Sum: {161050+34511+34511}')"
   ]
  },
  {
   "cell_type": "code",
   "execution_count": 18,
   "id": "5b50ac92-5e67-4d2c-84db-a6c462370af7",
   "metadata": {
    "tags": []
   },
   "outputs": [],
   "source": [
    "X_temp, X_test, y_temp, y_test = train_test_split(\n",
    "    X, y, test_size=34511, random_state=42)\n",
    "\n",
    "X_train, X_val, y_train, y_val = train_test_split(\n",
    "    X_temp, y_temp, test_size=34511, random_state=42)"
   ]
  },
  {
   "cell_type": "code",
   "execution_count": 19,
   "id": "20fa21e7-8070-4ea1-946c-668238ac7673",
   "metadata": {
    "tags": []
   },
   "outputs": [
    {
     "name": "stdout",
     "output_type": "stream",
     "text": [
      "X - Size - Train: 161050, Val: 34511, Test:34511\n",
      "X - Perc - Train: 70.0%, Val: 15.0%, Test:15.0%\n"
     ]
    }
   ],
   "source": [
    "print(f\"X - Size - Train: {len(X_train)}, Val: {len(X_val)}, Test:{len(X_test)}\")\n",
    "\n",
    "print(f\"X - Perc - Train: {len(X_train)/len(X)*100:.1f}%, Val: {len(X_val)/len(df)*100:.1f}%, Test:{len(X_test)/len(df)*100:.1f}%\")"
   ]
  },
  {
   "cell_type": "code",
   "execution_count": 20,
   "id": "2e9551d7-b375-42ae-9ed5-fedde21ed422",
   "metadata": {
    "tags": []
   },
   "outputs": [
    {
     "name": "stdout",
     "output_type": "stream",
     "text": [
      "y - Size - Train: 161050, Val: 34511, Test:34511\n",
      "y - Perc - Train: 70.0%, Val: 15.0%, Test:15.0%\n"
     ]
    }
   ],
   "source": [
    "print(f\"y - Size - Train: {len(y_train)}, Val: {len(y_val)}, Test:{len(y_test)}\")\n",
    "print(f\"y - Perc - Train: {len(y_train)/len(y)*100:.1f}%, Val: {len(y_val)/len(df)*100:.1f}%, Test:{len(y_test)/len(df)*100:.1f}%\")"
   ]
  },
  {
   "cell_type": "markdown",
   "id": "2b376f1b-7bf5-475c-8c72-16382aca1004",
   "metadata": {},
   "source": [
    "---"
   ]
  },
  {
   "cell_type": "markdown",
   "id": "b5b050ca-facd-4aaa-9939-053705621147",
   "metadata": {
    "tags": []
   },
   "source": [
    "## Functions for Metrics"
   ]
  },
  {
   "cell_type": "markdown",
   "id": "2e76eefe-9a90-4cca-8504-2a7772b35d7b",
   "metadata": {},
   "source": [
    "1. Confusion Matrix Plotting - [original source](https://github.com/flatiron-school/ntl01-dtsc-live-103122/tree/main/4Phase/src)"
   ]
  },
  {
   "cell_type": "code",
   "execution_count": 21,
   "id": "3f63a28d-3041-471e-a001-3435cea7f9b7",
   "metadata": {
    "tags": []
   },
   "outputs": [],
   "source": [
    "def plot_confusion_matrix(cm, classes, normalize=False, title='Confusion matrix', cmap=plt.cm.Blues):\n",
    "\n",
    "    if normalize:\n",
    "        cm = cm.astype('float') / cm.sum(axis=1)[:, np.newaxis]\n",
    "        print(\"Normalized confusion matrix\")\n",
    "    else:\n",
    "        print('Confusion Matrix, without normalization')\n",
    "\n",
    "    print(cm)\n",
    "\n",
    "    plt.imshow(cm, interpolation='nearest', cmap=cmap)\n",
    "    plt.title(title)\n",
    "    plt.colorbar()\n",
    "    tick_marks = np.arange(len(classes))\n",
    "    plt.xticks(tick_marks, classes, rotation=45)\n",
    "    plt.yticks(tick_marks, classes)\n",
    "\n",
    "    fmt = '.2f' if normalize else 'd'\n",
    "    thresh = cm.max() / 2.\n",
    "    for i, j in itertools.product(range(cm.shape[0]), range(cm.shape[1])):\n",
    "        plt.text(j, i, format(cm[i, j], fmt),\n",
    "                 horizontalalignment=\"center\",\n",
    "                 color=\"white\" if cm[i, j] > thresh else \"black\")\n",
    "    plt.tight_layout()\n",
    "    plt.ylabel('True label')\n",
    "    plt.xlabel('Predicted label')"
   ]
  },
  {
   "cell_type": "code",
   "execution_count": 22,
   "id": "c9e49d16-7443-470b-b58f-e26fb3e73dda",
   "metadata": {
    "tags": []
   },
   "outputs": [],
   "source": [
    "class Metrics:\n",
    "    def __init__(self):\n",
    "        self.df = pd.DataFrame(columns=['name', 'clf', 'cv_mean', 'train', 'acc', 'prec', 'rec', 'time'])\n",
    "\n",
    "    def get_metrics(self, name, clf, pipe, Xtr, ytr, Xval, yval):\n",
    "        \"\"\"Method to print metrics and return df of metrics\"\"\"\n",
    "\n",
    "        start = time.time()\n",
    "        metric_dict = {'name': name, 'clf': clf}\n",
    "        pipe.fit(Xtr, ytr)\n",
    "        base_cv = pd.DataFrame(cross_validate(pipe, Xtr, ytr, cv=3, return_train_score=False)).mean()\n",
    "        metric_dict['cv_mean'] = base_cv[2].mean()*100\n",
    "\n",
    "        if clf == 'rfc':\n",
    "            metric_dict['train'] = pipe[clf].oob_score_*100\n",
    "        else:\n",
    "            yhat = pipe.predict(Xtr)\n",
    "            metric_dict['train'] = accuracy_score(ytr, yhat)*100\n",
    "\n",
    "        ypred = pipe.predict(Xval)\n",
    "        metric_dict['acc'] = accuracy_score(yval, ypred)*100\n",
    "\n",
    "        print(f\"TRAIN accuracy: {metric_dict['train']: .2f} %\")\n",
    "        print(\"VAL:\")\n",
    "        print(f\"Accuracy: {metric_dict['acc']: .2f} %\")\n",
    "\n",
    "        if clf != 'dummy':\n",
    "            metric_dict['rec'] = recall_score(yval, ypred)*100\n",
    "            metric_dict['prec'] = precision_score(yval, ypred)*100\n",
    "            print(f\"Recall: {metric_dict['rec']*100: .2f} %\")\n",
    "            print(f\"Precision: {metric_dict['prec']: .2f} %\")\n",
    "            conf = confusion_matrix(yval, ypred)\n",
    "            plot_confusion_matrix(conf, classes=[\"non-risk\", \"suicide risk\"], normalize=True)\n",
    "            print(classification_report(yval, ypred, labels=[0,1]))\n",
    "\n",
    "        end = time.time()\n",
    "        metric_dict['time'] = (f'{end-start:.1f} s')\n",
    "\n",
    "        self.df = pd.concat([self.df, pd.DataFrame(metric_dict, index=[0])], ignore_index=True)\n",
    "        return self"
   ]
  },
  {
   "cell_type": "code",
   "execution_count": 23,
   "id": "fb1927b7-546c-4df6-8bb0-763b2c811817",
   "metadata": {
    "tags": []
   },
   "outputs": [],
   "source": [
    "met = Metrics()"
   ]
  },
  {
   "cell_type": "code",
   "execution_count": 24,
   "id": "28976734-80bc-4441-8806-ffd8e931c028",
   "metadata": {
    "tags": []
   },
   "outputs": [
    {
     "data": {
      "text/html": [
       "<div>\n",
       "<style scoped>\n",
       "    .dataframe tbody tr th:only-of-type {\n",
       "        vertical-align: middle;\n",
       "    }\n",
       "\n",
       "    .dataframe tbody tr th {\n",
       "        vertical-align: top;\n",
       "    }\n",
       "\n",
       "    .dataframe thead th {\n",
       "        text-align: right;\n",
       "    }\n",
       "</style>\n",
       "<table border=\"1\" class=\"dataframe\">\n",
       "  <thead>\n",
       "    <tr style=\"text-align: right;\">\n",
       "      <th></th>\n",
       "      <th>name</th>\n",
       "      <th>clf</th>\n",
       "      <th>cv_mean</th>\n",
       "      <th>train</th>\n",
       "      <th>acc</th>\n",
       "      <th>prec</th>\n",
       "      <th>rec</th>\n",
       "      <th>time</th>\n",
       "    </tr>\n",
       "  </thead>\n",
       "  <tbody>\n",
       "  </tbody>\n",
       "</table>\n",
       "</div>"
      ],
      "text/plain": [
       "Empty DataFrame\n",
       "Columns: [name, clf, cv_mean, train, acc, prec, rec, time]\n",
       "Index: []"
      ]
     },
     "execution_count": 24,
     "metadata": {},
     "output_type": "execute_result"
    }
   ],
   "source": [
    "met.df"
   ]
  },
  {
   "cell_type": "markdown",
   "id": "6e1077c3-ca3e-40d3-a4be-9f4df35c6392",
   "metadata": {
    "tags": []
   },
   "source": [
    "## Create Column Transformer Prep Pipeline"
   ]
  },
  {
   "cell_type": "markdown",
   "id": "19d2e0e9-d628-4c04-a1f9-51ad971dbbce",
   "metadata": {},
   "source": [
    "* Separate Pipeline needed for text and numeric (emotion/sentiment) columns\n",
    "* Using MinMaxScaler to avoid negative & zero values\n",
    "    * Might change to StandardScaler depending on model & normalization"
   ]
  },
  {
   "cell_type": "code",
   "execution_count": 25,
   "id": "d9ce4080-b340-4c56-addf-ace7caad6b95",
   "metadata": {
    "tags": []
   },
   "outputs": [],
   "source": [
    "# Num_Pipe includes MinMaxScaler since MNB cannot handle negative values\n",
    "\n",
    "num_pipe = Pipeline(steps=[\n",
    "    ('min', MinMaxScaler())\n",
    "])\n",
    "\n",
    "text_pipe = Pipeline(steps=[\n",
    "    (\"squeeze\", FunctionTransformer(lambda x: x.squeeze())),\n",
    "    (\"tfidf\", TfidfVectorizer(min_df=0.05, max_df=0.95)),\n",
    "    (\"toarray\", FunctionTransformer(lambda x: x.toarray()))\n",
    "])\n",
    "\n",
    "CT = ColumnTransformer(transformers=[\n",
    "    ('num', num_pipe, selector(dtype_include=np.number)),\n",
    "    ('text', text_pipe, ['text'])\n",
    "])"
   ]
  },
  {
   "cell_type": "markdown",
   "id": "1bea0cab-8dba-44cb-b601-f3ff8c00069f",
   "metadata": {
    "tags": []
   },
   "source": [
    "# &nbsp;&nbsp; II. &nbsp; Data Modeling"
   ]
  },
  {
   "cell_type": "markdown",
   "id": "2cff12ff-fff3-40ae-a4bf-60400c1aa3bd",
   "metadata": {
    "tags": []
   },
   "source": [
    "## Metrics to Focus On"
   ]
  },
  {
   "cell_type": "markdown",
   "id": "16fb171c-a2df-4d9e-a993-7d6c3dd7cad4",
   "metadata": {},
   "source": [
    "1. **High Accuracy Rate**: We want a model that can successfully distinguish suicide risk cases from non-suicide risk cases\n",
    "2. **High Recall Rate**: We want to *avoid* failing to detect suicide risk cases, meaning we want a high recall rate."
   ]
  },
  {
   "cell_type": "markdown",
   "id": "7e335ef8-dea9-4521-87cf-f2c66ac22d29",
   "metadata": {
    "tags": []
   },
   "source": [
    "## 1. Baseline and First Simple Model"
   ]
  },
  {
   "cell_type": "code",
   "execution_count": 26,
   "id": "d94aa831-0035-478c-a744-895ab5348324",
   "metadata": {
    "tags": []
   },
   "outputs": [
    {
     "name": "stdout",
     "output_type": "stream",
     "text": [
      "Data for Basic (tf-idf only) models: X_bas_\n"
     ]
    }
   ],
   "source": [
    "X_bas_train = X_train['text']\n",
    "X_bas_val = X_val['text']\n",
    "\n",
    "print(\"Data for Basic (tf-idf only) models: X_bas_\")"
   ]
  },
  {
   "cell_type": "markdown",
   "id": "76b4545a-5520-4d28-bfa7-7b6367bbdd6a",
   "metadata": {
    "tags": []
   },
   "source": [
    "### 1a. Baseline Model"
   ]
  },
  {
   "cell_type": "code",
   "execution_count": 27,
   "id": "8547d44a-7734-43d6-a7cf-0dba8bca29e9",
   "metadata": {
    "tags": []
   },
   "outputs": [],
   "source": [
    "base_pipe = Pipeline(steps=[\n",
    "    ('tfidf', TfidfVectorizer(min_df=0.05, max_df=0.95)),\n",
    "    ('dummy', DummyClassifier())\n",
    "])"
   ]
  },
  {
   "cell_type": "code",
   "execution_count": 28,
   "id": "e1856682-8883-4a22-96af-b52c1eef91ed",
   "metadata": {
    "tags": []
   },
   "outputs": [
    {
     "name": "stdout",
     "output_type": "stream",
     "text": [
      "TRAIN accuracy:  50.29 %\n",
      "VAL:\n",
      "Accuracy:  50.40 %\n"
     ]
    },
    {
     "data": {
      "text/plain": [
       "<__main__.Metrics at 0x15f0434d0>"
      ]
     },
     "execution_count": 28,
     "metadata": {},
     "output_type": "execute_result"
    }
   ],
   "source": [
    "met.get_metrics('baseline', 'dummy', base_pipe, X_bas_train, y_train, X_bas_val, y_val)"
   ]
  },
  {
   "cell_type": "markdown",
   "id": "5bb5c44f-6bc2-4d65-879e-3d8c386216e1",
   "metadata": {
    "tags": []
   },
   "source": [
    "#### Summary of Baseline Model"
   ]
  },
  {
   "cell_type": "markdown",
   "id": "ce7a8eb2-129f-44cc-bd5c-fd8e41b5328d",
   "metadata": {},
   "source": [
    "* 50% accuracy in classifying suicide risk vs. non-risk\n",
    "    * Expected value given equal class balance"
   ]
  },
  {
   "cell_type": "markdown",
   "id": "74d414ee-6dff-4111-8df7-85d38671f58a",
   "metadata": {
    "tags": []
   },
   "source": [
    "### 1b. First Simple Model"
   ]
  },
  {
   "cell_type": "code",
   "execution_count": 30,
   "id": "2210b1fc-c1a3-4960-ab08-886c82210469",
   "metadata": {
    "tags": []
   },
   "outputs": [],
   "source": [
    "fsm_pipe = Pipeline(steps=[\n",
    "    ('tfidf', TfidfVectorizer(min_df=0.05, max_df=0.95)),\n",
    "    ('mnb', MultinomialNB())\n",
    "])"
   ]
  },
  {
   "cell_type": "code",
   "execution_count": 31,
   "id": "ee1d0903-0c01-4fac-8ce4-895df8175156",
   "metadata": {
    "tags": []
   },
   "outputs": [
    {
     "name": "stdout",
     "output_type": "stream",
     "text": [
      "TRAIN accuracy:  80.47 %\n",
      "VAL:\n",
      "Accuracy:  80.84 %\n",
      "Recall:  8750.14 %\n",
      "Precision:  77.42 %\n",
      "Normalized confusion matrix\n",
      "[[0.74072559 0.25927441]\n",
      " [0.12498563 0.87501437]]\n",
      "              precision    recall  f1-score   support\n",
      "\n",
      "           0       0.85      0.74      0.79     17117\n",
      "           1       0.77      0.88      0.82     17394\n",
      "\n",
      "    accuracy                           0.81     34511\n",
      "   macro avg       0.81      0.81      0.81     34511\n",
      "weighted avg       0.81      0.81      0.81     34511\n",
      "\n"
     ]
    },
    {
     "data": {
      "text/plain": [
       "<__main__.Metrics at 0x15f0434d0>"
      ]
     },
     "execution_count": 31,
     "metadata": {},
     "output_type": "execute_result"
    },
    {
     "data": {
      "image/png": "[encoded data removed]",
      "text/plain": [
       "<Figure size 640x480 with 2 Axes>"
      ]
     },
     "metadata": {},
     "output_type": "display_data"
    }
   ],
   "source": [
    "met.get_metrics('fsm', 'mnb', fsm_pipe, X_bas_train, y_train, X_bas_val, y_val)"
   ]
  },
  {
   "cell_type": "code",
   "execution_count": 32,
   "id": "b68f2e17-15b5-499a-9135-89d785aff13d",
   "metadata": {
    "tags": []
   },
   "outputs": [
    {
     "data": {
      "text/html": [
       "<div>\n",
       "<style scoped>\n",
       "    .dataframe tbody tr th:only-of-type {\n",
       "        vertical-align: middle;\n",
       "    }\n",
       "\n",
       "    .dataframe tbody tr th {\n",
       "        vertical-align: top;\n",
       "    }\n",
       "\n",
       "    .dataframe thead th {\n",
       "        text-align: right;\n",
       "    }\n",
       "</style>\n",
       "<table border=\"1\" class=\"dataframe\">\n",
       "  <thead>\n",
       "    <tr style=\"text-align: right;\">\n",
       "      <th></th>\n",
       "      <th>name</th>\n",
       "      <th>clf</th>\n",
       "      <th>cv_mean</th>\n",
       "      <th>train</th>\n",
       "      <th>acc</th>\n",
       "      <th>prec</th>\n",
       "      <th>rec</th>\n",
       "      <th>time</th>\n",
       "    </tr>\n",
       "  </thead>\n",
       "  <tbody>\n",
       "    <tr>\n",
       "      <th>0</th>\n",
       "      <td>baseline</td>\n",
       "      <td>dummy</td>\n",
       "      <td>50.289</td>\n",
       "      <td>50.289</td>\n",
       "      <td>50.401</td>\n",
       "      <td>NaN</td>\n",
       "      <td>NaN</td>\n",
       "      <td>16.3 s</td>\n",
       "    </tr>\n",
       "    <tr>\n",
       "      <th>1</th>\n",
       "      <td>fsm</td>\n",
       "      <td>mnb</td>\n",
       "      <td>80.372</td>\n",
       "      <td>80.471</td>\n",
       "      <td>80.841</td>\n",
       "      <td>77.424</td>\n",
       "      <td>87.501</td>\n",
       "      <td>16.4 s</td>\n",
       "    </tr>\n",
       "  </tbody>\n",
       "</table>\n",
       "</div>"
      ],
      "text/plain": [
       "       name    clf  cv_mean  train    acc   prec    rec    time\n",
       "0  baseline  dummy   50.289 50.289 50.401    NaN    NaN  16.3 s\n",
       "1       fsm    mnb   80.372 80.471 80.841 77.424 87.501  16.4 s"
      ]
     },
     "execution_count": 32,
     "metadata": {},
     "output_type": "execute_result"
    }
   ],
   "source": [
    "met.df"
   ]
  },
  {
   "cell_type": "markdown",
   "id": "1d948683-3567-445b-8f19-5f97fc959f79",
   "metadata": {
    "tags": []
   },
   "source": [
    "#### Summary of First Simple Model"
   ]
  },
  {
   "cell_type": "markdown",
   "id": "0a65c927-bbf4-4642-bc1a-8d723b192645",
   "metadata": {},
   "source": [
    "* 80.8% Accuracy in classifying suicide risk\n",
    "    * Model is well-fit -- (0.4% difference between Train & Test Accuracy)\n",
    "    * Quick runtime\n",
    "* Recall (87.5%) > Precision (77.4%)\n",
    "    * In line with goal to avoid false negatives"
   ]
  },
  {
   "cell_type": "markdown",
   "id": "4b028dba-0724-45b8-8d16-06f2ffa8336b",
   "metadata": {
    "tags": []
   },
   "source": [
    "### 1c. Extracting TFIDF and stopword data"
   ]
  },
  {
   "cell_type": "code",
   "execution_count": 34,
   "id": "d306ed1c-3426-4646-8352-891978ff4331",
   "metadata": {
    "tags": []
   },
   "outputs": [],
   "source": [
    "stopwords = fsm_pipe['tfidf'].stop_words_"
   ]
  },
  {
   "cell_type": "code",
   "execution_count": 35,
   "id": "83e7eda9-f04b-426e-b96a-f0ae3dc23223",
   "metadata": {
    "tags": []
   },
   "outputs": [],
   "source": [
    "stopwords = list(stopwords)"
   ]
  },
  {
   "cell_type": "code",
   "execution_count": 37,
   "id": "fd3cc800-1a72-4c7b-8026-c42cb2c4eaa6",
   "metadata": {
    "tags": []
   },
   "outputs": [
    {
     "name": "stdout",
     "output_type": "stream",
     "text": [
      "List of custom Stopwords: 80116\n",
      "\t\n",
      "['horrify', 'hmmwv', 'homily', 'boix', 'hyposexuality', 'schism', 'steamunlocked', 'fork', 'bunnygirl', 'appeartnly', 'diffuculty', 'sample', 'genially', 'sdead', 'hhah', 'motherfuggin', 'intuit', 'faurschou', 'flareup', 'roble']\n",
      "\t\n",
      "['dadadada', 'ninny', 'coincide', 'gerninja', 'borris', 'letitia', 'borked', 'necessary', 'anxiey', 'lifestyle', 'meaningfull', 'optifine', 'sfriendship', 'intuitively', 'ablissful', 'hadcommanded', 'semeber', 'ourside', 'incelism', 'friggin']\n"
     ]
    }
   ],
   "source": [
    "print(f'List of custom Stopwords: {len(stopwords)}')\n",
    "print('\\t')\n",
    "print(stopwords[:20])\n",
    "print('\\t')\n",
    "print(stopwords[-20:])"
   ]
  },
  {
   "cell_type": "markdown",
   "id": "80944fa3-5b6f-4c28-9241-4b827d93e8f7",
   "metadata": {},
   "source": [
    "* Custom Stopwords seem to be mostly typos, some slang or rarely used nouns"
   ]
  },
  {
   "cell_type": "code",
   "execution_count": 38,
   "id": "fb9fee9b-e3b5-4b61-a260-dae67479ee23",
   "metadata": {
    "tags": []
   },
   "outputs": [],
   "source": [
    "feature_words = fsm_pipe['tfidf'].get_feature_names_out()"
   ]
  },
  {
   "cell_type": "code",
   "execution_count": 39,
   "id": "d159efc7-d6a6-4a56-a1c9-0942ea01b14f",
   "metadata": {
    "tags": []
   },
   "outputs": [],
   "source": [
    "df_tf_train = pd.DataFrame(\n",
    "    data=(fsm_pipe['tfidf'].transform(X_bas_train)).toarray(), index=y_train.index, columns=feature_words)\n",
    "\n",
    "df_tf_val = pd.DataFrame(\n",
    "    data=(fsm_pipe['tfidf'].transform(X_bas_val)).toarray(), index=y_val.index, columns=feature_words)"
   ]
  },
  {
   "cell_type": "markdown",
   "id": "22b0407f-6ca8-444b-9a1e-841f2d97b50e",
   "metadata": {},
   "source": [
    "---"
   ]
  },
  {
   "cell_type": "markdown",
   "id": "d1390136-3032-452f-ba92-bdca8800b89f",
   "metadata": {
    "tags": []
   },
   "source": [
    "## 2. Second Simple Model: TF-IDF and Sentiment Analysis"
   ]
  },
  {
   "cell_type": "code",
   "execution_count": 40,
   "id": "160fa333-2aa4-41c2-8a9f-3aa2b2e2aeb0",
   "metadata": {
    "tags": []
   },
   "outputs": [
    {
     "name": "stdout",
     "output_type": "stream",
     "text": [
      "Data for tf-idf + sentiment models: X_Sent_\n"
     ]
    }
   ],
   "source": [
    "X_sent_train = X_train.iloc[:, 0:5]\n",
    "X_sent_val = X_val.iloc[:, 0:5]\n",
    "\n",
    "print(\"Data for tf-idf + sentiment models: X_Sent_\")"
   ]
  },
  {
   "cell_type": "markdown",
   "id": "9bd35379-8f49-4af5-a131-9d1740afe216",
   "metadata": {},
   "source": [
    "* TF-IDF Data does not need any more preprocessing\n",
    "* However, sentiment data needs to be standardized (possibly normalized in future models)"
   ]
  },
  {
   "cell_type": "markdown",
   "id": "d3e8bce2-4682-46fd-8935-d4110cbcc78f",
   "metadata": {
    "tags": []
   },
   "source": [
    "### 2a. Second Simple Model - MNB"
   ]
  },
  {
   "cell_type": "code",
   "execution_count": 47,
   "id": "9f398b68-cdd0-4d7b-a260-1d0c38eaec5f",
   "metadata": {
    "tags": []
   },
   "outputs": [],
   "source": [
    "ssm_pipe = Pipeline(steps=[\n",
    "    ('prep', CT),\n",
    "    ('mnb', MultinomialNB())\n",
    "])"
   ]
  },
  {
   "cell_type": "code",
   "execution_count": 48,
   "id": "f958f232-0292-4fdd-ae5e-950c51fb1b34",
   "metadata": {
    "tags": []
   },
   "outputs": [
    {
     "name": "stdout",
     "output_type": "stream",
     "text": [
      "TRAIN accuracy:  85.72 %\n",
      "VAL:\n",
      "Accuracy:  85.98 %\n",
      "Recall:  8739.22 %\n",
      "Precision:  85.17 %\n",
      "Normalized confusion matrix\n",
      "[[0.84535842 0.15464158]\n",
      " [0.12607796 0.87392204]]\n",
      "              precision    recall  f1-score   support\n",
      "\n",
      "           0       0.87      0.85      0.86     17117\n",
      "           1       0.85      0.87      0.86     17394\n",
      "\n",
      "    accuracy                           0.86     34511\n",
      "   macro avg       0.86      0.86      0.86     34511\n",
      "weighted avg       0.86      0.86      0.86     34511\n",
      "\n"
     ]
    },
    {
     "data": {
      "text/plain": [
       "<__main__.Metrics at 0x15f0434d0>"
      ]
     },
     "execution_count": 48,
     "metadata": {},
     "output_type": "execute_result"
    },
    {
     "data": {
      "image/png": "[encoded data removed]",
      "text/plain": [
       "<Figure size 640x480 with 2 Axes>"
      ]
     },
     "metadata": {},
     "output_type": "display_data"
    }
   ],
   "source": [
    "met.get_metrics('ssm', 'mnb', ssm_pipe, X_sent_train, y_train, X_sent_val, y_val)"
   ]
  },
  {
   "cell_type": "code",
   "execution_count": 38,
   "id": "6e451d18-6797-4515-8e40-271ba3985769",
   "metadata": {
    "tags": []
   },
   "outputs": [
    {
     "data": {
      "text/html": [
       "<div>\n",
       "<style scoped>\n",
       "    .dataframe tbody tr th:only-of-type {\n",
       "        vertical-align: middle;\n",
       "    }\n",
       "\n",
       "    .dataframe tbody tr th {\n",
       "        vertical-align: top;\n",
       "    }\n",
       "\n",
       "    .dataframe thead th {\n",
       "        text-align: right;\n",
       "    }\n",
       "</style>\n",
       "<table border=\"1\" class=\"dataframe\">\n",
       "  <thead>\n",
       "    <tr style=\"text-align: right;\">\n",
       "      <th></th>\n",
       "      <th>name</th>\n",
       "      <th>clf</th>\n",
       "      <th>cv_mean</th>\n",
       "      <th>train</th>\n",
       "      <th>acc</th>\n",
       "      <th>prec</th>\n",
       "      <th>rec</th>\n",
       "      <th>time</th>\n",
       "    </tr>\n",
       "  </thead>\n",
       "  <tbody>\n",
       "    <tr>\n",
       "      <th>0</th>\n",
       "      <td>baseline</td>\n",
       "      <td>dummy</td>\n",
       "      <td>50.289</td>\n",
       "      <td>50.289</td>\n",
       "      <td>50.401</td>\n",
       "      <td>50.401</td>\n",
       "      <td>100.000</td>\n",
       "      <td>16.4 s</td>\n",
       "    </tr>\n",
       "    <tr>\n",
       "      <th>1</th>\n",
       "      <td>1st_sm</td>\n",
       "      <td>mnb</td>\n",
       "      <td>80.372</td>\n",
       "      <td>80.471</td>\n",
       "      <td>80.841</td>\n",
       "      <td>77.424</td>\n",
       "      <td>87.501</td>\n",
       "      <td>16.6 s</td>\n",
       "    </tr>\n",
       "    <tr>\n",
       "      <th>2</th>\n",
       "      <td>2nd_sm</td>\n",
       "      <td>mnb</td>\n",
       "      <td>85.711</td>\n",
       "      <td>85.717</td>\n",
       "      <td>85.975</td>\n",
       "      <td>85.169</td>\n",
       "      <td>87.392</td>\n",
       "      <td>17.2 s</td>\n",
       "    </tr>\n",
       "  </tbody>\n",
       "</table>\n",
       "</div>"
      ],
      "text/plain": [
       "       name    clf  cv_mean  train    acc   prec     rec    time\n",
       "0  baseline  dummy   50.289 50.289 50.401 50.401 100.000  16.4 s\n",
       "1    1st_sm    mnb   80.372 80.471 80.841 77.424  87.501  16.6 s\n",
       "2    2nd_sm    mnb   85.711 85.717 85.975 85.169  87.392  17.2 s"
      ]
     },
     "execution_count": 38,
     "metadata": {},
     "output_type": "execute_result"
    }
   ],
   "source": [
    "met.df"
   ]
  },
  {
   "cell_type": "markdown",
   "id": "ac7c0880-0cf9-4539-a314-265e49b55e38",
   "metadata": {
    "tags": []
   },
   "source": [
    "#### Summary of MNB - 2"
   ]
  },
  {
   "cell_type": "markdown",
   "id": "a7e807a0-bbec-4dc2-b8d0-5cddddaaf05f",
   "metadata": {},
   "source": [
    "* Increased Accuracy (85.98%)\n",
    "    * Model is well fit (0.2% under)\n",
    "    * Quick\n",
    "* Recall (87.39%) higher than Precision (85.17%)"
   ]
  },
  {
   "cell_type": "markdown",
   "id": "e290d462-b2c1-4c67-9de5-ca8777c372a5",
   "metadata": {},
   "source": [
    "---"
   ]
  },
  {
   "cell_type": "markdown",
   "id": "147d1041-77f4-4428-b3b3-412765a13d78",
   "metadata": {
    "tags": []
   },
   "source": [
    "## 3. Full Feature Models - Comparing Classifiers"
   ]
  },
  {
   "cell_type": "markdown",
   "id": "0582505c-7f91-4baa-a1b6-3e686fb25af0",
   "metadata": {
    "tags": []
   },
   "source": [
    "### 3a. MNB - Full"
   ]
  },
  {
   "cell_type": "code",
   "execution_count": 49,
   "id": "a6fa29c9-6441-4abd-a286-aea65c27a64b",
   "metadata": {
    "tags": []
   },
   "outputs": [],
   "source": [
    "mnb_pipe = Pipeline(steps=[\n",
    "    ('prep', CT),\n",
    "    ('mnb', MultinomialNB())\n",
    "])"
   ]
  },
  {
   "cell_type": "code",
   "execution_count": 50,
   "id": "a5fafe67-210e-495a-865f-9d5cbd0efd1e",
   "metadata": {
    "tags": []
   },
   "outputs": [
    {
     "data": {
      "text/html": [
       "<style>#sk-container-id-1 {color: black;background-color: white;}#sk-container-id-1 pre{padding: 0;}#sk-container-id-1 div.sk-toggleable {background-color: white;}#sk-container-id-1 label.sk-toggleable__label {cursor: pointer;display: block;width: 100%;margin-bottom: 0;padding: 0.3em;box-sizing: border-box;text-align: center;}#sk-container-id-1 label.sk-toggleable__label-arrow:before {content: \"▸\";float: left;margin-right: 0.25em;color: #696969;}#sk-container-id-1 label.sk-toggleable__label-arrow:hover:before {color: black;}#sk-container-id-1 div.sk-estimator:hover label.sk-toggleable__label-arrow:before {color: black;}#sk-container-id-1 div.sk-toggleable__content {max-height: 0;max-width: 0;overflow: hidden;text-align: left;background-color: #f0f8ff;}#sk-container-id-1 div.sk-toggleable__content pre {margin: 0.2em;color: black;border-radius: 0.25em;background-color: #f0f8ff;}#sk-container-id-1 input.sk-toggleable__control:checked~div.sk-toggleable__content {max-height: 200px;max-width: 100%;overflow: auto;}#sk-container-id-1 input.sk-toggleable__control:checked~label.sk-toggleable__label-arrow:before {content: \"▾\";}#sk-container-id-1 div.sk-estimator input.sk-toggleable__control:checked~label.sk-toggleable__label {background-color: #d4ebff;}#sk-container-id-1 div.sk-label input.sk-toggleable__control:checked~label.sk-toggleable__label {background-color: #d4ebff;}#sk-container-id-1 input.sk-hidden--visually {border: 0;clip: rect(1px 1px 1px 1px);clip: rect(1px, 1px, 1px, 1px);height: 1px;margin: -1px;overflow: hidden;padding: 0;position: absolute;width: 1px;}#sk-container-id-1 div.sk-estimator {font-family: monospace;background-color: #f0f8ff;border: 1px dotted black;border-radius: 0.25em;box-sizing: border-box;margin-bottom: 0.5em;}#sk-container-id-1 div.sk-estimator:hover {background-color: #d4ebff;}#sk-container-id-1 div.sk-parallel-item::after {content: \"\";width: 100%;border-bottom: 1px solid gray;flex-grow: 1;}#sk-container-id-1 div.sk-label:hover label.sk-toggleable__label {background-color: #d4ebff;}#sk-container-id-1 div.sk-serial::before {content: \"\";position: absolute;border-left: 1px solid gray;box-sizing: border-box;top: 0;bottom: 0;left: 50%;z-index: 0;}#sk-container-id-1 div.sk-serial {display: flex;flex-direction: column;align-items: center;background-color: white;padding-right: 0.2em;padding-left: 0.2em;position: relative;}#sk-container-id-1 div.sk-item {position: relative;z-index: 1;}#sk-container-id-1 div.sk-parallel {display: flex;align-items: stretch;justify-content: center;background-color: white;position: relative;}#sk-container-id-1 div.sk-item::before, #sk-container-id-1 div.sk-parallel-item::before {content: \"\";position: absolute;border-left: 1px solid gray;box-sizing: border-box;top: 0;bottom: 0;left: 50%;z-index: -1;}#sk-container-id-1 div.sk-parallel-item {display: flex;flex-direction: column;z-index: 1;position: relative;background-color: white;}#sk-container-id-1 div.sk-parallel-item:first-child::after {align-self: flex-end;width: 50%;}#sk-container-id-1 div.sk-parallel-item:last-child::after {align-self: flex-start;width: 50%;}#sk-container-id-1 div.sk-parallel-item:only-child::after {width: 0;}#sk-container-id-1 div.sk-dashed-wrapped {border: 1px dashed gray;margin: 0 0.4em 0.5em 0.4em;box-sizing: border-box;padding-bottom: 0.4em;background-color: white;}#sk-container-id-1 div.sk-label label {font-family: monospace;font-weight: bold;display: inline-block;line-height: 1.2em;}#sk-container-id-1 div.sk-label-container {text-align: center;}#sk-container-id-1 div.sk-container {/* jupyter's `normalize.less` sets `[hidden] { display: none; }` but bootstrap.min.css set `[hidden] { display: none !important; }` so we also need the `!important` here to be able to override the default hidden behavior on the sphinx rendered scikit-learn.org. See: https://github.com/scikit-learn/scikit-learn/issues/21755 */display: inline-block !important;position: relative;}#sk-container-id-1 div.sk-text-repr-fallback {display: none;}</style><div id=\"sk-container-id-1\" class=\"sk-top-container\"><div class=\"sk-text-repr-fallback\"><pre>Pipeline(steps=[(&#x27;prep&#x27;,\n",
       "                 ColumnTransformer(transformers=[(&#x27;num&#x27;,\n",
       "                                                  Pipeline(steps=[(&#x27;min&#x27;,\n",
       "                                                                   MinMaxScaler())]),\n",
       "                                                  &lt;sklearn.compose._column_transformer.make_column_selector object at 0x15dae9250&gt;),\n",
       "                                                 (&#x27;text&#x27;,\n",
       "                                                  Pipeline(steps=[(&#x27;squeeze&#x27;,\n",
       "                                                                   FunctionTransformer(func=&lt;function &lt;lambda&gt; at 0x15e263ec0&gt;)),\n",
       "                                                                  (&#x27;tfidf&#x27;,\n",
       "                                                                   TfidfVectorizer(max_df=0.95,\n",
       "                                                                                   min_df=0.05)),\n",
       "                                                                  (&#x27;toarray&#x27;,\n",
       "                                                                   FunctionTransformer(func=&lt;function &lt;lambda&gt; at 0x15e263880&gt;))]),\n",
       "                                                  [&#x27;text&#x27;])])),\n",
       "                (&#x27;mnb&#x27;, MultinomialNB())])</pre><b>In a Jupyter environment, please rerun this cell to show the HTML representation or trust the notebook. <br />On GitHub, the HTML representation is unable to render, please try loading this page with nbviewer.org.</b></div><div class=\"sk-container\" hidden><div class=\"sk-item sk-dashed-wrapped\"><div class=\"sk-label-container\"><div class=\"sk-label sk-toggleable\"><input class=\"sk-toggleable__control sk-hidden--visually\" id=\"sk-estimator-id-1\" type=\"checkbox\" ><label for=\"sk-estimator-id-1\" class=\"sk-toggleable__label sk-toggleable__label-arrow\">Pipeline</label><div class=\"sk-toggleable__content\"><pre>Pipeline(steps=[(&#x27;prep&#x27;,\n",
       "                 ColumnTransformer(transformers=[(&#x27;num&#x27;,\n",
       "                                                  Pipeline(steps=[(&#x27;min&#x27;,\n",
       "                                                                   MinMaxScaler())]),\n",
       "                                                  &lt;sklearn.compose._column_transformer.make_column_selector object at 0x15dae9250&gt;),\n",
       "                                                 (&#x27;text&#x27;,\n",
       "                                                  Pipeline(steps=[(&#x27;squeeze&#x27;,\n",
       "                                                                   FunctionTransformer(func=&lt;function &lt;lambda&gt; at 0x15e263ec0&gt;)),\n",
       "                                                                  (&#x27;tfidf&#x27;,\n",
       "                                                                   TfidfVectorizer(max_df=0.95,\n",
       "                                                                                   min_df=0.05)),\n",
       "                                                                  (&#x27;toarray&#x27;,\n",
       "                                                                   FunctionTransformer(func=&lt;function &lt;lambda&gt; at 0x15e263880&gt;))]),\n",
       "                                                  [&#x27;text&#x27;])])),\n",
       "                (&#x27;mnb&#x27;, MultinomialNB())])</pre></div></div></div><div class=\"sk-serial\"><div class=\"sk-item sk-dashed-wrapped\"><div class=\"sk-label-container\"><div class=\"sk-label sk-toggleable\"><input class=\"sk-toggleable__control sk-hidden--visually\" id=\"sk-estimator-id-2\" type=\"checkbox\" ><label for=\"sk-estimator-id-2\" class=\"sk-toggleable__label sk-toggleable__label-arrow\">prep: ColumnTransformer</label><div class=\"sk-toggleable__content\"><pre>ColumnTransformer(transformers=[(&#x27;num&#x27;,\n",
       "                                 Pipeline(steps=[(&#x27;min&#x27;, MinMaxScaler())]),\n",
       "                                 &lt;sklearn.compose._column_transformer.make_column_selector object at 0x15dae9250&gt;),\n",
       "                                (&#x27;text&#x27;,\n",
       "                                 Pipeline(steps=[(&#x27;squeeze&#x27;,\n",
       "                                                  FunctionTransformer(func=&lt;function &lt;lambda&gt; at 0x15e263ec0&gt;)),\n",
       "                                                 (&#x27;tfidf&#x27;,\n",
       "                                                  TfidfVectorizer(max_df=0.95,\n",
       "                                                                  min_df=0.05)),\n",
       "                                                 (&#x27;toarray&#x27;,\n",
       "                                                  FunctionTransformer(func=&lt;function &lt;lambda&gt; at 0x15e263880&gt;))]),\n",
       "                                 [&#x27;text&#x27;])])</pre></div></div></div><div class=\"sk-parallel\"><div class=\"sk-parallel-item\"><div class=\"sk-item\"><div class=\"sk-label-container\"><div class=\"sk-label sk-toggleable\"><input class=\"sk-toggleable__control sk-hidden--visually\" id=\"sk-estimator-id-3\" type=\"checkbox\" ><label for=\"sk-estimator-id-3\" class=\"sk-toggleable__label sk-toggleable__label-arrow\">num</label><div class=\"sk-toggleable__content\"><pre>&lt;sklearn.compose._column_transformer.make_column_selector object at 0x15dae9250&gt;</pre></div></div></div><div class=\"sk-serial\"><div class=\"sk-item\"><div class=\"sk-serial\"><div class=\"sk-item\"><div class=\"sk-estimator sk-toggleable\"><input class=\"sk-toggleable__control sk-hidden--visually\" id=\"sk-estimator-id-4\" type=\"checkbox\" ><label for=\"sk-estimator-id-4\" class=\"sk-toggleable__label sk-toggleable__label-arrow\">MinMaxScaler</label><div class=\"sk-toggleable__content\"><pre>MinMaxScaler()</pre></div></div></div></div></div></div></div></div><div class=\"sk-parallel-item\"><div class=\"sk-item\"><div class=\"sk-label-container\"><div class=\"sk-label sk-toggleable\"><input class=\"sk-toggleable__control sk-hidden--visually\" id=\"sk-estimator-id-5\" type=\"checkbox\" ><label for=\"sk-estimator-id-5\" class=\"sk-toggleable__label sk-toggleable__label-arrow\">text</label><div class=\"sk-toggleable__content\"><pre>[&#x27;text&#x27;]</pre></div></div></div><div class=\"sk-serial\"><div class=\"sk-item\"><div class=\"sk-serial\"><div class=\"sk-item\"><div class=\"sk-estimator sk-toggleable\"><input class=\"sk-toggleable__control sk-hidden--visually\" id=\"sk-estimator-id-6\" type=\"checkbox\" ><label for=\"sk-estimator-id-6\" class=\"sk-toggleable__label sk-toggleable__label-arrow\">FunctionTransformer</label><div class=\"sk-toggleable__content\"><pre>FunctionTransformer(func=&lt;function &lt;lambda&gt; at 0x15e263ec0&gt;)</pre></div></div></div><div class=\"sk-item\"><div class=\"sk-estimator sk-toggleable\"><input class=\"sk-toggleable__control sk-hidden--visually\" id=\"sk-estimator-id-7\" type=\"checkbox\" ><label for=\"sk-estimator-id-7\" class=\"sk-toggleable__label sk-toggleable__label-arrow\">TfidfVectorizer</label><div class=\"sk-toggleable__content\"><pre>TfidfVectorizer(max_df=0.95, min_df=0.05)</pre></div></div></div><div class=\"sk-item\"><div class=\"sk-estimator sk-toggleable\"><input class=\"sk-toggleable__control sk-hidden--visually\" id=\"sk-estimator-id-8\" type=\"checkbox\" ><label for=\"sk-estimator-id-8\" class=\"sk-toggleable__label sk-toggleable__label-arrow\">FunctionTransformer</label><div class=\"sk-toggleable__content\"><pre>FunctionTransformer(func=&lt;function &lt;lambda&gt; at 0x15e263880&gt;)</pre></div></div></div></div></div></div></div></div></div></div><div class=\"sk-item\"><div class=\"sk-estimator sk-toggleable\"><input class=\"sk-toggleable__control sk-hidden--visually\" id=\"sk-estimator-id-9\" type=\"checkbox\" ><label for=\"sk-estimator-id-9\" class=\"sk-toggleable__label sk-toggleable__label-arrow\">MultinomialNB</label><div class=\"sk-toggleable__content\"><pre>MultinomialNB()</pre></div></div></div></div></div></div></div>"
      ],
      "text/plain": [
       "Pipeline(steps=[('prep',\n",
       "                 ColumnTransformer(transformers=[('num',\n",
       "                                                  Pipeline(steps=[('min',\n",
       "                                                                   MinMaxScaler())]),\n",
       "                                                  <sklearn.compose._column_transformer.make_column_selector object at 0x15dae9250>),\n",
       "                                                 ('text',\n",
       "                                                  Pipeline(steps=[('squeeze',\n",
       "                                                                   FunctionTransformer(func=<function <lambda> at 0x15e263ec0>)),\n",
       "                                                                  ('tfidf',\n",
       "                                                                   TfidfVectorizer(max_df=0.95,\n",
       "                                                                                   min_df=0.05)),\n",
       "                                                                  ('toarray',\n",
       "                                                                   FunctionTransformer(func=<function <lambda> at 0x15e263880>))]),\n",
       "                                                  ['text'])])),\n",
       "                ('mnb', MultinomialNB())])"
      ]
     },
     "execution_count": 50,
     "metadata": {},
     "output_type": "execute_result"
    }
   ],
   "source": [
    "mnb_pipe"
   ]
  },
  {
   "cell_type": "code",
   "execution_count": 51,
   "id": "6fe49578-6835-4356-a6fd-ac8dbde67a25",
   "metadata": {
    "tags": []
   },
   "outputs": [
    {
     "name": "stdout",
     "output_type": "stream",
     "text": [
      "TRAIN accuracy:  85.77 %\n",
      "VAL:\n",
      "Accuracy:  86.08 %\n",
      "Recall:  8719.10 %\n",
      "Precision:  85.48 %\n",
      "Normalized confusion matrix\n",
      "[[0.84944792 0.15055208]\n",
      " [0.12809015 0.87190985]]\n",
      "              precision    recall  f1-score   support\n",
      "\n",
      "           0       0.87      0.85      0.86     17117\n",
      "           1       0.85      0.87      0.86     17394\n",
      "\n",
      "    accuracy                           0.86     34511\n",
      "   macro avg       0.86      0.86      0.86     34511\n",
      "weighted avg       0.86      0.86      0.86     34511\n",
      "\n"
     ]
    },
    {
     "data": {
      "text/plain": [
       "<__main__.Metrics at 0x15f0434d0>"
      ]
     },
     "execution_count": 51,
     "metadata": {},
     "output_type": "execute_result"
    },
    {
     "data": {
      "image/png": "[encoded data removed]",
      "text/plain": [
       "<Figure size 640x480 with 2 Axes>"
      ]
     },
     "metadata": {},
     "output_type": "display_data"
    }
   ],
   "source": [
    "met.get_metrics('full', 'mnb', mnb_pipe, X_train, y_train, X_val, y_val)"
   ]
  },
  {
   "cell_type": "code",
   "execution_count": 52,
   "id": "77a4ae3f-f65f-4673-8ead-27e4723b9671",
   "metadata": {
    "tags": []
   },
   "outputs": [
    {
     "data": {
      "text/html": [
       "<div>\n",
       "<style scoped>\n",
       "    .dataframe tbody tr th:only-of-type {\n",
       "        vertical-align: middle;\n",
       "    }\n",
       "\n",
       "    .dataframe tbody tr th {\n",
       "        vertical-align: top;\n",
       "    }\n",
       "\n",
       "    .dataframe thead th {\n",
       "        text-align: right;\n",
       "    }\n",
       "</style>\n",
       "<table border=\"1\" class=\"dataframe\">\n",
       "  <thead>\n",
       "    <tr style=\"text-align: right;\">\n",
       "      <th></th>\n",
       "      <th>name</th>\n",
       "      <th>clf</th>\n",
       "      <th>cv_mean</th>\n",
       "      <th>train</th>\n",
       "      <th>acc</th>\n",
       "      <th>prec</th>\n",
       "      <th>rec</th>\n",
       "      <th>time</th>\n",
       "    </tr>\n",
       "  </thead>\n",
       "  <tbody>\n",
       "    <tr>\n",
       "      <th>0</th>\n",
       "      <td>baseline</td>\n",
       "      <td>dummy</td>\n",
       "      <td>50.29</td>\n",
       "      <td>50.29</td>\n",
       "      <td>50.40</td>\n",
       "      <td>NaN</td>\n",
       "      <td>NaN</td>\n",
       "      <td>16.3 s</td>\n",
       "    </tr>\n",
       "    <tr>\n",
       "      <th>1</th>\n",
       "      <td>fsm</td>\n",
       "      <td>mnb</td>\n",
       "      <td>80.37</td>\n",
       "      <td>80.47</td>\n",
       "      <td>80.84</td>\n",
       "      <td>77.42</td>\n",
       "      <td>87.50</td>\n",
       "      <td>16.4 s</td>\n",
       "    </tr>\n",
       "    <tr>\n",
       "      <th>2</th>\n",
       "      <td>ssm</td>\n",
       "      <td>mnb</td>\n",
       "      <td>85.71</td>\n",
       "      <td>85.72</td>\n",
       "      <td>85.98</td>\n",
       "      <td>85.17</td>\n",
       "      <td>87.39</td>\n",
       "      <td>16.8 s</td>\n",
       "    </tr>\n",
       "    <tr>\n",
       "      <th>3</th>\n",
       "      <td>full</td>\n",
       "      <td>mnb</td>\n",
       "      <td>85.76</td>\n",
       "      <td>85.77</td>\n",
       "      <td>86.08</td>\n",
       "      <td>85.48</td>\n",
       "      <td>87.19</td>\n",
       "      <td>17.2 s</td>\n",
       "    </tr>\n",
       "  </tbody>\n",
       "</table>\n",
       "</div>"
      ],
      "text/plain": [
       "       name    clf  cv_mean  train   acc  prec   rec    time\n",
       "0  baseline  dummy    50.29  50.29 50.40   NaN   NaN  16.3 s\n",
       "1       fsm    mnb    80.37  80.47 80.84 77.42 87.50  16.4 s\n",
       "2       ssm    mnb    85.71  85.72 85.98 85.17 87.39  16.8 s\n",
       "3      full    mnb    85.76  85.77 86.08 85.48 87.19  17.2 s"
      ]
     },
     "execution_count": 52,
     "metadata": {},
     "output_type": "execute_result"
    }
   ],
   "source": [
    "met.df"
   ]
  },
  {
   "cell_type": "markdown",
   "id": "9d061b93-ec59-4b71-899b-c0ee18621df0",
   "metadata": {
    "tags": []
   },
   "source": [
    "* Adding Emotion did very little to the MNB model\n",
    "    * Slight accuracy improvement (0.1%)\n",
    "    * Recall slightly worse (0.2%)\n",
    "    * Slightly underfit (0.3%)"
   ]
  },
  {
   "cell_type": "markdown",
   "id": "6ca8f470-7730-4931-9ef7-59de9f2d0b67",
   "metadata": {
    "tags": []
   },
   "source": [
    "### 3b. Full - RFC"
   ]
  },
  {
   "cell_type": "code",
   "execution_count": 53,
   "id": "3026be3b-ca26-4576-9d7c-1048742120c6",
   "metadata": {
    "tags": []
   },
   "outputs": [],
   "source": [
    "rfc_pipe = Pipeline(steps=[\n",
    "    ('prep', CT),\n",
    "    ('rfc', RandomForestClassifier(oob_score=True, n_jobs= -1, random_state=42))\n",
    "])"
   ]
  },
  {
   "cell_type": "code",
   "execution_count": 54,
   "id": "70a6d762-ea1b-4f7f-91b7-7ae794523188",
   "metadata": {
    "tags": []
   },
   "outputs": [
    {
     "name": "stdout",
     "output_type": "stream",
     "text": [
      "TRAIN accuracy:  88.26 %\n",
      "VAL:\n",
      "Accuracy:  88.37 %\n",
      "Recall:  8738.65 %\n",
      "Precision:  89.32 %\n",
      "Normalized confusion matrix\n",
      "[[0.8937898  0.1062102 ]\n",
      " [0.12613545 0.87386455]]\n",
      "              precision    recall  f1-score   support\n",
      "\n",
      "           0       0.87      0.89      0.88     17117\n",
      "           1       0.89      0.87      0.88     17394\n",
      "\n",
      "    accuracy                           0.88     34511\n",
      "   macro avg       0.88      0.88      0.88     34511\n",
      "weighted avg       0.88      0.88      0.88     34511\n",
      "\n"
     ]
    },
    {
     "data": {
      "text/plain": [
       "<__main__.Metrics at 0x15f0434d0>"
      ]
     },
     "execution_count": 54,
     "metadata": {},
     "output_type": "execute_result"
    },
    {
     "data": {
      "image/png": "[encoded data removed]",
      "text/plain": [
       "<Figure size 640x480 with 2 Axes>"
      ]
     },
     "metadata": {},
     "output_type": "display_data"
    }
   ],
   "source": [
    "met.get_metrics('full', 'rfc', rfc_pipe, X_train, y_train, X_val, y_val)"
   ]
  },
  {
   "cell_type": "code",
   "execution_count": 55,
   "id": "f6559baf-16e9-4cca-9bd4-7c0661e3e076",
   "metadata": {
    "tags": []
   },
   "outputs": [
    {
     "data": {
      "text/html": [
       "<div>\n",
       "<style scoped>\n",
       "    .dataframe tbody tr th:only-of-type {\n",
       "        vertical-align: middle;\n",
       "    }\n",
       "\n",
       "    .dataframe tbody tr th {\n",
       "        vertical-align: top;\n",
       "    }\n",
       "\n",
       "    .dataframe thead th {\n",
       "        text-align: right;\n",
       "    }\n",
       "</style>\n",
       "<table border=\"1\" class=\"dataframe\">\n",
       "  <thead>\n",
       "    <tr style=\"text-align: right;\">\n",
       "      <th></th>\n",
       "      <th>name</th>\n",
       "      <th>clf</th>\n",
       "      <th>cv_mean</th>\n",
       "      <th>train</th>\n",
       "      <th>acc</th>\n",
       "      <th>prec</th>\n",
       "      <th>rec</th>\n",
       "      <th>time</th>\n",
       "    </tr>\n",
       "  </thead>\n",
       "  <tbody>\n",
       "    <tr>\n",
       "      <th>0</th>\n",
       "      <td>baseline</td>\n",
       "      <td>dummy</td>\n",
       "      <td>50.29</td>\n",
       "      <td>50.29</td>\n",
       "      <td>50.40</td>\n",
       "      <td>NaN</td>\n",
       "      <td>NaN</td>\n",
       "      <td>16.3 s</td>\n",
       "    </tr>\n",
       "    <tr>\n",
       "      <th>1</th>\n",
       "      <td>fsm</td>\n",
       "      <td>mnb</td>\n",
       "      <td>80.37</td>\n",
       "      <td>80.47</td>\n",
       "      <td>80.84</td>\n",
       "      <td>77.42</td>\n",
       "      <td>87.50</td>\n",
       "      <td>16.4 s</td>\n",
       "    </tr>\n",
       "    <tr>\n",
       "      <th>2</th>\n",
       "      <td>ssm</td>\n",
       "      <td>mnb</td>\n",
       "      <td>85.71</td>\n",
       "      <td>85.72</td>\n",
       "      <td>85.98</td>\n",
       "      <td>85.17</td>\n",
       "      <td>87.39</td>\n",
       "      <td>16.8 s</td>\n",
       "    </tr>\n",
       "    <tr>\n",
       "      <th>3</th>\n",
       "      <td>full</td>\n",
       "      <td>mnb</td>\n",
       "      <td>85.76</td>\n",
       "      <td>85.77</td>\n",
       "      <td>86.08</td>\n",
       "      <td>85.48</td>\n",
       "      <td>87.19</td>\n",
       "      <td>17.2 s</td>\n",
       "    </tr>\n",
       "    <tr>\n",
       "      <th>4</th>\n",
       "      <td>full</td>\n",
       "      <td>rfc</td>\n",
       "      <td>88.26</td>\n",
       "      <td>88.26</td>\n",
       "      <td>88.37</td>\n",
       "      <td>89.32</td>\n",
       "      <td>87.39</td>\n",
       "      <td>43.8 s</td>\n",
       "    </tr>\n",
       "  </tbody>\n",
       "</table>\n",
       "</div>"
      ],
      "text/plain": [
       "       name    clf  cv_mean  train   acc  prec   rec    time\n",
       "0  baseline  dummy    50.29  50.29 50.40   NaN   NaN  16.3 s\n",
       "1       fsm    mnb    80.37  80.47 80.84 77.42 87.50  16.4 s\n",
       "2       ssm    mnb    85.71  85.72 85.98 85.17 87.39  16.8 s\n",
       "3      full    mnb    85.76  85.77 86.08 85.48 87.19  17.2 s\n",
       "4      full    rfc    88.26  88.26 88.37 89.32 87.39  43.8 s"
      ]
     },
     "execution_count": 55,
     "metadata": {},
     "output_type": "execute_result"
    }
   ],
   "source": [
    "met.df"
   ]
  },
  {
   "cell_type": "markdown",
   "id": "edba6ff7-426e-4bd5-84c1-0b1c74696aad",
   "metadata": {},
   "source": [
    "* Higher accuracy than MNB (88.3% vs. 86.1%)\n",
    "* Well fit (0.1% under)\n",
    "* However:\n",
    "    * Much longer to run\n",
    "    * Fails to minimize false negatives (precision > recall)\n",
    "* STILL, recall is slightly better than MNB (87.4% vs. 87.2%)\n",
    "\n",
    "**WINNER: RFC**\n"
   ]
  },
  {
   "cell_type": "markdown",
   "id": "13693e00-91e8-477c-b205-d546b1877fa0",
   "metadata": {
    "tags": []
   },
   "source": [
    "### 3c. Logistic Regression"
   ]
  },
  {
   "cell_type": "code",
   "execution_count": 56,
   "id": "ead6af64-c3ca-4da9-8fa4-baac3b05aab6",
   "metadata": {
    "tags": []
   },
   "outputs": [],
   "source": [
    "lr_pipe = Pipeline(steps=[\n",
    "    ('prep', CT),\n",
    "    ('lr', LogisticRegression(\n",
    "        solver='saga', random_state=42))\n",
    "])"
   ]
  },
  {
   "cell_type": "code",
   "execution_count": 57,
   "id": "4e08a87e-4986-4eef-aa5d-4eb710534f53",
   "metadata": {
    "tags": []
   },
   "outputs": [
    {
     "name": "stdout",
     "output_type": "stream",
     "text": [
      "TRAIN accuracy:  88.93 %\n",
      "VAL:\n",
      "Accuracy:  88.87 %\n",
      "Recall:  8721.97 %\n",
      "Precision:  90.36 %\n",
      "Normalized confusion matrix\n",
      "[[0.90541567 0.09458433]\n",
      " [0.12780269 0.87219731]]\n",
      "              precision    recall  f1-score   support\n",
      "\n",
      "           0       0.87      0.91      0.89     17117\n",
      "           1       0.90      0.87      0.89     17394\n",
      "\n",
      "    accuracy                           0.89     34511\n",
      "   macro avg       0.89      0.89      0.89     34511\n",
      "weighted avg       0.89      0.89      0.89     34511\n",
      "\n"
     ]
    },
    {
     "data": {
      "text/plain": [
       "<__main__.Metrics at 0x15f0434d0>"
      ]
     },
     "execution_count": 57,
     "metadata": {},
     "output_type": "execute_result"
    },
    {
     "data": {
      "image/png": "[encoded data removed]",
      "text/plain": [
       "<Figure size 640x480 with 2 Axes>"
      ]
     },
     "metadata": {},
     "output_type": "display_data"
    }
   ],
   "source": [
    "met.get_metrics('full', 'lr', lr_pipe, X_train, y_train, X_val, y_val)"
   ]
  },
  {
   "cell_type": "code",
   "execution_count": 58,
   "id": "5f5ce53e-2223-4dd8-b44f-03a0cf6c17cb",
   "metadata": {
    "tags": []
   },
   "outputs": [
    {
     "data": {
      "text/html": [
       "<div>\n",
       "<style scoped>\n",
       "    .dataframe tbody tr th:only-of-type {\n",
       "        vertical-align: middle;\n",
       "    }\n",
       "\n",
       "    .dataframe tbody tr th {\n",
       "        vertical-align: top;\n",
       "    }\n",
       "\n",
       "    .dataframe thead th {\n",
       "        text-align: right;\n",
       "    }\n",
       "</style>\n",
       "<table border=\"1\" class=\"dataframe\">\n",
       "  <thead>\n",
       "    <tr style=\"text-align: right;\">\n",
       "      <th></th>\n",
       "      <th>name</th>\n",
       "      <th>clf</th>\n",
       "      <th>cv_mean</th>\n",
       "      <th>train</th>\n",
       "      <th>acc</th>\n",
       "      <th>prec</th>\n",
       "      <th>rec</th>\n",
       "      <th>time</th>\n",
       "    </tr>\n",
       "  </thead>\n",
       "  <tbody>\n",
       "    <tr>\n",
       "      <th>0</th>\n",
       "      <td>baseline</td>\n",
       "      <td>dummy</td>\n",
       "      <td>50.29</td>\n",
       "      <td>50.29</td>\n",
       "      <td>50.40</td>\n",
       "      <td>NaN</td>\n",
       "      <td>NaN</td>\n",
       "      <td>16.3 s</td>\n",
       "    </tr>\n",
       "    <tr>\n",
       "      <th>1</th>\n",
       "      <td>fsm</td>\n",
       "      <td>mnb</td>\n",
       "      <td>80.37</td>\n",
       "      <td>80.47</td>\n",
       "      <td>80.84</td>\n",
       "      <td>77.42</td>\n",
       "      <td>87.50</td>\n",
       "      <td>16.4 s</td>\n",
       "    </tr>\n",
       "    <tr>\n",
       "      <th>2</th>\n",
       "      <td>ssm</td>\n",
       "      <td>mnb</td>\n",
       "      <td>85.71</td>\n",
       "      <td>85.72</td>\n",
       "      <td>85.98</td>\n",
       "      <td>85.17</td>\n",
       "      <td>87.39</td>\n",
       "      <td>16.8 s</td>\n",
       "    </tr>\n",
       "    <tr>\n",
       "      <th>3</th>\n",
       "      <td>full</td>\n",
       "      <td>mnb</td>\n",
       "      <td>85.76</td>\n",
       "      <td>85.77</td>\n",
       "      <td>86.08</td>\n",
       "      <td>85.48</td>\n",
       "      <td>87.19</td>\n",
       "      <td>17.2 s</td>\n",
       "    </tr>\n",
       "    <tr>\n",
       "      <th>4</th>\n",
       "      <td>full</td>\n",
       "      <td>rfc</td>\n",
       "      <td>88.26</td>\n",
       "      <td>88.26</td>\n",
       "      <td>88.37</td>\n",
       "      <td>89.32</td>\n",
       "      <td>87.39</td>\n",
       "      <td>43.8 s</td>\n",
       "    </tr>\n",
       "    <tr>\n",
       "      <th>5</th>\n",
       "      <td>full</td>\n",
       "      <td>lr</td>\n",
       "      <td>88.86</td>\n",
       "      <td>88.93</td>\n",
       "      <td>88.87</td>\n",
       "      <td>90.36</td>\n",
       "      <td>87.22</td>\n",
       "      <td>31.8 s</td>\n",
       "    </tr>\n",
       "  </tbody>\n",
       "</table>\n",
       "</div>"
      ],
      "text/plain": [
       "       name    clf  cv_mean  train   acc  prec   rec    time\n",
       "0  baseline  dummy    50.29  50.29 50.40   NaN   NaN  16.3 s\n",
       "1       fsm    mnb    80.37  80.47 80.84 77.42 87.50  16.4 s\n",
       "2       ssm    mnb    85.71  85.72 85.98 85.17 87.39  16.8 s\n",
       "3      full    mnb    85.76  85.77 86.08 85.48 87.19  17.2 s\n",
       "4      full    rfc    88.26  88.26 88.37 89.32 87.39  43.8 s\n",
       "5      full     lr    88.86  88.93 88.87 90.36 87.22  31.8 s"
      ]
     },
     "execution_count": 58,
     "metadata": {},
     "output_type": "execute_result"
    }
   ],
   "source": [
    "met.df"
   ]
  },
  {
   "cell_type": "markdown",
   "id": "ebd78fe2-4533-4835-a847-b14bbf2e1838",
   "metadata": {},
   "source": [
    "* Higher accuracy than RFC or MNB (0.50%)\n",
    "* Lower recall score than RFC (0.17%) & greater margin between precision and recall (3.14 vs. 1.93)"
   ]
  },
  {
   "cell_type": "markdown",
   "id": "d0fb6c09-259b-4ebe-b087-e8a523d1d590",
   "metadata": {},
   "source": [
    "* However, margin can easily be altered by changing threshold:"
   ]
  },
  {
   "cell_type": "code",
   "execution_count": 59,
   "id": "2297597b-67eb-4f06-bf9a-69b2153d2b7e",
   "metadata": {
    "tags": []
   },
   "outputs": [],
   "source": [
    "y_pred_proba = lr_pipe.predict_proba(X_val)\n",
    "lr_prc = pd.DataFrame(precision_recall_curve(y_val, y_pred_proba[:, 1])).T"
   ]
  },
  {
   "cell_type": "code",
   "execution_count": 61,
   "id": "43e0a573-892c-4f79-8916-ecd9ac1a63a2",
   "metadata": {},
   "outputs": [
    {
     "data": {
      "image/png": "[encoded data removed]",
      "text/plain": [
       "<Figure size 640x480 with 1 Axes>"
      ]
     },
     "metadata": {},
     "output_type": "display_data"
    }
   ],
   "source": [
    "lr_prc.columns = ['precision', 'recall', 'threshold']\n",
    "\n",
    "PrecisionRecallDisplay(precision=lr_prc['precision'], recall=lr_prc['recall']).plot();"
   ]
  },
  {
   "cell_type": "code",
   "execution_count": 63,
   "id": "bc59060a-bfe4-417d-afb4-0be4cb3a9ebb",
   "metadata": {
    "tags": []
   },
   "outputs": [
    {
     "data": {
      "text/html": [
       "<div>\n",
       "<style scoped>\n",
       "    .dataframe tbody tr th:only-of-type {\n",
       "        vertical-align: middle;\n",
       "    }\n",
       "\n",
       "    .dataframe tbody tr th {\n",
       "        vertical-align: top;\n",
       "    }\n",
       "\n",
       "    .dataframe thead th {\n",
       "        text-align: right;\n",
       "    }\n",
       "</style>\n",
       "<table border=\"1\" class=\"dataframe\">\n",
       "  <thead>\n",
       "    <tr style=\"text-align: right;\">\n",
       "      <th></th>\n",
       "      <th>precision</th>\n",
       "      <th>recall</th>\n",
       "      <th>threshold</th>\n",
       "    </tr>\n",
       "  </thead>\n",
       "  <tbody>\n",
       "    <tr>\n",
       "      <th>16251</th>\n",
       "      <td>0.88</td>\n",
       "      <td>0.90</td>\n",
       "      <td>0.40</td>\n",
       "    </tr>\n",
       "    <tr>\n",
       "      <th>16250</th>\n",
       "      <td>0.88</td>\n",
       "      <td>0.90</td>\n",
       "      <td>0.40</td>\n",
       "    </tr>\n",
       "    <tr>\n",
       "      <th>16248</th>\n",
       "      <td>0.88</td>\n",
       "      <td>0.90</td>\n",
       "      <td>0.40</td>\n",
       "    </tr>\n",
       "    <tr>\n",
       "      <th>16249</th>\n",
       "      <td>0.88</td>\n",
       "      <td>0.90</td>\n",
       "      <td>0.40</td>\n",
       "    </tr>\n",
       "    <tr>\n",
       "      <th>16246</th>\n",
       "      <td>0.88</td>\n",
       "      <td>0.90</td>\n",
       "      <td>0.40</td>\n",
       "    </tr>\n",
       "    <tr>\n",
       "      <th>...</th>\n",
       "      <td>...</td>\n",
       "      <td>...</td>\n",
       "      <td>...</td>\n",
       "    </tr>\n",
       "    <tr>\n",
       "      <th>4</th>\n",
       "      <td>0.50</td>\n",
       "      <td>1.00</td>\n",
       "      <td>0.00</td>\n",
       "    </tr>\n",
       "    <tr>\n",
       "      <th>3</th>\n",
       "      <td>0.50</td>\n",
       "      <td>1.00</td>\n",
       "      <td>0.00</td>\n",
       "    </tr>\n",
       "    <tr>\n",
       "      <th>2</th>\n",
       "      <td>0.50</td>\n",
       "      <td>1.00</td>\n",
       "      <td>0.00</td>\n",
       "    </tr>\n",
       "    <tr>\n",
       "      <th>1</th>\n",
       "      <td>0.50</td>\n",
       "      <td>1.00</td>\n",
       "      <td>0.00</td>\n",
       "    </tr>\n",
       "    <tr>\n",
       "      <th>0</th>\n",
       "      <td>0.50</td>\n",
       "      <td>1.00</td>\n",
       "      <td>0.00</td>\n",
       "    </tr>\n",
       "  </tbody>\n",
       "</table>\n",
       "<p>16252 rows × 3 columns</p>\n",
       "</div>"
      ],
      "text/plain": [
       "       precision  recall  threshold\n",
       "16251       0.88    0.90       0.40\n",
       "16250       0.88    0.90       0.40\n",
       "16248       0.88    0.90       0.40\n",
       "16249       0.88    0.90       0.40\n",
       "16246       0.88    0.90       0.40\n",
       "...          ...     ...        ...\n",
       "4           0.50    1.00       0.00\n",
       "3           0.50    1.00       0.00\n",
       "2           0.50    1.00       0.00\n",
       "1           0.50    1.00       0.00\n",
       "0           0.50    1.00       0.00\n",
       "\n",
       "[16252 rows x 3 columns]"
      ]
     },
     "execution_count": 63,
     "metadata": {},
     "output_type": "execute_result"
    }
   ],
   "source": [
    "lr_prc.mask(lr_prc['recall']<0.9).dropna().sort_values(by='precision', ascending=False)"
   ]
  },
  {
   "cell_type": "markdown",
   "id": "0f3e4251-e7a8-4e6c-a3a6-d2e4c1fe7368",
   "metadata": {},
   "source": [
    "* Lowering threshold will increase recall, so goal of hyperparameter tuning should be to increase AUC"
   ]
  },
  {
   "cell_type": "markdown",
   "id": "54e1df48-a1f1-4362-b5e9-aa3536c2fcba",
   "metadata": {},
   "source": [
    "**WINNER:** Logistic Regression Model"
   ]
  },
  {
   "cell_type": "markdown",
   "id": "f3313447-4464-4512-9618-ec581c36ccfc",
   "metadata": {
    "tags": []
   },
   "source": [
    "### 3d. SVM"
   ]
  },
  {
   "cell_type": "code",
   "execution_count": 64,
   "id": "c2eadc19-23ff-4676-be14-2c72d47238d3",
   "metadata": {
    "tags": []
   },
   "outputs": [],
   "source": [
    "svm_pipe = Pipeline(steps=[\n",
    "    ('prep', CT),\n",
    "    ('svm', LinearSVC(dual=False))\n",
    "])"
   ]
  },
  {
   "cell_type": "code",
   "execution_count": 65,
   "id": "e395debc-60d7-4995-aeeb-94d22bce3ca3",
   "metadata": {
    "tags": []
   },
   "outputs": [
    {
     "name": "stdout",
     "output_type": "stream",
     "text": [
      "TRAIN accuracy:  88.98 %\n",
      "VAL:\n",
      "Accuracy:  88.90 %\n",
      "Recall:  8684.60 %\n",
      "Precision:  90.73 %\n",
      "Normalized confusion matrix\n",
      "[[0.90979728 0.09020272]\n",
      " [0.13153961 0.86846039]]\n",
      "              precision    recall  f1-score   support\n",
      "\n",
      "           0       0.87      0.91      0.89     17117\n",
      "           1       0.91      0.87      0.89     17394\n",
      "\n",
      "    accuracy                           0.89     34511\n",
      "   macro avg       0.89      0.89      0.89     34511\n",
      "weighted avg       0.89      0.89      0.89     34511\n",
      "\n"
     ]
    },
    {
     "data": {
      "text/plain": [
       "<__main__.Metrics at 0x15f0434d0>"
      ]
     },
     "execution_count": 65,
     "metadata": {},
     "output_type": "execute_result"
    },
    {
     "data": {
      "image/png": "[encoded data removed]",
      "text/plain": [
       "<Figure size 640x480 with 2 Axes>"
      ]
     },
     "metadata": {},
     "output_type": "display_data"
    }
   ],
   "source": [
    "met.get_metrics('full', 'svm', svm_pipe, X_train, y_train, X_val, y_val)"
   ]
  },
  {
   "cell_type": "code",
   "execution_count": 66,
   "id": "ff5c510a-1aff-4bb2-be42-c41f5aa03016",
   "metadata": {
    "tags": []
   },
   "outputs": [
    {
     "data": {
      "text/html": [
       "<div>\n",
       "<style scoped>\n",
       "    .dataframe tbody tr th:only-of-type {\n",
       "        vertical-align: middle;\n",
       "    }\n",
       "\n",
       "    .dataframe tbody tr th {\n",
       "        vertical-align: top;\n",
       "    }\n",
       "\n",
       "    .dataframe thead th {\n",
       "        text-align: right;\n",
       "    }\n",
       "</style>\n",
       "<table border=\"1\" class=\"dataframe\">\n",
       "  <thead>\n",
       "    <tr style=\"text-align: right;\">\n",
       "      <th></th>\n",
       "      <th>name</th>\n",
       "      <th>clf</th>\n",
       "      <th>cv_mean</th>\n",
       "      <th>train</th>\n",
       "      <th>acc</th>\n",
       "      <th>prec</th>\n",
       "      <th>rec</th>\n",
       "      <th>time</th>\n",
       "    </tr>\n",
       "  </thead>\n",
       "  <tbody>\n",
       "    <tr>\n",
       "      <th>0</th>\n",
       "      <td>baseline</td>\n",
       "      <td>dummy</td>\n",
       "      <td>50.29</td>\n",
       "      <td>50.29</td>\n",
       "      <td>50.40</td>\n",
       "      <td>NaN</td>\n",
       "      <td>NaN</td>\n",
       "      <td>16.3 s</td>\n",
       "    </tr>\n",
       "    <tr>\n",
       "      <th>1</th>\n",
       "      <td>fsm</td>\n",
       "      <td>mnb</td>\n",
       "      <td>80.37</td>\n",
       "      <td>80.47</td>\n",
       "      <td>80.84</td>\n",
       "      <td>77.42</td>\n",
       "      <td>87.50</td>\n",
       "      <td>16.4 s</td>\n",
       "    </tr>\n",
       "    <tr>\n",
       "      <th>2</th>\n",
       "      <td>ssm</td>\n",
       "      <td>mnb</td>\n",
       "      <td>85.71</td>\n",
       "      <td>85.72</td>\n",
       "      <td>85.98</td>\n",
       "      <td>85.17</td>\n",
       "      <td>87.39</td>\n",
       "      <td>16.8 s</td>\n",
       "    </tr>\n",
       "    <tr>\n",
       "      <th>3</th>\n",
       "      <td>full</td>\n",
       "      <td>mnb</td>\n",
       "      <td>85.76</td>\n",
       "      <td>85.77</td>\n",
       "      <td>86.08</td>\n",
       "      <td>85.48</td>\n",
       "      <td>87.19</td>\n",
       "      <td>17.2 s</td>\n",
       "    </tr>\n",
       "    <tr>\n",
       "      <th>4</th>\n",
       "      <td>full</td>\n",
       "      <td>rfc</td>\n",
       "      <td>88.26</td>\n",
       "      <td>88.26</td>\n",
       "      <td>88.37</td>\n",
       "      <td>89.32</td>\n",
       "      <td>87.39</td>\n",
       "      <td>43.8 s</td>\n",
       "    </tr>\n",
       "    <tr>\n",
       "      <th>5</th>\n",
       "      <td>full</td>\n",
       "      <td>lr</td>\n",
       "      <td>88.86</td>\n",
       "      <td>88.93</td>\n",
       "      <td>88.87</td>\n",
       "      <td>90.36</td>\n",
       "      <td>87.22</td>\n",
       "      <td>31.8 s</td>\n",
       "    </tr>\n",
       "    <tr>\n",
       "      <th>6</th>\n",
       "      <td>full</td>\n",
       "      <td>svm</td>\n",
       "      <td>88.92</td>\n",
       "      <td>88.98</td>\n",
       "      <td>88.90</td>\n",
       "      <td>90.73</td>\n",
       "      <td>86.85</td>\n",
       "      <td>21.5 s</td>\n",
       "    </tr>\n",
       "  </tbody>\n",
       "</table>\n",
       "</div>"
      ],
      "text/plain": [
       "       name    clf  cv_mean  train   acc  prec   rec    time\n",
       "0  baseline  dummy    50.29  50.29 50.40   NaN   NaN  16.3 s\n",
       "1       fsm    mnb    80.37  80.47 80.84 77.42 87.50  16.4 s\n",
       "2       ssm    mnb    85.71  85.72 85.98 85.17 87.39  16.8 s\n",
       "3      full    mnb    85.76  85.77 86.08 85.48 87.19  17.2 s\n",
       "4      full    rfc    88.26  88.26 88.37 89.32 87.39  43.8 s\n",
       "5      full     lr    88.86  88.93 88.87 90.36 87.22  31.8 s\n",
       "6      full    svm    88.92  88.98 88.90 90.73 86.85  21.5 s"
      ]
     },
     "execution_count": 66,
     "metadata": {},
     "output_type": "execute_result"
    }
   ],
   "source": [
    "met.df"
   ]
  },
  {
   "cell_type": "markdown",
   "id": "164efd18-90ec-41e4-8228-979f22b7260e",
   "metadata": {},
   "source": [
    "* While SVM has the highest accuracy, it also has the lowest recall rate.\n",
    "* Logistic Regression is probably a better option, since accuracy is not that different between LR and SVM"
   ]
  },
  {
   "cell_type": "markdown",
   "id": "cfce3327-7c6e-448f-9870-8078fe317824",
   "metadata": {
    "tags": []
   },
   "source": [
    "## Best Full Feature Model:"
   ]
  },
  {
   "cell_type": "markdown",
   "id": "3a5d538d-2e1f-4201-8818-1846cdfd6857",
   "metadata": {},
   "source": [
    "LR  (88.9% Accuracy, 87.2% Recall, -3.14% RvP)\n",
    "\n",
    "* Can change threshold to increase recall over precision"
   ]
  },
  {
   "cell_type": "code",
   "execution_count": null,
   "id": "056938b8-8cd4-4ccc-8346-ff238d0c5026",
   "metadata": {
    "tags": []
   },
   "outputs": [
    {
     "data": {
      "text/plain": [
       "['./models/3c_lr_pipe.joblib']"
      ]
     },
     "execution_count": 56,
     "metadata": {},
     "output_type": "execute_result"
    }
   ],
   "source": [
    "# joblib.dump(lr_pipe, './models/3c_lr_pipe.joblib')"
   ]
  },
  {
   "cell_type": "markdown",
   "id": "d0aed940-7c89-4222-9184-a27b08948708",
   "metadata": {},
   "source": [
    "---"
   ]
  },
  {
   "cell_type": "markdown",
   "id": "2a473029-a125-472a-b1e0-662f2a8304a1",
   "metadata": {
    "tags": []
   },
   "source": [
    "# &nbsp;&nbsp; III. &nbsp; Hyperparameter Tuning"
   ]
  },
  {
   "cell_type": "markdown",
   "id": "8b136bca-9a6a-470f-9c8c-943cd55b425d",
   "metadata": {
    "tags": []
   },
   "source": [
    "## Function for Grid Search Metrics"
   ]
  },
  {
   "cell_type": "code",
   "execution_count": 71,
   "id": "668b1672-ea00-419a-84fb-86b0923f92d3",
   "metadata": {
    "tags": []
   },
   "outputs": [],
   "source": [
    "def get_grid_val_metrics(metrics, name, clf, pipe, Xtr, ytr, Xval, yval):\n",
    "\n",
    "    start = time.time()\n",
    "\n",
    "    met_dict = {'name':name, 'clf':clf}\n",
    "\n",
    "    pipe.fit(X_train, y_train)\n",
    "    yhat = pipe.predict(Xtr)\n",
    "    met_dict['train'] = accuracy_score(ytr, yhat)*100\n",
    "\n",
    "    ypred = pipe.predict(Xval)\n",
    "    met_dict['acc'] = accuracy_score(yval, ypred)*100\n",
    "    met_dict['prec'] = precision_score(yval, ypred)*100\n",
    "    met_dict['rec'] = recall_score(yval, ypred)*100\n",
    "\n",
    "    ypr = pipe.predict_proba(Xval)\n",
    "    met_dict['roc_auc'] = roc_auc_score(yval, ypr[:,1])*100\n",
    "\n",
    "    metrics = pd.concat([metrics, pd.DataFrame(met_dict, index=[0])], ignore_index=True)\n",
    "\n",
    "    return metrics"
   ]
  },
  {
   "cell_type": "code",
   "execution_count": 72,
   "id": "ed51bb7a-07c9-423f-b266-024cbf51c837",
   "metadata": {
    "tags": []
   },
   "outputs": [],
   "source": [
    "metrics = pd.DataFrame()"
   ]
  },
  {
   "cell_type": "code",
   "execution_count": 73,
   "id": "47652b96-4a90-4993-a6dc-4655ac8fd8a4",
   "metadata": {},
   "outputs": [],
   "source": [
    "metrics = get_grid_val_metrics(metrics, 'lr_pipe', 'lr', lr_pipe, X_train, y_train, X_val, y_val)"
   ]
  },
  {
   "cell_type": "code",
   "execution_count": 74,
   "id": "fc80fdd9-4315-4973-a7e5-72144e9e1f8c",
   "metadata": {
    "tags": []
   },
   "outputs": [
    {
     "data": {
      "text/html": [
       "<div>\n",
       "<style scoped>\n",
       "    .dataframe tbody tr th:only-of-type {\n",
       "        vertical-align: middle;\n",
       "    }\n",
       "\n",
       "    .dataframe tbody tr th {\n",
       "        vertical-align: top;\n",
       "    }\n",
       "\n",
       "    .dataframe thead th {\n",
       "        text-align: right;\n",
       "    }\n",
       "</style>\n",
       "<table border=\"1\" class=\"dataframe\">\n",
       "  <thead>\n",
       "    <tr style=\"text-align: right;\">\n",
       "      <th></th>\n",
       "      <th>name</th>\n",
       "      <th>clf</th>\n",
       "      <th>train</th>\n",
       "      <th>acc</th>\n",
       "      <th>prec</th>\n",
       "      <th>rec</th>\n",
       "      <th>roc_auc</th>\n",
       "    </tr>\n",
       "  </thead>\n",
       "  <tbody>\n",
       "    <tr>\n",
       "      <th>0</th>\n",
       "      <td>lr_pipe</td>\n",
       "      <td>lr</td>\n",
       "      <td>88.93</td>\n",
       "      <td>88.87</td>\n",
       "      <td>90.36</td>\n",
       "      <td>87.22</td>\n",
       "      <td>95.14</td>\n",
       "    </tr>\n",
       "  </tbody>\n",
       "</table>\n",
       "</div>"
      ],
      "text/plain": [
       "      name clf  train   acc  prec   rec  roc_auc\n",
       "0  lr_pipe  lr  88.93 88.87 90.36 87.22    95.14"
      ]
     },
     "execution_count": 74,
     "metadata": {},
     "output_type": "execute_result"
    }
   ],
   "source": [
    "metrics"
   ]
  },
  {
   "cell_type": "markdown",
   "id": "384cae52-e1b3-46ca-b132-712de39c3c32",
   "metadata": {},
   "source": [
    "---"
   ]
  },
  {
   "cell_type": "markdown",
   "id": "6ca41255-ead0-49ff-bc48-16ffe259a933",
   "metadata": {
    "tags": []
   },
   "source": [
    "## 1. Grid Search on Prep CT (Num Scaler and TF-IDF)"
   ]
  },
  {
   "cell_type": "markdown",
   "id": "d5c3c667-26d7-4635-bf20-04a36d828e9b",
   "metadata": {},
   "source": [
    "1. Type of Scaler & Normalization used on Numbers\n",
    "2. TF-IDF min_df and max_df"
   ]
  },
  {
   "cell_type": "code",
   "execution_count": 75,
   "id": "9861088d-ee13-4b9e-ac48-85a0d2deb67b",
   "metadata": {
    "tags": []
   },
   "outputs": [],
   "source": [
    "lr_scoring = {'accuracy': make_scorer(accuracy_score),\n",
    "              'roc_auc': make_scorer(roc_auc_score, needs_proba=True)}"
   ]
  },
  {
   "cell_type": "code",
   "execution_count": 76,
   "id": "e5f29aaf-5bcc-421f-a655-a3662961da75",
   "metadata": {
    "tags": []
   },
   "outputs": [],
   "source": [
    "numprep_params = {'prep__num__steps': [\n",
    "        [('min', MinMaxScaler())],\n",
    "        [('ss', StandardScaler()),\n",
    "         ('norm', Normalizer(norm='l2'))],\n",
    "        [('ss', StandardScaler()),\n",
    "         ('norm', Normalizer(norm='l1'))],\n",
    "        [('rs', RobustScaler()),\n",
    "         ('norm', Normalizer(norm='l2'))],\n",
    "        [('rs', RobustScaler()),\n",
    "         ('norm', Normalizer(norm='l1'))] \n",
    "    ]\n",
    "}"
   ]
  },
  {
   "cell_type": "code",
   "execution_count": 77,
   "id": "139ae42a-cab1-4283-baf0-c280cdd96c74",
   "metadata": {
    "tags": []
   },
   "outputs": [],
   "source": [
    "num_prep = GridSearchCV(\n",
    "    estimator=lr_pipe,\n",
    "    param_grid = numprep_params,\n",
    "    scoring=lr_scoring, refit='roc_auc',\n",
    "    cv=3, verbose=3)"
   ]
  },
  {
   "cell_type": "code",
   "execution_count": 78,
   "id": "bfb9190d-9db2-42a5-9c8f-88caac409673",
   "metadata": {
    "tags": []
   },
   "outputs": [
    {
     "name": "stdout",
     "output_type": "stream",
     "text": [
      "Fitting 3 folds for each of 5 candidates, totalling 15 fits\n",
      "[CV 1/3] END prep__num__steps=[('min', MinMaxScaler())]; accuracy: (test=0.890) roc_auc: (test=0.952) total time=   7.8s\n",
      "[CV 2/3] END prep__num__steps=[('min', MinMaxScaler())]; accuracy: (test=0.889) roc_auc: (test=0.952) total time=   7.5s\n",
      "[CV 3/3] END prep__num__steps=[('min', MinMaxScaler())]; accuracy: (test=0.887) roc_auc: (test=0.949) total time=   7.5s\n",
      "[CV 1/3] END prep__num__steps=[('ss', StandardScaler()), ('norm', Normalizer())]; accuracy: (test=0.889) roc_auc: (test=0.952) total time=   6.4s\n",
      "[CV 2/3] END prep__num__steps=[('ss', StandardScaler()), ('norm', Normalizer())]; accuracy: (test=0.890) roc_auc: (test=0.952) total time=   6.2s\n",
      "[CV 3/3] END prep__num__steps=[('ss', StandardScaler()), ('norm', Normalizer())]; accuracy: (test=0.888) roc_auc: (test=0.950) total time=   6.3s\n",
      "[CV 1/3] END prep__num__steps=[('ss', StandardScaler()), ('norm', Normalizer(norm='l1'))]; accuracy: (test=0.889) roc_auc: (test=0.952) total time=   6.5s\n",
      "[CV 2/3] END prep__num__steps=[('ss', StandardScaler()), ('norm', Normalizer(norm='l1'))]; accuracy: (test=0.890) roc_auc: (test=0.952) total time=   6.3s\n",
      "[CV 3/3] END prep__num__steps=[('ss', StandardScaler()), ('norm', Normalizer(norm='l1'))]; accuracy: (test=0.888) roc_auc: (test=0.950) total time=   6.1s\n",
      "[CV 1/3] END prep__num__steps=[('rs', RobustScaler()), ('norm', Normalizer())]; accuracy: (test=0.889) roc_auc: (test=0.952) total time=   6.3s\n",
      "[CV 2/3] END prep__num__steps=[('rs', RobustScaler()), ('norm', Normalizer())]; accuracy: (test=0.890) roc_auc: (test=0.952) total time=   6.3s\n",
      "[CV 3/3] END prep__num__steps=[('rs', RobustScaler()), ('norm', Normalizer())]; accuracy: (test=0.887) roc_auc: (test=0.950) total time=   6.3s\n",
      "[CV 1/3] END prep__num__steps=[('rs', RobustScaler()), ('norm', Normalizer(norm='l1'))]; accuracy: (test=0.889) roc_auc: (test=0.952) total time=   6.5s\n",
      "[CV 2/3] END prep__num__steps=[('rs', RobustScaler()), ('norm', Normalizer(norm='l1'))]; accuracy: (test=0.889) roc_auc: (test=0.952) total time=   6.3s\n",
      "[CV 3/3] END prep__num__steps=[('rs', RobustScaler()), ('norm', Normalizer(norm='l1'))]; accuracy: (test=0.887) roc_auc: (test=0.949) total time=   6.2s\n"
     ]
    },
    {
     "data": {
      "text/html": [
       "<style>#sk-container-id-2 {color: black;background-color: white;}#sk-container-id-2 pre{padding: 0;}#sk-container-id-2 div.sk-toggleable {background-color: white;}#sk-container-id-2 label.sk-toggleable__label {cursor: pointer;display: block;width: 100%;margin-bottom: 0;padding: 0.3em;box-sizing: border-box;text-align: center;}#sk-container-id-2 label.sk-toggleable__label-arrow:before {content: \"▸\";float: left;margin-right: 0.25em;color: #696969;}#sk-container-id-2 label.sk-toggleable__label-arrow:hover:before {color: black;}#sk-container-id-2 div.sk-estimator:hover label.sk-toggleable__label-arrow:before {color: black;}#sk-container-id-2 div.sk-toggleable__content {max-height: 0;max-width: 0;overflow: hidden;text-align: left;background-color: #f0f8ff;}#sk-container-id-2 div.sk-toggleable__content pre {margin: 0.2em;color: black;border-radius: 0.25em;background-color: #f0f8ff;}#sk-container-id-2 input.sk-toggleable__control:checked~div.sk-toggleable__content {max-height: 200px;max-width: 100%;overflow: auto;}#sk-container-id-2 input.sk-toggleable__control:checked~label.sk-toggleable__label-arrow:before {content: \"▾\";}#sk-container-id-2 div.sk-estimator input.sk-toggleable__control:checked~label.sk-toggleable__label {background-color: #d4ebff;}#sk-container-id-2 div.sk-label input.sk-toggleable__control:checked~label.sk-toggleable__label {background-color: #d4ebff;}#sk-container-id-2 input.sk-hidden--visually {border: 0;clip: rect(1px 1px 1px 1px);clip: rect(1px, 1px, 1px, 1px);height: 1px;margin: -1px;overflow: hidden;padding: 0;position: absolute;width: 1px;}#sk-container-id-2 div.sk-estimator {font-family: monospace;background-color: #f0f8ff;border: 1px dotted black;border-radius: 0.25em;box-sizing: border-box;margin-bottom: 0.5em;}#sk-container-id-2 div.sk-estimator:hover {background-color: #d4ebff;}#sk-container-id-2 div.sk-parallel-item::after {content: \"\";width: 100%;border-bottom: 1px solid gray;flex-grow: 1;}#sk-container-id-2 div.sk-label:hover label.sk-toggleable__label {background-color: #d4ebff;}#sk-container-id-2 div.sk-serial::before {content: \"\";position: absolute;border-left: 1px solid gray;box-sizing: border-box;top: 0;bottom: 0;left: 50%;z-index: 0;}#sk-container-id-2 div.sk-serial {display: flex;flex-direction: column;align-items: center;background-color: white;padding-right: 0.2em;padding-left: 0.2em;position: relative;}#sk-container-id-2 div.sk-item {position: relative;z-index: 1;}#sk-container-id-2 div.sk-parallel {display: flex;align-items: stretch;justify-content: center;background-color: white;position: relative;}#sk-container-id-2 div.sk-item::before, #sk-container-id-2 div.sk-parallel-item::before {content: \"\";position: absolute;border-left: 1px solid gray;box-sizing: border-box;top: 0;bottom: 0;left: 50%;z-index: -1;}#sk-container-id-2 div.sk-parallel-item {display: flex;flex-direction: column;z-index: 1;position: relative;background-color: white;}#sk-container-id-2 div.sk-parallel-item:first-child::after {align-self: flex-end;width: 50%;}#sk-container-id-2 div.sk-parallel-item:last-child::after {align-self: flex-start;width: 50%;}#sk-container-id-2 div.sk-parallel-item:only-child::after {width: 0;}#sk-container-id-2 div.sk-dashed-wrapped {border: 1px dashed gray;margin: 0 0.4em 0.5em 0.4em;box-sizing: border-box;padding-bottom: 0.4em;background-color: white;}#sk-container-id-2 div.sk-label label {font-family: monospace;font-weight: bold;display: inline-block;line-height: 1.2em;}#sk-container-id-2 div.sk-label-container {text-align: center;}#sk-container-id-2 div.sk-container {/* jupyter's `normalize.less` sets `[hidden] { display: none; }` but bootstrap.min.css set `[hidden] { display: none !important; }` so we also need the `!important` here to be able to override the default hidden behavior on the sphinx rendered scikit-learn.org. See: https://github.com/scikit-learn/scikit-learn/issues/21755 */display: inline-block !important;position: relative;}#sk-container-id-2 div.sk-text-repr-fallback {display: none;}</style><div id=\"sk-container-id-2\" class=\"sk-top-container\"><div class=\"sk-text-repr-fallback\"><pre>GridSearchCV(cv=3,\n",
       "             estimator=Pipeline(steps=[(&#x27;prep&#x27;,\n",
       "                                        ColumnTransformer(transformers=[(&#x27;num&#x27;,\n",
       "                                                                         Pipeline(steps=[(&#x27;min&#x27;,\n",
       "                                                                                          MinMaxScaler())]),\n",
       "                                                                         &lt;sklearn.compose._column_transformer.make_column_selector object at 0x15dae9250&gt;),\n",
       "                                                                        (&#x27;text&#x27;,\n",
       "                                                                         Pipeline(steps=[(&#x27;squeeze&#x27;,\n",
       "                                                                                          FunctionTransformer(func=&lt;function &lt;lambda&gt; at 0x15e263ec0&gt;)),\n",
       "                                                                                         (&#x27;tfidf&#x27;,\n",
       "                                                                                          TfidfVectorizer(max_df=0.95,\n",
       "                                                                                                          min_df=0...\n",
       "             param_grid={&#x27;prep__num__steps&#x27;: [[(&#x27;min&#x27;, MinMaxScaler())],\n",
       "                                              [(&#x27;ss&#x27;, StandardScaler()),\n",
       "                                               (&#x27;norm&#x27;, Normalizer())],\n",
       "                                              [(&#x27;ss&#x27;, StandardScaler()),\n",
       "                                               (&#x27;norm&#x27;, Normalizer(norm=&#x27;l1&#x27;))],\n",
       "                                              [(&#x27;rs&#x27;, RobustScaler()),\n",
       "                                               (&#x27;norm&#x27;, Normalizer())],\n",
       "                                              [(&#x27;rs&#x27;, RobustScaler()),\n",
       "                                               (&#x27;norm&#x27;,\n",
       "                                                Normalizer(norm=&#x27;l1&#x27;))]]},\n",
       "             refit=&#x27;roc_auc&#x27;,\n",
       "             scoring={&#x27;accuracy&#x27;: make_scorer(accuracy_score),\n",
       "                      &#x27;roc_auc&#x27;: make_scorer(roc_auc_score, needs_proba=True)},\n",
       "             verbose=3)</pre><b>In a Jupyter environment, please rerun this cell to show the HTML representation or trust the notebook. <br />On GitHub, the HTML representation is unable to render, please try loading this page with nbviewer.org.</b></div><div class=\"sk-container\" hidden><div class=\"sk-item sk-dashed-wrapped\"><div class=\"sk-label-container\"><div class=\"sk-label sk-toggleable\"><input class=\"sk-toggleable__control sk-hidden--visually\" id=\"sk-estimator-id-10\" type=\"checkbox\" ><label for=\"sk-estimator-id-10\" class=\"sk-toggleable__label sk-toggleable__label-arrow\">GridSearchCV</label><div class=\"sk-toggleable__content\"><pre>GridSearchCV(cv=3,\n",
       "             estimator=Pipeline(steps=[(&#x27;prep&#x27;,\n",
       "                                        ColumnTransformer(transformers=[(&#x27;num&#x27;,\n",
       "                                                                         Pipeline(steps=[(&#x27;min&#x27;,\n",
       "                                                                                          MinMaxScaler())]),\n",
       "                                                                         &lt;sklearn.compose._column_transformer.make_column_selector object at 0x15dae9250&gt;),\n",
       "                                                                        (&#x27;text&#x27;,\n",
       "                                                                         Pipeline(steps=[(&#x27;squeeze&#x27;,\n",
       "                                                                                          FunctionTransformer(func=&lt;function &lt;lambda&gt; at 0x15e263ec0&gt;)),\n",
       "                                                                                         (&#x27;tfidf&#x27;,\n",
       "                                                                                          TfidfVectorizer(max_df=0.95,\n",
       "                                                                                                          min_df=0...\n",
       "             param_grid={&#x27;prep__num__steps&#x27;: [[(&#x27;min&#x27;, MinMaxScaler())],\n",
       "                                              [(&#x27;ss&#x27;, StandardScaler()),\n",
       "                                               (&#x27;norm&#x27;, Normalizer())],\n",
       "                                              [(&#x27;ss&#x27;, StandardScaler()),\n",
       "                                               (&#x27;norm&#x27;, Normalizer(norm=&#x27;l1&#x27;))],\n",
       "                                              [(&#x27;rs&#x27;, RobustScaler()),\n",
       "                                               (&#x27;norm&#x27;, Normalizer())],\n",
       "                                              [(&#x27;rs&#x27;, RobustScaler()),\n",
       "                                               (&#x27;norm&#x27;,\n",
       "                                                Normalizer(norm=&#x27;l1&#x27;))]]},\n",
       "             refit=&#x27;roc_auc&#x27;,\n",
       "             scoring={&#x27;accuracy&#x27;: make_scorer(accuracy_score),\n",
       "                      &#x27;roc_auc&#x27;: make_scorer(roc_auc_score, needs_proba=True)},\n",
       "             verbose=3)</pre></div></div></div><div class=\"sk-parallel\"><div class=\"sk-parallel-item\"><div class=\"sk-item\"><div class=\"sk-label-container\"><div class=\"sk-label sk-toggleable\"><input class=\"sk-toggleable__control sk-hidden--visually\" id=\"sk-estimator-id-11\" type=\"checkbox\" ><label for=\"sk-estimator-id-11\" class=\"sk-toggleable__label sk-toggleable__label-arrow\">estimator: Pipeline</label><div class=\"sk-toggleable__content\"><pre>Pipeline(steps=[(&#x27;prep&#x27;,\n",
       "                 ColumnTransformer(transformers=[(&#x27;num&#x27;,\n",
       "                                                  Pipeline(steps=[(&#x27;min&#x27;,\n",
       "                                                                   MinMaxScaler())]),\n",
       "                                                  &lt;sklearn.compose._column_transformer.make_column_selector object at 0x15dae9250&gt;),\n",
       "                                                 (&#x27;text&#x27;,\n",
       "                                                  Pipeline(steps=[(&#x27;squeeze&#x27;,\n",
       "                                                                   FunctionTransformer(func=&lt;function &lt;lambda&gt; at 0x15e263ec0&gt;)),\n",
       "                                                                  (&#x27;tfidf&#x27;,\n",
       "                                                                   TfidfVectorizer(max_df=0.95,\n",
       "                                                                                   min_df=0.05)),\n",
       "                                                                  (&#x27;toarray&#x27;,\n",
       "                                                                   FunctionTransformer(func=&lt;function &lt;lambda&gt; at 0x15e263880&gt;))]),\n",
       "                                                  [&#x27;text&#x27;])])),\n",
       "                (&#x27;lr&#x27;, LogisticRegression(random_state=42, solver=&#x27;saga&#x27;))])</pre></div></div></div><div class=\"sk-serial\"><div class=\"sk-item\"><div class=\"sk-serial\"><div class=\"sk-item sk-dashed-wrapped\"><div class=\"sk-label-container\"><div class=\"sk-label sk-toggleable\"><input class=\"sk-toggleable__control sk-hidden--visually\" id=\"sk-estimator-id-12\" type=\"checkbox\" ><label for=\"sk-estimator-id-12\" class=\"sk-toggleable__label sk-toggleable__label-arrow\">prep: ColumnTransformer</label><div class=\"sk-toggleable__content\"><pre>ColumnTransformer(transformers=[(&#x27;num&#x27;,\n",
       "                                 Pipeline(steps=[(&#x27;min&#x27;, MinMaxScaler())]),\n",
       "                                 &lt;sklearn.compose._column_transformer.make_column_selector object at 0x15dae9250&gt;),\n",
       "                                (&#x27;text&#x27;,\n",
       "                                 Pipeline(steps=[(&#x27;squeeze&#x27;,\n",
       "                                                  FunctionTransformer(func=&lt;function &lt;lambda&gt; at 0x15e263ec0&gt;)),\n",
       "                                                 (&#x27;tfidf&#x27;,\n",
       "                                                  TfidfVectorizer(max_df=0.95,\n",
       "                                                                  min_df=0.05)),\n",
       "                                                 (&#x27;toarray&#x27;,\n",
       "                                                  FunctionTransformer(func=&lt;function &lt;lambda&gt; at 0x15e263880&gt;))]),\n",
       "                                 [&#x27;text&#x27;])])</pre></div></div></div><div class=\"sk-parallel\"><div class=\"sk-parallel-item\"><div class=\"sk-item\"><div class=\"sk-label-container\"><div class=\"sk-label sk-toggleable\"><input class=\"sk-toggleable__control sk-hidden--visually\" id=\"sk-estimator-id-13\" type=\"checkbox\" ><label for=\"sk-estimator-id-13\" class=\"sk-toggleable__label sk-toggleable__label-arrow\">num</label><div class=\"sk-toggleable__content\"><pre>&lt;sklearn.compose._column_transformer.make_column_selector object at 0x15dae9250&gt;</pre></div></div></div><div class=\"sk-serial\"><div class=\"sk-item\"><div class=\"sk-serial\"><div class=\"sk-item\"><div class=\"sk-estimator sk-toggleable\"><input class=\"sk-toggleable__control sk-hidden--visually\" id=\"sk-estimator-id-14\" type=\"checkbox\" ><label for=\"sk-estimator-id-14\" class=\"sk-toggleable__label sk-toggleable__label-arrow\">MinMaxScaler</label><div class=\"sk-toggleable__content\"><pre>MinMaxScaler()</pre></div></div></div></div></div></div></div></div><div class=\"sk-parallel-item\"><div class=\"sk-item\"><div class=\"sk-label-container\"><div class=\"sk-label sk-toggleable\"><input class=\"sk-toggleable__control sk-hidden--visually\" id=\"sk-estimator-id-15\" type=\"checkbox\" ><label for=\"sk-estimator-id-15\" class=\"sk-toggleable__label sk-toggleable__label-arrow\">text</label><div class=\"sk-toggleable__content\"><pre>[&#x27;text&#x27;]</pre></div></div></div><div class=\"sk-serial\"><div class=\"sk-item\"><div class=\"sk-serial\"><div class=\"sk-item\"><div class=\"sk-estimator sk-toggleable\"><input class=\"sk-toggleable__control sk-hidden--visually\" id=\"sk-estimator-id-16\" type=\"checkbox\" ><label for=\"sk-estimator-id-16\" class=\"sk-toggleable__label sk-toggleable__label-arrow\">FunctionTransformer</label><div class=\"sk-toggleable__content\"><pre>FunctionTransformer(func=&lt;function &lt;lambda&gt; at 0x15e263ec0&gt;)</pre></div></div></div><div class=\"sk-item\"><div class=\"sk-estimator sk-toggleable\"><input class=\"sk-toggleable__control sk-hidden--visually\" id=\"sk-estimator-id-17\" type=\"checkbox\" ><label for=\"sk-estimator-id-17\" class=\"sk-toggleable__label sk-toggleable__label-arrow\">TfidfVectorizer</label><div class=\"sk-toggleable__content\"><pre>TfidfVectorizer(max_df=0.95, min_df=0.05)</pre></div></div></div><div class=\"sk-item\"><div class=\"sk-estimator sk-toggleable\"><input class=\"sk-toggleable__control sk-hidden--visually\" id=\"sk-estimator-id-18\" type=\"checkbox\" ><label for=\"sk-estimator-id-18\" class=\"sk-toggleable__label sk-toggleable__label-arrow\">FunctionTransformer</label><div class=\"sk-toggleable__content\"><pre>FunctionTransformer(func=&lt;function &lt;lambda&gt; at 0x15e263880&gt;)</pre></div></div></div></div></div></div></div></div></div></div><div class=\"sk-item\"><div class=\"sk-estimator sk-toggleable\"><input class=\"sk-toggleable__control sk-hidden--visually\" id=\"sk-estimator-id-19\" type=\"checkbox\" ><label for=\"sk-estimator-id-19\" class=\"sk-toggleable__label sk-toggleable__label-arrow\">LogisticRegression</label><div class=\"sk-toggleable__content\"><pre>LogisticRegression(random_state=42, solver=&#x27;saga&#x27;)</pre></div></div></div></div></div></div></div></div></div></div></div></div>"
      ],
      "text/plain": [
       "GridSearchCV(cv=3,\n",
       "             estimator=Pipeline(steps=[('prep',\n",
       "                                        ColumnTransformer(transformers=[('num',\n",
       "                                                                         Pipeline(steps=[('min',\n",
       "                                                                                          MinMaxScaler())]),\n",
       "                                                                         <sklearn.compose._column_transformer.make_column_selector object at 0x15dae9250>),\n",
       "                                                                        ('text',\n",
       "                                                                         Pipeline(steps=[('squeeze',\n",
       "                                                                                          FunctionTransformer(func=<function <lambda> at 0x15e263ec0>)),\n",
       "                                                                                         ('tfidf',\n",
       "                                                                                          TfidfVectorizer(max_df=0.95,\n",
       "                                                                                                          min_df=0...\n",
       "             param_grid={'prep__num__steps': [[('min', MinMaxScaler())],\n",
       "                                              [('ss', StandardScaler()),\n",
       "                                               ('norm', Normalizer())],\n",
       "                                              [('ss', StandardScaler()),\n",
       "                                               ('norm', Normalizer(norm='l1'))],\n",
       "                                              [('rs', RobustScaler()),\n",
       "                                               ('norm', Normalizer())],\n",
       "                                              [('rs', RobustScaler()),\n",
       "                                               ('norm',\n",
       "                                                Normalizer(norm='l1'))]]},\n",
       "             refit='roc_auc',\n",
       "             scoring={'accuracy': make_scorer(accuracy_score),\n",
       "                      'roc_auc': make_scorer(roc_auc_score, needs_proba=True)},\n",
       "             verbose=3)"
      ]
     },
     "execution_count": 78,
     "metadata": {},
     "output_type": "execute_result"
    }
   ],
   "source": [
    "num_prep.fit(X_train, y_train)"
   ]
  },
  {
   "cell_type": "code",
   "execution_count": 88,
   "id": "f096eb7c-3b86-4b5f-8688-e85658085f05",
   "metadata": {
    "tags": []
   },
   "outputs": [
    {
     "name": "stdout",
     "output_type": "stream",
     "text": [
      "{'prep__num__steps': [('rs', RobustScaler()), ('norm', Normalizer())]} 0.9512438199032411\n"
     ]
    }
   ],
   "source": [
    "print(num_prep.best_params_, num_prep.best_score_)\n"
   ]
  },
  {
   "cell_type": "code",
   "execution_count": 83,
   "id": "3ebc39af-2182-4428-bee1-35eeb28d6839",
   "metadata": {
    "tags": []
   },
   "outputs": [
    {
     "data": {
      "text/html": [
       "<style>#sk-container-id-4 {color: black;background-color: white;}#sk-container-id-4 pre{padding: 0;}#sk-container-id-4 div.sk-toggleable {background-color: white;}#sk-container-id-4 label.sk-toggleable__label {cursor: pointer;display: block;width: 100%;margin-bottom: 0;padding: 0.3em;box-sizing: border-box;text-align: center;}#sk-container-id-4 label.sk-toggleable__label-arrow:before {content: \"▸\";float: left;margin-right: 0.25em;color: #696969;}#sk-container-id-4 label.sk-toggleable__label-arrow:hover:before {color: black;}#sk-container-id-4 div.sk-estimator:hover label.sk-toggleable__label-arrow:before {color: black;}#sk-container-id-4 div.sk-toggleable__content {max-height: 0;max-width: 0;overflow: hidden;text-align: left;background-color: #f0f8ff;}#sk-container-id-4 div.sk-toggleable__content pre {margin: 0.2em;color: black;border-radius: 0.25em;background-color: #f0f8ff;}#sk-container-id-4 input.sk-toggleable__control:checked~div.sk-toggleable__content {max-height: 200px;max-width: 100%;overflow: auto;}#sk-container-id-4 input.sk-toggleable__control:checked~label.sk-toggleable__label-arrow:before {content: \"▾\";}#sk-container-id-4 div.sk-estimator input.sk-toggleable__control:checked~label.sk-toggleable__label {background-color: #d4ebff;}#sk-container-id-4 div.sk-label input.sk-toggleable__control:checked~label.sk-toggleable__label {background-color: #d4ebff;}#sk-container-id-4 input.sk-hidden--visually {border: 0;clip: rect(1px 1px 1px 1px);clip: rect(1px, 1px, 1px, 1px);height: 1px;margin: -1px;overflow: hidden;padding: 0;position: absolute;width: 1px;}#sk-container-id-4 div.sk-estimator {font-family: monospace;background-color: #f0f8ff;border: 1px dotted black;border-radius: 0.25em;box-sizing: border-box;margin-bottom: 0.5em;}#sk-container-id-4 div.sk-estimator:hover {background-color: #d4ebff;}#sk-container-id-4 div.sk-parallel-item::after {content: \"\";width: 100%;border-bottom: 1px solid gray;flex-grow: 1;}#sk-container-id-4 div.sk-label:hover label.sk-toggleable__label {background-color: #d4ebff;}#sk-container-id-4 div.sk-serial::before {content: \"\";position: absolute;border-left: 1px solid gray;box-sizing: border-box;top: 0;bottom: 0;left: 50%;z-index: 0;}#sk-container-id-4 div.sk-serial {display: flex;flex-direction: column;align-items: center;background-color: white;padding-right: 0.2em;padding-left: 0.2em;position: relative;}#sk-container-id-4 div.sk-item {position: relative;z-index: 1;}#sk-container-id-4 div.sk-parallel {display: flex;align-items: stretch;justify-content: center;background-color: white;position: relative;}#sk-container-id-4 div.sk-item::before, #sk-container-id-4 div.sk-parallel-item::before {content: \"\";position: absolute;border-left: 1px solid gray;box-sizing: border-box;top: 0;bottom: 0;left: 50%;z-index: -1;}#sk-container-id-4 div.sk-parallel-item {display: flex;flex-direction: column;z-index: 1;position: relative;background-color: white;}#sk-container-id-4 div.sk-parallel-item:first-child::after {align-self: flex-end;width: 50%;}#sk-container-id-4 div.sk-parallel-item:last-child::after {align-self: flex-start;width: 50%;}#sk-container-id-4 div.sk-parallel-item:only-child::after {width: 0;}#sk-container-id-4 div.sk-dashed-wrapped {border: 1px dashed gray;margin: 0 0.4em 0.5em 0.4em;box-sizing: border-box;padding-bottom: 0.4em;background-color: white;}#sk-container-id-4 div.sk-label label {font-family: monospace;font-weight: bold;display: inline-block;line-height: 1.2em;}#sk-container-id-4 div.sk-label-container {text-align: center;}#sk-container-id-4 div.sk-container {/* jupyter's `normalize.less` sets `[hidden] { display: none; }` but bootstrap.min.css set `[hidden] { display: none !important; }` so we also need the `!important` here to be able to override the default hidden behavior on the sphinx rendered scikit-learn.org. See: https://github.com/scikit-learn/scikit-learn/issues/21755 */display: inline-block !important;position: relative;}#sk-container-id-4 div.sk-text-repr-fallback {display: none;}</style><div id=\"sk-container-id-4\" class=\"sk-top-container\"><div class=\"sk-text-repr-fallback\"><pre>Pipeline(steps=[(&#x27;prep&#x27;,\n",
       "                 ColumnTransformer(transformers=[(&#x27;num&#x27;,\n",
       "                                                  Pipeline(steps=[(&#x27;rs&#x27;,\n",
       "                                                                   RobustScaler()),\n",
       "                                                                  (&#x27;norm&#x27;,\n",
       "                                                                   Normalizer())]),\n",
       "                                                  &lt;sklearn.compose._column_transformer.make_column_selector object at 0x17bbb5bd0&gt;),\n",
       "                                                 (&#x27;text&#x27;,\n",
       "                                                  Pipeline(steps=[(&#x27;squeeze&#x27;,\n",
       "                                                                   FunctionTransformer(func=&lt;function &lt;lambda&gt; at 0x15e263ec0&gt;)),\n",
       "                                                                  (&#x27;tfidf&#x27;,\n",
       "                                                                   TfidfVectorizer(max_df=0.95,\n",
       "                                                                                   min_df=0.05)),\n",
       "                                                                  (&#x27;toarray&#x27;,\n",
       "                                                                   FunctionTransformer(func=&lt;function &lt;lambda&gt; at 0x15e263880&gt;))]),\n",
       "                                                  [&#x27;text&#x27;])])),\n",
       "                (&#x27;lr&#x27;, LogisticRegression(random_state=42, solver=&#x27;saga&#x27;))])</pre><b>In a Jupyter environment, please rerun this cell to show the HTML representation or trust the notebook. <br />On GitHub, the HTML representation is unable to render, please try loading this page with nbviewer.org.</b></div><div class=\"sk-container\" hidden><div class=\"sk-item sk-dashed-wrapped\"><div class=\"sk-label-container\"><div class=\"sk-label sk-toggleable\"><input class=\"sk-toggleable__control sk-hidden--visually\" id=\"sk-estimator-id-30\" type=\"checkbox\" ><label for=\"sk-estimator-id-30\" class=\"sk-toggleable__label sk-toggleable__label-arrow\">Pipeline</label><div class=\"sk-toggleable__content\"><pre>Pipeline(steps=[(&#x27;prep&#x27;,\n",
       "                 ColumnTransformer(transformers=[(&#x27;num&#x27;,\n",
       "                                                  Pipeline(steps=[(&#x27;rs&#x27;,\n",
       "                                                                   RobustScaler()),\n",
       "                                                                  (&#x27;norm&#x27;,\n",
       "                                                                   Normalizer())]),\n",
       "                                                  &lt;sklearn.compose._column_transformer.make_column_selector object at 0x17bbb5bd0&gt;),\n",
       "                                                 (&#x27;text&#x27;,\n",
       "                                                  Pipeline(steps=[(&#x27;squeeze&#x27;,\n",
       "                                                                   FunctionTransformer(func=&lt;function &lt;lambda&gt; at 0x15e263ec0&gt;)),\n",
       "                                                                  (&#x27;tfidf&#x27;,\n",
       "                                                                   TfidfVectorizer(max_df=0.95,\n",
       "                                                                                   min_df=0.05)),\n",
       "                                                                  (&#x27;toarray&#x27;,\n",
       "                                                                   FunctionTransformer(func=&lt;function &lt;lambda&gt; at 0x15e263880&gt;))]),\n",
       "                                                  [&#x27;text&#x27;])])),\n",
       "                (&#x27;lr&#x27;, LogisticRegression(random_state=42, solver=&#x27;saga&#x27;))])</pre></div></div></div><div class=\"sk-serial\"><div class=\"sk-item sk-dashed-wrapped\"><div class=\"sk-label-container\"><div class=\"sk-label sk-toggleable\"><input class=\"sk-toggleable__control sk-hidden--visually\" id=\"sk-estimator-id-31\" type=\"checkbox\" ><label for=\"sk-estimator-id-31\" class=\"sk-toggleable__label sk-toggleable__label-arrow\">prep: ColumnTransformer</label><div class=\"sk-toggleable__content\"><pre>ColumnTransformer(transformers=[(&#x27;num&#x27;,\n",
       "                                 Pipeline(steps=[(&#x27;rs&#x27;, RobustScaler()),\n",
       "                                                 (&#x27;norm&#x27;, Normalizer())]),\n",
       "                                 &lt;sklearn.compose._column_transformer.make_column_selector object at 0x17bbb5bd0&gt;),\n",
       "                                (&#x27;text&#x27;,\n",
       "                                 Pipeline(steps=[(&#x27;squeeze&#x27;,\n",
       "                                                  FunctionTransformer(func=&lt;function &lt;lambda&gt; at 0x15e263ec0&gt;)),\n",
       "                                                 (&#x27;tfidf&#x27;,\n",
       "                                                  TfidfVectorizer(max_df=0.95,\n",
       "                                                                  min_df=0.05)),\n",
       "                                                 (&#x27;toarray&#x27;,\n",
       "                                                  FunctionTransformer(func=&lt;function &lt;lambda&gt; at 0x15e263880&gt;))]),\n",
       "                                 [&#x27;text&#x27;])])</pre></div></div></div><div class=\"sk-parallel\"><div class=\"sk-parallel-item\"><div class=\"sk-item\"><div class=\"sk-label-container\"><div class=\"sk-label sk-toggleable\"><input class=\"sk-toggleable__control sk-hidden--visually\" id=\"sk-estimator-id-32\" type=\"checkbox\" ><label for=\"sk-estimator-id-32\" class=\"sk-toggleable__label sk-toggleable__label-arrow\">num</label><div class=\"sk-toggleable__content\"><pre>&lt;sklearn.compose._column_transformer.make_column_selector object at 0x17bbb5bd0&gt;</pre></div></div></div><div class=\"sk-serial\"><div class=\"sk-item\"><div class=\"sk-serial\"><div class=\"sk-item\"><div class=\"sk-estimator sk-toggleable\"><input class=\"sk-toggleable__control sk-hidden--visually\" id=\"sk-estimator-id-33\" type=\"checkbox\" ><label for=\"sk-estimator-id-33\" class=\"sk-toggleable__label sk-toggleable__label-arrow\">RobustScaler</label><div class=\"sk-toggleable__content\"><pre>RobustScaler()</pre></div></div></div><div class=\"sk-item\"><div class=\"sk-estimator sk-toggleable\"><input class=\"sk-toggleable__control sk-hidden--visually\" id=\"sk-estimator-id-34\" type=\"checkbox\" ><label for=\"sk-estimator-id-34\" class=\"sk-toggleable__label sk-toggleable__label-arrow\">Normalizer</label><div class=\"sk-toggleable__content\"><pre>Normalizer()</pre></div></div></div></div></div></div></div></div><div class=\"sk-parallel-item\"><div class=\"sk-item\"><div class=\"sk-label-container\"><div class=\"sk-label sk-toggleable\"><input class=\"sk-toggleable__control sk-hidden--visually\" id=\"sk-estimator-id-35\" type=\"checkbox\" ><label for=\"sk-estimator-id-35\" class=\"sk-toggleable__label sk-toggleable__label-arrow\">text</label><div class=\"sk-toggleable__content\"><pre>[&#x27;text&#x27;]</pre></div></div></div><div class=\"sk-serial\"><div class=\"sk-item\"><div class=\"sk-serial\"><div class=\"sk-item\"><div class=\"sk-estimator sk-toggleable\"><input class=\"sk-toggleable__control sk-hidden--visually\" id=\"sk-estimator-id-36\" type=\"checkbox\" ><label for=\"sk-estimator-id-36\" class=\"sk-toggleable__label sk-toggleable__label-arrow\">FunctionTransformer</label><div class=\"sk-toggleable__content\"><pre>FunctionTransformer(func=&lt;function &lt;lambda&gt; at 0x15e263ec0&gt;)</pre></div></div></div><div class=\"sk-item\"><div class=\"sk-estimator sk-toggleable\"><input class=\"sk-toggleable__control sk-hidden--visually\" id=\"sk-estimator-id-37\" type=\"checkbox\" ><label for=\"sk-estimator-id-37\" class=\"sk-toggleable__label sk-toggleable__label-arrow\">TfidfVectorizer</label><div class=\"sk-toggleable__content\"><pre>TfidfVectorizer(max_df=0.95, min_df=0.05)</pre></div></div></div><div class=\"sk-item\"><div class=\"sk-estimator sk-toggleable\"><input class=\"sk-toggleable__control sk-hidden--visually\" id=\"sk-estimator-id-38\" type=\"checkbox\" ><label for=\"sk-estimator-id-38\" class=\"sk-toggleable__label sk-toggleable__label-arrow\">FunctionTransformer</label><div class=\"sk-toggleable__content\"><pre>FunctionTransformer(func=&lt;function &lt;lambda&gt; at 0x15e263880&gt;)</pre></div></div></div></div></div></div></div></div></div></div><div class=\"sk-item\"><div class=\"sk-estimator sk-toggleable\"><input class=\"sk-toggleable__control sk-hidden--visually\" id=\"sk-estimator-id-39\" type=\"checkbox\" ><label for=\"sk-estimator-id-39\" class=\"sk-toggleable__label sk-toggleable__label-arrow\">LogisticRegression</label><div class=\"sk-toggleable__content\"><pre>LogisticRegression(random_state=42, solver=&#x27;saga&#x27;)</pre></div></div></div></div></div></div></div>"
      ],
      "text/plain": [
       "Pipeline(steps=[('prep',\n",
       "                 ColumnTransformer(transformers=[('num',\n",
       "                                                  Pipeline(steps=[('rs',\n",
       "                                                                   RobustScaler()),\n",
       "                                                                  ('norm',\n",
       "                                                                   Normalizer())]),\n",
       "                                                  <sklearn.compose._column_transformer.make_column_selector object at 0x17bbb5bd0>),\n",
       "                                                 ('text',\n",
       "                                                  Pipeline(steps=[('squeeze',\n",
       "                                                                   FunctionTransformer(func=<function <lambda> at 0x15e263ec0>)),\n",
       "                                                                  ('tfidf',\n",
       "                                                                   TfidfVectorizer(max_df=0.95,\n",
       "                                                                                   min_df=0.05)),\n",
       "                                                                  ('toarray',\n",
       "                                                                   FunctionTransformer(func=<function <lambda> at 0x15e263880>))]),\n",
       "                                                  ['text'])])),\n",
       "                ('lr', LogisticRegression(random_state=42, solver='saga'))])"
      ]
     },
     "execution_count": 83,
     "metadata": {},
     "output_type": "execute_result"
    }
   ],
   "source": [
    "num_prep_pipe = num_prep.best_estimator_\n",
    "num_prep_pipe"
   ]
  },
  {
   "cell_type": "code",
   "execution_count": 84,
   "id": "f4a5f158-73a1-4738-aec2-713fd7bf1662",
   "metadata": {
    "tags": []
   },
   "outputs": [],
   "source": [
    "metrics = get_grid_val_metrics(metrics, 'num_prep_pipe', 'lr', num_prep_pipe, X_train, y_train, X_val, y_val)"
   ]
  },
  {
   "cell_type": "code",
   "execution_count": 85,
   "id": "7fa6e2d7-1540-4a8e-80bc-e6d111a44c36",
   "metadata": {
    "tags": []
   },
   "outputs": [
    {
     "data": {
      "text/html": [
       "<div>\n",
       "<style scoped>\n",
       "    .dataframe tbody tr th:only-of-type {\n",
       "        vertical-align: middle;\n",
       "    }\n",
       "\n",
       "    .dataframe tbody tr th {\n",
       "        vertical-align: top;\n",
       "    }\n",
       "\n",
       "    .dataframe thead th {\n",
       "        text-align: right;\n",
       "    }\n",
       "</style>\n",
       "<table border=\"1\" class=\"dataframe\">\n",
       "  <thead>\n",
       "    <tr style=\"text-align: right;\">\n",
       "      <th></th>\n",
       "      <th>name</th>\n",
       "      <th>clf</th>\n",
       "      <th>train</th>\n",
       "      <th>acc</th>\n",
       "      <th>prec</th>\n",
       "      <th>rec</th>\n",
       "      <th>roc_auc</th>\n",
       "    </tr>\n",
       "  </thead>\n",
       "  <tbody>\n",
       "    <tr>\n",
       "      <th>0</th>\n",
       "      <td>lr_pipe</td>\n",
       "      <td>lr</td>\n",
       "      <td>88.93</td>\n",
       "      <td>88.87</td>\n",
       "      <td>90.36</td>\n",
       "      <td>87.22</td>\n",
       "      <td>95.14</td>\n",
       "    </tr>\n",
       "    <tr>\n",
       "      <th>1</th>\n",
       "      <td>num_prep_pipe</td>\n",
       "      <td>lr</td>\n",
       "      <td>88.92</td>\n",
       "      <td>88.87</td>\n",
       "      <td>90.42</td>\n",
       "      <td>87.14</td>\n",
       "      <td>95.19</td>\n",
       "    </tr>\n",
       "  </tbody>\n",
       "</table>\n",
       "</div>"
      ],
      "text/plain": [
       "            name clf  train   acc  prec   rec  roc_auc\n",
       "0        lr_pipe  lr  88.93 88.87 90.36 87.22    95.14\n",
       "1  num_prep_pipe  lr  88.92 88.87 90.42 87.14    95.19"
      ]
     },
     "execution_count": 85,
     "metadata": {},
     "output_type": "execute_result"
    }
   ],
   "source": [
    "metrics"
   ]
  },
  {
   "cell_type": "markdown",
   "id": "13cfc13e-dbc5-419e-adc1-f129e76d00e8",
   "metadata": {},
   "source": [
    "* Even though accuracy is unchanged and recall *decreases*, the AUC increases, which will help the recall rate when the threshold is changed."
   ]
  },
  {
   "cell_type": "markdown",
   "id": "9143130d-50bd-4cde-a05d-45ebe114edf6",
   "metadata": {
    "tags": []
   },
   "source": [
    "---"
   ]
  },
  {
   "cell_type": "markdown",
   "id": "2b9175e8-f59f-4061-aa92-ad0a1fbaa903",
   "metadata": {},
   "source": [
    "### Manually Testing tf-idf min_df/max_df metric \n",
    "* Throws an error in GridSearch, possily because of custom function transfomers used"
   ]
  },
  {
   "cell_type": "code",
   "execution_count": 86,
   "id": "83716940-c029-44af-9c86-7a102a63a57f",
   "metadata": {
    "tags": []
   },
   "outputs": [],
   "source": [
    "text_pipe = num_prep_pipe"
   ]
  },
  {
   "cell_type": "code",
   "execution_count": 87,
   "id": "228614d1-864b-4f3f-a790-2e623505ca19",
   "metadata": {
    "tags": []
   },
   "outputs": [
    {
     "data": {
      "text/html": [
       "<style>#sk-container-id-5 {color: black;background-color: white;}#sk-container-id-5 pre{padding: 0;}#sk-container-id-5 div.sk-toggleable {background-color: white;}#sk-container-id-5 label.sk-toggleable__label {cursor: pointer;display: block;width: 100%;margin-bottom: 0;padding: 0.3em;box-sizing: border-box;text-align: center;}#sk-container-id-5 label.sk-toggleable__label-arrow:before {content: \"▸\";float: left;margin-right: 0.25em;color: #696969;}#sk-container-id-5 label.sk-toggleable__label-arrow:hover:before {color: black;}#sk-container-id-5 div.sk-estimator:hover label.sk-toggleable__label-arrow:before {color: black;}#sk-container-id-5 div.sk-toggleable__content {max-height: 0;max-width: 0;overflow: hidden;text-align: left;background-color: #f0f8ff;}#sk-container-id-5 div.sk-toggleable__content pre {margin: 0.2em;color: black;border-radius: 0.25em;background-color: #f0f8ff;}#sk-container-id-5 input.sk-toggleable__control:checked~div.sk-toggleable__content {max-height: 200px;max-width: 100%;overflow: auto;}#sk-container-id-5 input.sk-toggleable__control:checked~label.sk-toggleable__label-arrow:before {content: \"▾\";}#sk-container-id-5 div.sk-estimator input.sk-toggleable__control:checked~label.sk-toggleable__label {background-color: #d4ebff;}#sk-container-id-5 div.sk-label input.sk-toggleable__control:checked~label.sk-toggleable__label {background-color: #d4ebff;}#sk-container-id-5 input.sk-hidden--visually {border: 0;clip: rect(1px 1px 1px 1px);clip: rect(1px, 1px, 1px, 1px);height: 1px;margin: -1px;overflow: hidden;padding: 0;position: absolute;width: 1px;}#sk-container-id-5 div.sk-estimator {font-family: monospace;background-color: #f0f8ff;border: 1px dotted black;border-radius: 0.25em;box-sizing: border-box;margin-bottom: 0.5em;}#sk-container-id-5 div.sk-estimator:hover {background-color: #d4ebff;}#sk-container-id-5 div.sk-parallel-item::after {content: \"\";width: 100%;border-bottom: 1px solid gray;flex-grow: 1;}#sk-container-id-5 div.sk-label:hover label.sk-toggleable__label {background-color: #d4ebff;}#sk-container-id-5 div.sk-serial::before {content: \"\";position: absolute;border-left: 1px solid gray;box-sizing: border-box;top: 0;bottom: 0;left: 50%;z-index: 0;}#sk-container-id-5 div.sk-serial {display: flex;flex-direction: column;align-items: center;background-color: white;padding-right: 0.2em;padding-left: 0.2em;position: relative;}#sk-container-id-5 div.sk-item {position: relative;z-index: 1;}#sk-container-id-5 div.sk-parallel {display: flex;align-items: stretch;justify-content: center;background-color: white;position: relative;}#sk-container-id-5 div.sk-item::before, #sk-container-id-5 div.sk-parallel-item::before {content: \"\";position: absolute;border-left: 1px solid gray;box-sizing: border-box;top: 0;bottom: 0;left: 50%;z-index: -1;}#sk-container-id-5 div.sk-parallel-item {display: flex;flex-direction: column;z-index: 1;position: relative;background-color: white;}#sk-container-id-5 div.sk-parallel-item:first-child::after {align-self: flex-end;width: 50%;}#sk-container-id-5 div.sk-parallel-item:last-child::after {align-self: flex-start;width: 50%;}#sk-container-id-5 div.sk-parallel-item:only-child::after {width: 0;}#sk-container-id-5 div.sk-dashed-wrapped {border: 1px dashed gray;margin: 0 0.4em 0.5em 0.4em;box-sizing: border-box;padding-bottom: 0.4em;background-color: white;}#sk-container-id-5 div.sk-label label {font-family: monospace;font-weight: bold;display: inline-block;line-height: 1.2em;}#sk-container-id-5 div.sk-label-container {text-align: center;}#sk-container-id-5 div.sk-container {/* jupyter's `normalize.less` sets `[hidden] { display: none; }` but bootstrap.min.css set `[hidden] { display: none !important; }` so we also need the `!important` here to be able to override the default hidden behavior on the sphinx rendered scikit-learn.org. See: https://github.com/scikit-learn/scikit-learn/issues/21755 */display: inline-block !important;position: relative;}#sk-container-id-5 div.sk-text-repr-fallback {display: none;}</style><div id=\"sk-container-id-5\" class=\"sk-top-container\"><div class=\"sk-text-repr-fallback\"><pre>Pipeline(steps=[(&#x27;prep&#x27;,\n",
       "                 ColumnTransformer(transformers=[(&#x27;num&#x27;,\n",
       "                                                  Pipeline(steps=[(&#x27;rs&#x27;,\n",
       "                                                                   RobustScaler()),\n",
       "                                                                  (&#x27;norm&#x27;,\n",
       "                                                                   Normalizer())]),\n",
       "                                                  &lt;sklearn.compose._column_transformer.make_column_selector object at 0x17bbb5bd0&gt;),\n",
       "                                                 (&#x27;text&#x27;,\n",
       "                                                  Pipeline(steps=[(&#x27;squeeze&#x27;,\n",
       "                                                                   FunctionTransformer(func=&lt;function &lt;lambda&gt; at 0x15e263ec0&gt;)),\n",
       "                                                                  (&#x27;tfidf&#x27;,\n",
       "                                                                   TfidfVectorizer(max_df=0.99,\n",
       "                                                                                   min_df=0.01)),\n",
       "                                                                  (&#x27;toarray&#x27;,\n",
       "                                                                   FunctionTransformer(func=&lt;function &lt;lambda&gt; at 0x15e263880&gt;))]),\n",
       "                                                  [&#x27;text&#x27;])])),\n",
       "                (&#x27;lr&#x27;, LogisticRegression(random_state=42, solver=&#x27;saga&#x27;))])</pre><b>In a Jupyter environment, please rerun this cell to show the HTML representation or trust the notebook. <br />On GitHub, the HTML representation is unable to render, please try loading this page with nbviewer.org.</b></div><div class=\"sk-container\" hidden><div class=\"sk-item sk-dashed-wrapped\"><div class=\"sk-label-container\"><div class=\"sk-label sk-toggleable\"><input class=\"sk-toggleable__control sk-hidden--visually\" id=\"sk-estimator-id-40\" type=\"checkbox\" ><label for=\"sk-estimator-id-40\" class=\"sk-toggleable__label sk-toggleable__label-arrow\">Pipeline</label><div class=\"sk-toggleable__content\"><pre>Pipeline(steps=[(&#x27;prep&#x27;,\n",
       "                 ColumnTransformer(transformers=[(&#x27;num&#x27;,\n",
       "                                                  Pipeline(steps=[(&#x27;rs&#x27;,\n",
       "                                                                   RobustScaler()),\n",
       "                                                                  (&#x27;norm&#x27;,\n",
       "                                                                   Normalizer())]),\n",
       "                                                  &lt;sklearn.compose._column_transformer.make_column_selector object at 0x17bbb5bd0&gt;),\n",
       "                                                 (&#x27;text&#x27;,\n",
       "                                                  Pipeline(steps=[(&#x27;squeeze&#x27;,\n",
       "                                                                   FunctionTransformer(func=&lt;function &lt;lambda&gt; at 0x15e263ec0&gt;)),\n",
       "                                                                  (&#x27;tfidf&#x27;,\n",
       "                                                                   TfidfVectorizer(max_df=0.99,\n",
       "                                                                                   min_df=0.01)),\n",
       "                                                                  (&#x27;toarray&#x27;,\n",
       "                                                                   FunctionTransformer(func=&lt;function &lt;lambda&gt; at 0x15e263880&gt;))]),\n",
       "                                                  [&#x27;text&#x27;])])),\n",
       "                (&#x27;lr&#x27;, LogisticRegression(random_state=42, solver=&#x27;saga&#x27;))])</pre></div></div></div><div class=\"sk-serial\"><div class=\"sk-item sk-dashed-wrapped\"><div class=\"sk-label-container\"><div class=\"sk-label sk-toggleable\"><input class=\"sk-toggleable__control sk-hidden--visually\" id=\"sk-estimator-id-41\" type=\"checkbox\" ><label for=\"sk-estimator-id-41\" class=\"sk-toggleable__label sk-toggleable__label-arrow\">prep: ColumnTransformer</label><div class=\"sk-toggleable__content\"><pre>ColumnTransformer(transformers=[(&#x27;num&#x27;,\n",
       "                                 Pipeline(steps=[(&#x27;rs&#x27;, RobustScaler()),\n",
       "                                                 (&#x27;norm&#x27;, Normalizer())]),\n",
       "                                 &lt;sklearn.compose._column_transformer.make_column_selector object at 0x17bbb5bd0&gt;),\n",
       "                                (&#x27;text&#x27;,\n",
       "                                 Pipeline(steps=[(&#x27;squeeze&#x27;,\n",
       "                                                  FunctionTransformer(func=&lt;function &lt;lambda&gt; at 0x15e263ec0&gt;)),\n",
       "                                                 (&#x27;tfidf&#x27;,\n",
       "                                                  TfidfVectorizer(max_df=0.99,\n",
       "                                                                  min_df=0.01)),\n",
       "                                                 (&#x27;toarray&#x27;,\n",
       "                                                  FunctionTransformer(func=&lt;function &lt;lambda&gt; at 0x15e263880&gt;))]),\n",
       "                                 [&#x27;text&#x27;])])</pre></div></div></div><div class=\"sk-parallel\"><div class=\"sk-parallel-item\"><div class=\"sk-item\"><div class=\"sk-label-container\"><div class=\"sk-label sk-toggleable\"><input class=\"sk-toggleable__control sk-hidden--visually\" id=\"sk-estimator-id-42\" type=\"checkbox\" ><label for=\"sk-estimator-id-42\" class=\"sk-toggleable__label sk-toggleable__label-arrow\">num</label><div class=\"sk-toggleable__content\"><pre>&lt;sklearn.compose._column_transformer.make_column_selector object at 0x17bbb5bd0&gt;</pre></div></div></div><div class=\"sk-serial\"><div class=\"sk-item\"><div class=\"sk-serial\"><div class=\"sk-item\"><div class=\"sk-estimator sk-toggleable\"><input class=\"sk-toggleable__control sk-hidden--visually\" id=\"sk-estimator-id-43\" type=\"checkbox\" ><label for=\"sk-estimator-id-43\" class=\"sk-toggleable__label sk-toggleable__label-arrow\">RobustScaler</label><div class=\"sk-toggleable__content\"><pre>RobustScaler()</pre></div></div></div><div class=\"sk-item\"><div class=\"sk-estimator sk-toggleable\"><input class=\"sk-toggleable__control sk-hidden--visually\" id=\"sk-estimator-id-44\" type=\"checkbox\" ><label for=\"sk-estimator-id-44\" class=\"sk-toggleable__label sk-toggleable__label-arrow\">Normalizer</label><div class=\"sk-toggleable__content\"><pre>Normalizer()</pre></div></div></div></div></div></div></div></div><div class=\"sk-parallel-item\"><div class=\"sk-item\"><div class=\"sk-label-container\"><div class=\"sk-label sk-toggleable\"><input class=\"sk-toggleable__control sk-hidden--visually\" id=\"sk-estimator-id-45\" type=\"checkbox\" ><label for=\"sk-estimator-id-45\" class=\"sk-toggleable__label sk-toggleable__label-arrow\">text</label><div class=\"sk-toggleable__content\"><pre>[&#x27;text&#x27;]</pre></div></div></div><div class=\"sk-serial\"><div class=\"sk-item\"><div class=\"sk-serial\"><div class=\"sk-item\"><div class=\"sk-estimator sk-toggleable\"><input class=\"sk-toggleable__control sk-hidden--visually\" id=\"sk-estimator-id-46\" type=\"checkbox\" ><label for=\"sk-estimator-id-46\" class=\"sk-toggleable__label sk-toggleable__label-arrow\">FunctionTransformer</label><div class=\"sk-toggleable__content\"><pre>FunctionTransformer(func=&lt;function &lt;lambda&gt; at 0x15e263ec0&gt;)</pre></div></div></div><div class=\"sk-item\"><div class=\"sk-estimator sk-toggleable\"><input class=\"sk-toggleable__control sk-hidden--visually\" id=\"sk-estimator-id-47\" type=\"checkbox\" ><label for=\"sk-estimator-id-47\" class=\"sk-toggleable__label sk-toggleable__label-arrow\">TfidfVectorizer</label><div class=\"sk-toggleable__content\"><pre>TfidfVectorizer(max_df=0.99, min_df=0.01)</pre></div></div></div><div class=\"sk-item\"><div class=\"sk-estimator sk-toggleable\"><input class=\"sk-toggleable__control sk-hidden--visually\" id=\"sk-estimator-id-48\" type=\"checkbox\" ><label for=\"sk-estimator-id-48\" class=\"sk-toggleable__label sk-toggleable__label-arrow\">FunctionTransformer</label><div class=\"sk-toggleable__content\"><pre>FunctionTransformer(func=&lt;function &lt;lambda&gt; at 0x15e263880&gt;)</pre></div></div></div></div></div></div></div></div></div></div><div class=\"sk-item\"><div class=\"sk-estimator sk-toggleable\"><input class=\"sk-toggleable__control sk-hidden--visually\" id=\"sk-estimator-id-49\" type=\"checkbox\" ><label for=\"sk-estimator-id-49\" class=\"sk-toggleable__label sk-toggleable__label-arrow\">LogisticRegression</label><div class=\"sk-toggleable__content\"><pre>LogisticRegression(random_state=42, solver=&#x27;saga&#x27;)</pre></div></div></div></div></div></div></div>"
      ],
      "text/plain": [
       "Pipeline(steps=[('prep',\n",
       "                 ColumnTransformer(transformers=[('num',\n",
       "                                                  Pipeline(steps=[('rs',\n",
       "                                                                   RobustScaler()),\n",
       "                                                                  ('norm',\n",
       "                                                                   Normalizer())]),\n",
       "                                                  <sklearn.compose._column_transformer.make_column_selector object at 0x17bbb5bd0>),\n",
       "                                                 ('text',\n",
       "                                                  Pipeline(steps=[('squeeze',\n",
       "                                                                   FunctionTransformer(func=<function <lambda> at 0x15e263ec0>)),\n",
       "                                                                  ('tfidf',\n",
       "                                                                   TfidfVectorizer(max_df=0.99,\n",
       "                                                                                   min_df=0.01)),\n",
       "                                                                  ('toarray',\n",
       "                                                                   FunctionTransformer(func=<function <lambda> at 0x15e263880>))]),\n",
       "                                                  ['text'])])),\n",
       "                ('lr', LogisticRegression(random_state=42, solver='saga'))])"
      ]
     },
     "execution_count": 87,
     "metadata": {},
     "output_type": "execute_result"
    }
   ],
   "source": [
    "text_pipe.set_params(prep__text__tfidf__max_df=0.99, prep__text__tfidf__min_df=0.01)"
   ]
  },
  {
   "cell_type": "code",
   "execution_count": 89,
   "id": "5104dae8-1694-4f1e-a52b-b66c48cefc28",
   "metadata": {
    "tags": []
   },
   "outputs": [],
   "source": [
    "metrics = get_grid_val_metrics(metrics, 'maxdf_99', 'lr', text_pipe, X_train, y_train, X_val, y_val)"
   ]
  },
  {
   "cell_type": "code",
   "execution_count": 90,
   "id": "e71a33c5-feba-44a0-95c2-d80e88c2357b",
   "metadata": {
    "tags": []
   },
   "outputs": [
    {
     "data": {
      "text/html": [
       "<div>\n",
       "<style scoped>\n",
       "    .dataframe tbody tr th:only-of-type {\n",
       "        vertical-align: middle;\n",
       "    }\n",
       "\n",
       "    .dataframe tbody tr th {\n",
       "        vertical-align: top;\n",
       "    }\n",
       "\n",
       "    .dataframe thead th {\n",
       "        text-align: right;\n",
       "    }\n",
       "</style>\n",
       "<table border=\"1\" class=\"dataframe\">\n",
       "  <thead>\n",
       "    <tr style=\"text-align: right;\">\n",
       "      <th></th>\n",
       "      <th>name</th>\n",
       "      <th>clf</th>\n",
       "      <th>train</th>\n",
       "      <th>acc</th>\n",
       "      <th>prec</th>\n",
       "      <th>rec</th>\n",
       "      <th>roc_auc</th>\n",
       "    </tr>\n",
       "  </thead>\n",
       "  <tbody>\n",
       "    <tr>\n",
       "      <th>0</th>\n",
       "      <td>lr_pipe</td>\n",
       "      <td>lr</td>\n",
       "      <td>88.93</td>\n",
       "      <td>88.87</td>\n",
       "      <td>90.36</td>\n",
       "      <td>87.22</td>\n",
       "      <td>95.14</td>\n",
       "    </tr>\n",
       "    <tr>\n",
       "      <th>1</th>\n",
       "      <td>num_prep_pipe</td>\n",
       "      <td>lr</td>\n",
       "      <td>88.92</td>\n",
       "      <td>88.87</td>\n",
       "      <td>90.42</td>\n",
       "      <td>87.14</td>\n",
       "      <td>95.19</td>\n",
       "    </tr>\n",
       "    <tr>\n",
       "      <th>2</th>\n",
       "      <td>maxdf_99</td>\n",
       "      <td>lr</td>\n",
       "      <td>91.76</td>\n",
       "      <td>91.39</td>\n",
       "      <td>92.68</td>\n",
       "      <td>90.03</td>\n",
       "      <td>97.04</td>\n",
       "    </tr>\n",
       "  </tbody>\n",
       "</table>\n",
       "</div>"
      ],
      "text/plain": [
       "            name clf  train   acc  prec   rec  roc_auc\n",
       "0        lr_pipe  lr  88.93 88.87 90.36 87.22    95.14\n",
       "1  num_prep_pipe  lr  88.92 88.87 90.42 87.14    95.19\n",
       "2       maxdf_99  lr  91.76 91.39 92.68 90.03    97.04"
      ]
     },
     "execution_count": 90,
     "metadata": {},
     "output_type": "execute_result"
    }
   ],
   "source": [
    "metrics"
   ]
  },
  {
   "cell_type": "markdown",
   "id": "abe0337e-7570-4b20-b72b-cec527aef7ec",
   "metadata": {},
   "source": [
    "* Reducing df cutoff increases all metrics by 2 to 3%"
   ]
  },
  {
   "cell_type": "code",
   "execution_count": 92,
   "id": "120b9316-f356-4781-b64f-5954e802be81",
   "metadata": {
    "tags": []
   },
   "outputs": [
    {
     "name": "stdout",
     "output_type": "stream",
     "text": [
      "New model includes 564 words that were previously removed as stopwords.\n"
     ]
    }
   ],
   "source": [
    "words_added = len(lr_pipe['prep'].named_transformers_['text']['tfidf'].stop_words_) -\\\n",
    "              alen(text_pipe['prep'].named_transformers_['text']['tfidf'].stop_words_)\n",
    "\n",
    "print(f\"New model includes {words_added} words that were previously removed as stopwords.\")"
   ]
  },
  {
   "cell_type": "markdown",
   "id": "28f679bc-4fb2-43cb-89ee-92ada878cbbc",
   "metadata": {},
   "source": [
    "---"
   ]
  },
  {
   "cell_type": "markdown",
   "id": "6622d429-a41f-4ce7-b9bc-6b3df44da69e",
   "metadata": {
    "tags": []
   },
   "source": [
    "## 2. Logistic Regression - Hyperparameter Tuning"
   ]
  },
  {
   "cell_type": "code",
   "execution_count": 110,
   "id": "a65a286a-fefc-4e70-af1d-5a6bb3070ee3",
   "metadata": {
    "tags": []
   },
   "outputs": [],
   "source": [
    "# First, testing different L1 ratios with \"ElasticNet\" option on\n",
    "\n",
    "text_pipe.set_params(**{'lr__penalty': 'elasticnet'})\n",
    "\n",
    "lr_params = {\n",
    "    'lr__l1_ratio': [0.0, 0.25, 0.75, 1.0],\n",
    "    'lr__C': [1, 1000],\n",
    "    'lr__tol': [0.0001, 0.000001]\n",
    "}"
   ]
  },
  {
   "cell_type": "code",
   "execution_count": 111,
   "id": "0306f72c-c4be-4e45-8f27-c7213256da39",
   "metadata": {
    "tags": []
   },
   "outputs": [],
   "source": [
    "lr_gs1 = GridSearchCV(\n",
    "    estimator=text_pipe,\n",
    "    param_grid=lr_params,\n",
    "    scoring=lr_scoring, refit='roc_auc',\n",
    "    cv=3, verbose=3)"
   ]
  },
  {
   "cell_type": "code",
   "execution_count": 112,
   "id": "1d61e319-4c89-4194-add3-506c611dcef0",
   "metadata": {
    "tags": []
   },
   "outputs": [
    {
     "name": "stdout",
     "output_type": "stream",
     "text": [
      "Fitting 3 folds for each of 16 candidates, totalling 48 fits\n",
      "[CV 1/3] END lr__C=1, lr__l1_ratio=0.0, lr__tol=0.0001; accuracy: (test=0.916) roc_auc: (test=0.971) total time=  12.1s\n",
      "[CV 2/3] END lr__C=1, lr__l1_ratio=0.0, lr__tol=0.0001; accuracy: (test=0.916) roc_auc: (test=0.971) total time=  11.9s\n",
      "[CV 3/3] END lr__C=1, lr__l1_ratio=0.0, lr__tol=0.0001; accuracy: (test=0.914) roc_auc: (test=0.969) total time=  11.9s\n",
      "[CV 1/3] END lr__C=1, lr__l1_ratio=0.0, lr__tol=1e-06; accuracy: (test=0.916) roc_auc: (test=0.971) total time=  15.6s\n",
      "[CV 2/3] END lr__C=1, lr__l1_ratio=0.0, lr__tol=1e-06; accuracy: (test=0.916) roc_auc: (test=0.971) total time=  15.7s\n",
      "[CV 3/3] END lr__C=1, lr__l1_ratio=0.0, lr__tol=1e-06; accuracy: (test=0.914) roc_auc: (test=0.969) total time=  16.2s\n",
      "[CV 1/3] END lr__C=1, lr__l1_ratio=0.25, lr__tol=0.0001; accuracy: (test=0.916) roc_auc: (test=0.971) total time=  14.7s\n",
      "[CV 2/3] END lr__C=1, lr__l1_ratio=0.25, lr__tol=0.0001; accuracy: (test=0.916) roc_auc: (test=0.971) total time=  14.7s\n",
      "[CV 3/3] END lr__C=1, lr__l1_ratio=0.25, lr__tol=0.0001; accuracy: (test=0.914) roc_auc: (test=0.969) total time=  16.1s\n",
      "[CV 1/3] END lr__C=1, lr__l1_ratio=0.25, lr__tol=1e-06; accuracy: (test=0.916) roc_auc: (test=0.971) total time=  19.4s\n",
      "[CV 2/3] END lr__C=1, lr__l1_ratio=0.25, lr__tol=1e-06; accuracy: (test=0.916) roc_auc: (test=0.971) total time=  19.7s\n",
      "[CV 3/3] END lr__C=1, lr__l1_ratio=0.25, lr__tol=1e-06; accuracy: (test=0.914) roc_auc: (test=0.969) total time=  20.1s\n",
      "[CV 1/3] END lr__C=1, lr__l1_ratio=0.75, lr__tol=0.0001; accuracy: (test=0.917) roc_auc: (test=0.971) total time=  15.9s\n",
      "[CV 2/3] END lr__C=1, lr__l1_ratio=0.75, lr__tol=0.0001; accuracy: (test=0.916) roc_auc: (test=0.971) total time=  15.5s\n",
      "[CV 3/3] END lr__C=1, lr__l1_ratio=0.75, lr__tol=0.0001; accuracy: (test=0.914) roc_auc: (test=0.969) total time=  16.1s\n",
      "[CV 1/3] END lr__C=1, lr__l1_ratio=0.75, lr__tol=1e-06; accuracy: (test=0.917) roc_auc: (test=0.971) total time=  20.3s\n",
      "[CV 2/3] END lr__C=1, lr__l1_ratio=0.75, lr__tol=1e-06; accuracy: (test=0.916) roc_auc: (test=0.971) total time=  21.5s\n",
      "[CV 3/3] END lr__C=1, lr__l1_ratio=0.75, lr__tol=1e-06; accuracy: (test=0.914) roc_auc: (test=0.969) total time=  21.8s\n",
      "[CV 1/3] END lr__C=1, lr__l1_ratio=1.0, lr__tol=0.0001; accuracy: (test=0.917) roc_auc: (test=0.971) total time=  16.2s\n",
      "[CV 2/3] END lr__C=1, lr__l1_ratio=1.0, lr__tol=0.0001; accuracy: (test=0.916) roc_auc: (test=0.971) total time=  16.3s\n",
      "[CV 3/3] END lr__C=1, lr__l1_ratio=1.0, lr__tol=0.0001; accuracy: (test=0.914) roc_auc: (test=0.969) total time=  16.4s\n",
      "[CV 1/3] END lr__C=1, lr__l1_ratio=1.0, lr__tol=1e-06; accuracy: (test=0.917) roc_auc: (test=0.971) total time=  23.5s\n",
      "[CV 2/3] END lr__C=1, lr__l1_ratio=1.0, lr__tol=1e-06; accuracy: (test=0.916) roc_auc: (test=0.971) total time=  23.4s\n",
      "[CV 3/3] END lr__C=1, lr__l1_ratio=1.0, lr__tol=1e-06; accuracy: (test=0.914) roc_auc: (test=0.969) total time=  22.1s\n",
      "[CV 1/3] END lr__C=1000, lr__l1_ratio=0.0, lr__tol=0.0001; accuracy: (test=0.916) roc_auc: (test=0.971) total time=  12.4s\n",
      "[CV 2/3] END lr__C=1000, lr__l1_ratio=0.0, lr__tol=0.0001; accuracy: (test=0.916) roc_auc: (test=0.971) total time=  13.0s\n",
      "[CV 3/3] END lr__C=1000, lr__l1_ratio=0.0, lr__tol=0.0001; accuracy: (test=0.914) roc_auc: (test=0.969) total time=  13.1s\n",
      "[CV 1/3] END lr__C=1000, lr__l1_ratio=0.0, lr__tol=1e-06; accuracy: (test=0.916) roc_auc: (test=0.971) total time=  18.0s\n",
      "[CV 2/3] END lr__C=1000, lr__l1_ratio=0.0, lr__tol=1e-06; accuracy: (test=0.916) roc_auc: (test=0.971) total time=  17.9s\n",
      "[CV 3/3] END lr__C=1000, lr__l1_ratio=0.0, lr__tol=1e-06; accuracy: (test=0.914) roc_auc: (test=0.969) total time=  17.0s\n",
      "[CV 1/3] END lr__C=1000, lr__l1_ratio=0.25, lr__tol=0.0001; accuracy: (test=0.916) roc_auc: (test=0.971) total time=  15.2s\n",
      "[CV 2/3] END lr__C=1000, lr__l1_ratio=0.25, lr__tol=0.0001; accuracy: (test=0.916) roc_auc: (test=0.971) total time=  15.9s\n",
      "[CV 3/3] END lr__C=1000, lr__l1_ratio=0.25, lr__tol=0.0001; accuracy: (test=0.914) roc_auc: (test=0.969) total time=  15.9s\n",
      "[CV 1/3] END lr__C=1000, lr__l1_ratio=0.25, lr__tol=1e-06; accuracy: (test=0.916) roc_auc: (test=0.971) total time=  22.1s\n",
      "[CV 2/3] END lr__C=1000, lr__l1_ratio=0.25, lr__tol=1e-06; accuracy: (test=0.916) roc_auc: (test=0.971) total time=  22.0s\n",
      "[CV 3/3] END lr__C=1000, lr__l1_ratio=0.25, lr__tol=1e-06; accuracy: (test=0.914) roc_auc: (test=0.969) total time=  21.3s\n",
      "[CV 1/3] END lr__C=1000, lr__l1_ratio=0.75, lr__tol=0.0001; accuracy: (test=0.916) roc_auc: (test=0.971) total time=  16.0s\n",
      "[CV 2/3] END lr__C=1000, lr__l1_ratio=0.75, lr__tol=0.0001; accuracy: (test=0.916) roc_auc: (test=0.971) total time=  16.7s\n",
      "[CV 3/3] END lr__C=1000, lr__l1_ratio=0.75, lr__tol=0.0001; accuracy: (test=0.914) roc_auc: (test=0.969) total time=  16.4s\n",
      "[CV 1/3] END lr__C=1000, lr__l1_ratio=0.75, lr__tol=1e-06; accuracy: (test=0.916) roc_auc: (test=0.971) total time=  22.8s\n",
      "[CV 2/3] END lr__C=1000, lr__l1_ratio=0.75, lr__tol=1e-06; accuracy: (test=0.916) roc_auc: (test=0.971) total time=  22.9s\n",
      "[CV 3/3] END lr__C=1000, lr__l1_ratio=0.75, lr__tol=1e-06; accuracy: (test=0.914) roc_auc: (test=0.969) total time=  22.0s\n",
      "[CV 1/3] END lr__C=1000, lr__l1_ratio=1.0, lr__tol=0.0001; accuracy: (test=0.916) roc_auc: (test=0.971) total time=  15.8s\n",
      "[CV 2/3] END lr__C=1000, lr__l1_ratio=1.0, lr__tol=0.0001; accuracy: (test=0.916) roc_auc: (test=0.971) total time=  16.3s\n",
      "[CV 3/3] END lr__C=1000, lr__l1_ratio=1.0, lr__tol=0.0001; accuracy: (test=0.914) roc_auc: (test=0.969) total time=  16.4s\n",
      "[CV 1/3] END lr__C=1000, lr__l1_ratio=1.0, lr__tol=1e-06; accuracy: (test=0.916) roc_auc: (test=0.971) total time=  23.4s\n",
      "[CV 2/3] END lr__C=1000, lr__l1_ratio=1.0, lr__tol=1e-06; accuracy: (test=0.916) roc_auc: (test=0.971) total time=  23.3s\n",
      "[CV 3/3] END lr__C=1000, lr__l1_ratio=1.0, lr__tol=1e-06; accuracy: (test=0.914) roc_auc: (test=0.969) total time=  22.5s\n",
      "\n",
      "\n",
      "Time to fit: 14.0 min 44 sec\n"
     ]
    }
   ],
   "source": [
    "start = time.time()\n",
    "\n",
    "lr_gs1.fit(X_train, y_train)\n",
    "\n",
    "end = time.time()\n",
    "\n",
    "print('\\n')\n",
    "print(f'Time to fit: {(end - start) // 60} min {(end - start)%60:.0f} sec')"
   ]
  },
  {
   "cell_type": "code",
   "execution_count": 117,
   "id": "e875e59d-0bbf-4d98-ad69-89dd278c364d",
   "metadata": {
    "tags": []
   },
   "outputs": [
    {
     "name": "stdout",
     "output_type": "stream",
     "text": [
      "Best ROC-AUC: 97.02, {'lr__C': 1, 'lr__l1_ratio': 0.75, 'lr__tol': 1e-06}\n"
     ]
    }
   ],
   "source": [
    "print(f'Best ROC-AUC: {lr_gs1.best_score_*100:.2f}, {lr_gs1.best_params_}')"
   ]
  },
  {
   "cell_type": "markdown",
   "id": "b47341e9-20c2-45a0-959a-0f6b36d431e7",
   "metadata": {},
   "source": [
    "* Across all combinations: very little difference in accuracy and ROC-AUC Score\n",
    "* Even though the \"best_param\" for tolerance is 1e-6, not much difference between 1e-4 and 1e-6 for tolerance.\n",
    "    * Tolerance = 1e-4 is preferable because it's faster"
   ]
  },
  {
   "cell_type": "markdown",
   "id": "1e89ee66-e8ca-4623-8e26-9f2b74a3c1bb",
   "metadata": {
    "tags": []
   },
   "source": [
    "* Best Parameters:\n",
    "    * C = 1\n",
    "    * L1_Ratio = 0.75\n",
    "    * Tol = 1e-4 (speed)"
   ]
  },
  {
   "cell_type": "code",
   "execution_count": 120,
   "id": "ff0a1da2-ba34-4255-a335-655e3cc275e9",
   "metadata": {
    "tags": []
   },
   "outputs": [
    {
     "data": {
      "text/plain": [
       "{'C': 1.000,\n",
       " 'class_weight': None,\n",
       " 'dual': False,\n",
       " 'fit_intercept': True,\n",
       " 'intercept_scaling': 1,\n",
       " 'l1_ratio': 0.750,\n",
       " 'max_iter': 100,\n",
       " 'multi_class': 'auto',\n",
       " 'n_jobs': None,\n",
       " 'penalty': 'elasticnet',\n",
       " 'random_state': 42,\n",
       " 'solver': 'saga',\n",
       " 'tol': 0.000,\n",
       " 'verbose': 0,\n",
       " 'warm_start': False}"
      ]
     },
     "execution_count": 120,
     "metadata": {},
     "output_type": "execute_result"
    }
   ],
   "source": [
    "lr_grid_pipe = text_pipe\n",
    "lr_grid_pipe.set_params(**{'lr__l1_ratio': 0.75})\n",
    "lr_grid_pipe['lr'].get_params()"
   ]
  },
  {
   "cell_type": "code",
   "execution_count": 122,
   "id": "7f5cd1a6-5a6d-4b27-8a37-941b1a7169af",
   "metadata": {
    "tags": []
   },
   "outputs": [],
   "source": [
    "metrics = get_grid_val_metrics(metrics, 'l1_ratio_75', 'lr', lr_grid_pipe, X_train, y_train, X_val, y_val)"
   ]
  },
  {
   "cell_type": "code",
   "execution_count": 123,
   "id": "bb3e8355-fe7e-4b17-81a7-762f5e21b3be",
   "metadata": {
    "tags": []
   },
   "outputs": [
    {
     "data": {
      "text/html": [
       "<div>\n",
       "<style scoped>\n",
       "    .dataframe tbody tr th:only-of-type {\n",
       "        vertical-align: middle;\n",
       "    }\n",
       "\n",
       "    .dataframe tbody tr th {\n",
       "        vertical-align: top;\n",
       "    }\n",
       "\n",
       "    .dataframe thead th {\n",
       "        text-align: right;\n",
       "    }\n",
       "</style>\n",
       "<table border=\"1\" class=\"dataframe\">\n",
       "  <thead>\n",
       "    <tr style=\"text-align: right;\">\n",
       "      <th></th>\n",
       "      <th>name</th>\n",
       "      <th>clf</th>\n",
       "      <th>train</th>\n",
       "      <th>acc</th>\n",
       "      <th>prec</th>\n",
       "      <th>rec</th>\n",
       "      <th>roc_auc</th>\n",
       "    </tr>\n",
       "  </thead>\n",
       "  <tbody>\n",
       "    <tr>\n",
       "      <th>0</th>\n",
       "      <td>lr_pipe</td>\n",
       "      <td>lr</td>\n",
       "      <td>88.93</td>\n",
       "      <td>88.87</td>\n",
       "      <td>90.36</td>\n",
       "      <td>87.22</td>\n",
       "      <td>95.14</td>\n",
       "    </tr>\n",
       "    <tr>\n",
       "      <th>1</th>\n",
       "      <td>num_prep_pipe</td>\n",
       "      <td>lr</td>\n",
       "      <td>88.92</td>\n",
       "      <td>88.87</td>\n",
       "      <td>90.42</td>\n",
       "      <td>87.14</td>\n",
       "      <td>95.19</td>\n",
       "    </tr>\n",
       "    <tr>\n",
       "      <th>2</th>\n",
       "      <td>maxdf_99</td>\n",
       "      <td>lr</td>\n",
       "      <td>91.76</td>\n",
       "      <td>91.39</td>\n",
       "      <td>92.68</td>\n",
       "      <td>90.03</td>\n",
       "      <td>97.04</td>\n",
       "    </tr>\n",
       "    <tr>\n",
       "      <th>3</th>\n",
       "      <td>l1_ratio_75</td>\n",
       "      <td>lr</td>\n",
       "      <td>91.81</td>\n",
       "      <td>91.46</td>\n",
       "      <td>92.72</td>\n",
       "      <td>90.13</td>\n",
       "      <td>97.05</td>\n",
       "    </tr>\n",
       "  </tbody>\n",
       "</table>\n",
       "</div>"
      ],
      "text/plain": [
       "            name clf  train   acc  prec   rec  roc_auc\n",
       "0        lr_pipe  lr  88.93 88.87 90.36 87.22    95.14\n",
       "1  num_prep_pipe  lr  88.92 88.87 90.42 87.14    95.19\n",
       "2       maxdf_99  lr  91.76 91.39 92.68 90.03    97.04\n",
       "3    l1_ratio_75  lr  91.81 91.46 92.72 90.13    97.05"
      ]
     },
     "execution_count": 123,
     "metadata": {},
     "output_type": "execute_result"
    }
   ],
   "source": [
    "metrics"
   ]
  },
  {
   "cell_type": "markdown",
   "id": "61cb6f72-9d7e-4a5a-81a9-75308a2736c3",
   "metadata": {},
   "source": [
    "* Very little improvements in accuracy and roc_auc with hyperparameter tuning-- but still an improvement!"
   ]
  },
  {
   "cell_type": "markdown",
   "id": "4e351c48-de23-4be4-8361-10411dfbd86e",
   "metadata": {
    "tags": []
   },
   "source": [
    "## 3. Altering Threshold to Increase Recall"
   ]
  },
  {
   "cell_type": "code",
   "execution_count": 124,
   "id": "1abad71c-f1a2-4c1c-bc60-d743cc733cbf",
   "metadata": {
    "tags": []
   },
   "outputs": [],
   "source": [
    "y_pred_proba = lr_grid_pipe.predict_proba(X_val)\n",
    "prc = pd.DataFrame(precision_recall_curve(y_val, y_pred_proba[:,1])).T"
   ]
  },
  {
   "cell_type": "code",
   "execution_count": 125,
   "id": "cd61b4ea-cd63-4f88-8567-d87dcf3c714a",
   "metadata": {
    "tags": []
   },
   "outputs": [
    {
     "data": {
      "image/png": "[encoded data removed]",
      "text/plain": [
       "<Figure size 640x480 with 1 Axes>"
      ]
     },
     "metadata": {},
     "output_type": "display_data"
    }
   ],
   "source": [
    "display = PrecisionRecallDisplay.from_estimator(lr_grid_pipe, X_val, y_val, name=\"LogisticRegression\")\n",
    "display.ax_.set_title(\"Tuned LR - Precision-Recall curve\");"
   ]
  },
  {
   "cell_type": "code",
   "execution_count": 126,
   "id": "55d0f417-d3db-41a0-9384-dbcd2a9bc229",
   "metadata": {
    "tags": []
   },
   "outputs": [],
   "source": [
    "prc.columns = ['precision', 'recall', 'threshold']"
   ]
  },
  {
   "cell_type": "code",
   "execution_count": 127,
   "id": "a8a4ff01-6136-42ec-94f7-36466bfdc766",
   "metadata": {
    "tags": []
   },
   "outputs": [
    {
     "data": {
      "text/html": [
       "<div>\n",
       "<style scoped>\n",
       "    .dataframe tbody tr th:only-of-type {\n",
       "        vertical-align: middle;\n",
       "    }\n",
       "\n",
       "    .dataframe tbody tr th {\n",
       "        vertical-align: top;\n",
       "    }\n",
       "\n",
       "    .dataframe thead th {\n",
       "        text-align: right;\n",
       "    }\n",
       "</style>\n",
       "<table border=\"1\" class=\"dataframe\">\n",
       "  <thead>\n",
       "    <tr style=\"text-align: right;\">\n",
       "      <th></th>\n",
       "      <th>precision</th>\n",
       "      <th>recall</th>\n",
       "      <th>threshold</th>\n",
       "    </tr>\n",
       "  </thead>\n",
       "  <tbody>\n",
       "    <tr>\n",
       "      <th>16771</th>\n",
       "      <td>0.91</td>\n",
       "      <td>0.92</td>\n",
       "      <td>0.41</td>\n",
       "    </tr>\n",
       "    <tr>\n",
       "      <th>16767</th>\n",
       "      <td>0.91</td>\n",
       "      <td>0.92</td>\n",
       "      <td>0.41</td>\n",
       "    </tr>\n",
       "    <tr>\n",
       "      <th>16768</th>\n",
       "      <td>0.91</td>\n",
       "      <td>0.92</td>\n",
       "      <td>0.41</td>\n",
       "    </tr>\n",
       "    <tr>\n",
       "      <th>16769</th>\n",
       "      <td>0.91</td>\n",
       "      <td>0.92</td>\n",
       "      <td>0.41</td>\n",
       "    </tr>\n",
       "    <tr>\n",
       "      <th>16770</th>\n",
       "      <td>0.91</td>\n",
       "      <td>0.92</td>\n",
       "      <td>0.41</td>\n",
       "    </tr>\n",
       "  </tbody>\n",
       "</table>\n",
       "</div>"
      ],
      "text/plain": [
       "       precision  recall  threshold\n",
       "16771       0.91    0.92       0.41\n",
       "16767       0.91    0.92       0.41\n",
       "16768       0.91    0.92       0.41\n",
       "16769       0.91    0.92       0.41\n",
       "16770       0.91    0.92       0.41"
      ]
     },
     "execution_count": 127,
     "metadata": {},
     "output_type": "execute_result"
    }
   ],
   "source": [
    "prc.mask(prc['recall']<0.92).dropna().sort_values(by='precision', ascending=False)[:5]"
   ]
  },
  {
   "cell_type": "markdown",
   "id": "13df3c07-5de0-4661-9e12-0ddfb47942d8",
   "metadata": {
    "tags": []
   },
   "source": [
    "* Testing a threshold of 0.4:"
   ]
  },
  {
   "cell_type": "code",
   "execution_count": 128,
   "id": "8fbd423b-c113-406e-b146-df3bc37985cb",
   "metadata": {
    "tags": []
   },
   "outputs": [],
   "source": [
    "y_pred = np.where(lr_grid_pipe.predict_proba(X_val)[:,1] > 0.400, 1, 0)"
   ]
  },
  {
   "cell_type": "code",
   "execution_count": 129,
   "id": "b88807a6-282a-4b9e-82cd-eda017218ac5",
   "metadata": {
    "tags": []
   },
   "outputs": [
    {
     "name": "stdout",
     "output_type": "stream",
     "text": [
      "0.9137956014024514 0.9074314778185928 0.9231344141658043\n"
     ]
    }
   ],
   "source": [
    "print(accuracy_score(y_val, y_pred), precision_score(y_val, y_pred), recall_score(y_val, y_pred))"
   ]
  },
  {
   "cell_type": "code",
   "execution_count": 135,
   "id": "44985391-d5e1-4277-889f-479e92c617b6",
   "metadata": {
    "tags": []
   },
   "outputs": [
    {
     "data": {
      "text/html": [
       "<div>\n",
       "<style scoped>\n",
       "    .dataframe tbody tr th:only-of-type {\n",
       "        vertical-align: middle;\n",
       "    }\n",
       "\n",
       "    .dataframe tbody tr th {\n",
       "        vertical-align: top;\n",
       "    }\n",
       "\n",
       "    .dataframe thead th {\n",
       "        text-align: right;\n",
       "    }\n",
       "</style>\n",
       "<table border=\"1\" class=\"dataframe\">\n",
       "  <thead>\n",
       "    <tr style=\"text-align: right;\">\n",
       "      <th></th>\n",
       "      <th>name</th>\n",
       "      <th>clf</th>\n",
       "      <th>train</th>\n",
       "      <th>acc</th>\n",
       "      <th>prec</th>\n",
       "      <th>rec</th>\n",
       "      <th>roc_auc</th>\n",
       "    </tr>\n",
       "  </thead>\n",
       "  <tbody>\n",
       "    <tr>\n",
       "      <th>0</th>\n",
       "      <td>lr_pipe</td>\n",
       "      <td>lr</td>\n",
       "      <td>88.93</td>\n",
       "      <td>88.87</td>\n",
       "      <td>90.36</td>\n",
       "      <td>87.22</td>\n",
       "      <td>95.14</td>\n",
       "    </tr>\n",
       "    <tr>\n",
       "      <th>1</th>\n",
       "      <td>num_prep_pipe</td>\n",
       "      <td>lr</td>\n",
       "      <td>88.92</td>\n",
       "      <td>88.87</td>\n",
       "      <td>90.42</td>\n",
       "      <td>87.14</td>\n",
       "      <td>95.19</td>\n",
       "    </tr>\n",
       "    <tr>\n",
       "      <th>2</th>\n",
       "      <td>maxdf_99</td>\n",
       "      <td>lr</td>\n",
       "      <td>91.76</td>\n",
       "      <td>91.39</td>\n",
       "      <td>92.68</td>\n",
       "      <td>90.03</td>\n",
       "      <td>97.04</td>\n",
       "    </tr>\n",
       "    <tr>\n",
       "      <th>3</th>\n",
       "      <td>l1_ratio_75</td>\n",
       "      <td>lr</td>\n",
       "      <td>91.81</td>\n",
       "      <td>91.46</td>\n",
       "      <td>92.72</td>\n",
       "      <td>90.13</td>\n",
       "      <td>97.05</td>\n",
       "    </tr>\n",
       "  </tbody>\n",
       "</table>\n",
       "</div>"
      ],
      "text/plain": [
       "            name clf  train   acc  prec   rec  roc_auc\n",
       "0        lr_pipe  lr  88.93 88.87 90.36 87.22    95.14\n",
       "1  num_prep_pipe  lr  88.92 88.87 90.42 87.14    95.19\n",
       "2       maxdf_99  lr  91.76 91.39 92.68 90.03    97.04\n",
       "3    l1_ratio_75  lr  91.81 91.46 92.72 90.13    97.05"
      ]
     },
     "execution_count": 135,
     "metadata": {},
     "output_type": "execute_result"
    }
   ],
   "source": [
    "metrics"
   ]
  },
  {
   "cell_type": "code",
   "execution_count": 137,
   "id": "6686ebf0-3155-486d-a451-01dd81d99a35",
   "metadata": {
    "tags": []
   },
   "outputs": [],
   "source": [
    "final_mets = {\n",
    "    'name':'threshold',\n",
    "    'clf':'lr',\n",
    "    'train':'NA',\n",
    "    'acc': accuracy_score(y_val, y_pred)*100,\n",
    "    'prec': precision_score(y_val, y_pred)*100,\n",
    "    'rec': recall_score(y_val, y_pred)*100,\n",
    "    'roc_auc': roc_auc_score(y_val, y_pred)*100\n",
    "}"
   ]
  },
  {
   "cell_type": "code",
   "execution_count": 141,
   "id": "371b9924-12c1-49b2-8d73-35cc6efcf82e",
   "metadata": {
    "tags": []
   },
   "outputs": [],
   "source": [
    "metrics = pd.concat([metrics, pd.DataFrame(final_mets, index=[0])], ignore_index=True)"
   ]
  },
  {
   "cell_type": "code",
   "execution_count": 142,
   "id": "ef360d6d-538a-4901-a49c-18a61295d826",
   "metadata": {
    "tags": []
   },
   "outputs": [
    {
     "data": {
      "text/html": [
       "<div>\n",
       "<style scoped>\n",
       "    .dataframe tbody tr th:only-of-type {\n",
       "        vertical-align: middle;\n",
       "    }\n",
       "\n",
       "    .dataframe tbody tr th {\n",
       "        vertical-align: top;\n",
       "    }\n",
       "\n",
       "    .dataframe thead th {\n",
       "        text-align: right;\n",
       "    }\n",
       "</style>\n",
       "<table border=\"1\" class=\"dataframe\">\n",
       "  <thead>\n",
       "    <tr style=\"text-align: right;\">\n",
       "      <th></th>\n",
       "      <th>name</th>\n",
       "      <th>clf</th>\n",
       "      <th>train</th>\n",
       "      <th>acc</th>\n",
       "      <th>prec</th>\n",
       "      <th>rec</th>\n",
       "      <th>roc_auc</th>\n",
       "    </tr>\n",
       "  </thead>\n",
       "  <tbody>\n",
       "    <tr>\n",
       "      <th>0</th>\n",
       "      <td>lr_pipe</td>\n",
       "      <td>lr</td>\n",
       "      <td>88.93</td>\n",
       "      <td>88.87</td>\n",
       "      <td>90.36</td>\n",
       "      <td>87.22</td>\n",
       "      <td>95.14</td>\n",
       "    </tr>\n",
       "    <tr>\n",
       "      <th>1</th>\n",
       "      <td>num_prep_pipe</td>\n",
       "      <td>lr</td>\n",
       "      <td>88.92</td>\n",
       "      <td>88.87</td>\n",
       "      <td>90.42</td>\n",
       "      <td>87.14</td>\n",
       "      <td>95.19</td>\n",
       "    </tr>\n",
       "    <tr>\n",
       "      <th>2</th>\n",
       "      <td>maxdf_99</td>\n",
       "      <td>lr</td>\n",
       "      <td>91.76</td>\n",
       "      <td>91.39</td>\n",
       "      <td>92.68</td>\n",
       "      <td>90.03</td>\n",
       "      <td>97.04</td>\n",
       "    </tr>\n",
       "    <tr>\n",
       "      <th>3</th>\n",
       "      <td>l1_ratio_75</td>\n",
       "      <td>lr</td>\n",
       "      <td>91.81</td>\n",
       "      <td>91.46</td>\n",
       "      <td>92.72</td>\n",
       "      <td>90.13</td>\n",
       "      <td>97.05</td>\n",
       "    </tr>\n",
       "    <tr>\n",
       "      <th>4</th>\n",
       "      <td>threshold</td>\n",
       "      <td>lr</td>\n",
       "      <td>NA</td>\n",
       "      <td>91.38</td>\n",
       "      <td>90.74</td>\n",
       "      <td>92.31</td>\n",
       "      <td>91.37</td>\n",
       "    </tr>\n",
       "  </tbody>\n",
       "</table>\n",
       "</div>"
      ],
      "text/plain": [
       "            name clf train   acc  prec   rec  roc_auc\n",
       "0        lr_pipe  lr 88.93 88.87 90.36 87.22    95.14\n",
       "1  num_prep_pipe  lr 88.92 88.87 90.42 87.14    95.19\n",
       "2       maxdf_99  lr 91.76 91.39 92.68 90.03    97.04\n",
       "3    l1_ratio_75  lr 91.81 91.46 92.72 90.13    97.05\n",
       "4      threshold  lr    NA 91.38 90.74 92.31    91.37"
      ]
     },
     "execution_count": 142,
     "metadata": {},
     "output_type": "execute_result"
    }
   ],
   "source": [
    "metrics"
   ]
  },
  {
   "cell_type": "markdown",
   "id": "29ac13c2-ed9c-49e8-bf5d-f291040bbe97",
   "metadata": {},
   "source": [
    "* Using a threshold of 0.400 increases recall over precision, which lowers accuracy a little bit, but ultimately boosts recall."
   ]
  },
  {
   "cell_type": "markdown",
   "id": "b1d48342-416e-4a1b-8897-6bf512bd29e0",
   "metadata": {},
   "source": [
    "### Saving Final Model Pipeline"
   ]
  },
  {
   "cell_type": "code",
   "execution_count": 143,
   "id": "ea69e232-85e0-4904-b6d3-9c1508c0091e",
   "metadata": {
    "tags": []
   },
   "outputs": [],
   "source": [
    "final_pipe = lr_grid_pipe"
   ]
  },
  {
   "cell_type": "code",
   "execution_count": 144,
   "id": "1ba7e81a-1577-4654-8ee1-d5d7d5935569",
   "metadata": {
    "tags": []
   },
   "outputs": [
    {
     "data": {
      "text/plain": [
       "['./streamlit/final_pipe.joblib']"
      ]
     },
     "execution_count": 144,
     "metadata": {},
     "output_type": "execute_result"
    }
   ],
   "source": [
    "joblib.dump(final_pipe, './streamlit/final_pipe.joblib')"
   ]
  },
  {
   "cell_type": "markdown",
   "id": "07a3d0c1-6af1-4b80-8c11-2cc23a5f9f7d",
   "metadata": {},
   "source": [
    "---"
   ]
  },
  {
   "cell_type": "markdown",
   "id": "21084a30-2a85-44c4-a970-e48f651879bb",
   "metadata": {
    "tags": []
   },
   "source": [
    "# &nbsp;&nbsp; IV. &nbsp; Final Model Results"
   ]
  },
  {
   "cell_type": "markdown",
   "id": "ab1451e9-42ca-4be9-a8c3-f3d870b75e9e",
   "metadata": {},
   "source": [
    "### Predicting X_test with Threshold = 0.4"
   ]
  },
  {
   "cell_type": "code",
   "execution_count": 145,
   "id": "40490404-e1a2-45f2-8dc2-b85989e06005",
   "metadata": {
    "tags": []
   },
   "outputs": [],
   "source": [
    "y_hat = np.where(final_pipe.predict_proba(X_train)[:,1] > 0.400, 1, 0)"
   ]
  },
  {
   "cell_type": "code",
   "execution_count": 146,
   "id": "2cfecdcd-136b-45f0-b5e3-df7865592bf6",
   "metadata": {
    "tags": []
   },
   "outputs": [],
   "source": [
    "y_pred = np.where(final_pipe.predict_proba(X_test)[:,1] > 0.400, 1, 0)"
   ]
  },
  {
   "cell_type": "code",
   "execution_count": 159,
   "id": "cfcda177-f353-4ab9-9d86-d4f2035f80f8",
   "metadata": {
    "tags": []
   },
   "outputs": [],
   "source": [
    "test_metrics = {}\n",
    "test_metrics['train'] = accuracy_score(y_train, y_hat)*100\n",
    "test_metrics['accuracy'] = accuracy_score(y_test, y_pred)*100\n",
    "test_metrics['precision'] = precision_score(y_test, y_pred)*100\n",
    "test_metrics['recall'] = recall_score(y_test, y_pred)*100\n",
    "test_metrics['roc_auc'] = roc_auc_score(y_test, y_pred)*100"
   ]
  },
  {
   "cell_type": "code",
   "execution_count": 163,
   "id": "7f1d301d-d07d-4be7-8f70-622d09a7c9f2",
   "metadata": {
    "tags": []
   },
   "outputs": [
    {
     "name": "stdout",
     "output_type": "stream",
     "text": [
      "Training Accuracy Score: 91.67 %\n",
      "\t\n",
      "TEST SCORES:\n",
      "Accuracy:  91.57 %\n",
      "Recall:  92.43 %\n",
      "Precision:  91.05 %\n",
      "ROC AUC:  91.55 %\n"
     ]
    }
   ],
   "source": [
    "print(f'Training Accuracy Score: {accuracy_score(y_train, y_hat)*100:.2f} %')\n",
    "print('\\t')\n",
    "print(\"TEST SCORES:\")\n",
    "print(f\"Accuracy: {accuracy_score(y_test, y_pred)*100: .2f} %\")\n",
    "print(f\"Recall: {recall_score(y_test, y_pred)*100: .2f} %\")\n",
    "print(f\"Precision: {precision_score(y_test, y_pred)*100: .2f} %\")\n",
    "print(f\"ROC AUC: {roc_auc_score(y_test, y_pred)*100: .2f} %\")"
   ]
  },
  {
   "cell_type": "code",
   "execution_count": 164,
   "id": "1c03ea1a-b61c-401f-a887-46698c38ed46",
   "metadata": {
    "tags": []
   },
   "outputs": [
    {
     "name": "stdout",
     "output_type": "stream",
     "text": [
      "              precision    recall  f1-score   support\n",
      "\n",
      "           0       0.92      0.91      0.91     17034\n",
      "           1       0.91      0.92      0.92     17477\n",
      "\n",
      "    accuracy                           0.92     34511\n",
      "   macro avg       0.92      0.92      0.92     34511\n",
      "weighted avg       0.92      0.92      0.92     34511\n",
      "\n"
     ]
    }
   ],
   "source": [
    "print(classification_report(y_test, y_pred, labels=[0,1]))"
   ]
  },
  {
   "cell_type": "code",
   "execution_count": 165,
   "id": "9ea0f2eb-4993-46a7-9667-275036f776d3",
   "metadata": {
    "tags": []
   },
   "outputs": [],
   "source": [
    "conf = confusion_matrix(y_test, y_pred)"
   ]
  },
  {
   "cell_type": "code",
   "execution_count": 166,
   "id": "6bad3bf1-5385-48cb-aa3f-ab429e1361f9",
   "metadata": {
    "tags": []
   },
   "outputs": [
    {
     "name": "stdout",
     "output_type": "stream",
     "text": [
      "Normalized confusion matrix\n",
      "[[0.90677469 0.09322531]\n",
      " [0.07569949 0.92430051]]\n"
     ]
    },
    {
     "data": {
      "image/png": "[encoded data removed]",
      "text/plain": [
       "<Figure size 640x480 with 2 Axes>"
      ]
     },
     "metadata": {},
     "output_type": "display_data"
    }
   ],
   "source": [
    "plot_confusion_matrix(conf,\n",
    "                      classes=['not at risk', 'at suicide risk'],\n",
    "                      normalize=True)"
   ]
  },
  {
   "cell_type": "markdown",
   "id": "8b038b61-86cc-4196-8ed2-dedddde56063",
   "metadata": {},
   "source": [
    "* 91.5% accuracy\n",
    "* Model is well fit (train score similar to test score)\n",
    "* Runs quickly (~30 seconds)\n",
    "* Recall (92%) rate higher than Precision (91%)"
   ]
  },
  {
   "cell_type": "markdown",
   "id": "04d526ab-6a33-4a49-9b6c-a093480fd88b",
   "metadata": {},
   "source": [
    "## ROC AUC Plot"
   ]
  },
  {
   "cell_type": "code",
   "execution_count": 179,
   "id": "6793ccbb-59f9-46e1-a1be-ac5a948a1bb2",
   "metadata": {
    "tags": []
   },
   "outputs": [],
   "source": [
    "# display = RocCurveDisplay.from_predictions(y_test, y_pred)"
   ]
  },
  {
   "cell_type": "code",
   "execution_count": 180,
   "id": "863a36f2-da3c-471c-a8c3-862b8ee98308",
   "metadata": {
    "tags": []
   },
   "outputs": [
    {
     "data": {
      "image/png": "[encoded data removed]",
      "text/plain": [
       "<Figure size 640x480 with 1 Axes>"
      ]
     },
     "metadata": {},
     "output_type": "display_data"
    }
   ],
   "source": [
    "RocCurveDisplay.plot(display);\n",
    "plt.savefig('./images/6-rocauc.png', bbox_inches='tight', pad_inches=0.1, facecolor='white', transparent=False)"
   ]
  },
  {
   "cell_type": "markdown",
   "id": "fe07d686-0a9f-4e48-8a34-28bfbeb10ca9",
   "metadata": {},
   "source": [
    "## Top 10 Features by Coefficients"
   ]
  },
  {
   "cell_type": "code",
   "execution_count": 181,
   "id": "02bf13b6-d79c-49a5-9316-32628c312ddc",
   "metadata": {
    "tags": []
   },
   "outputs": [],
   "source": [
    "feature_names = list(final_pipe['prep'].named_transformers_['num'].get_feature_names_out()) + \\\n",
    "                list(final_pipe['prep'].named_transformers_['text']['tfidf'].get_feature_names_out())"
   ]
  },
  {
   "cell_type": "code",
   "execution_count": 182,
   "id": "f1cc5098-655e-473e-ae8a-53cb66bf54e5",
   "metadata": {
    "tags": []
   },
   "outputs": [],
   "source": [
    "final_feats = pd.DataFrame(final_pipe['lr'].coef_).T\n",
    "final_feats.index = feature_names\n",
    "final_feats.columns = ['weights']\n",
    "final_feats = final_feats.reset_index()"
   ]
  },
  {
   "cell_type": "code",
   "execution_count": 183,
   "id": "f149c82a-a624-458c-82f8-4eb0babfcdea",
   "metadata": {
    "tags": []
   },
   "outputs": [],
   "source": [
    "final_feats_top10 = final_feats.sort_values(by='weights', ascending=False)[:10]\n",
    "final_feats_top10['weights'] = final_feats_top10['weights'].round(1)\n",
    "final_feats_top10.columns = ['features', 'weights']"
   ]
  },
  {
   "cell_type": "code",
   "execution_count": 184,
   "id": "ee778650-bbc5-480a-aaa6-dbd638804bd1",
   "metadata": {
    "tags": []
   },
   "outputs": [
    {
     "data": {
      "text/html": [
       "<div>\n",
       "<style scoped>\n",
       "    .dataframe tbody tr th:only-of-type {\n",
       "        vertical-align: middle;\n",
       "    }\n",
       "\n",
       "    .dataframe tbody tr th {\n",
       "        vertical-align: top;\n",
       "    }\n",
       "\n",
       "    .dataframe thead th {\n",
       "        text-align: right;\n",
       "    }\n",
       "</style>\n",
       "<table border=\"1\" class=\"dataframe\">\n",
       "  <thead>\n",
       "    <tr style=\"text-align: right;\">\n",
       "      <th></th>\n",
       "      <th>features</th>\n",
       "      <th>weights</th>\n",
       "    </tr>\n",
       "  </thead>\n",
       "  <tbody>\n",
       "    <tr>\n",
       "      <th>632</th>\n",
       "      <td>suicide</td>\n",
       "      <td>11.80</td>\n",
       "    </tr>\n",
       "    <tr>\n",
       "      <th>631</th>\n",
       "      <td>suicidal</td>\n",
       "      <td>11.20</td>\n",
       "    </tr>\n",
       "    <tr>\n",
       "      <th>499</th>\n",
       "      <td>pill</td>\n",
       "      <td>7.30</td>\n",
       "    </tr>\n",
       "    <tr>\n",
       "      <th>477</th>\n",
       "      <td>overdose</td>\n",
       "      <td>7.30</td>\n",
       "    </tr>\n",
       "    <tr>\n",
       "      <th>363</th>\n",
       "      <td>kill</td>\n",
       "      <td>7.10</td>\n",
       "    </tr>\n",
       "    <tr>\n",
       "      <th>46</th>\n",
       "      <td>anymore</td>\n",
       "      <td>5.90</td>\n",
       "    </tr>\n",
       "    <tr>\n",
       "      <th>207</th>\n",
       "      <td>end</td>\n",
       "      <td>5.60</td>\n",
       "    </tr>\n",
       "    <tr>\n",
       "      <th>29</th>\n",
       "      <td>alive</td>\n",
       "      <td>5.50</td>\n",
       "    </tr>\n",
       "    <tr>\n",
       "      <th>412</th>\n",
       "      <td>medication</td>\n",
       "      <td>5.40</td>\n",
       "    </tr>\n",
       "    <tr>\n",
       "      <th>334</th>\n",
       "      <td>hopeless</td>\n",
       "      <td>5.40</td>\n",
       "    </tr>\n",
       "  </tbody>\n",
       "</table>\n",
       "</div>"
      ],
      "text/plain": [
       "       features  weights\n",
       "632     suicide    11.80\n",
       "631    suicidal    11.20\n",
       "499        pill     7.30\n",
       "477    overdose     7.30\n",
       "363        kill     7.10\n",
       "46      anymore     5.90\n",
       "207         end     5.60\n",
       "29        alive     5.50\n",
       "412  medication     5.40\n",
       "334    hopeless     5.40"
      ]
     },
     "execution_count": 184,
     "metadata": {},
     "output_type": "execute_result"
    }
   ],
   "source": [
    "final_feats_top10"
   ]
  },
  {
   "cell_type": "code",
   "execution_count": 185,
   "id": "8ff38400-3580-4aae-8642-85335f3af3ba",
   "metadata": {
    "tags": []
   },
   "outputs": [
    {
     "data": {
      "image/png": "[encoded data removed]",
      "text/plain": [
       "<Figure size 1200x500 with 2 Axes>"
      ]
     },
     "metadata": {},
     "output_type": "display_data"
    }
   ],
   "source": [
    "fig, ax = plt.subplots(1, 2, figsize=(12,5))\n",
    "\n",
    "ax[0].axis(\"off\");\n",
    "ax[0].table(cellText=final_feats_top10.values, rowLabels=range(1,11), bbox=[0,-0.05,0.8,1], colLabels=final_feats_top10.columns);\n",
    "\n",
    "sns.barplot(final_feats_top10, x = 'weights', y = 'features', orient='h', ax=ax[1]);"
   ]
  },
  {
   "cell_type": "markdown",
   "id": "85eaebb1-e185-492c-a3e7-a6011efad4f0",
   "metadata": {},
   "source": [
    "* Top features are all terms related to suicide\n",
    "* Interestingly, emotion and sentiment components are not among the top 10 features\n",
    "    * Could be that emotion and sentiment are not as specific to suicidal text as these particular words\n",
    "    * Likely due to multicollinearity of Emotion & Sentiment scores-- next step is to try to address this"
   ]
  },
  {
   "cell_type": "markdown",
   "id": "44934105-0d01-4298-92e3-e2892e58d59f",
   "metadata": {},
   "source": [
    "# &nbsp;&nbsp; V. &nbsp; Model Deployment"
   ]
  },
  {
   "cell_type": "markdown",
   "id": "e2402492-df7a-4dfc-9551-d42b743eeaae",
   "metadata": {
    "tags": []
   },
   "source": [
    "* This model is intended to work alongside a mental health chatbot. \n",
    "* I plan to work with my stakeholders to build this model into the current framework of their mental health chatbots, in collaboration with their IT support team and clinicians to ensure the most ethical practices are used."
   ]
  },
  {
   "cell_type": "markdown",
   "id": "9950aaf7-8c03-4f51-8ca3-439529be54b3",
   "metadata": {},
   "source": [
    "* So that you can see how this model would work, I have created a demo page where you can see how the model would classify user-inputted text.\n",
    "    * Currently, still some issues with server deployment due to package dependencies\n",
    "* For now, the model is available to test by downloading the environment yaml on Github and running the following code through terminal:"
   ]
  },
  {
   "cell_type": "raw",
   "id": "8d6b6287-bb62-4c30-ab27-ba179901c845",
   "metadata": {
    "tags": []
   },
   "source": [
    "streamlit run streamlit_app.py"
   ]
  },
  {
   "cell_type": "markdown",
   "id": "1e2c2748-6d92-4b83-b66a-e5e7a4e1c596",
   "metadata": {},
   "source": [
    "---"
   ]
  },
  {
   "cell_type": "markdown",
   "id": "0ccfcdae-d98a-4b46-bc6f-fd72699d3552",
   "metadata": {
    "tags": []
   },
   "source": [
    "Below are screenshots of the model's classification of Suicide Risk vs. Non-Risk Text:"
   ]
  },
  {
   "cell_type": "markdown",
   "id": "637b590f-5524-4a4a-b43a-9ccdd1d20653",
   "metadata": {
    "tags": []
   },
   "source": [
    "### Suicide Risk:\n",
    "    \n",
    "![riskdemo](./images/8-suicrisk_demo.png)"
   ]
  },
  {
   "cell_type": "markdown",
   "id": "6a9c224d-2af0-4178-9109-4f9a641e8bbc",
   "metadata": {},
   "source": [
    "### No Risk:\n",
    "    \n",
    "![noriskdemo](./images/7-norisk_demo.png)"
   ]
  },
  {
   "cell_type": "markdown",
   "id": "5f7da38e-d581-4759-b102-7ec06e4a8951",
   "metadata": {
    "tags": []
   },
   "source": [
    "# &nbsp;&nbsp; VI. &nbsp; Conclusions"
   ]
  },
  {
   "cell_type": "markdown",
   "id": "57f526d9-aa11-4338-bf6d-646e2968a3ca",
   "metadata": {},
   "source": [
    "## Final Model Evaluation"
   ]
  },
  {
   "cell_type": "markdown",
   "id": "80239eba-1215-4401-916d-69b27ef9ea96",
   "metadata": {},
   "source": [
    "The final model meets all of the project goals stated in the Introduction:"
   ]
  },
  {
   "cell_type": "markdown",
   "id": "af98cb67-c18f-4c13-8c92-e9acf57b5191",
   "metadata": {},
   "source": [
    "#### Objective #1: Accurately classify text as indicative of suicide risk vs. non risk\n",
    "* <u>91.5% Accuracy</u> - The model correctly classified text as indicative of suicide-risk vs. non-risk for *91.5%* of cases.\n",
    "<br>\n",
    "#### Objective #2: Minimize False Negatives\n",
    "* <u>92.5% Sensitivity (Recall)</u> - The model minimizes *false negative classifications*\n",
    "* Only fails to detect suicide risk in 7.5% of cases\n",
    "    * This is impressive, given that even [clinician recall rates](https://onlinelibrary.wiley.com/doi/10.1111/sltb.12395) range from 20 - 50%. \n",
    "<br>\n",
    "#### Objective #3: Deployed Model is able to quickly generate new predictions\n",
    "* Deployed Model provides predictions from new text within seconds"
   ]
  },
  {
   "cell_type": "markdown",
   "id": "e81b94f7-9317-485c-9c2c-c98356f25920",
   "metadata": {},
   "source": [
    "---"
   ]
  },
  {
   "cell_type": "markdown",
   "id": "0f3dcdb2-a9dd-4ed7-b5e4-5cf3547afd7e",
   "metadata": {},
   "source": [
    "## Next Steps"
   ]
  },
  {
   "cell_type": "markdown",
   "id": "2a6462f2-6abc-417c-a372-3e9ef647d424",
   "metadata": {},
   "source": [
    "#### 1. Integrate model to work alongside existing mental health chatbot frameworks\n",
    "* Collaborate with clinicians to determine the best way to implement this model: what should be the response if someone is flagged for suicide risk?\n",
    "    * Possible options include:\n",
    "        1. Model automatically alerts on-call clinical risk team\n",
    "        2. If suicide risk detected, train mental health chatbot to conduct [standardized suicide risk assessment](https://psy.fsu.edu/~joinerlab/measures/Joiner%20Lab--Risk%20Assessment.pdf)\n",
    "        3. Train mental health chatbot to conduct risk-reduction techniques, such as [making a safety plan](https://988lifeline.org/help-yourself/)\n",
    "\n",
    "#### 2. Continue Training Model with new data\n",
    "* To improve model performance for your clients' specific needs, the model should be trained on actual chatbot conversations. The training data can be anonymized to protect client confidentiality.\n",
    "\n",
    "#### 3. Train Model to interpret Misspellings, Slang Words, and common Medical Abbreviations\n",
    "* Current Model does not use SpellCheck because of the time/computational power required, and SpellCheck changes altering sentence meanings\n",
    "    * Could help to use a spellcheck model like [contextualSpellCheck](https://pypi.org/project/contextualSpellCheck/) that is trained not to autocorrect common slang terms and medical terms (e.g. medication names, therapy names)\n",
    "* Current Model does not assign emotion/sentiment scores to Slang Words/Medical Terms\n",
    "    * Update feature extraction tools to understand sentiment of these terms\n",
    "    \n",
    "#### 4. Incorporate other Natural Language Processing Models and Techniques\n",
    "* Named Entity Recognition can be used to classify terms related to top features in current model\n",
    "    * e,g,: \"Pill\" is a top term-- associated with proper medication names (e.g. \"sertraline\", \"klonopin\", etc.)\n",
    "* Using [MentalBERT](https://arxiv.org/abs/2110.15621): pre-trained masked language models specific to mental health\n",
    "* Topic Modeling / Finding semantic vectors with [Genism](https://radimrehurek.com/gensim/)"
   ]
  }
 ],
 "metadata": {
  "kernelspec": {
   "display_name": "nlp-env",
   "language": "python",
   "name": "nlp-env"
  },
  "language_info": {
   "codemirror_mode": {
    "name": "ipython",
    "version": 3
   },
   "file_extension": ".py",
   "mimetype": "text/x-python",
   "name": "python",
   "nbconvert_exporter": "python",
   "pygments_lexer": "ipython3",
   "version": "3.11.0"
  }
 },
 "nbformat": 4,
 "nbformat_minor": 5
}
